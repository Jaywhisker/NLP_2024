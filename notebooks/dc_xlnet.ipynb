{
 "cells": [
  {
   "cell_type": "markdown",
   "metadata": {},
   "source": [
    "## Notebook exploring the finetuning of XLnet\n"
   ]
  },
  {
   "cell_type": "code",
   "execution_count": 10,
   "metadata": {},
   "outputs": [],
   "source": [
    "import os\n",
    "import torch\n",
    "from tqdm import tqdm\n",
    "from torch.utils.data import Dataset, DataLoader\n",
    "from transformers import XLNetTokenizer, XLNetForSequenceClassification\n",
    "import numpy as np\n",
    "import pandas as pd\n",
    "from sklearn.metrics import f1_score, precision_score, recall_score, accuracy_score\n",
    "import matplotlib.pyplot as plt"
   ]
  },
  {
   "cell_type": "markdown",
   "metadata": {},
   "source": [
    "### Data loading\n",
    "\n",
    "A custom dataloader has to built, where we will use the existing XLNetTokenizer to encode our input instead of relying on a vocab class\n"
   ]
  },
  {
   "cell_type": "code",
   "execution_count": 11,
   "metadata": {},
   "outputs": [],
   "source": [
    "class XLimdbDataset(Dataset):\n",
    "    def __init__(self,\n",
    "                 data_dir:str,\n",
    "                 max_token_len:int,\n",
    "                 tokenizer:XLNetTokenizer,\n",
    "                 is_train:bool=True):\n",
    "        \"\"\"\n",
    "        IMDB Dataset Class\n",
    "        The dataset will be created by reading all documents inside the file and encoded by XLnet encoder\n",
    "        \n",
    "        Args:\n",
    "            data_dir (str): path to imdb parent folder\n",
    "            max_token_len (int): maximum number of tokens per review\n",
    "            tokenizer (XLNetTokenizer): XLNet tokenizer\n",
    "            is_train (bool, optional): is the dataset train? Will take from train folder if True. Defaults to True.\n",
    "        \n",
    "        Returns:\n",
    "            input_ids, attention_mask, labels\n",
    "        \"\"\"\n",
    "\n",
    "        self.tokenizer = tokenizer\n",
    "        self.max_token_len = max_token_len\n",
    "        self.data_list, self.label_list = self._read_imdb(data_dir, is_train)\n",
    "\n",
    "\n",
    "    def _read_imdb(self, data_dir, is_train):\n",
    "        data = []\n",
    "        labels = []\n",
    "        data_folder = 'train' if is_train else 'test'\n",
    "        \n",
    "        for label, label_folder in enumerate(['neg', 'pos']):\n",
    "            # Retrieve full path\n",
    "            full_path = os.path.join(data_dir, data_folder, label_folder)\n",
    "            for text_file in os.listdir(full_path):\n",
    "                # Read text\n",
    "                with open(os.path.join(full_path, text_file), 'r', encoding='utf-8') as f:\n",
    "                    # Add text and label\n",
    "                    data.append(f.read())\n",
    "                    labels.append(label)\n",
    "        return data, labels\n",
    "\n",
    "\n",
    "    def __len__(self):\n",
    "        return len(self.data_list)\n",
    "\n",
    "\n",
    "    def __getitem__(self, idx):\n",
    "        doc_data = self.data_list[idx]\n",
    "        # Encode data and add padding automatically\n",
    "        encoding = self.tokenizer(\n",
    "            doc_data,\n",
    "            max_length=self.max_token_len,\n",
    "            padding='max_length',\n",
    "            truncation=True,\n",
    "            return_tensors=\"pt\"\n",
    "        )\n",
    "        # Input_ids, Attention_mask, Label\n",
    "        return encoding['input_ids'].squeeze(0), encoding['attention_mask'].squeeze(0), encoding['token_type_ids'].squeeze(0), torch.tensor(self.label_list[idx], dtype=torch.long)"
   ]
  },
  {
   "cell_type": "code",
   "execution_count": 13,
   "metadata": {
    "scrolled": true
   },
   "outputs": [],
   "source": [
    "tokenizer = XLNetTokenizer.from_pretrained('xlnet-base-cased')\n",
    "\n",
    "train_dataset = XLimdbDataset(data_dir=\"../data/aclImdb\",\n",
    "                            max_token_len=256,\n",
    "                            tokenizer=tokenizer)\n",
    "\n",
    "test_dataset = XLimdbDataset(data_dir=\"../data/aclImdb\",\n",
    "                            max_token_len=256,\n",
    "                            tokenizer=tokenizer,\n",
    "                            is_train=False)"
   ]
  },
  {
   "cell_type": "code",
   "execution_count": 4,
   "metadata": {},
   "outputs": [],
   "source": [
    "train_iter = DataLoader(train_dataset,\n",
    "                        batch_size=32, \n",
    "                        shuffle=True,\n",
    "                        )\n",
    "\n",
    "test_iter = DataLoader(test_dataset,\n",
    "                        batch_size=32\n",
    "                        )"
   ]
  },
  {
   "cell_type": "markdown",
   "metadata": {},
   "source": [
    "### Model Architecture\n",
    "\n",
    "We will use a pre-trained XLNetModel from hugging face, but modify the final linear layer and also unfreeze the last layer"
   ]
  },
  {
   "cell_type": "code",
   "execution_count": 14,
   "metadata": {},
   "outputs": [],
   "source": [
    "class XLNetFineTunedModel(torch.nn.Module):\n",
    "    def __init__(self,\n",
    "                 device:str, \n",
    "                 num_class:int, \n",
    "                 unfreeze_all:bool=False\n",
    "                 ):\n",
    "        \"\"\"\n",
    "        XLNet model class, loads pretrained xlnet from hugging face\n",
    "        Option to unfreeze all layers, but if set to false it will only unfreeze the linear layers (classification layers)\n",
    "\n",
    "        Args:\n",
    "            device (str): cpu or cuda\n",
    "            num_class (int): Total number of labels\n",
    "            unfreeze_all (bool, optional): Unfreeze all layers in XLNet. Defaults to False.\n",
    "        \"\"\"\n",
    "        super().__init__() \n",
    "        self.model = XLNetForSequenceClassification.from_pretrained('xlnet-base-cased', num_labels=num_class).to(device)\n",
    "\n",
    "        if not unfreeze_all:\n",
    "            for name, param in self.model.named_parameters():\n",
    "                # Retrieve linear classification layers\n",
    "                if name in ['logits_proj.bias', 'logits_proj.weight', 'sequence_summary.summary.bias', 'sequence_summary.summary.weight']:  \n",
    "                    param.requires_grad = True\n",
    "                else:\n",
    "                    param.requires_grad = False\n",
    "        else:\n",
    "            # Unfreeze all\n",
    "            for param in self.model.parameters():\n",
    "                param.requires_grad = True\n",
    "\n",
    "    \n",
    "    def forward(self, input_ids, attention_mask=None, token_type_ids=None, labels=None):\n",
    "        outputs = self.model(input_ids=input_ids, \n",
    "                             attention_mask=attention_mask, \n",
    "                             token_type_ids=token_type_ids,\n",
    "                             labels=labels)\n",
    "        return outputs"
   ]
  },
  {
   "cell_type": "code",
   "execution_count": 6,
   "metadata": {},
   "outputs": [
    {
     "name": "stderr",
     "output_type": "stream",
     "text": [
      "Some weights of XLNetForSequenceClassification were not initialized from the model checkpoint at xlnet-base-cased and are newly initialized: ['logits_proj.bias', 'logits_proj.weight', 'sequence_summary.summary.bias', 'sequence_summary.summary.weight']\n",
      "You should probably TRAIN this model on a down-stream task to be able to use it for predictions and inference.\n"
     ]
    },
    {
     "name": "stdout",
     "output_type": "stream",
     "text": [
      "XLNetFineTunedModel(\n",
      "  (model): XLNetForSequenceClassification(\n",
      "    (transformer): XLNetModel(\n",
      "      (word_embedding): Embedding(32000, 768)\n",
      "      (layer): ModuleList(\n",
      "        (0-11): 12 x XLNetLayer(\n",
      "          (rel_attn): XLNetRelativeAttention(\n",
      "            (layer_norm): LayerNorm((768,), eps=1e-12, elementwise_affine=True)\n",
      "            (dropout): Dropout(p=0.1, inplace=False)\n",
      "          )\n",
      "          (ff): XLNetFeedForward(\n",
      "            (layer_norm): LayerNorm((768,), eps=1e-12, elementwise_affine=True)\n",
      "            (layer_1): Linear(in_features=768, out_features=3072, bias=True)\n",
      "            (layer_2): Linear(in_features=3072, out_features=768, bias=True)\n",
      "            (dropout): Dropout(p=0.1, inplace=False)\n",
      "            (activation_function): GELUActivation()\n",
      "          )\n",
      "          (dropout): Dropout(p=0.1, inplace=False)\n",
      "        )\n",
      "      )\n",
      "      (dropout): Dropout(p=0.1, inplace=False)\n",
      "    )\n",
      "    (sequence_summary): SequenceSummary(\n",
      "      (summary): Linear(in_features=768, out_features=768, bias=True)\n",
      "      (activation): Tanh()\n",
      "      (first_dropout): Identity()\n",
      "      (last_dropout): Dropout(p=0.1, inplace=False)\n",
      "    )\n",
      "    (logits_proj): Linear(in_features=768, out_features=2, bias=True)\n",
      "  )\n",
      ")\n"
     ]
    }
   ],
   "source": [
    "device = torch.device(\"cuda\" if torch.cuda.is_available() else \"cpu\")\n",
    "xlNet_model = XLNetFineTunedModel(device, num_class=2)\n",
    "print(xlNet_model)"
   ]
  },
  {
   "cell_type": "markdown",
   "metadata": {},
   "source": [
    "### Training and evaluation"
   ]
  },
  {
   "cell_type": "code",
   "execution_count": 15,
   "metadata": {},
   "outputs": [],
   "source": [
    "def eval_model(model:XLNetFineTunedModel,\n",
    "               test_iter:DataLoader,\n",
    "               device:str,\n",
    "               tokenizer: XLNetTokenizer = XLNetTokenizer.from_pretrained('xlnet-base-cased'),\n",
    "               calc_confusion_matrix:bool=False,\n",
    "               download_results:bool=False,\n",
    "               result_path:str=None,\n",
    "               ):\n",
    "    \n",
    "    \"\"\"\n",
    "    Function to evaluate model, returning the Accuracy, Precision, Recall and F1 score\n",
    "\n",
    "    Args:\n",
    "        model (XLNetFineTunedModel): Instance of model\n",
    "        test_iter (DataLoader): test dataloader\n",
    "        device (str): cpu or cuda\n",
    "        tokenizer (XLNetTokenizer, Optional): tokenizer to decode input_ids back to sentence for download results. Defaults to XLNetTokenizer\n",
    "        calc_confusion_matrix (bool, Optional): Boolean if Precision, Recall and F1 score should also be calculated. Defaults to False.\n",
    "        download_results (bool, Optional): Boolean to save predictions into a csv file. Defaults to False.\n",
    "        result_path (str, Optional): CSV filepath for results\n",
    "    \n",
    "    Returns:\n",
    "        accuracy, recall (None if calc_confusion_matrix == False), precision (None if calc_confusion_matrix == False), f1 (None if calc_confusion_matrix == False)\n",
    "    \"\"\"\n",
    "\n",
    "    if download_results and result_path == None and '.csv' not in result_path:\n",
    "        raise Exception(\"Invalid result filepath\")\n",
    "\n",
    "    prediction_list = []\n",
    "    actual_list = []\n",
    "\n",
    "    # For donwload results\n",
    "    sentence_list = []\n",
    "    predicted_labels = []\n",
    "    actual_labels = []\n",
    "\n",
    "    recall, precision, f1 = None, None, None\n",
    "\n",
    "    # Setup model eval to prevent training\n",
    "    model.eval()\n",
    "    for idx, (input_ids, attention_masks, token_type_ids, label) in tqdm(enumerate(test_iter), total=len(test_iter)):\n",
    "        # Append actual scores\n",
    "        actual_list.append(label.numpy())\n",
    "        input_ids, attention_masks, token_type_ids, label = input_ids.to(device), attention_masks.to(device), token_type_ids.to(device), label.to(device)\n",
    "        outputs = model(input_ids, attention_masks, token_type_ids, label)\n",
    "        \n",
    "        # Append predicted scores\n",
    "        logits = outputs.logits #Retrieve softmax logits\n",
    "        predicted = torch.argmax(logits, dim=-1)\n",
    "        prediction_list.append(predicted.cpu().numpy())\n",
    "\n",
    "        # Append results\n",
    "        if download_results:\n",
    "            # Iterate through the input sentences in batch\n",
    "            for ids in input_ids:  \n",
    "                sentence_list.append(tokenizer.decode(ids.cpu().numpy().tolist(), skip_special_tokens=True))\n",
    "            # Labels            \n",
    "            predicted_labels.extend([\"negative\" if pred == 0 else \"positive\" for pred in predicted.cpu().numpy()])\n",
    "            actual_labels.extend([\"negative\" if pred == 0 else \"positive\" for pred in label.cpu().numpy()])\n",
    "\n",
    "\n",
    "    # Flatten the lists into arrays\n",
    "    actual_list = np.concatenate(actual_list)\n",
    "    prediction_list = np.concatenate(prediction_list)\n",
    "\n",
    "    # Calculate accuracy\n",
    "    accuracy = accuracy_score(actual_list, prediction_list)\n",
    "\n",
    "    # Calculate other metrics\n",
    "    if calc_confusion_matrix:\n",
    "        recall = recall_score(actual_list, prediction_list)\n",
    "        precision = precision_score(actual_list, prediction_list)\n",
    "        f1 = f1_score(actual_list, prediction_list)\n",
    "    \n",
    "    # Download results\n",
    "    if download_results:\n",
    "        data = pd.DataFrame({\n",
    "            'Sentence': sentence_list,\n",
    "            'Actual': actual_labels,\n",
    "            \"Predicted\": predicted_labels\n",
    "        })\n",
    "\n",
    "        data.to_csv(result_path, index=False)\n",
    "\n",
    "    return accuracy, recall, precision, f1"
   ]
  },
  {
   "cell_type": "code",
   "execution_count": 8,
   "metadata": {},
   "outputs": [],
   "source": [
    "def train_model(model:XLNetFineTunedModel, \n",
    "                train_iter:DataLoader, \n",
    "                test_iter:DataLoader, \n",
    "                num_epochs:int, \n",
    "                optimiser, \n",
    "                lr_scheduler, \n",
    "                device:str,\n",
    "                show_training_graph:bool,\n",
    "                best_model_path:str, \n",
    "                final_model_path:str):\n",
    "    \n",
    "    \"\"\"\n",
    "    Function to train and evaluate model\n",
    "    The model will train on the train_iter, be evaluated on test_iter\n",
    "    Best model with highest accuracy on test_iter will be saved in best_model_path\n",
    "    Final model after last epoch will be saved in final_model_path\n",
    "\n",
    "    Args:\n",
    "        model (XLNetFineTunedModel): model to be trained\n",
    "        train_iter (DataLoader): train dataset\n",
    "        test_iter (DataLoader): test dataset\n",
    "        num_epochs (int): Number of epochs to train\n",
    "        optimiser: optimiser\n",
    "        lr_scheduler: learning rate scheduler, else None\n",
    "        device (str): cpu or cuda\n",
    "        show_training_graph (bool): boolean to show the training loss, training acc and test acc graph across epochs\n",
    "        best_model_path (str): path to best model\n",
    "        final_model_path (str): path to model aft final epoch training\n",
    "    \"\"\"\n",
    "    train_loss_container = []\n",
    "    train_acc_container = []\n",
    "    test_acc_container = []\n",
    "\n",
    "    best_test_acc = 0\n",
    "\n",
    "    for epoch in range(num_epochs):\n",
    "        total_train_loss = 0\n",
    "        total_train_correct = 0\n",
    "        total_train_samples = 0\n",
    "\n",
    "        # Setup training \n",
    "        model.train()\n",
    "        model.to(device)\n",
    "\n",
    "        for idx, (input_ids, attention_masks, token_type_ids, label) in tqdm(enumerate(train_iter), total=len(train_iter)):\n",
    "            input_ids, attention_masks, token_type_ids, label = input_ids.to(device), attention_masks.to(device), token_type_ids.to(device), label.to(device)\n",
    "            # Get predictions and loss\n",
    "            outputs = model(input_ids, attention_masks, token_type_ids, label)\n",
    "            # Loss is automatically calculated with BCE from XLNt\n",
    "            loss = outputs.loss\n",
    "            total_train_loss += loss.item()\n",
    "\n",
    "            # Train\n",
    "            optimiser.zero_grad()\n",
    "            loss.backward()\n",
    "            optimiser.step()\n",
    "            if lr_scheduler:\n",
    "                lr_scheduler.step()\n",
    "\n",
    "            # Count accuracy\n",
    "            logits = outputs.logits #Retrieve softmax logits\n",
    "            predicted = torch.argmax(logits, dim=-1)            \n",
    "            total_train_correct += (predicted == label).sum().item()\n",
    "            total_train_samples += label.shape[0]\n",
    "\n",
    "        # Evaluation for test\n",
    "        test_acc, _, _, _ = eval_model(model, test_iter, device)\n",
    "\n",
    "        train_loss_container.append(total_train_loss/len(train_iter)) #total num of batches\n",
    "        train_acc_container.append(total_train_correct/total_train_samples)\n",
    "        test_acc_container.append(test_acc)\n",
    "\n",
    "        if test_acc > best_test_acc:\n",
    "            best_test_acc = test_acc\n",
    "            torch.save(model, best_model_path)\n",
    "            print(f\"Best Model Saved at epoch {epoch+1}\")\n",
    "\n",
    "        print(f\"Epoch {epoch+1} completed, train_loss: {total_train_loss/len(train_iter)}, train_acc: {total_train_correct/total_train_samples}, test_acc: {test_acc}\")\n",
    "\n",
    "    # Save Final model \n",
    "    torch.save(model, final_model_path)\n",
    "\n",
    "    if show_training_graph:\n",
    "        # Graph with matplotlib\n",
    "        # Plot each list\n",
    "        plt.plot(train_loss_container, label='Train Loss', color='blue')\n",
    "        plt.plot(train_acc_container, label='Train Acc', color='green')\n",
    "        plt.plot(test_acc_container, label='Test Acc', color='red')\n",
    "\n",
    "        # Add labels and legend\n",
    "        plt.xlabel(\"Epoch\")\n",
    "        plt.legend()\n",
    "        plt.show()\n"
   ]
  },
  {
   "cell_type": "code",
   "execution_count": 12,
   "metadata": {},
   "outputs": [
    {
     "name": "stderr",
     "output_type": "stream",
     "text": [
      "100%|██████████| 782/782 [02:38<00:00,  4.92it/s]\n",
      "100%|██████████| 782/782 [02:29<00:00,  5.23it/s]\n"
     ]
    },
    {
     "name": "stdout",
     "output_type": "stream",
     "text": [
      "Best Model Saved at epoch 1\n",
      "Epoch 1 completed, train_loss: 0.6414416648847673, train_acc: 0.64476, test_acc: 0.76368\n"
     ]
    },
    {
     "name": "stderr",
     "output_type": "stream",
     "text": [
      "100%|██████████| 782/782 [02:40<00:00,  4.86it/s]\n",
      "100%|██████████| 782/782 [02:30<00:00,  5.19it/s]\n"
     ]
    },
    {
     "name": "stdout",
     "output_type": "stream",
     "text": [
      "Best Model Saved at epoch 2\n",
      "Epoch 2 completed, train_loss: 0.5575734518296883, train_acc: 0.75676, test_acc: 0.80504\n"
     ]
    },
    {
     "name": "stderr",
     "output_type": "stream",
     "text": [
      "100%|██████████| 782/782 [02:40<00:00,  4.86it/s]\n",
      "100%|██████████| 782/782 [02:30<00:00,  5.19it/s]\n"
     ]
    },
    {
     "name": "stdout",
     "output_type": "stream",
     "text": [
      "Best Model Saved at epoch 3\n",
      "Epoch 3 completed, train_loss: 0.5080137301970016, train_acc: 0.78728, test_acc: 0.82448\n"
     ]
    },
    {
     "name": "stderr",
     "output_type": "stream",
     "text": [
      "100%|██████████| 782/782 [02:42<00:00,  4.83it/s]\n",
      "100%|██████████| 782/782 [02:30<00:00,  5.18it/s]\n"
     ]
    },
    {
     "name": "stdout",
     "output_type": "stream",
     "text": [
      "Best Model Saved at epoch 4\n",
      "Epoch 4 completed, train_loss: 0.47496611302923364, train_acc: 0.80752, test_acc: 0.83536\n"
     ]
    },
    {
     "name": "stderr",
     "output_type": "stream",
     "text": [
      "100%|██████████| 782/782 [02:42<00:00,  4.81it/s]\n",
      "100%|██████████| 782/782 [02:33<00:00,  5.09it/s]\n"
     ]
    },
    {
     "name": "stdout",
     "output_type": "stream",
     "text": [
      "Best Model Saved at epoch 5\n",
      "Epoch 5 completed, train_loss: 0.45170360982722946, train_acc: 0.81148, test_acc: 0.84324\n"
     ]
    },
    {
     "name": "stderr",
     "output_type": "stream",
     "text": [
      "100%|██████████| 782/782 [02:43<00:00,  4.77it/s]\n",
      "100%|██████████| 782/782 [02:30<00:00,  5.19it/s]\n"
     ]
    },
    {
     "name": "stdout",
     "output_type": "stream",
     "text": [
      "Best Model Saved at epoch 6\n",
      "Epoch 6 completed, train_loss: 0.43862638883578503, train_acc: 0.81664, test_acc: 0.84592\n"
     ]
    },
    {
     "name": "stderr",
     "output_type": "stream",
     "text": [
      "100%|██████████| 782/782 [02:43<00:00,  4.79it/s]\n",
      "100%|██████████| 782/782 [02:31<00:00,  5.15it/s]\n"
     ]
    },
    {
     "name": "stdout",
     "output_type": "stream",
     "text": [
      "Best Model Saved at epoch 7\n",
      "Epoch 7 completed, train_loss: 0.4204720134091804, train_acc: 0.8246, test_acc: 0.84964\n"
     ]
    },
    {
     "name": "stderr",
     "output_type": "stream",
     "text": [
      "100%|██████████| 782/782 [02:42<00:00,  4.82it/s]\n",
      "100%|██████████| 782/782 [02:28<00:00,  5.26it/s]\n"
     ]
    },
    {
     "name": "stdout",
     "output_type": "stream",
     "text": [
      "Best Model Saved at epoch 8\n",
      "Epoch 8 completed, train_loss: 0.4118579866750466, train_acc: 0.82932, test_acc: 0.85404\n"
     ]
    },
    {
     "name": "stderr",
     "output_type": "stream",
     "text": [
      "100%|██████████| 782/782 [02:39<00:00,  4.90it/s]\n",
      "100%|██████████| 782/782 [02:28<00:00,  5.27it/s]\n"
     ]
    },
    {
     "name": "stdout",
     "output_type": "stream",
     "text": [
      "Best Model Saved at epoch 9\n",
      "Epoch 9 completed, train_loss: 0.40436082920226296, train_acc: 0.83044, test_acc: 0.85624\n"
     ]
    },
    {
     "name": "stderr",
     "output_type": "stream",
     "text": [
      "100%|██████████| 782/782 [02:39<00:00,  4.90it/s]\n",
      "100%|██████████| 782/782 [02:28<00:00,  5.26it/s]\n"
     ]
    },
    {
     "name": "stdout",
     "output_type": "stream",
     "text": [
      "Best Model Saved at epoch 10\n",
      "Epoch 10 completed, train_loss: 0.39430567909918174, train_acc: 0.83744, test_acc: 0.85752\n"
     ]
    },
    {
     "data": {
      "image/png": "[encoded data removed]",
      "text/plain": [
       "<Figure size 640x480 with 1 Axes>"
      ]
     },
     "metadata": {},
     "output_type": "display_data"
    }
   ],
   "source": [
    "# 256, 32\n",
    "lr, num_epochs = 2e-5, 10\n",
    "\n",
    "device = torch.device(\"cuda\" if torch.cuda.is_available() else \"cpu\")\n",
    "optimizer = torch.optim.AdamW(xlNet_model.parameters(), lr=lr)\n",
    "scheduler = torch.optim.lr_scheduler.LinearLR(optimizer, start_factor=1, end_factor=0.1, total_iters=10)\n",
    "\n",
    "train_model(xlNet_model, train_iter, test_iter, num_epochs, optimizer, scheduler, device, True, '../models/best_XLNET_32_256.pt', '../models/final_XLNET_32_256.pt')"
   ]
  },
  {
   "cell_type": "code",
   "execution_count": 17,
   "metadata": {},
   "outputs": [
    {
     "name": "stderr",
     "output_type": "stream",
     "text": [
      "100%|██████████| 391/391 [03:01<00:00,  2.15it/s]\n",
      "100%|██████████| 391/391 [02:50<00:00,  2.30it/s]\n"
     ]
    },
    {
     "name": "stdout",
     "output_type": "stream",
     "text": [
      "Best Model Saved at epoch 1\n",
      "Epoch 1 completed, train_loss: 0.6747095784567811, train_acc: 0.58072, test_acc: 0.73552\n"
     ]
    },
    {
     "name": "stderr",
     "output_type": "stream",
     "text": [
      "100%|██████████| 391/391 [03:01<00:00,  2.15it/s]\n",
      "100%|██████████| 391/391 [02:50<00:00,  2.30it/s]\n"
     ]
    },
    {
     "name": "stdout",
     "output_type": "stream",
     "text": [
      "Best Model Saved at epoch 2\n",
      "Epoch 2 completed, train_loss: 0.6053153924320055, train_acc: 0.71396, test_acc: 0.80328\n"
     ]
    },
    {
     "name": "stderr",
     "output_type": "stream",
     "text": [
      "100%|██████████| 391/391 [03:02<00:00,  2.14it/s]\n",
      "100%|██████████| 391/391 [02:51<00:00,  2.29it/s]\n"
     ]
    },
    {
     "name": "stdout",
     "output_type": "stream",
     "text": [
      "Best Model Saved at epoch 3\n",
      "Epoch 3 completed, train_loss: 0.5571987822537532, train_acc: 0.76008, test_acc: 0.80908\n"
     ]
    },
    {
     "name": "stderr",
     "output_type": "stream",
     "text": [
      "100%|██████████| 391/391 [03:02<00:00,  2.15it/s]\n",
      "100%|██████████| 391/391 [02:51<00:00,  2.28it/s]\n"
     ]
    },
    {
     "name": "stdout",
     "output_type": "stream",
     "text": [
      "Best Model Saved at epoch 4\n",
      "Epoch 4 completed, train_loss: 0.5206873941299556, train_acc: 0.78592, test_acc: 0.82376\n"
     ]
    },
    {
     "name": "stderr",
     "output_type": "stream",
     "text": [
      "100%|██████████| 391/391 [03:01<00:00,  2.15it/s]\n",
      "100%|██████████| 391/391 [02:51<00:00,  2.28it/s]\n"
     ]
    },
    {
     "name": "stdout",
     "output_type": "stream",
     "text": [
      "Best Model Saved at epoch 5\n",
      "Epoch 5 completed, train_loss: 0.49387999218138284, train_acc: 0.79848, test_acc: 0.83332\n"
     ]
    },
    {
     "name": "stderr",
     "output_type": "stream",
     "text": [
      "100%|██████████| 391/391 [03:02<00:00,  2.14it/s]\n",
      "100%|██████████| 391/391 [02:51<00:00,  2.28it/s]\n"
     ]
    },
    {
     "name": "stdout",
     "output_type": "stream",
     "text": [
      "Best Model Saved at epoch 6\n",
      "Epoch 6 completed, train_loss: 0.47476719148323665, train_acc: 0.8026, test_acc: 0.83856\n"
     ]
    },
    {
     "name": "stderr",
     "output_type": "stream",
     "text": [
      "100%|██████████| 391/391 [03:02<00:00,  2.15it/s]\n",
      "100%|██████████| 391/391 [02:51<00:00,  2.28it/s]\n"
     ]
    },
    {
     "name": "stdout",
     "output_type": "stream",
     "text": [
      "Best Model Saved at epoch 7\n",
      "Epoch 7 completed, train_loss: 0.4573307273637913, train_acc: 0.81068, test_acc: 0.8426\n"
     ]
    },
    {
     "name": "stderr",
     "output_type": "stream",
     "text": [
      "100%|██████████| 391/391 [03:02<00:00,  2.14it/s]\n",
      "100%|██████████| 391/391 [02:51<00:00,  2.28it/s]\n"
     ]
    },
    {
     "name": "stdout",
     "output_type": "stream",
     "text": [
      "Best Model Saved at epoch 8\n",
      "Epoch 8 completed, train_loss: 0.44392422276079807, train_acc: 0.818, test_acc: 0.84568\n"
     ]
    },
    {
     "name": "stderr",
     "output_type": "stream",
     "text": [
      "100%|██████████| 391/391 [03:03<00:00,  2.14it/s]\n",
      "100%|██████████| 391/391 [02:53<00:00,  2.26it/s]\n"
     ]
    },
    {
     "name": "stdout",
     "output_type": "stream",
     "text": [
      "Best Model Saved at epoch 9\n",
      "Epoch 9 completed, train_loss: 0.4321190178241876, train_acc: 0.81992, test_acc: 0.84836\n"
     ]
    },
    {
     "name": "stderr",
     "output_type": "stream",
     "text": [
      "100%|██████████| 391/391 [03:05<00:00,  2.11it/s]\n",
      "100%|██████████| 391/391 [02:52<00:00,  2.27it/s]\n"
     ]
    },
    {
     "name": "stdout",
     "output_type": "stream",
     "text": [
      "Best Model Saved at epoch 10\n",
      "Epoch 10 completed, train_loss: 0.4210635102770822, train_acc: 0.82656, test_acc: 0.85064\n"
     ]
    },
    {
     "data": {
      "image/png": "[encoded data removed]",
      "text/plain": [
       "<Figure size 640x480 with 1 Axes>"
      ]
     },
     "metadata": {},
     "output_type": "display_data"
    }
   ],
   "source": [
    "# 256, 64\n",
    "lr, num_epochs = 2e-5, 10\n",
    "\n",
    "device = torch.device(\"cuda\" if torch.cuda.is_available() else \"cpu\")\n",
    "optimizer = torch.optim.AdamW(xlNet_model.parameters(), lr=lr)\n",
    "scheduler = torch.optim.lr_scheduler.LinearLR(optimizer, start_factor=1, end_factor=0.1, total_iters=10)\n",
    "\n",
    "train_model(xlNet_model, train_iter, test_iter, num_epochs, optimizer, scheduler, device, True, '../models/best_XLNET_64_256.pt', '../models/final_XLNET_64_256.pt')"
   ]
  },
  {
   "cell_type": "code",
   "execution_count": 26,
   "metadata": {},
   "outputs": [
    {
     "name": "stderr",
     "output_type": "stream",
     "text": [
      "100%|██████████| 782/782 [02:40<00:00,  4.87it/s]\n",
      "100%|██████████| 782/782 [02:29<00:00,  5.23it/s]\n"
     ]
    },
    {
     "name": "stdout",
     "output_type": "stream",
     "text": [
      "Best Model Saved at epoch 1\n",
      "Epoch 1 completed, train_loss: 0.5331379978172005, train_acc: 0.76916, test_acc: 0.8332\n"
     ]
    },
    {
     "name": "stderr",
     "output_type": "stream",
     "text": [
      "100%|██████████| 782/782 [02:40<00:00,  4.87it/s]\n",
      "100%|██████████| 782/782 [02:29<00:00,  5.23it/s]\n"
     ]
    },
    {
     "name": "stdout",
     "output_type": "stream",
     "text": [
      "Best Model Saved at epoch 2\n",
      "Epoch 2 completed, train_loss: 0.4525917409097447, train_acc: 0.81232, test_acc: 0.85056\n"
     ]
    },
    {
     "name": "stderr",
     "output_type": "stream",
     "text": [
      "100%|██████████| 782/782 [02:40<00:00,  4.86it/s]\n",
      "100%|██████████| 782/782 [02:30<00:00,  5.20it/s]\n"
     ]
    },
    {
     "name": "stdout",
     "output_type": "stream",
     "text": [
      "Best Model Saved at epoch 3\n",
      "Epoch 3 completed, train_loss: 0.4129301593889056, train_acc: 0.82676, test_acc: 0.85492\n"
     ]
    },
    {
     "name": "stderr",
     "output_type": "stream",
     "text": [
      "100%|██████████| 782/782 [02:40<00:00,  4.87it/s]\n",
      "100%|██████████| 782/782 [02:28<00:00,  5.25it/s]\n"
     ]
    },
    {
     "name": "stdout",
     "output_type": "stream",
     "text": [
      "Best Model Saved at epoch 4\n",
      "Epoch 4 completed, train_loss: 0.3953932086982386, train_acc: 0.833, test_acc: 0.8606\n"
     ]
    },
    {
     "name": "stderr",
     "output_type": "stream",
     "text": [
      "100%|██████████| 782/782 [02:39<00:00,  4.89it/s]\n",
      "100%|██████████| 782/782 [02:28<00:00,  5.25it/s]\n"
     ]
    },
    {
     "name": "stdout",
     "output_type": "stream",
     "text": [
      "Best Model Saved at epoch 5\n",
      "Epoch 5 completed, train_loss: 0.3868749114253637, train_acc: 0.83576, test_acc: 0.86504\n"
     ]
    },
    {
     "name": "stderr",
     "output_type": "stream",
     "text": [
      "100%|██████████| 782/782 [02:40<00:00,  4.88it/s]\n",
      "100%|██████████| 782/782 [02:30<00:00,  5.20it/s]\n"
     ]
    },
    {
     "name": "stdout",
     "output_type": "stream",
     "text": [
      "Best Model Saved at epoch 6\n",
      "Epoch 6 completed, train_loss: 0.37525428711529585, train_acc: 0.83976, test_acc: 0.868\n"
     ]
    },
    {
     "name": "stderr",
     "output_type": "stream",
     "text": [
      "100%|██████████| 782/782 [02:41<00:00,  4.84it/s]\n",
      "100%|██████████| 782/782 [02:30<00:00,  5.19it/s]\n"
     ]
    },
    {
     "name": "stdout",
     "output_type": "stream",
     "text": [
      "Best Model Saved at epoch 7\n",
      "Epoch 7 completed, train_loss: 0.3672154870865595, train_acc: 0.84208, test_acc: 0.86856\n"
     ]
    },
    {
     "name": "stderr",
     "output_type": "stream",
     "text": [
      "100%|██████████| 782/782 [02:41<00:00,  4.84it/s]\n",
      "100%|██████████| 782/782 [02:30<00:00,  5.19it/s]\n"
     ]
    },
    {
     "name": "stdout",
     "output_type": "stream",
     "text": [
      "Best Model Saved at epoch 8\n",
      "Epoch 8 completed, train_loss: 0.362581558744697, train_acc: 0.84544, test_acc: 0.87036\n"
     ]
    },
    {
     "name": "stderr",
     "output_type": "stream",
     "text": [
      "100%|██████████| 782/782 [02:42<00:00,  4.82it/s]\n",
      "100%|██████████| 782/782 [02:31<00:00,  5.17it/s]\n"
     ]
    },
    {
     "name": "stdout",
     "output_type": "stream",
     "text": [
      "Best Model Saved at epoch 9\n",
      "Epoch 9 completed, train_loss: 0.3619973626931, train_acc: 0.84612, test_acc: 0.87228\n"
     ]
    },
    {
     "name": "stderr",
     "output_type": "stream",
     "text": [
      "100%|██████████| 782/782 [02:45<00:00,  4.71it/s]\n",
      "100%|██████████| 782/782 [02:34<00:00,  5.06it/s]\n"
     ]
    },
    {
     "name": "stdout",
     "output_type": "stream",
     "text": [
      "Best Model Saved at epoch 10\n",
      "Epoch 10 completed, train_loss: 0.3586242839960796, train_acc: 0.84628, test_acc: 0.87308\n"
     ]
    },
    {
     "data": {
      "image/png": "[encoded data removed]",
      "text/plain": [
       "<Figure size 640x480 with 1 Axes>"
      ]
     },
     "metadata": {},
     "output_type": "display_data"
    }
   ],
   "source": [
    "# 256, 32\n",
    "lr, num_epochs = 5e-5, 10\n",
    "device = torch.device(\"cuda\" if torch.cuda.is_available() else \"cpu\")\n",
    "optimizer = torch.optim.AdamW(xlNet_model.parameters(), lr=lr)\n",
    "scheduler = torch.optim.lr_scheduler.LinearLR(optimizer, start_factor=1, end_factor=0.1, total_iters=10)\n",
    "\n",
    "train_model(xlNet_model, train_iter, test_iter, num_epochs, optimizer, scheduler, device, True, '../models/best_1XLNET_32_256.pt', '../models/final_1XLNET_32_256.pt')"
   ]
  },
  {
   "cell_type": "code",
   "execution_count": 10,
   "metadata": {},
   "outputs": [
    {
     "name": "stderr",
     "output_type": "stream",
     "text": [
      "100%|██████████| 782/782 [02:39<00:00,  4.90it/s]\n",
      "100%|██████████| 782/782 [02:28<00:00,  5.28it/s]\n"
     ]
    },
    {
     "name": "stdout",
     "output_type": "stream",
     "text": [
      "Best Model Saved at epoch 1\n",
      "Epoch 1 completed, train_loss: 0.6784463482134787, train_acc: 0.57016, test_acc: 0.68956\n"
     ]
    },
    {
     "name": "stderr",
     "output_type": "stream",
     "text": [
      "100%|██████████| 782/782 [02:38<00:00,  4.92it/s]\n",
      "100%|██████████| 782/782 [02:28<00:00,  5.25it/s]\n"
     ]
    },
    {
     "name": "stdout",
     "output_type": "stream",
     "text": [
      "Best Model Saved at epoch 2\n",
      "Epoch 2 completed, train_loss: 0.6248168536769155, train_acc: 0.68344, test_acc: 0.75676\n"
     ]
    },
    {
     "name": "stderr",
     "output_type": "stream",
     "text": [
      "100%|██████████| 782/782 [02:40<00:00,  4.88it/s]\n",
      "100%|██████████| 782/782 [02:27<00:00,  5.31it/s]\n"
     ]
    },
    {
     "name": "stdout",
     "output_type": "stream",
     "text": [
      "Best Model Saved at epoch 3\n",
      "Epoch 3 completed, train_loss: 0.5834284477755237, train_acc: 0.73992, test_acc: 0.79316\n"
     ]
    },
    {
     "name": "stderr",
     "output_type": "stream",
     "text": [
      "100%|██████████| 782/782 [02:38<00:00,  4.95it/s]\n",
      "100%|██████████| 782/782 [02:27<00:00,  5.31it/s]\n"
     ]
    },
    {
     "name": "stdout",
     "output_type": "stream",
     "text": [
      "Best Model Saved at epoch 4\n",
      "Epoch 4 completed, train_loss: 0.5520624951709567, train_acc: 0.76324, test_acc: 0.81216\n"
     ]
    },
    {
     "name": "stderr",
     "output_type": "stream",
     "text": [
      "100%|██████████| 782/782 [02:38<00:00,  4.94it/s]\n",
      "100%|██████████| 782/782 [02:27<00:00,  5.31it/s]\n"
     ]
    },
    {
     "name": "stdout",
     "output_type": "stream",
     "text": [
      "Best Model Saved at epoch 5\n",
      "Epoch 5 completed, train_loss: 0.52653157409957, train_acc: 0.78092, test_acc: 0.81864\n"
     ]
    },
    {
     "name": "stderr",
     "output_type": "stream",
     "text": [
      "100%|██████████| 782/782 [02:38<00:00,  4.94it/s]\n",
      "100%|██████████| 782/782 [02:27<00:00,  5.30it/s]\n"
     ]
    },
    {
     "name": "stdout",
     "output_type": "stream",
     "text": [
      "Best Model Saved at epoch 6\n",
      "Epoch 6 completed, train_loss: 0.5057546563465577, train_acc: 0.78876, test_acc: 0.82588\n"
     ]
    },
    {
     "name": "stderr",
     "output_type": "stream",
     "text": [
      "100%|██████████| 782/782 [02:38<00:00,  4.92it/s]\n",
      "100%|██████████| 782/782 [02:29<00:00,  5.23it/s]\n"
     ]
    },
    {
     "name": "stdout",
     "output_type": "stream",
     "text": [
      "Best Model Saved at epoch 7\n",
      "Epoch 7 completed, train_loss: 0.4871646066760773, train_acc: 0.80048, test_acc: 0.83216\n"
     ]
    },
    {
     "name": "stderr",
     "output_type": "stream",
     "text": [
      "100%|██████████| 782/782 [02:39<00:00,  4.91it/s]\n",
      "100%|██████████| 782/782 [02:28<00:00,  5.28it/s]\n"
     ]
    },
    {
     "name": "stdout",
     "output_type": "stream",
     "text": [
      "Best Model Saved at epoch 8\n",
      "Epoch 8 completed, train_loss: 0.4727584040149703, train_acc: 0.80396, test_acc: 0.83592\n"
     ]
    },
    {
     "name": "stderr",
     "output_type": "stream",
     "text": [
      "100%|██████████| 782/782 [02:38<00:00,  4.92it/s]\n",
      "100%|██████████| 782/782 [02:28<00:00,  5.28it/s]\n"
     ]
    },
    {
     "name": "stdout",
     "output_type": "stream",
     "text": [
      "Best Model Saved at epoch 9\n",
      "Epoch 9 completed, train_loss: 0.46170871676234027, train_acc: 0.809, test_acc: 0.84272\n"
     ]
    },
    {
     "name": "stderr",
     "output_type": "stream",
     "text": [
      "100%|██████████| 782/782 [02:39<00:00,  4.91it/s]\n",
      "100%|██████████| 782/782 [02:29<00:00,  5.22it/s]\n"
     ]
    },
    {
     "name": "stdout",
     "output_type": "stream",
     "text": [
      "Best Model Saved at epoch 10\n",
      "Epoch 10 completed, train_loss: 0.4493865368844908, train_acc: 0.81412, test_acc: 0.84432\n"
     ]
    },
    {
     "data": {
      "image/png": "[encoded data removed]",
      "text/plain": [
       "<Figure size 640x480 with 1 Axes>"
      ]
     },
     "metadata": {},
     "output_type": "display_data"
    }
   ],
   "source": [
    "# 256, 32\n",
    "lr, num_epochs = 1e-5, 10\n",
    "device = torch.device(\"cuda\" if torch.cuda.is_available() else \"cpu\")\n",
    "optimizer = torch.optim.AdamW(xlNet_model.parameters(), lr=lr)\n",
    "scheduler = torch.optim.lr_scheduler.LinearLR(optimizer, start_factor=1, end_factor=0.1, total_iters=10)\n",
    "\n",
    "train_model(xlNet_model, train_iter, test_iter, num_epochs, optimizer, scheduler, device, True, '../models/best_2XLNET_32_256.pt', '../models/final_2XLNET_32_256.pt')"
   ]
  },
  {
   "cell_type": "code",
   "execution_count": 14,
   "metadata": {},
   "outputs": [
    {
     "name": "stderr",
     "output_type": "stream",
     "text": [
      "100%|██████████| 782/782 [02:39<00:00,  4.91it/s]\n",
      "100%|██████████| 782/782 [02:28<00:00,  5.28it/s]\n"
     ]
    },
    {
     "name": "stdout",
     "output_type": "stream",
     "text": [
      "Best Model Saved at epoch 1\n",
      "Epoch 1 completed, train_loss: 0.41687796617407935, train_acc: 0.81676, test_acc: 0.86844\n"
     ]
    },
    {
     "name": "stderr",
     "output_type": "stream",
     "text": [
      "100%|██████████| 782/782 [02:39<00:00,  4.90it/s]\n",
      "100%|██████████| 782/782 [02:28<00:00,  5.28it/s]\n"
     ]
    },
    {
     "name": "stdout",
     "output_type": "stream",
     "text": [
      "Best Model Saved at epoch 2\n",
      "Epoch 2 completed, train_loss: 0.36576006332855393, train_acc: 0.84324, test_acc: 0.87088\n"
     ]
    },
    {
     "name": "stderr",
     "output_type": "stream",
     "text": [
      "100%|██████████| 782/782 [02:39<00:00,  4.92it/s]\n",
      "100%|██████████| 782/782 [02:27<00:00,  5.30it/s]\n"
     ]
    },
    {
     "name": "stdout",
     "output_type": "stream",
     "text": [
      "Best Model Saved at epoch 3\n",
      "Epoch 3 completed, train_loss: 0.35568206258060986, train_acc: 0.8472, test_acc: 0.8764\n"
     ]
    },
    {
     "name": "stderr",
     "output_type": "stream",
     "text": [
      "100%|██████████| 782/782 [02:39<00:00,  4.92it/s]\n",
      "100%|██████████| 782/782 [02:27<00:00,  5.29it/s]\n"
     ]
    },
    {
     "name": "stdout",
     "output_type": "stream",
     "text": [
      "Epoch 4 completed, train_loss: 0.35706599284430296, train_acc: 0.84548, test_acc: 0.87608\n"
     ]
    },
    {
     "name": "stderr",
     "output_type": "stream",
     "text": [
      "100%|██████████| 782/782 [02:39<00:00,  4.89it/s]\n",
      "100%|██████████| 782/782 [02:30<00:00,  5.19it/s]\n"
     ]
    },
    {
     "name": "stdout",
     "output_type": "stream",
     "text": [
      "Best Model Saved at epoch 5\n",
      "Epoch 5 completed, train_loss: 0.3555408265927564, train_acc: 0.84488, test_acc: 0.87952\n"
     ]
    },
    {
     "name": "stderr",
     "output_type": "stream",
     "text": [
      "100%|██████████| 782/782 [02:41<00:00,  4.85it/s]\n",
      "100%|██████████| 782/782 [02:30<00:00,  5.20it/s]\n"
     ]
    },
    {
     "name": "stdout",
     "output_type": "stream",
     "text": [
      "Epoch 6 completed, train_loss: 0.3559438120716673, train_acc: 0.84572, test_acc: 0.8772\n"
     ]
    },
    {
     "name": "stderr",
     "output_type": "stream",
     "text": [
      "100%|██████████| 782/782 [02:41<00:00,  4.85it/s]\n",
      "100%|██████████| 782/782 [02:27<00:00,  5.30it/s]\n"
     ]
    },
    {
     "name": "stdout",
     "output_type": "stream",
     "text": [
      "Epoch 7 completed, train_loss: 0.3522818717543426, train_acc: 0.84656, test_acc: 0.87872\n"
     ]
    },
    {
     "name": "stderr",
     "output_type": "stream",
     "text": [
      "100%|██████████| 782/782 [02:38<00:00,  4.93it/s]\n",
      "100%|██████████| 782/782 [02:27<00:00,  5.29it/s]\n"
     ]
    },
    {
     "name": "stdout",
     "output_type": "stream",
     "text": [
      "Epoch 8 completed, train_loss: 0.34746913295572673, train_acc: 0.84924, test_acc: 0.87708\n"
     ]
    },
    {
     "name": "stderr",
     "output_type": "stream",
     "text": [
      "100%|██████████| 782/782 [02:38<00:00,  4.93it/s]\n",
      "100%|██████████| 782/782 [02:27<00:00,  5.31it/s]\n"
     ]
    },
    {
     "name": "stdout",
     "output_type": "stream",
     "text": [
      "Epoch 9 completed, train_loss: 0.3455941690146313, train_acc: 0.8502, test_acc: 0.87716\n"
     ]
    },
    {
     "name": "stderr",
     "output_type": "stream",
     "text": [
      "100%|██████████| 782/782 [02:38<00:00,  4.93it/s]\n",
      "100%|██████████| 782/782 [02:27<00:00,  5.31it/s]\n"
     ]
    },
    {
     "name": "stdout",
     "output_type": "stream",
     "text": [
      "Epoch 10 completed, train_loss: 0.3490688393602286, train_acc: 0.84656, test_acc: 0.87928\n"
     ]
    },
    {
     "data": {
      "image/png": "[encoded data removed]",
      "text/plain": [
       "<Figure size 640x480 with 1 Axes>"
      ]
     },
     "metadata": {},
     "output_type": "display_data"
    }
   ],
   "source": [
    "# 256, 64\n",
    "lr, num_epochs = 5e-5, 10\n",
    "\n",
    "device = torch.device(\"cuda\" if torch.cuda.is_available() else \"cpu\")\n",
    "optimizer = torch.optim.AdamW(xlNet_model.parameters(), lr=lr)\n",
    "\n",
    "train_model(xlNet_model, train_iter, test_iter, num_epochs, optimizer, None, device, True, '../models/best_3XLNET_32_256.pt', '../models/final_3XLNET_32_256.pt')"
   ]
  },
  {
   "cell_type": "code",
   "execution_count": 17,
   "metadata": {},
   "outputs": [
    {
     "name": "stderr",
     "output_type": "stream",
     "text": [
      "100%|██████████| 782/782 [02:38<00:00,  4.92it/s]\n",
      "100%|██████████| 782/782 [02:27<00:00,  5.31it/s]\n"
     ]
    },
    {
     "name": "stdout",
     "output_type": "stream",
     "text": [
      "Best Model Saved at epoch 1\n",
      "Epoch 1 completed, train_loss: 0.41064261194423335, train_acc: 0.81936, test_acc: 0.87064\n"
     ]
    },
    {
     "name": "stderr",
     "output_type": "stream",
     "text": [
      "100%|██████████| 782/782 [02:38<00:00,  4.95it/s]\n",
      "100%|██████████| 782/782 [02:26<00:00,  5.35it/s]\n"
     ]
    },
    {
     "name": "stdout",
     "output_type": "stream",
     "text": [
      "Best Model Saved at epoch 2\n",
      "Epoch 2 completed, train_loss: 0.3649201718304316, train_acc: 0.84232, test_acc: 0.87608\n"
     ]
    },
    {
     "name": "stderr",
     "output_type": "stream",
     "text": [
      "100%|██████████| 782/782 [02:37<00:00,  4.97it/s]\n",
      "100%|██████████| 782/782 [02:26<00:00,  5.35it/s]\n"
     ]
    },
    {
     "name": "stdout",
     "output_type": "stream",
     "text": [
      "Epoch 3 completed, train_loss: 0.35632129743352264, train_acc: 0.8486, test_acc: 0.8736\n"
     ]
    },
    {
     "name": "stderr",
     "output_type": "stream",
     "text": [
      "100%|██████████| 782/782 [02:37<00:00,  4.97it/s]\n",
      "100%|██████████| 782/782 [02:26<00:00,  5.35it/s]\n"
     ]
    },
    {
     "name": "stdout",
     "output_type": "stream",
     "text": [
      "Best Model Saved at epoch 4\n",
      "Epoch 4 completed, train_loss: 0.35258003516727704, train_acc: 0.8472, test_acc: 0.8762\n"
     ]
    },
    {
     "name": "stderr",
     "output_type": "stream",
     "text": [
      "100%|██████████| 782/782 [02:37<00:00,  4.97it/s]\n",
      "100%|██████████| 782/782 [02:26<00:00,  5.35it/s]\n"
     ]
    },
    {
     "name": "stdout",
     "output_type": "stream",
     "text": [
      "Best Model Saved at epoch 5\n",
      "Epoch 5 completed, train_loss: 0.35338354270781397, train_acc: 0.84808, test_acc: 0.8772\n"
     ]
    },
    {
     "name": "stderr",
     "output_type": "stream",
     "text": [
      "100%|██████████| 782/782 [02:37<00:00,  4.96it/s]\n",
      "100%|██████████| 782/782 [02:26<00:00,  5.34it/s]\n"
     ]
    },
    {
     "name": "stdout",
     "output_type": "stream",
     "text": [
      "Epoch 6 completed, train_loss: 0.34989857319218426, train_acc: 0.84804, test_acc: 0.87664\n"
     ]
    },
    {
     "name": "stderr",
     "output_type": "stream",
     "text": [
      "100%|██████████| 782/782 [02:37<00:00,  4.97it/s]\n",
      "100%|██████████| 782/782 [02:26<00:00,  5.35it/s]\n"
     ]
    },
    {
     "name": "stdout",
     "output_type": "stream",
     "text": [
      "Best Model Saved at epoch 7\n",
      "Epoch 7 completed, train_loss: 0.3488419707435781, train_acc: 0.8478, test_acc: 0.87944\n"
     ]
    },
    {
     "name": "stderr",
     "output_type": "stream",
     "text": [
      "100%|██████████| 782/782 [02:37<00:00,  4.96it/s]\n",
      "100%|██████████| 782/782 [02:26<00:00,  5.35it/s]\n"
     ]
    },
    {
     "name": "stdout",
     "output_type": "stream",
     "text": [
      "Epoch 8 completed, train_loss: 0.34425239013436504, train_acc: 0.85236, test_acc: 0.8774\n"
     ]
    },
    {
     "name": "stderr",
     "output_type": "stream",
     "text": [
      "100%|██████████| 782/782 [02:37<00:00,  4.95it/s]\n",
      "100%|██████████| 782/782 [02:26<00:00,  5.32it/s]\n"
     ]
    },
    {
     "name": "stdout",
     "output_type": "stream",
     "text": [
      "Epoch 9 completed, train_loss: 0.3526613820258461, train_acc: 0.84492, test_acc: 0.87852\n"
     ]
    },
    {
     "name": "stderr",
     "output_type": "stream",
     "text": [
      "100%|██████████| 782/782 [02:37<00:00,  4.95it/s]\n",
      "100%|██████████| 782/782 [02:26<00:00,  5.35it/s]\n"
     ]
    },
    {
     "name": "stdout",
     "output_type": "stream",
     "text": [
      "Epoch 10 completed, train_loss: 0.34536714272578356, train_acc: 0.85032, test_acc: 0.87836\n"
     ]
    },
    {
     "data": {
      "image/png": "[encoded data removed]",
      "text/plain": [
       "<Figure size 640x480 with 1 Axes>"
      ]
     },
     "metadata": {},
     "output_type": "display_data"
    }
   ],
   "source": [
    "# 256, 32\n",
    "lr, num_epochs = 5e-4, 10\n",
    "device = torch.device(\"cuda\" if torch.cuda.is_available() else \"cpu\")\n",
    "optimizer = torch.optim.AdamW(xlNet_model.parameters(), lr=lr)\n",
    "scheduler = torch.optim.lr_scheduler.LinearLR(optimizer, start_factor=1, end_factor=0.1, total_iters=10)\n",
    "\n",
    "train_model(xlNet_model, train_iter, test_iter, num_epochs, optimizer, scheduler, device, True, '../models/best_4XLNET_32_256.pt', '../models/final_4XLNET_32_256.pt')"
   ]
  },
  {
   "cell_type": "code",
   "execution_count": 21,
   "metadata": {},
   "outputs": [
    {
     "name": "stderr",
     "output_type": "stream",
     "text": [
      "100%|██████████| 782/782 [02:35<00:00,  5.03it/s]\n",
      "100%|██████████| 782/782 [02:25<00:00,  5.37it/s]\n"
     ]
    },
    {
     "name": "stdout",
     "output_type": "stream",
     "text": [
      "Best Model Saved at epoch 1\n",
      "Epoch 1 completed, train_loss: 0.39933716309497425, train_acc: 0.8198, test_acc: 0.86112\n"
     ]
    },
    {
     "name": "stderr",
     "output_type": "stream",
     "text": [
      "100%|██████████| 782/782 [02:35<00:00,  5.04it/s]\n",
      "100%|██████████| 782/782 [02:24<00:00,  5.40it/s]\n"
     ]
    },
    {
     "name": "stdout",
     "output_type": "stream",
     "text": [
      "Best Model Saved at epoch 2\n",
      "Epoch 2 completed, train_loss: 0.3628873352694999, train_acc: 0.8388, test_acc: 0.8754\n"
     ]
    },
    {
     "name": "stderr",
     "output_type": "stream",
     "text": [
      "100%|██████████| 782/782 [02:35<00:00,  5.02it/s]\n",
      "100%|██████████| 782/782 [02:24<00:00,  5.40it/s]\n"
     ]
    },
    {
     "name": "stdout",
     "output_type": "stream",
     "text": [
      "Epoch 3 completed, train_loss: 0.3559027689192301, train_acc: 0.8438, test_acc: 0.86936\n"
     ]
    },
    {
     "name": "stderr",
     "output_type": "stream",
     "text": [
      "100%|██████████| 782/782 [02:36<00:00,  4.99it/s]\n",
      "100%|██████████| 782/782 [02:26<00:00,  5.35it/s]\n"
     ]
    },
    {
     "name": "stdout",
     "output_type": "stream",
     "text": [
      "Epoch 4 completed, train_loss: 0.35512859402867536, train_acc: 0.84416, test_acc: 0.87228\n"
     ]
    },
    {
     "name": "stderr",
     "output_type": "stream",
     "text": [
      "100%|██████████| 782/782 [02:37<00:00,  4.96it/s]\n",
      "100%|██████████| 782/782 [02:26<00:00,  5.32it/s]\n"
     ]
    },
    {
     "name": "stdout",
     "output_type": "stream",
     "text": [
      "Epoch 5 completed, train_loss: 0.34960371500733867, train_acc: 0.8466, test_acc: 0.85168\n"
     ]
    },
    {
     "name": "stderr",
     "output_type": "stream",
     "text": [
      "100%|██████████| 782/782 [02:37<00:00,  4.96it/s]\n",
      "100%|██████████| 782/782 [02:26<00:00,  5.35it/s]\n"
     ]
    },
    {
     "name": "stdout",
     "output_type": "stream",
     "text": [
      "Epoch 6 completed, train_loss: 0.34651942174795947, train_acc: 0.84836, test_acc: 0.87452\n"
     ]
    },
    {
     "name": "stderr",
     "output_type": "stream",
     "text": [
      "100%|██████████| 782/782 [02:37<00:00,  4.97it/s]\n",
      "100%|██████████| 782/782 [02:25<00:00,  5.37it/s]\n"
     ]
    },
    {
     "name": "stdout",
     "output_type": "stream",
     "text": [
      "Best Model Saved at epoch 7\n",
      "Epoch 7 completed, train_loss: 0.34084476488630483, train_acc: 0.85172, test_acc: 0.8806\n"
     ]
    },
    {
     "name": "stderr",
     "output_type": "stream",
     "text": [
      "100%|██████████| 782/782 [02:36<00:00,  5.00it/s]\n",
      "100%|██████████| 782/782 [02:25<00:00,  5.36it/s]\n"
     ]
    },
    {
     "name": "stdout",
     "output_type": "stream",
     "text": [
      "Epoch 8 completed, train_loss: 0.34678858599585033, train_acc: 0.84852, test_acc: 0.87248\n"
     ]
    },
    {
     "name": "stderr",
     "output_type": "stream",
     "text": [
      "100%|██████████| 782/782 [02:36<00:00,  5.00it/s]\n",
      "100%|██████████| 782/782 [02:25<00:00,  5.37it/s]\n"
     ]
    },
    {
     "name": "stdout",
     "output_type": "stream",
     "text": [
      "Epoch 9 completed, train_loss: 0.33644876922564126, train_acc: 0.8528, test_acc: 0.8744\n"
     ]
    },
    {
     "name": "stderr",
     "output_type": "stream",
     "text": [
      "100%|██████████| 782/782 [02:37<00:00,  4.97it/s]\n",
      "100%|██████████| 782/782 [02:26<00:00,  5.33it/s]\n"
     ]
    },
    {
     "name": "stdout",
     "output_type": "stream",
     "text": [
      "Epoch 10 completed, train_loss: 0.3385183572045068, train_acc: 0.85168, test_acc: 0.88032\n"
     ]
    },
    {
     "data": {
      "image/png": "[encoded data removed]",
      "text/plain": [
       "<Figure size 640x480 with 1 Axes>"
      ]
     },
     "metadata": {},
     "output_type": "display_data"
    }
   ],
   "source": [
    "# 256, 32\n",
    "lr, num_epochs = 5e-4, 10\n",
    "device = torch.device(\"cuda\" if torch.cuda.is_available() else \"cpu\")\n",
    "optimizer = torch.optim.AdamW(xlNet_model.parameters(), lr=lr)\n",
    "\n",
    "train_model(xlNet_model, train_iter, test_iter, num_epochs, optimizer, None, device, True, '../models/best_5XLNET_32_256.pt', '../models/final_5XLNET_32_256.pt')"
   ]
  },
  {
   "cell_type": "code",
   "execution_count": 10,
   "metadata": {},
   "outputs": [
    {
     "name": "stderr",
     "output_type": "stream",
     "text": [
      "  0%|          | 0/782 [00:00<?, ?it/s]"
     ]
    },
    {
     "name": "stderr",
     "output_type": "stream",
     "text": [
      "100%|██████████| 782/782 [08:30<00:00,  1.53it/s]\n",
      "100%|██████████| 782/782 [07:59<00:00,  1.63it/s]\n"
     ]
    },
    {
     "name": "stdout",
     "output_type": "stream",
     "text": [
      "Best Model Saved at epoch 1\n",
      "Epoch 1 completed, train_loss: 0.3495573180887248, train_acc: 0.84848, test_acc: 0.89288\n"
     ]
    },
    {
     "name": "stderr",
     "output_type": "stream",
     "text": [
      "100%|██████████| 782/782 [08:28<00:00,  1.54it/s]\n",
      "100%|██████████| 782/782 [07:59<00:00,  1.63it/s]\n"
     ]
    },
    {
     "name": "stdout",
     "output_type": "stream",
     "text": [
      "Epoch 2 completed, train_loss: 0.3211755616604672, train_acc: 0.86212, test_acc: 0.87256\n"
     ]
    },
    {
     "name": "stderr",
     "output_type": "stream",
     "text": [
      "100%|██████████| 782/782 [08:30<00:00,  1.53it/s]\n",
      "100%|██████████| 782/782 [08:01<00:00,  1.62it/s]\n"
     ]
    },
    {
     "name": "stdout",
     "output_type": "stream",
     "text": [
      "Best Model Saved at epoch 3\n",
      "Epoch 3 completed, train_loss: 0.31262634651702076, train_acc: 0.86652, test_acc: 0.9006\n"
     ]
    },
    {
     "name": "stderr",
     "output_type": "stream",
     "text": [
      "100%|██████████| 782/782 [08:23<00:00,  1.55it/s]\n",
      "100%|██████████| 782/782 [07:52<00:00,  1.65it/s]\n"
     ]
    },
    {
     "name": "stdout",
     "output_type": "stream",
     "text": [
      "Epoch 4 completed, train_loss: 0.3103126900656449, train_acc: 0.86912, test_acc: 0.89548\n"
     ]
    },
    {
     "name": "stderr",
     "output_type": "stream",
     "text": [
      "100%|██████████| 782/782 [08:22<00:00,  1.56it/s]\n",
      "100%|██████████| 782/782 [07:54<00:00,  1.65it/s]\n"
     ]
    },
    {
     "name": "stdout",
     "output_type": "stream",
     "text": [
      "Epoch 5 completed, train_loss: 0.30787096504131545, train_acc: 0.87012, test_acc: 0.89928\n"
     ]
    },
    {
     "name": "stderr",
     "output_type": "stream",
     "text": [
      "100%|██████████| 782/782 [08:27<00:00,  1.54it/s]\n",
      "100%|██████████| 782/782 [07:57<00:00,  1.64it/s]\n"
     ]
    },
    {
     "name": "stdout",
     "output_type": "stream",
     "text": [
      "Epoch 6 completed, train_loss: 0.3014716362423452, train_acc: 0.8722, test_acc: 0.89708\n"
     ]
    },
    {
     "name": "stderr",
     "output_type": "stream",
     "text": [
      "100%|██████████| 782/782 [08:36<00:00,  1.51it/s]\n",
      "100%|██████████| 782/782 [08:10<00:00,  1.60it/s]\n"
     ]
    },
    {
     "name": "stdout",
     "output_type": "stream",
     "text": [
      "Best Model Saved at epoch 7\n",
      "Epoch 7 completed, train_loss: 0.30074871270476705, train_acc: 0.87096, test_acc: 0.90424\n"
     ]
    },
    {
     "name": "stderr",
     "output_type": "stream",
     "text": [
      "100%|██████████| 782/782 [08:39<00:00,  1.51it/s]\n",
      "100%|██████████| 782/782 [08:09<00:00,  1.60it/s]\n"
     ]
    },
    {
     "name": "stdout",
     "output_type": "stream",
     "text": [
      "Epoch 8 completed, train_loss: 0.2965660967275767, train_acc: 0.87484, test_acc: 0.90404\n"
     ]
    },
    {
     "name": "stderr",
     "output_type": "stream",
     "text": [
      "100%|██████████| 782/782 [08:38<00:00,  1.51it/s]\n",
      "100%|██████████| 782/782 [08:09<00:00,  1.60it/s]\n"
     ]
    },
    {
     "name": "stdout",
     "output_type": "stream",
     "text": [
      "Best Model Saved at epoch 9\n",
      "Epoch 9 completed, train_loss: 0.2949825379321033, train_acc: 0.87596, test_acc: 0.9052\n"
     ]
    },
    {
     "name": "stderr",
     "output_type": "stream",
     "text": [
      "100%|██████████| 782/782 [08:38<00:00,  1.51it/s]\n",
      "100%|██████████| 782/782 [08:09<00:00,  1.60it/s]\n"
     ]
    },
    {
     "name": "stdout",
     "output_type": "stream",
     "text": [
      "Epoch 10 completed, train_loss: 0.2944976036601207, train_acc: 0.87652, test_acc: 0.89004\n"
     ]
    },
    {
     "data": {
      "image/png": "[encoded data removed]",
      "text/plain": [
       "<Figure size 640x480 with 1 Axes>"
      ]
     },
     "metadata": {},
     "output_type": "display_data"
    }
   ],
   "source": [
    "# 512, 32\n",
    "lr, num_epochs = 5e-4, 10\n",
    "\n",
    "device = torch.device(\"cuda\" if torch.cuda.is_available() else \"cpu\")\n",
    "optimizer = torch.optim.AdamW(xlNet_model.parameters(), lr=lr)\n",
    "\n",
    "train_model(xlNet_model, train_iter, test_iter, num_epochs, optimizer, None, device, True, '../models/best_XLNET_32_512.pt', '../models/final_XLNET_32_512.pt')"
   ]
  },
  {
   "cell_type": "code",
   "execution_count": 13,
   "metadata": {},
   "outputs": [
    {
     "name": "stderr",
     "output_type": "stream",
     "text": [
      "100%|██████████| 782/782 [08:38<00:00,  1.51it/s]\n",
      "100%|██████████| 782/782 [08:08<00:00,  1.60it/s]\n"
     ]
    },
    {
     "name": "stdout",
     "output_type": "stream",
     "text": [
      "Best Model Saved at epoch 1\n",
      "Epoch 1 completed, train_loss: 0.3772828450516971, train_acc: 0.842, test_acc: 0.89344\n"
     ]
    },
    {
     "name": "stderr",
     "output_type": "stream",
     "text": [
      "100%|██████████| 782/782 [08:38<00:00,  1.51it/s]\n",
      "100%|██████████| 782/782 [08:08<00:00,  1.60it/s]\n"
     ]
    },
    {
     "name": "stdout",
     "output_type": "stream",
     "text": [
      "Best Model Saved at epoch 2\n",
      "Epoch 2 completed, train_loss: 0.3215113806507319, train_acc: 0.86492, test_acc: 0.89896\n"
     ]
    },
    {
     "name": "stderr",
     "output_type": "stream",
     "text": [
      "100%|██████████| 782/782 [08:38<00:00,  1.51it/s]\n",
      "100%|██████████| 782/782 [08:08<00:00,  1.60it/s]\n"
     ]
    },
    {
     "name": "stdout",
     "output_type": "stream",
     "text": [
      "Epoch 3 completed, train_loss: 0.31067771126356575, train_acc: 0.86924, test_acc: 0.89856\n"
     ]
    },
    {
     "name": "stderr",
     "output_type": "stream",
     "text": [
      "100%|██████████| 782/782 [08:38<00:00,  1.51it/s]\n",
      "100%|██████████| 782/782 [08:08<00:00,  1.60it/s]\n"
     ]
    },
    {
     "name": "stdout",
     "output_type": "stream",
     "text": [
      "Best Model Saved at epoch 4\n",
      "Epoch 4 completed, train_loss: 0.30877819279080154, train_acc: 0.87156, test_acc: 0.90144\n"
     ]
    },
    {
     "name": "stderr",
     "output_type": "stream",
     "text": [
      "100%|██████████| 782/782 [08:39<00:00,  1.51it/s]\n",
      "100%|██████████| 782/782 [08:08<00:00,  1.60it/s]\n"
     ]
    },
    {
     "name": "stdout",
     "output_type": "stream",
     "text": [
      "Epoch 5 completed, train_loss: 0.3064249610228231, train_acc: 0.87232, test_acc: 0.899\n"
     ]
    },
    {
     "name": "stderr",
     "output_type": "stream",
     "text": [
      "100%|██████████| 782/782 [08:38<00:00,  1.51it/s]\n",
      "100%|██████████| 782/782 [08:08<00:00,  1.60it/s]\n"
     ]
    },
    {
     "name": "stdout",
     "output_type": "stream",
     "text": [
      "Epoch 6 completed, train_loss: 0.3058688650026803, train_acc: 0.87288, test_acc: 0.90092\n"
     ]
    },
    {
     "name": "stderr",
     "output_type": "stream",
     "text": [
      "100%|██████████| 782/782 [08:38<00:00,  1.51it/s]\n",
      "100%|██████████| 782/782 [08:08<00:00,  1.60it/s]\n"
     ]
    },
    {
     "name": "stdout",
     "output_type": "stream",
     "text": [
      "Epoch 7 completed, train_loss: 0.3015039586664542, train_acc: 0.87348, test_acc: 0.89968\n"
     ]
    },
    {
     "name": "stderr",
     "output_type": "stream",
     "text": [
      "100%|██████████| 782/782 [08:38<00:00,  1.51it/s]\n",
      "100%|██████████| 782/782 [08:08<00:00,  1.60it/s]\n"
     ]
    },
    {
     "name": "stdout",
     "output_type": "stream",
     "text": [
      "Epoch 8 completed, train_loss: 0.30504321611826984, train_acc: 0.8722, test_acc: 0.89876\n"
     ]
    },
    {
     "name": "stderr",
     "output_type": "stream",
     "text": [
      "100%|██████████| 782/782 [08:38<00:00,  1.51it/s]\n",
      "100%|██████████| 782/782 [08:08<00:00,  1.60it/s]\n"
     ]
    },
    {
     "name": "stdout",
     "output_type": "stream",
     "text": [
      "Best Model Saved at epoch 9\n",
      "Epoch 9 completed, train_loss: 0.3035566023910594, train_acc: 0.87312, test_acc: 0.90164\n"
     ]
    },
    {
     "name": "stderr",
     "output_type": "stream",
     "text": [
      "100%|██████████| 782/782 [08:39<00:00,  1.51it/s]\n",
      "100%|██████████| 782/782 [08:08<00:00,  1.60it/s]\n"
     ]
    },
    {
     "name": "stdout",
     "output_type": "stream",
     "text": [
      "Epoch 10 completed, train_loss: 0.3024187266274029, train_acc: 0.87544, test_acc: 0.9002\n"
     ]
    },
    {
     "data": {
      "image/png": "[encoded data removed]",
      "text/plain": [
       "<Figure size 640x480 with 1 Axes>"
      ]
     },
     "metadata": {},
     "output_type": "display_data"
    }
   ],
   "source": [
    "# 512, 32\n",
    "lr, num_epochs = 5e-5, 10\n",
    "\n",
    "device = torch.device(\"cuda\" if torch.cuda.is_available() else \"cpu\")\n",
    "optimizer = torch.optim.AdamW(xlNet_model.parameters(), lr=lr)\n",
    "\n",
    "train_model(xlNet_model, train_iter, test_iter, num_epochs, optimizer, None, device, True, '../models/best_1XLNET_32_512.pt', '../models/final_1XLNET_32_512.pt')"
   ]
  },
  {
   "cell_type": "code",
   "execution_count": null,
   "metadata": {},
   "outputs": [
    {
     "name": "stderr",
     "output_type": "stream",
     "text": [
      "100%|██████████| 782/782 [27:48<00:00,  2.13s/it]\n",
      "100%|██████████| 782/782 [26:55<00:00,  2.07s/it]\n"
     ]
    },
    {
     "name": "stdout",
     "output_type": "stream",
     "text": [
      "Best Model Saved at epoch 1\n",
      "Epoch 1 completed, train_loss: 0.3364774449144864, train_acc: 0.8554, test_acc: 0.90524\n"
     ]
    },
    {
     "name": "stderr",
     "output_type": "stream",
     "text": [
      "100%|██████████| 782/782 [27:47<00:00,  2.13s/it]\n",
      "100%|██████████| 782/782 [26:56<00:00,  2.07s/it]\n"
     ]
    },
    {
     "name": "stdout",
     "output_type": "stream",
     "text": [
      "Best Model Saved at epoch 2\n",
      "Epoch 2 completed, train_loss: 0.30531936588570896, train_acc: 0.87084, test_acc: 0.90544\n"
     ]
    },
    {
     "name": "stderr",
     "output_type": "stream",
     "text": [
      "100%|██████████| 782/782 [27:48<00:00,  2.13s/it]\n",
      "100%|██████████| 782/782 [26:54<00:00,  2.06s/it]\n"
     ]
    },
    {
     "name": "stdout",
     "output_type": "stream",
     "text": [
      "Epoch 3 completed, train_loss: 0.29841460596265085, train_acc: 0.87768, test_acc: 0.9032\n"
     ]
    },
    {
     "name": "stderr",
     "output_type": "stream",
     "text": [
      "100%|██████████| 782/782 [27:49<00:00,  2.13s/it]\n",
      "100%|██████████| 782/782 [26:54<00:00,  2.06s/it]\n"
     ]
    },
    {
     "name": "stdout",
     "output_type": "stream",
     "text": [
      "Epoch 4 completed, train_loss: 0.2909577278244069, train_acc: 0.87804, test_acc: 0.90224\n"
     ]
    },
    {
     "name": "stderr",
     "output_type": "stream",
     "text": [
      "100%|██████████| 782/782 [27:48<00:00,  2.13s/it]\n",
      "100%|██████████| 782/782 [26:55<00:00,  2.07s/it]\n"
     ]
    },
    {
     "name": "stdout",
     "output_type": "stream",
     "text": [
      "Epoch 5 completed, train_loss: 0.2900004644718621, train_acc: 0.87888, test_acc: 0.90208\n"
     ]
    },
    {
     "name": "stderr",
     "output_type": "stream",
     "text": [
      "100%|██████████| 782/782 [27:48<00:00,  2.13s/it]\n",
      "100%|██████████| 782/782 [26:57<00:00,  2.07s/it]\n"
     ]
    },
    {
     "name": "stdout",
     "output_type": "stream",
     "text": [
      "Epoch 6 completed, train_loss: 0.28658095703405495, train_acc: 0.88028, test_acc: 0.89724\n"
     ]
    },
    {
     "name": "stderr",
     "output_type": "stream",
     "text": [
      "100%|██████████| 782/782 [27:51<00:00,  2.14s/it]\n",
      "100%|██████████| 782/782 [26:57<00:00,  2.07s/it]\n"
     ]
    },
    {
     "name": "stdout",
     "output_type": "stream",
     "text": [
      "Best Model Saved at epoch 7\n",
      "Epoch 7 completed, train_loss: 0.29021760399269936, train_acc: 0.87832, test_acc: 0.91092\n"
     ]
    },
    {
     "name": "stderr",
     "output_type": "stream",
     "text": [
      "100%|██████████| 782/782 [27:48<00:00,  2.13s/it]\n",
      "100%|██████████| 782/782 [26:53<00:00,  2.06s/it]\n"
     ]
    },
    {
     "name": "stdout",
     "output_type": "stream",
     "text": [
      "Best Model Saved at epoch 8\n",
      "Epoch 8 completed, train_loss: 0.2799195594313886, train_acc: 0.88244, test_acc: 0.91276\n"
     ]
    },
    {
     "name": "stderr",
     "output_type": "stream",
     "text": [
      "100%|██████████| 782/782 [27:49<00:00,  2.13s/it]\n",
      "100%|██████████| 782/782 [26:53<00:00,  2.06s/it]\n"
     ]
    },
    {
     "name": "stdout",
     "output_type": "stream",
     "text": [
      "Epoch 9 completed, train_loss: 0.2846478196885199, train_acc: 0.87936, test_acc: 0.90552\n"
     ]
    },
    {
     "name": "stderr",
     "output_type": "stream",
     "text": [
      "100%|██████████| 782/782 [27:47<00:00,  2.13s/it]\n",
      "100%|██████████| 782/782 [26:55<00:00,  2.07s/it]\n"
     ]
    },
    {
     "name": "stdout",
     "output_type": "stream",
     "text": [
      "Epoch 10 completed, train_loss: 0.27735083851286824, train_acc: 0.88504, test_acc: 0.9024\n"
     ]
    },
    {
     "data": {
      "image/png": "[encoded data removed]",
      "text/plain": [
       "<Figure size 640x480 with 1 Axes>"
      ]
     },
     "metadata": {},
     "output_type": "display_data"
    }
   ],
   "source": [
    "# 1024, 32\n",
    "lr, num_epochs = 5e-4, 10\n",
    "\n",
    "device = torch.device(\"cuda\" if torch.cuda.is_available() else \"cpu\")\n",
    "optimizer = torch.optim.AdamW(xlNet_model.parameters(), lr=lr)\n",
    "\n",
    "train_model(xlNet_model, train_iter, test_iter, num_epochs, optimizer, None, device, True, '../models/best_XLNET_32_1024.pt', '../models/final_XLNET_32_1024.pt')"
   ]
  },
  {
   "cell_type": "markdown",
   "metadata": {},
   "source": [
    "### Evaluation"
   ]
  },
  {
   "cell_type": "code",
   "execution_count": 16,
   "metadata": {},
   "outputs": [
    {
     "name": "stderr",
     "output_type": "stream",
     "text": [
      "100%|██████████| 782/782 [04:07<00:00,  3.15it/s]\n"
     ]
    },
    {
     "data": {
      "text/plain": [
       "(0.85752, 0.87392, 0.8461657629744385, 0.859818968909878)"
      ]
     },
     "execution_count": 16,
     "metadata": {},
     "output_type": "execute_result"
    }
   ],
   "source": [
    "device = torch.device(\"cuda\" if torch.cuda.is_available() else \"cpu\")\n",
    "model = torch.load('../models/best_XLNET_32_256.pt')\n",
    "eval_model(model=model, \n",
    "           test_iter=test_iter, \n",
    "           device=device, \n",
    "           calc_confusion_matrix=True,\n",
    "           download_results=True,\n",
    "           result_path='../src/outputs/XLNet.csv')"
   ]
  },
  {
   "cell_type": "markdown",
   "metadata": {},
   "source": [
    "### Evaluation with the new test data \n",
    "\n",
    "Since the test data is a csv, we will have to modify the _read_data function in the dataset"
   ]
  },
  {
   "cell_type": "code",
   "execution_count": 16,
   "metadata": {},
   "outputs": [],
   "source": [
    "class TestXLimdbDataset(Dataset):\n",
    "    def __init__(self,\n",
    "                 csv_path:str,\n",
    "                 max_token_len:int,\n",
    "                 tokenizer:XLNetTokenizer):\n",
    "        \"\"\"\n",
    "        Test Dataset Class\n",
    "        The dataset will be created by reading all documents inside the file and encoded by XLnet encoder\n",
    "        \n",
    "        Args:\n",
    "            csv_path (str): path to csv file\n",
    "            max_token_len (int): maximum number of tokens per review\n",
    "            tokenizer (XLNetTokenizer): XLNet tokenizer\n",
    "        \n",
    "        Returns:\n",
    "            input_ids, attention_mask, labels\n",
    "        \"\"\"\n",
    "\n",
    "        self.tokenizer = tokenizer\n",
    "        self.max_token_len = max_token_len\n",
    "        self.data_list, self.label_list = self._read_data(csv_path)\n",
    "\n",
    "\n",
    "    def _read_data(self, csv_path):\n",
    "        dataset = pd.read_csv(csv_path)\n",
    "        data = dataset['text'].tolist()\n",
    "        labels = dataset['label'].tolist()\n",
    "        return data, labels\n",
    "\n",
    "\n",
    "    def __len__(self):\n",
    "        return len(self.data_list)\n",
    "\n",
    "\n",
    "    def __getitem__(self, idx):\n",
    "        doc_data = self.data_list[idx]\n",
    "        # Encode data and add padding automatically\n",
    "        encoding = self.tokenizer(\n",
    "            doc_data,\n",
    "            max_length=self.max_token_len,\n",
    "            padding='max_length',\n",
    "            truncation=True,\n",
    "            return_tensors=\"pt\"\n",
    "        )\n",
    "        # Input_ids, Attention_mask, Label\n",
    "        return encoding['input_ids'].squeeze(0), encoding['attention_mask'].squeeze(0), encoding['token_type_ids'].squeeze(0), torch.tensor(self.label_list[idx], dtype=torch.long)"
   ]
  },
  {
   "cell_type": "code",
   "execution_count": 17,
   "metadata": {},
   "outputs": [],
   "source": [
    "tokenizer = XLNetTokenizer.from_pretrained('xlnet-base-cased')\n",
    "\n",
    "test_dataset = TestXLimdbDataset(csv_path=\"../data/test_data_movie.csv\",\n",
    "                            max_token_len=1024,\n",
    "                            tokenizer=tokenizer)"
   ]
  },
  {
   "cell_type": "code",
   "execution_count": 18,
   "metadata": {},
   "outputs": [],
   "source": [
    "test_iter = DataLoader(test_dataset,\n",
    "                        batch_size=32\n",
    "                        )"
   ]
  },
  {
   "cell_type": "code",
   "execution_count": 9,
   "metadata": {},
   "outputs": [
    {
     "name": "stderr",
     "output_type": "stream",
     "text": [
      "100%|██████████| 1250/1250 [04:00<00:00,  5.19it/s]\n"
     ]
    },
    {
     "data": {
      "text/plain": [
       "(0.858025, 0.8751814223512336, 0.8459268575851393, 0.860305512508302)"
      ]
     },
     "execution_count": 9,
     "metadata": {},
     "output_type": "execute_result"
    }
   ],
   "source": [
    "device = torch.device(\"cuda\" if torch.cuda.is_available() else \"cpu\")\n",
    "model = torch.load('../models/best_XLNET_32_256.pt')\n",
    "eval_model(model=model, \n",
    "           test_iter=test_iter, \n",
    "           device=device, \n",
    "           calc_confusion_matrix=True)"
   ]
  },
  {
   "cell_type": "code",
   "execution_count": 16,
   "metadata": {},
   "outputs": [
    {
     "name": "stderr",
     "output_type": "stream",
     "text": [
      "100%|██████████| 625/625 [04:31<00:00,  2.30it/s]\n"
     ]
    },
    {
     "data": {
      "text/plain": [
       "(0.8515, 0.8619188228817376, 0.8440915551634564, 0.8529120443740095)"
      ]
     },
     "execution_count": 16,
     "metadata": {},
     "output_type": "execute_result"
    }
   ],
   "source": [
    "device = torch.device(\"cuda\" if torch.cuda.is_available() else \"cpu\")\n",
    "model = torch.load('../models/best_XLNET_64_256.pt')\n",
    "eval_model(model=model, \n",
    "           test_iter=test_iter, \n",
    "           device=device, \n",
    "           calc_confusion_matrix=True)"
   ]
  },
  {
   "cell_type": "code",
   "execution_count": 10,
   "metadata": {},
   "outputs": [
    {
     "name": "stderr",
     "output_type": "stream",
     "text": [
      "100%|██████████| 1250/1250 [04:03<00:00,  5.14it/s]\n"
     ]
    },
    {
     "data": {
      "text/plain": [
       "(0.8741, 0.8872428807366999, 0.8643167081078446, 0.8756297540254865)"
      ]
     },
     "execution_count": 10,
     "metadata": {},
     "output_type": "execute_result"
    }
   ],
   "source": [
    "device = torch.device(\"cuda\" if torch.cuda.is_available() else \"cpu\")\n",
    "model = torch.load('../models/best_1XLNET_32_256.pt')\n",
    "eval_model(model=model, \n",
    "           test_iter=test_iter, \n",
    "           device=device, \n",
    "           calc_confusion_matrix=True)"
   ]
  },
  {
   "cell_type": "code",
   "execution_count": 11,
   "metadata": {},
   "outputs": [
    {
     "name": "stderr",
     "output_type": "stream",
     "text": [
      "100%|██████████| 1250/1250 [04:03<00:00,  5.13it/s]\n"
     ]
    },
    {
     "data": {
      "text/plain": [
       "(0.844625, 0.8519593613933236, 0.8393984220907298, 0.8456322495715457)"
      ]
     },
     "execution_count": 11,
     "metadata": {},
     "output_type": "execute_result"
    }
   ],
   "source": [
    "device = torch.device(\"cuda\" if torch.cuda.is_available() else \"cpu\")\n",
    "model = torch.load('../models/best_2XLNET_32_256.pt')\n",
    "eval_model(model=model, \n",
    "           test_iter=test_iter, \n",
    "           device=device, \n",
    "           calc_confusion_matrix=True)"
   ]
  },
  {
   "cell_type": "code",
   "execution_count": 12,
   "metadata": {},
   "outputs": [
    {
     "name": "stderr",
     "output_type": "stream",
     "text": [
      "100%|██████████| 1250/1250 [04:02<00:00,  5.16it/s]\n"
     ]
    },
    {
     "data": {
      "text/plain": [
       "(0.88135, 0.8808367949552074, 0.8815426997245179, 0.8811896059680568)"
      ]
     },
     "execution_count": 12,
     "metadata": {},
     "output_type": "execute_result"
    }
   ],
   "source": [
    "device = torch.device(\"cuda\" if torch.cuda.is_available() else \"cpu\")\n",
    "model = torch.load('../models/best_3XLNET_32_256.pt')\n",
    "eval_model(model=model, \n",
    "           test_iter=test_iter, \n",
    "           device=device, \n",
    "           calc_confusion_matrix=True)"
   ]
  },
  {
   "cell_type": "code",
   "execution_count": 13,
   "metadata": {},
   "outputs": [
    {
     "name": "stderr",
     "output_type": "stream",
     "text": [
      "100%|██████████| 1250/1250 [04:01<00:00,  5.19it/s]\n"
     ]
    },
    {
     "data": {
      "text/plain": [
       "(0.8812, 0.8881937840948901, 0.875746360720454, 0.8819261541519654)"
      ]
     },
     "execution_count": 13,
     "metadata": {},
     "output_type": "execute_result"
    }
   ],
   "source": [
    "device = torch.device(\"cuda\" if torch.cuda.is_available() else \"cpu\")\n",
    "model = torch.load('../models/best_4XLNET_32_256.pt')\n",
    "eval_model(model=model, \n",
    "           test_iter=test_iter, \n",
    "           device=device, \n",
    "           calc_confusion_matrix=True)"
   ]
  },
  {
   "cell_type": "code",
   "execution_count": 14,
   "metadata": {},
   "outputs": [
    {
     "name": "stderr",
     "output_type": "stream",
     "text": [
      "100%|██████████| 1250/1250 [03:59<00:00,  5.22it/s]\n"
     ]
    },
    {
     "data": {
      "text/plain": [
       "(0.88405, 0.8778339422451329, 0.8886862238435426, 0.8832267485774712)"
      ]
     },
     "execution_count": 14,
     "metadata": {},
     "output_type": "execute_result"
    }
   ],
   "source": [
    "device = torch.device(\"cuda\" if torch.cuda.is_available() else \"cpu\")\n",
    "model = torch.load('../models/best_5XLNET_32_256.pt')\n",
    "eval_model(model=model, \n",
    "           test_iter=test_iter, \n",
    "           device=device, \n",
    "           calc_confusion_matrix=True)"
   ]
  },
  {
   "cell_type": "code",
   "execution_count": 20,
   "metadata": {},
   "outputs": [
    {
     "name": "stderr",
     "output_type": "stream",
     "text": [
      "100%|██████████| 1250/1250 [13:08<00:00,  1.59it/s]\n"
     ]
    },
    {
     "data": {
      "text/plain": [
       "(0.909325, 0.9122166057754867, 0.90681592039801, 0.9095082458022504)"
      ]
     },
     "execution_count": 20,
     "metadata": {},
     "output_type": "execute_result"
    }
   ],
   "source": [
    "device = torch.device(\"cuda\" if torch.cuda.is_available() else \"cpu\")\n",
    "model = torch.load('../models/best_XLNET_32_512.pt')\n",
    "eval_model(model=model, \n",
    "           test_iter=test_iter, \n",
    "           device=device, \n",
    "           calc_confusion_matrix=True)"
   ]
  },
  {
   "cell_type": "code",
   "execution_count": 21,
   "metadata": {},
   "outputs": [
    {
     "name": "stderr",
     "output_type": "stream",
     "text": [
      "100%|██████████| 1250/1250 [13:04<00:00,  1.59it/s]\n"
     ]
    },
    {
     "data": {
      "text/plain": [
       "(0.9031, 0.9142185075822031, 0.8941700523765236, 0.904083147735709)"
      ]
     },
     "execution_count": 21,
     "metadata": {},
     "output_type": "execute_result"
    }
   ],
   "source": [
    "device = torch.device(\"cuda\" if torch.cuda.is_available() else \"cpu\")\n",
    "model = torch.load('../models/best_1XLNET_32_512.pt')\n",
    "eval_model(model=model, \n",
    "           test_iter=test_iter, \n",
    "           device=device, \n",
    "           calc_confusion_matrix=True)"
   ]
  },
  {
   "cell_type": "code",
   "execution_count": 21,
   "metadata": {},
   "outputs": [
    {
     "name": "stderr",
     "output_type": "stream",
     "text": [
      "\n",
      "00%|██████████| 1250/1250 [56:25<00:00,  2.71s/it]"
     ]
    },
    {
     "data": {
      "text/plain": [
       "(0.914, 0.9212752114508783, 0.9079161528976573, 0.9145468998410174)"
      ]
     },
     "execution_count": 21,
     "metadata": {},
     "output_type": "execute_result"
    }
   ],
   "source": [
    "device = torch.device(\"cuda\" if torch.cuda.is_available() else \"cpu\")\n",
    "model = torch.load('../models/best_XLNET_32_1024.pt')\n",
    "eval_model(model=model, \n",
    "           test_iter=test_iter, \n",
    "           device=device, \n",
    "           calc_confusion_matrix=True,\n",
    "           download_results=True,\n",
    "           result_path='../src/outputs/XLNet.csv')"
   ]
  }
 ],
 "metadata": {
  "kernelspec": {
   "display_name": "Python 3 (ipykernel)",
   "language": "python",
   "name": "python3"
  },
  "language_info": {
   "codemirror_mode": {
    "name": "ipython",
    "version": 3
   },
   "file_extension": ".py",
   "mimetype": "text/x-python",
   "name": "python",
   "nbconvert_exporter": "python",
   "pygments_lexer": "ipython3",
   "version": "3.11.10"
  }
 },
 "nbformat": 4,
 "nbformat_minor": 4
}
