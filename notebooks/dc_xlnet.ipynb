{
 "cells": [
  {
   "cell_type": "markdown",
   "metadata": {},
   "source": [
    "## Notebook exploring the finetuning of XLnet\n"
   ]
  },
  {
   "cell_type": "code",
   "execution_count": 2,
   "metadata": {},
   "outputs": [],
   "source": [
    "import os\n",
    "import torch\n",
    "from tqdm import tqdm\n",
    "from torch.utils.data import Dataset, DataLoader\n",
    "from transformers import XLNetTokenizer, XLNetForSequenceClassification\n",
    "import numpy as np\n",
    "from sklearn.metrics import f1_score, precision_score, recall_score, accuracy_score\n",
    "import matplotlib.pyplot as plt"
   ]
  },
  {
   "cell_type": "markdown",
   "metadata": {},
   "source": [
    "### Data loading\n",
    "\n",
    "A custom dataloader has to built, where we will use the existing XLNetTokenizer to encode our input instead of relying on a vocab class\n"
   ]
  },
  {
   "cell_type": "code",
   "execution_count": 3,
   "metadata": {},
   "outputs": [],
   "source": [
    "class XLimdbDataset(Dataset):\n",
    "    def __init__(self,\n",
    "                 data_dir:str,\n",
    "                 max_sent_len:int,\n",
    "                 tokenizer:XLNetTokenizer,\n",
    "                 is_train:bool=True):\n",
    "        \"\"\"\n",
    "        IMDB Dataset Class\n",
    "        The dataset will be created by reading all documents inside the file and encoded by XLnet encoder\n",
    "        \n",
    "        Args:\n",
    "            data_dir (str): path to imdb parent folder\n",
    "            max_sent_len (int): maximum number of words per review\n",
    "            tokenizer (XLNetTokenizer): XLNet tokenizer\n",
    "            is_train (bool, optional): is the dataset train? Will take from train folder if True. Defaults to True.\n",
    "        \n",
    "        Returns:\n",
    "            input_ids, attention_mask, labels\n",
    "        \"\"\"\n",
    "\n",
    "        self.tokenizer = tokenizer\n",
    "        self.max_sent_len = max_sent_len\n",
    "        self.data_list, self.label_list = self._read_imdb(data_dir, is_train)\n",
    "\n",
    "\n",
    "    def _read_imdb(self, data_dir, is_train):\n",
    "        data = []\n",
    "        labels = []\n",
    "        data_folder = 'train' if is_train else 'test'\n",
    "        \n",
    "        for label, label_folder in enumerate(['neg', 'pos']):\n",
    "            # Retrieve full path\n",
    "            full_path = os.path.join(data_dir, data_folder, label_folder)\n",
    "            for text_file in os.listdir(full_path):\n",
    "                # Read text\n",
    "                with open(os.path.join(full_path, text_file), 'r', encoding='utf-8') as f:\n",
    "                    # Add text and label\n",
    "                    data.append(f.read())\n",
    "                    labels.append(label)\n",
    "        return data, labels\n",
    "    \n",
    "\n",
    "    def __len__(self):\n",
    "        return len(self.data_list)\n",
    "\n",
    "\n",
    "    def __getitem__(self, idx):\n",
    "        doc_data = self.data_list[idx]\n",
    "        # Encode data and add padding automatically\n",
    "        encoding = self.tokenizer(\n",
    "            doc_data,\n",
    "            max_length=self.max_sent_len,\n",
    "            padding='max_length',\n",
    "            truncation=True,\n",
    "            return_tensors=\"pt\"\n",
    "        )\n",
    "        # Input_ids, Attention_mask, Label\n",
    "        return encoding['input_ids'].squeeze(0), encoding['attention_mask'].squeeze(0), torch.tensor(self.label_list[idx], dtype=torch.long)"
   ]
  },
  {
   "cell_type": "code",
   "execution_count": 11,
   "metadata": {},
   "outputs": [],
   "source": [
    "tokenizer = XLNetTokenizer.from_pretrained('xlnet-base-cased')\n",
    "\n",
    "train_dataset = XLimdbDataset(data_dir=\"../data/aclImdb\",\n",
    "                            max_sent_len=512,\n",
    "                            tokenizer=tokenizer)\n",
    "\n",
    "test_dataset = XLimdbDataset(data_dir=\"../data/aclImdb\",\n",
    "                            max_sent_len=512,\n",
    "                            tokenizer=tokenizer,\n",
    "                            is_train=False)"
   ]
  },
  {
   "cell_type": "code",
   "execution_count": 17,
   "metadata": {},
   "outputs": [],
   "source": [
    "train_iter = DataLoader(train_dataset,\n",
    "                        batch_size=64, \n",
    "                        shuffle=True,\n",
    "                        )\n",
    "\n",
    "test_iter = DataLoader(test_dataset,\n",
    "                        batch_size=64\n",
    "                        )"
   ]
  },
  {
   "cell_type": "markdown",
   "metadata": {},
   "source": [
    "### Model Architecture\n",
    "\n",
    "We will use a pre-trained XLNetModel from hugging face, but modify the final linear layer and also unfreeze the last layer"
   ]
  },
  {
   "cell_type": "code",
   "execution_count": 18,
   "metadata": {},
   "outputs": [],
   "source": [
    "class XLNetFineTunedModel(torch.nn.Module):\n",
    "    def __init__(self,\n",
    "                 device:str, \n",
    "                 num_class:int, \n",
    "                 unfreeze_all:bool=False\n",
    "                 ):\n",
    "        \"\"\"\n",
    "        XLNet model class, loads pretrained xlnet from hugging face\n",
    "        Option to unfreeze all layers, but if set to false it will only unfreeze the linear layers (classification layers)\n",
    "\n",
    "        Args:\n",
    "            device (str): cpu or cuda\n",
    "            num_class (int): Total number of labels\n",
    "            unfreeze_all (bool, optional): Unfreeze all layers in XLNet. Defaults to False.\n",
    "        \"\"\"\n",
    "        super().__init__() \n",
    "        self.model = XLNetForSequenceClassification.from_pretrained('xlnet-base-cased', num_labels=num_class).to(device)\n",
    "\n",
    "        if not unfreeze_all:\n",
    "            for name, param in self.model.named_parameters():\n",
    "                # Retrieve linear classification layers\n",
    "                if name in ['logits_proj.bias', 'logits_proj.weight', 'sequence_summary.summary.bias', 'sequence_summary.summary.weight']:  \n",
    "                    param.requires_grad = True\n",
    "                else:\n",
    "                    param.requires_grad = False\n",
    "        else:\n",
    "            # Unfreeze all\n",
    "            for param in self.model.parameters():\n",
    "                param.requires_grad = True\n",
    "\n",
    "    \n",
    "    def forward(self, input_ids, attention_mask=None, labels=None):\n",
    "        outputs = self.model(input_ids=input_ids, \n",
    "                             attention_mask=attention_mask, \n",
    "                             labels=labels)\n",
    "        return outputs"
   ]
  },
  {
   "cell_type": "code",
   "execution_count": 19,
   "metadata": {},
   "outputs": [
    {
     "name": "stderr",
     "output_type": "stream",
     "text": [
      "Some weights of XLNetForSequenceClassification were not initialized from the model checkpoint at xlnet-base-cased and are newly initialized: ['logits_proj.bias', 'logits_proj.weight', 'sequence_summary.summary.bias', 'sequence_summary.summary.weight']\n",
      "You should probably TRAIN this model on a down-stream task to be able to use it for predictions and inference.\n"
     ]
    },
    {
     "name": "stdout",
     "output_type": "stream",
     "text": [
      "XLNetFineTunedModel(\n",
      "  (model): XLNetForSequenceClassification(\n",
      "    (transformer): XLNetModel(\n",
      "      (word_embedding): Embedding(32000, 768)\n",
      "      (layer): ModuleList(\n",
      "        (0-11): 12 x XLNetLayer(\n",
      "          (rel_attn): XLNetRelativeAttention(\n",
      "            (layer_norm): LayerNorm((768,), eps=1e-12, elementwise_affine=True)\n",
      "            (dropout): Dropout(p=0.1, inplace=False)\n",
      "          )\n",
      "          (ff): XLNetFeedForward(\n",
      "            (layer_norm): LayerNorm((768,), eps=1e-12, elementwise_affine=True)\n",
      "            (layer_1): Linear(in_features=768, out_features=3072, bias=True)\n",
      "            (layer_2): Linear(in_features=3072, out_features=768, bias=True)\n",
      "            (dropout): Dropout(p=0.1, inplace=False)\n",
      "            (activation_function): GELUActivation()\n",
      "          )\n",
      "          (dropout): Dropout(p=0.1, inplace=False)\n",
      "        )\n",
      "      )\n",
      "      (dropout): Dropout(p=0.1, inplace=False)\n",
      "    )\n",
      "    (sequence_summary): SequenceSummary(\n",
      "      (summary): Linear(in_features=768, out_features=768, bias=True)\n",
      "      (activation): Tanh()\n",
      "      (first_dropout): Identity()\n",
      "      (last_dropout): Dropout(p=0.1, inplace=False)\n",
      "    )\n",
      "    (logits_proj): Linear(in_features=768, out_features=2, bias=True)\n",
      "  )\n",
      ")\n"
     ]
    }
   ],
   "source": [
    "device = torch.device(\"cuda\" if torch.cuda.is_available() else \"cpu\")\n",
    "xlNet_model = XLNetFineTunedModel(device, num_class=2)\n",
    "print(xlNet_model)"
   ]
  },
  {
   "cell_type": "markdown",
   "metadata": {},
   "source": [
    "### Training and evaluation"
   ]
  },
  {
   "cell_type": "code",
   "execution_count": 20,
   "metadata": {},
   "outputs": [],
   "source": [
    "def eval_model(model:XLNetFineTunedModel,\n",
    "               test_iter:DataLoader,\n",
    "               device:str,\n",
    "               calc_confusion_matrix:bool=False\n",
    "               ):\n",
    "    \n",
    "    \"\"\"\n",
    "    Function to evaluate model, returning the Accuracy, Precision, Recall and F1 score\n",
    "\n",
    "    Args:\n",
    "        model (XLNetFineTunedModel): Instance of model\n",
    "        test_iter (DataLoader): test dataloader\n",
    "        device (str): cpu or cuda\n",
    "        calc_confusion_matrix (bool, Optional): Boolean if Precision, Recall and F1 score should also be calculated. Defaults to False.\n",
    "    \n",
    "    Returns:\n",
    "        accuracy, recall (None if calc_confusion_matrix == False), precision (None if calc_confusion_matrix == False), f1 (None if calc_confusion_matrix == False)\n",
    "        \n",
    "    \"\"\"\n",
    "    prediction_list = []\n",
    "    actual_list = []\n",
    "    recall, precision, f1 = None, None, None\n",
    "\n",
    "    # Setup model eval to prevent training\n",
    "    model.eval()\n",
    "    for idx, (input_ids, attention_masks, label) in tqdm(enumerate(test_iter), total=len(test_iter)):\n",
    "        # Append actual scores\n",
    "        actual_list.append(label.numpy())\n",
    "        input_ids, attention_masks, label = input_ids.to(device), attention_masks.to(device), label.to(device)\n",
    "        outputs = model(input_ids, attention_masks, label)\n",
    "        \n",
    "        # Append predicted scores\n",
    "        logits = outputs.logits #Retrieve softmax logits\n",
    "        predicted = torch.argmax(logits, dim=-1)\n",
    "        prediction_list.append(predicted.cpu().numpy())\n",
    "\n",
    "    # Flatten the lists into arrays\n",
    "    actual_list = np.concatenate(actual_list)\n",
    "    prediction_list = np.concatenate(prediction_list)\n",
    "\n",
    "    # Calculate accuracy\n",
    "    accuracy = accuracy_score(actual_list, prediction_list)\n",
    "\n",
    "    # Calculate other metrics\n",
    "    if calc_confusion_matrix:\n",
    "        recall = recall_score(actual_list, prediction_list)\n",
    "        precision = precision_score(actual_list, prediction_list)\n",
    "        f1 = f1_score(actual_list, prediction_list)\n",
    "\n",
    "    return accuracy, recall, precision, f1"
   ]
  },
  {
   "cell_type": "code",
   "execution_count": 21,
   "metadata": {},
   "outputs": [],
   "source": [
    "def train_model(model:XLNetFineTunedModel, \n",
    "                train_iter:DataLoader, \n",
    "                test_iter:DataLoader, \n",
    "                num_epochs:int, \n",
    "                optimiser, \n",
    "                lr_scheduler, \n",
    "                device:str,\n",
    "                show_training_graph:bool,\n",
    "                best_model_path:str, \n",
    "                final_model_path:str):\n",
    "    \n",
    "    \"\"\"\n",
    "    Function to train and evaluate model\n",
    "    The model will train on the train_iter, be evaluated on test_iter\n",
    "    Best model with highest accuracy on test_iter will be saved in best_model_path\n",
    "    Final model after last epoch will be saved in final_model_path\n",
    "\n",
    "    Args:\n",
    "        model (XLNetFineTunedModel): model to be trained\n",
    "        train_iter (DataLoader): train dataset\n",
    "        test_iter (DataLoader): test dataset\n",
    "        num_epochs (int): Number of epochs to train\n",
    "        optimiser: optimiser\n",
    "        lr_scheduler: learning rate scheduler, else None\n",
    "        device (str): cpu or cuda\n",
    "        show_training_graph (bool): boolean to show the training loss, training acc and test acc graph across epochs\n",
    "        best_model_path (str): path to best model\n",
    "        final_model_path (str): path to model aft final epoch training\n",
    "    \"\"\"\n",
    "    train_loss_container = []\n",
    "    train_acc_container = []\n",
    "    test_acc_container = []\n",
    "\n",
    "    best_test_acc = 0\n",
    "\n",
    "    for epoch in range(num_epochs):\n",
    "        total_train_loss = 0\n",
    "        total_train_correct = 0\n",
    "        total_train_samples = 0\n",
    "\n",
    "        # Setup training \n",
    "        model.train()\n",
    "        model.to(device)\n",
    "\n",
    "        for idx, (input_ids, attention_masks, label) in tqdm(enumerate(train_iter), total=len(train_iter)):\n",
    "            input_ids, attention_masks, label = input_ids.to(device), attention_masks.to(device), label.to(device)\n",
    "\n",
    "            # Get predictions and loss\n",
    "            outputs = model(input_ids, attention_masks, label)\n",
    "            # Loss is automatically calculated with BCE from XLNt\n",
    "            loss = outputs.loss\n",
    "            total_train_loss += loss.item()\n",
    "\n",
    "            # Train\n",
    "            optimiser.zero_grad()\n",
    "            loss.backward()\n",
    "            optimiser.step()\n",
    "            if lr_scheduler:\n",
    "                lr_scheduler.step()\n",
    "\n",
    "            # Count accuracy\n",
    "            logits = outputs.logits #Retrieve softmax logits\n",
    "            predicted = torch.argmax(logits, dim=-1)            \n",
    "            total_train_correct += (predicted == label).sum().item()\n",
    "            total_train_samples += label.shape[0]\n",
    "\n",
    "        # Evaluation for test\n",
    "        test_acc, _, _, _ = eval_model(model, test_iter, device)\n",
    "\n",
    "        train_loss_container.append(total_train_loss/len(train_iter)) #total num of batches\n",
    "        train_acc_container.append(total_train_correct/total_train_samples)\n",
    "        test_acc_container.append(test_acc)\n",
    "\n",
    "        if test_acc > best_test_acc:\n",
    "            best_test_acc = test_acc\n",
    "            torch.save(model, best_model_path)\n",
    "            print(f\"Best Model Saved at epoch {epoch+1}\")\n",
    "\n",
    "        print(f\"Epoch {epoch+1} completed, train_loss: {total_train_loss/len(train_iter)}, train_acc: {total_train_correct/total_train_samples}, test_acc: {test_acc}\")\n",
    "\n",
    "    # Save Final model \n",
    "    torch.save(model, final_model_path)\n",
    "\n",
    "    if show_training_graph:\n",
    "        # Graph with matplotlib\n",
    "        # Plot each list\n",
    "        plt.plot(train_loss_container, label='Train Loss', color='blue')\n",
    "        plt.plot(train_acc_container, label='Train Acc', color='green')\n",
    "        plt.plot(test_acc_container, label='Test Acc', color='red')\n",
    "\n",
    "        # Add labels and legend\n",
    "        plt.xlabel(\"Epoch\")\n",
    "        plt.legend()\n",
    "        plt.show()\n"
   ]
  },
  {
   "cell_type": "code",
   "execution_count": 16,
   "metadata": {},
   "outputs": [
    {
     "name": "stderr",
     "output_type": "stream",
     "text": [
      "100%|██████████| 782/782 [08:12<00:00,  1.59it/s]\n",
      "100%|██████████| 782/782 [07:39<00:00,  1.70it/s]\n"
     ]
    },
    {
     "name": "stdout",
     "output_type": "stream",
     "text": [
      "Best Model Saved at epoch 1\n",
      "Epoch 1 completed, train_loss: 0.43075520211778334, train_acc: 0.81936, test_acc: 0.88228\n"
     ]
    },
    {
     "name": "stderr",
     "output_type": "stream",
     "text": [
      "100%|██████████| 782/782 [08:10<00:00,  1.59it/s]\n",
      "100%|██████████| 782/782 [07:38<00:00,  1.70it/s]\n"
     ]
    },
    {
     "name": "stdout",
     "output_type": "stream",
     "text": [
      "Best Model Saved at epoch 2\n",
      "Epoch 2 completed, train_loss: 0.32532962125814174, train_acc: 0.86852, test_acc: 0.89228\n"
     ]
    },
    {
     "name": "stderr",
     "output_type": "stream",
     "text": [
      "100%|██████████| 782/782 [08:10<00:00,  1.59it/s]\n",
      "100%|██████████| 782/782 [07:38<00:00,  1.70it/s]\n"
     ]
    },
    {
     "name": "stdout",
     "output_type": "stream",
     "text": [
      "Best Model Saved at epoch 3\n",
      "Epoch 3 completed, train_loss: 0.30877110625014587, train_acc: 0.87376, test_acc: 0.896\n"
     ]
    },
    {
     "name": "stderr",
     "output_type": "stream",
     "text": [
      "100%|██████████| 782/782 [08:10<00:00,  1.59it/s]\n",
      "100%|██████████| 782/782 [07:38<00:00,  1.71it/s]\n"
     ]
    },
    {
     "name": "stdout",
     "output_type": "stream",
     "text": [
      "Best Model Saved at epoch 4\n",
      "Epoch 4 completed, train_loss: 0.306240277436307, train_acc: 0.87364, test_acc: 0.89712\n"
     ]
    },
    {
     "name": "stderr",
     "output_type": "stream",
     "text": [
      "100%|██████████| 782/782 [08:02<00:00,  1.62it/s]\n",
      "100%|██████████| 782/782 [07:30<00:00,  1.73it/s]\n"
     ]
    },
    {
     "name": "stdout",
     "output_type": "stream",
     "text": [
      "Best Model Saved at epoch 5\n",
      "Epoch 5 completed, train_loss: 0.3014941097182386, train_acc: 0.87568, test_acc: 0.90104\n"
     ]
    },
    {
     "name": "stderr",
     "output_type": "stream",
     "text": [
      "100%|██████████| 782/782 [08:02<00:00,  1.62it/s]\n",
      "100%|██████████| 782/782 [07:31<00:00,  1.73it/s]\n"
     ]
    },
    {
     "name": "stdout",
     "output_type": "stream",
     "text": [
      "Epoch 6 completed, train_loss: 0.30099837985985417, train_acc: 0.87468, test_acc: 0.89956\n"
     ]
    },
    {
     "name": "stderr",
     "output_type": "stream",
     "text": [
      "100%|██████████| 782/782 [08:02<00:00,  1.62it/s]\n",
      "100%|██████████| 782/782 [07:30<00:00,  1.73it/s]\n"
     ]
    },
    {
     "name": "stdout",
     "output_type": "stream",
     "text": [
      "Epoch 7 completed, train_loss: 0.30119314547771076, train_acc: 0.87464, test_acc: 0.89996\n"
     ]
    },
    {
     "name": "stderr",
     "output_type": "stream",
     "text": [
      "100%|██████████| 782/782 [08:03<00:00,  1.62it/s]\n",
      "100%|██████████| 782/782 [07:32<00:00,  1.73it/s]\n"
     ]
    },
    {
     "name": "stdout",
     "output_type": "stream",
     "text": [
      "Best Model Saved at epoch 8\n",
      "Epoch 8 completed, train_loss: 0.3018405164313286, train_acc: 0.87492, test_acc: 0.90156\n"
     ]
    },
    {
     "name": "stderr",
     "output_type": "stream",
     "text": [
      "100%|██████████| 782/782 [08:03<00:00,  1.62it/s]\n",
      "100%|██████████| 782/782 [07:31<00:00,  1.73it/s]\n"
     ]
    },
    {
     "name": "stdout",
     "output_type": "stream",
     "text": [
      "Epoch 9 completed, train_loss: 0.2973487758365891, train_acc: 0.87504, test_acc: 0.90012\n"
     ]
    },
    {
     "name": "stderr",
     "output_type": "stream",
     "text": [
      "100%|██████████| 782/782 [08:02<00:00,  1.62it/s]\n",
      "100%|██████████| 782/782 [07:31<00:00,  1.73it/s]\n"
     ]
    },
    {
     "name": "stdout",
     "output_type": "stream",
     "text": [
      "Epoch 10 completed, train_loss: 0.2984601965083567, train_acc: 0.876, test_acc: 0.89844\n"
     ]
    },
    {
     "data": {
      "image/png": "[encoded data removed]",
      "text/plain": [
       "<Figure size 640x480 with 1 Axes>"
      ]
     },
     "metadata": {},
     "output_type": "display_data"
    }
   ],
   "source": [
    "# 512, 32\n",
    "lr, num_epochs = 2e-5, 10\n",
    "\n",
    "device = torch.device(\"cuda\" if torch.cuda.is_available() else \"cpu\")\n",
    "optimizer = torch.optim.AdamW(xlNet_model.parameters(), lr=lr)\n",
    "# scheduler = torch.optim.lr_scheduler.LinearLR(optimizer, start_factor=1, end_factor=0.1, total_iters=10)\n",
    "\n",
    "train_model(xlNet_model, train_iter, test_iter, num_epochs, optimizer, None, device, True, '../models/best_XLNET_2.pt', '../models/final_XLNET_2.pt')"
   ]
  },
  {
   "cell_type": "code",
   "execution_count": 22,
   "metadata": {},
   "outputs": [
    {
     "name": "stderr",
     "output_type": "stream",
     "text": [
      "100%|██████████| 391/391 [10:18<00:00,  1.58s/it]\n",
      "100%|██████████| 391/391 [09:50<00:00,  1.51s/it]\n"
     ]
    },
    {
     "name": "stdout",
     "output_type": "stream",
     "text": [
      "Best Model Saved at epoch 1\n",
      "Epoch 1 completed, train_loss: 0.5045437796798813, train_acc: 0.78544, test_acc: 0.86676\n"
     ]
    },
    {
     "name": "stderr",
     "output_type": "stream",
     "text": [
      "100%|██████████| 391/391 [10:16<00:00,  1.58s/it]\n",
      "100%|██████████| 391/391 [09:50<00:00,  1.51s/it]\n"
     ]
    },
    {
     "name": "stdout",
     "output_type": "stream",
     "text": [
      "Best Model Saved at epoch 2\n",
      "Epoch 2 completed, train_loss: 0.37543179258666076, train_acc: 0.85088, test_acc: 0.88124\n"
     ]
    },
    {
     "name": "stderr",
     "output_type": "stream",
     "text": [
      "100%|██████████| 391/391 [10:18<00:00,  1.58s/it]\n",
      "100%|██████████| 391/391 [09:51<00:00,  1.51s/it]\n"
     ]
    },
    {
     "name": "stdout",
     "output_type": "stream",
     "text": [
      "Best Model Saved at epoch 3\n",
      "Epoch 3 completed, train_loss: 0.3443857202749423, train_acc: 0.85992, test_acc: 0.88616\n"
     ]
    },
    {
     "name": "stderr",
     "output_type": "stream",
     "text": [
      "100%|██████████| 391/391 [10:17<00:00,  1.58s/it]\n",
      "100%|██████████| 391/391 [09:51<00:00,  1.51s/it]\n"
     ]
    },
    {
     "name": "stdout",
     "output_type": "stream",
     "text": [
      "Best Model Saved at epoch 4\n",
      "Epoch 4 completed, train_loss: 0.3250163015349747, train_acc: 0.8676, test_acc: 0.88948\n"
     ]
    },
    {
     "name": "stderr",
     "output_type": "stream",
     "text": [
      "100%|██████████| 391/391 [10:17<00:00,  1.58s/it]\n",
      "100%|██████████| 391/391 [09:51<00:00,  1.51s/it]\n"
     ]
    },
    {
     "name": "stdout",
     "output_type": "stream",
     "text": [
      "Best Model Saved at epoch 5\n",
      "Epoch 5 completed, train_loss: 0.31601066849268306, train_acc: 0.87256, test_acc: 0.89324\n"
     ]
    },
    {
     "name": "stderr",
     "output_type": "stream",
     "text": [
      "100%|██████████| 391/391 [10:17<00:00,  1.58s/it]\n",
      "100%|██████████| 391/391 [09:51<00:00,  1.51s/it]\n"
     ]
    },
    {
     "name": "stdout",
     "output_type": "stream",
     "text": [
      "Best Model Saved at epoch 6\n",
      "Epoch 6 completed, train_loss: 0.31287727815568295, train_acc: 0.87224, test_acc: 0.8946\n"
     ]
    },
    {
     "name": "stderr",
     "output_type": "stream",
     "text": [
      "100%|██████████| 391/391 [10:18<00:00,  1.58s/it]\n",
      "100%|██████████| 391/391 [09:51<00:00,  1.51s/it]\n"
     ]
    },
    {
     "name": "stdout",
     "output_type": "stream",
     "text": [
      "Best Model Saved at epoch 7\n",
      "Epoch 7 completed, train_loss: 0.30683751457639974, train_acc: 0.87376, test_acc: 0.89672\n"
     ]
    },
    {
     "name": "stderr",
     "output_type": "stream",
     "text": [
      "100%|██████████| 391/391 [10:17<00:00,  1.58s/it]\n",
      "100%|██████████| 391/391 [09:51<00:00,  1.51s/it]\n"
     ]
    },
    {
     "name": "stdout",
     "output_type": "stream",
     "text": [
      "Best Model Saved at epoch 8\n",
      "Epoch 8 completed, train_loss: 0.30328448638891625, train_acc: 0.87724, test_acc: 0.89732\n"
     ]
    },
    {
     "name": "stderr",
     "output_type": "stream",
     "text": [
      "100%|██████████| 391/391 [10:17<00:00,  1.58s/it]\n",
      "100%|██████████| 391/391 [09:51<00:00,  1.51s/it]\n"
     ]
    },
    {
     "name": "stdout",
     "output_type": "stream",
     "text": [
      "Best Model Saved at epoch 9\n",
      "Epoch 9 completed, train_loss: 0.29904212735955366, train_acc: 0.8772, test_acc: 0.89864\n"
     ]
    },
    {
     "name": "stderr",
     "output_type": "stream",
     "text": [
      "100%|██████████| 391/391 [10:29<00:00,  1.61s/it]\n",
      "100%|██████████| 391/391 [09:50<00:00,  1.51s/it]\n"
     ]
    },
    {
     "name": "stdout",
     "output_type": "stream",
     "text": [
      "Best Model Saved at epoch 10\n",
      "Epoch 10 completed, train_loss: 0.3007134422469322, train_acc: 0.8762, test_acc: 0.89988\n"
     ]
    },
    {
     "data": {
      "image/png": "[encoded data removed]",
      "text/plain": [
       "<Figure size 640x480 with 1 Axes>"
      ]
     },
     "metadata": {},
     "output_type": "display_data"
    }
   ],
   "source": [
    "# 512, 64\n",
    "lr, num_epochs = 5e-5, 10\n",
    "\n",
    "device = torch.device(\"cuda\" if torch.cuda.is_available() else \"cpu\")\n",
    "optimizer = torch.optim.AdamW(xlNet_model.parameters(), lr=lr)\n",
    "scheduler = torch.optim.lr_scheduler.LinearLR(optimizer, start_factor=1, end_factor=0.25, total_iters=10)\n",
    "\n",
    "train_model(xlNet_model, train_iter, test_iter, num_epochs, optimizer, scheduler, device, True, '../models/best_XLNET.pt', '../models/final_XLNET.pt')"
   ]
  },
  {
   "cell_type": "code",
   "execution_count": null,
   "metadata": {},
   "outputs": [
    {
     "name": "stderr",
     "output_type": "stream",
     "text": [
      "Some weights of XLNetForSequenceClassification were not initialized from the model checkpoint at xlnet-base-cased and are newly initialized: ['logits_proj.bias', 'logits_proj.weight', 'sequence_summary.summary.bias', 'sequence_summary.summary.weight']\n",
      "You should probably TRAIN this model on a down-stream task to be able to use it for predictions and inference.\n",
      "100%|██████████| 391/391 [02:51<00:00,  2.28it/s]\n",
      "100%|██████████| 391/391 [02:39<00:00,  2.45it/s]\n"
     ]
    },
    {
     "name": "stdout",
     "output_type": "stream",
     "text": [
      "Best Model Saved at epoch 1\n",
      "Epoch 1 completed, train_loss: 0.40274247569043925, train_acc: 0.82312, test_acc: 0.8678\n"
     ]
    },
    {
     "name": "stderr",
     "output_type": "stream",
     "text": [
      "100%|██████████| 391/391 [02:51<00:00,  2.28it/s]\n",
      "100%|██████████| 391/391 [02:39<00:00,  2.45it/s]\n"
     ]
    },
    {
     "name": "stdout",
     "output_type": "stream",
     "text": [
      "Best Model Saved at epoch 2\n",
      "Epoch 2 completed, train_loss: 0.3631646537872227, train_acc: 0.84244, test_acc: 0.87348\n"
     ]
    },
    {
     "name": "stderr",
     "output_type": "stream",
     "text": [
      "100%|██████████| 391/391 [02:50<00:00,  2.29it/s]\n",
      "100%|██████████| 391/391 [02:39<00:00,  2.45it/s]\n"
     ]
    },
    {
     "name": "stdout",
     "output_type": "stream",
     "text": [
      "Best Model Saved at epoch 3\n",
      "Epoch 3 completed, train_loss: 0.3560328111624169, train_acc: 0.84668, test_acc: 0.87404\n"
     ]
    },
    {
     "name": "stderr",
     "output_type": "stream",
     "text": [
      "100%|██████████| 391/391 [02:50<00:00,  2.29it/s]\n",
      "100%|██████████| 391/391 [02:39<00:00,  2.45it/s]\n"
     ]
    },
    {
     "name": "stdout",
     "output_type": "stream",
     "text": [
      "Best Model Saved at epoch 4\n",
      "Epoch 4 completed, train_loss: 0.3538662694451754, train_acc: 0.8472, test_acc: 0.875\n"
     ]
    },
    {
     "name": "stderr",
     "output_type": "stream",
     "text": [
      "100%|██████████| 391/391 [02:50<00:00,  2.29it/s]\n",
      "100%|██████████| 391/391 [02:39<00:00,  2.45it/s]\n"
     ]
    },
    {
     "name": "stdout",
     "output_type": "stream",
     "text": [
      "Best Model Saved at epoch 5\n",
      "Epoch 5 completed, train_loss: 0.34718260081375346, train_acc: 0.85112, test_acc: 0.87676\n"
     ]
    },
    {
     "name": "stderr",
     "output_type": "stream",
     "text": [
      "100%|██████████| 391/391 [02:51<00:00,  2.29it/s]\n",
      "100%|██████████| 391/391 [02:39<00:00,  2.45it/s]\n"
     ]
    },
    {
     "name": "stdout",
     "output_type": "stream",
     "text": [
      "Best Model Saved at epoch 6\n",
      "Epoch 6 completed, train_loss: 0.3466680819344947, train_acc: 0.85188, test_acc: 0.878\n"
     ]
    },
    {
     "name": "stderr",
     "output_type": "stream",
     "text": [
      "100%|██████████| 391/391 [02:51<00:00,  2.28it/s]\n",
      "100%|██████████| 391/391 [02:39<00:00,  2.45it/s]\n"
     ]
    },
    {
     "name": "stdout",
     "output_type": "stream",
     "text": [
      "Epoch 7 completed, train_loss: 0.3446452740741813, train_acc: 0.85188, test_acc: 0.87796\n"
     ]
    },
    {
     "name": "stderr",
     "output_type": "stream",
     "text": [
      "100%|██████████| 391/391 [02:50<00:00,  2.29it/s]\n",
      "100%|██████████| 391/391 [02:39<00:00,  2.45it/s]\n"
     ]
    },
    {
     "name": "stdout",
     "output_type": "stream",
     "text": [
      "Best Model Saved at epoch 8\n",
      "Epoch 8 completed, train_loss: 0.3458651092732349, train_acc: 0.85396, test_acc: 0.87936\n"
     ]
    },
    {
     "name": "stderr",
     "output_type": "stream",
     "text": [
      "100%|██████████| 391/391 [02:50<00:00,  2.29it/s]\n",
      "100%|██████████| 391/391 [02:39<00:00,  2.45it/s]\n"
     ]
    },
    {
     "name": "stdout",
     "output_type": "stream",
     "text": [
      "Epoch 9 completed, train_loss: 0.3430505638842083, train_acc: 0.85084, test_acc: 0.87664\n"
     ]
    },
    {
     "name": "stderr",
     "output_type": "stream",
     "text": [
      "100%|██████████| 391/391 [02:50<00:00,  2.29it/s]\n",
      "100%|██████████| 391/391 [02:39<00:00,  2.45it/s]\n"
     ]
    },
    {
     "name": "stdout",
     "output_type": "stream",
     "text": [
      "Epoch 10 completed, train_loss: 0.3459961098020949, train_acc: 0.85108, test_acc: 0.8792\n"
     ]
    },
    {
     "name": "stderr",
     "output_type": "stream",
     "text": [
      "100%|██████████| 391/391 [02:50<00:00,  2.29it/s]\n",
      "100%|██████████| 391/391 [02:39<00:00,  2.45it/s]\n"
     ]
    },
    {
     "name": "stdout",
     "output_type": "stream",
     "text": [
      "Epoch 11 completed, train_loss: 0.3458052263464159, train_acc: 0.85232, test_acc: 0.8748\n"
     ]
    },
    {
     "name": "stderr",
     "output_type": "stream",
     "text": [
      "100%|██████████| 391/391 [02:50<00:00,  2.29it/s]\n",
      "100%|██████████| 391/391 [02:39<00:00,  2.45it/s]\n"
     ]
    },
    {
     "name": "stdout",
     "output_type": "stream",
     "text": [
      "Epoch 12 completed, train_loss: 0.34337434069732264, train_acc: 0.85204, test_acc: 0.87612\n"
     ]
    },
    {
     "name": "stderr",
     "output_type": "stream",
     "text": [
      "100%|██████████| 391/391 [02:50<00:00,  2.29it/s]\n",
      "100%|██████████| 391/391 [02:39<00:00,  2.45it/s]\n"
     ]
    },
    {
     "name": "stdout",
     "output_type": "stream",
     "text": [
      "Epoch 13 completed, train_loss: 0.3384465157147259, train_acc: 0.8558, test_acc: 0.87312\n"
     ]
    },
    {
     "name": "stderr",
     "output_type": "stream",
     "text": [
      "100%|██████████| 391/391 [02:50<00:00,  2.29it/s]\n",
      "100%|██████████| 391/391 [02:39<00:00,  2.45it/s]\n"
     ]
    },
    {
     "name": "stdout",
     "output_type": "stream",
     "text": [
      "Best Model Saved at epoch 14\n",
      "Epoch 14 completed, train_loss: 0.34177116272242175, train_acc: 0.8544, test_acc: 0.87988\n"
     ]
    },
    {
     "name": "stderr",
     "output_type": "stream",
     "text": [
      "100%|██████████| 391/391 [02:50<00:00,  2.29it/s]\n",
      "100%|██████████| 391/391 [02:39<00:00,  2.45it/s]\n"
     ]
    },
    {
     "name": "stdout",
     "output_type": "stream",
     "text": [
      "Epoch 15 completed, train_loss: 0.34203162392996767, train_acc: 0.8528, test_acc: 0.87932\n"
     ]
    },
    {
     "name": "stderr",
     "output_type": "stream",
     "text": [
      "100%|██████████| 391/391 [02:50<00:00,  2.29it/s]\n",
      "100%|██████████| 391/391 [02:39<00:00,  2.45it/s]\n"
     ]
    },
    {
     "name": "stdout",
     "output_type": "stream",
     "text": [
      "Best Model Saved at epoch 16\n",
      "Epoch 16 completed, train_loss: 0.33681703513235695, train_acc: 0.85564, test_acc: 0.88064\n"
     ]
    },
    {
     "name": "stderr",
     "output_type": "stream",
     "text": [
      "100%|██████████| 391/391 [02:50<00:00,  2.29it/s]\n",
      "100%|██████████| 391/391 [02:39<00:00,  2.45it/s]\n"
     ]
    },
    {
     "name": "stdout",
     "output_type": "stream",
     "text": [
      "Epoch 17 completed, train_loss: 0.3376228979329014, train_acc: 0.85464, test_acc: 0.87872\n"
     ]
    },
    {
     "name": "stderr",
     "output_type": "stream",
     "text": [
      "100%|██████████| 391/391 [02:50<00:00,  2.29it/s]\n",
      "100%|██████████| 391/391 [02:39<00:00,  2.45it/s]\n"
     ]
    },
    {
     "name": "stdout",
     "output_type": "stream",
     "text": [
      "Epoch 18 completed, train_loss: 0.3394423529238957, train_acc: 0.85504, test_acc: 0.88052\n"
     ]
    },
    {
     "name": "stderr",
     "output_type": "stream",
     "text": [
      "100%|██████████| 391/391 [02:51<00:00,  2.29it/s]\n",
      "100%|██████████| 391/391 [02:39<00:00,  2.45it/s]\n"
     ]
    },
    {
     "name": "stdout",
     "output_type": "stream",
     "text": [
      "Epoch 19 completed, train_loss: 0.33551625255733497, train_acc: 0.85576, test_acc: 0.8804\n"
     ]
    },
    {
     "name": "stderr",
     "output_type": "stream",
     "text": [
      "100%|██████████| 391/391 [02:51<00:00,  2.28it/s]\n",
      "100%|██████████| 391/391 [02:39<00:00,  2.45it/s]\n"
     ]
    },
    {
     "name": "stdout",
     "output_type": "stream",
     "text": [
      "Best Model Saved at epoch 20\n",
      "Epoch 20 completed, train_loss: 0.33854747466419055, train_acc: 0.85368, test_acc: 0.88088\n"
     ]
    },
    {
     "name": "stderr",
     "output_type": "stream",
     "text": [
      "100%|██████████| 391/391 [02:51<00:00,  2.29it/s]\n",
      "100%|██████████| 391/391 [02:39<00:00,  2.45it/s]\n"
     ]
    },
    {
     "name": "stdout",
     "output_type": "stream",
     "text": [
      "Epoch 21 completed, train_loss: 0.3365311954561097, train_acc: 0.855, test_acc: 0.87996\n"
     ]
    },
    {
     "name": "stderr",
     "output_type": "stream",
     "text": [
      "100%|██████████| 391/391 [02:50<00:00,  2.29it/s]\n",
      "100%|██████████| 391/391 [02:39<00:00,  2.45it/s]\n"
     ]
    },
    {
     "name": "stdout",
     "output_type": "stream",
     "text": [
      "Epoch 22 completed, train_loss: 0.33408832954018924, train_acc: 0.85588, test_acc: 0.87848\n"
     ]
    },
    {
     "name": "stderr",
     "output_type": "stream",
     "text": [
      "100%|██████████| 391/391 [02:50<00:00,  2.29it/s]\n",
      "100%|██████████| 391/391 [02:39<00:00,  2.45it/s]\n"
     ]
    },
    {
     "name": "stdout",
     "output_type": "stream",
     "text": [
      "Epoch 23 completed, train_loss: 0.3320671462875498, train_acc: 0.8582, test_acc: 0.87772\n"
     ]
    },
    {
     "name": "stderr",
     "output_type": "stream",
     "text": [
      "100%|██████████| 391/391 [02:50<00:00,  2.29it/s]\n",
      "100%|██████████| 391/391 [02:39<00:00,  2.45it/s]\n"
     ]
    },
    {
     "name": "stdout",
     "output_type": "stream",
     "text": [
      "Epoch 24 completed, train_loss: 0.3291775907778069, train_acc: 0.85812, test_acc: 0.88008\n"
     ]
    },
    {
     "name": "stderr",
     "output_type": "stream",
     "text": [
      "100%|██████████| 391/391 [02:50<00:00,  2.29it/s]\n",
      "100%|██████████| 391/391 [02:39<00:00,  2.45it/s]\n"
     ]
    },
    {
     "name": "stdout",
     "output_type": "stream",
     "text": [
      "Epoch 25 completed, train_loss: 0.3348424223149219, train_acc: 0.85708, test_acc: 0.87864\n"
     ]
    },
    {
     "data": {
      "image/png": "[encoded data removed]",
      "text/plain": [
       "<Figure size 640x480 with 1 Axes>"
      ]
     },
     "metadata": {},
     "output_type": "display_data"
    }
   ],
   "source": [
    "# 256, 64\n",
    "lr, num_epochs = 5e-4, 25\n",
    "device = torch.device(\"cuda\" if torch.cuda.is_available() else \"cpu\")\n",
    "optimizer = torch.optim.AdamW(xlNet_model.parameters(), lr=lr)\n",
    "scheduler = torch.optim.lr_scheduler.LinearLR(optimizer, start_factor=1, end_factor=0.1, total_iters=25)\n",
    "\n",
    "train_model(xlNet_model, train_iter, test_iter, num_epochs, optimizer, scheduler, device, True, '../models/best_XLNET_25_256.pt', '../models/final_XLNET_25_256.pt')"
   ]
  },
  {
   "cell_type": "markdown",
   "metadata": {},
   "source": [
    "### Evaluation"
   ]
  },
  {
   "cell_type": "code",
   "execution_count": 23,
   "metadata": {},
   "outputs": [],
   "source": [
    "model = torch.load('../models/best_XLNET_2.pt')"
   ]
  },
  {
   "cell_type": "code",
   "execution_count": 24,
   "metadata": {},
   "outputs": [
    {
     "name": "stderr",
     "output_type": "stream",
     "text": [
      "100%|██████████| 391/391 [09:40<00:00,  1.48s/it]\n"
     ]
    },
    {
     "data": {
      "text/plain": [
       "(0.90156, 0.90952, 0.8952673438853453, 0.9023373943410453)"
      ]
     },
     "execution_count": 24,
     "metadata": {},
     "output_type": "execute_result"
    }
   ],
   "source": [
    "eval_model(model, test_iter, device, True)"
   ]
  },
  {
   "cell_type": "code",
   "execution_count": 25,
   "metadata": {},
   "outputs": [
    {
     "name": "stderr",
     "output_type": "stream",
     "text": [
      "100%|██████████| 391/391 [09:46<00:00,  1.50s/it]\n"
     ]
    },
    {
     "data": {
      "text/plain": [
       "(0.89988, 0.91424, 0.8887160743448168, 0.9012973697701013)"
      ]
     },
     "execution_count": 25,
     "metadata": {},
     "output_type": "execute_result"
    }
   ],
   "source": [
    "model = torch.load('../models/best_XLNET.pt')\n",
    "eval_model(model, test_iter, device, True)"
   ]
  }
 ],
 "metadata": {
  "kernelspec": {
   "display_name": "myenv",
   "language": "python",
   "name": "python3"
  },
  "language_info": {
   "codemirror_mode": {
    "name": "ipython",
    "version": 3
   },
   "file_extension": ".py",
   "mimetype": "text/x-python",
   "name": "python",
   "nbconvert_exporter": "python",
   "pygments_lexer": "ipython3",
   "version": "3.9.13"
  }
 },
 "nbformat": 4,
 "nbformat_minor": 2
}
