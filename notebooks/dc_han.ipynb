{
 "cells": [
  {
   "cell_type": "markdown",
   "metadata": {},
   "source": [
    "## Notebook exploring the use of Hierarchical Attention Networks\n",
    "Original Paper: https://www.cs.cmu.edu/~hovy/papers/16HLT-hierarchical-attention-networks.pdf\n",
    "\n",
    "A Hierarchical Attention Network works on 3 layers, firstly a GRU is used to encode words in the sentence on a word layer, to which an Bahdanau Attention Mechanism is used to provide attention to the most important words in each sentence.\n",
    "\n",
    "The second layer will involve encoding each sentence into its embedding with a GRU. A Bahdanau Attention Mechanism is also then used to provide attention to the most important sentence in the document.\n",
    "\n",
    "The document vector is a summation of all the information of sentences in a document and passes through a linear layer to get classified.\n",
    "\n",
    "For our use case, we explored both using a GRU and a LSTM. LSTMs could learn more complex patterns, but may cus the model to overcomplicate."
   ]
  },
  {
   "cell_type": "code",
   "execution_count": 1,
   "metadata": {},
   "outputs": [
    {
     "name": "stderr",
     "output_type": "stream",
     "text": [
      "[nltk_data] Downloading package punkt to\n",
      "[nltk_data]     C:\\Users\\cheng\\AppData\\Roaming\\nltk_data...\n",
      "[nltk_data]   Package punkt is already up-to-date!\n"
     ]
    },
    {
     "data": {
      "text/plain": [
       "True"
      ]
     },
     "execution_count": 1,
     "metadata": {},
     "output_type": "execute_result"
    }
   ],
   "source": [
    "import os\n",
    "import torch\n",
    "from torch.utils.data import Dataset, DataLoader\n",
    "from torch.nn.utils.rnn import pack_padded_sequence, pad_packed_sequence, PackedSequence\n",
    "from d2l import torch as d2l # You can skip this if you have trouble with this package, all d2l-related codes can be replaced by torch functions.\n",
    "import nltk\n",
    "from nltk.tokenize import sent_tokenize, word_tokenize\n",
    "from tqdm import tqdm\n",
    "import matplotlib.pyplot as plt\n",
    "from sklearn.metrics import f1_score, precision_score, recall_score, accuracy_score\n",
    "import numpy as np\n",
    "import pandas as pd\n",
    "nltk.download('punkt')"
   ]
  },
  {
   "cell_type": "markdown",
   "metadata": {},
   "source": [
    "### Data loading\n",
    "A custom dataloader has to be built, as we need to break down each review into its individual sentences and words."
   ]
  },
  {
   "cell_type": "code",
   "execution_count": 2,
   "metadata": {},
   "outputs": [],
   "source": [
    "class IMDBDataset(Dataset):\n",
    "    def __init__(self, \n",
    "                 data_dir:str,\n",
    "                 max_sent_len:int,\n",
    "                 max_doc_len:int, \n",
    "                 is_train:bool=True,\n",
    "                 vocab:d2l.Vocab=None):\n",
    "        \"\"\"\n",
    "        IMDB Dataset Class\n",
    "        The dataset will be created by reading all documents inside the file, to which they will be preprocessed into lists of individual sentence and words for each review\n",
    "        \n",
    "        Args:\n",
    "            data_dir (str): path to imdb parent folder\n",
    "            max_sent_len (int): maximum number of words per sentence in review\n",
    "            max_doc_len (int): maximum number of sentences per review\n",
    "            is_train (bool, optional): is the dataset train? Will take from train folder if True. Defaults to True.\n",
    "            vocab (d2l.Vocab, optional): d2l Vocab of train data, if None the vocab will be calculated. Defaults to None.\n",
    "        \"\"\"\n",
    "        self.data_list, self.label_list = self._read_imdb(data_dir, is_train)\n",
    "        self.max_sent_len = max_sent_len\n",
    "        self.max_doc_len = max_doc_len\n",
    "        self.vocab = d2l.Vocab(d2l.tokenize(self.data_list, token='word'), min_freq=5, reserved_tokens=['<pad>']) if vocab == None else vocab\n",
    "    \n",
    "\n",
    "    def _read_imdb(self, data_dir, is_train):\n",
    "        data = []\n",
    "        labels = []\n",
    "        data_folder = 'train' if is_train else 'test'\n",
    "        \n",
    "        for label, label_folder in enumerate(['neg', 'pos']):\n",
    "            # Retrieve full path\n",
    "            full_path = os.path.join(data_dir, data_folder, label_folder)\n",
    "            for text_file in os.listdir(full_path):\n",
    "                # Read text\n",
    "                with open(os.path.join(full_path, text_file), 'r', encoding='utf-8') as f:\n",
    "                    # Add text and label\n",
    "                    data.append(f.read())\n",
    "                    labels.append(label)\n",
    "        return data, labels\n",
    "\n",
    "\n",
    "    def _transform_text(self, document:str):\n",
    "        \"\"\"\n",
    "        Function to transform the dataset into the required format for HAN\n",
    "\n",
    "        Args:\n",
    "            document (str): the review\n",
    "\n",
    "        Returns:\n",
    "            doc: nested array of the review, in the format of [[word idx for each word in sentence], [next sentence], ...]\n",
    "            num_sents: retrieve the number of sentences in document\n",
    "            num_word: max number of words across all sentence in document\n",
    "        \"\"\"\n",
    "        # Encoding document with max sentence length and maximum document length (num sentence)\n",
    "        # Split into individual sentences in document\n",
    "        sentences = sent_tokenize(document)\n",
    "        doc = [self.vocab[word_tokenize(sentence)] for sentence in sentences]\n",
    "        doc = [sent[:self.max_sent_len] for sent in doc][:self.max_doc_len]\n",
    "        num_sents = min(len(doc), self.max_doc_len) # There is a limit of max_doc_len\n",
    "\n",
    "        # skip erroneous ones\n",
    "        if not num_sents:\n",
    "            return None, -1, None\n",
    "\n",
    "        num_words = [min(len(sent), self.max_sent_len) for sent in doc][:self.max_doc_len]\n",
    "        return doc, num_sents, num_words\n",
    "\n",
    "    \n",
    "    def __len__(self):\n",
    "        return len(self.data_list)\n",
    "\n",
    "\n",
    "    def __getitem__(self, idx):\n",
    "        doc_data = self.data_list[idx]\n",
    "        doc, num_sents, num_words = self._transform_text(doc_data)\n",
    "        if num_sents == -1:\n",
    "            return None\n",
    "        \n",
    "        return doc, self.label_list[idx], num_sents, num_words"
   ]
  },
  {
   "cell_type": "code",
   "execution_count": 3,
   "metadata": {},
   "outputs": [],
   "source": [
    "class padAnnotations():\n",
    "  \"\"\"\n",
    "  Collate function to pad all sentences and words in sentences to the same length as max(len(sentences)) and max(len(words)) in a batch\n",
    "\n",
    "  Args:\n",
    "    pad_idx (int): Index Label for the <pad> token\n",
    "  \"\"\"\n",
    "  def __init__(self, pad_idx):\n",
    "    self.pad_idx = pad_idx\n",
    "\n",
    "  def __call__(self, batch):\n",
    "    batch = filter(lambda x: x is not None, batch)\n",
    "    docs, labels, doc_lengths, sent_lengths = list(zip(*batch))\n",
    "\n",
    "    batch_size = len(labels)\n",
    "    batch_max_doc_length = max(doc_lengths) # maximum num sentence in a document in batch\n",
    "    batch_max_sent_length = max([max(sl) if sl else 0 for sl in sent_lengths]) # maximum num words in a sentence in a document in a batch\n",
    "    # Pad doc tensor to ensure all document have same num of sentence & num of words in each sentence\n",
    "    # Pad sent lengths as all document may have different number of sentences, so need to ensure all doc hv same number of sentences \n",
    "    docs_tensor = torch.full((batch_size, batch_max_doc_length, batch_max_sent_length), self.pad_idx).long()\n",
    "    sent_lengths_tensor = torch.full((batch_size, batch_max_doc_length), self.pad_idx).long()\n",
    "\n",
    "    # Replace the values with the correct index, the rest remains as pads\n",
    "    for doc_idx, doc in enumerate(docs):\n",
    "        doc_length = doc_lengths[doc_idx]\n",
    "        # Replace sentence lengths\n",
    "        sent_lengths_tensor[doc_idx, :doc_length] = torch.tensor(sent_lengths[doc_idx], dtype=torch.long)\n",
    "        for sent_idx, sent in enumerate(doc):\n",
    "            # Replace document tensor\n",
    "            sent_length = sent_lengths[doc_idx][sent_idx]\n",
    "            docs_tensor[doc_idx, sent_idx, :sent_length] = torch.tensor(sent, dtype=torch.long)\n",
    "\n",
    "    return (\n",
    "        docs_tensor,\n",
    "        torch.tensor(labels, dtype=torch.long),\n",
    "        torch.tensor(doc_lengths, dtype=torch.long),\n",
    "        sent_lengths_tensor,\n",
    "    )"
   ]
  },
  {
   "cell_type": "code",
   "execution_count": 5,
   "metadata": {},
   "outputs": [],
   "source": [
    "train_dataset = IMDBDataset(data_dir=\"../data/aclImdb\",\n",
    "                            max_sent_len=512,\n",
    "                            max_doc_len=24)\n",
    "\n",
    "test_dataset = IMDBDataset(data_dir=\"../data/aclImdb\",\n",
    "                            max_sent_len=512,\n",
    "                            max_doc_len=24,\n",
    "                            is_train=False,\n",
    "                            vocab=train_dataset.vocab) #use train vocab"
   ]
  },
  {
   "cell_type": "code",
   "execution_count": 6,
   "metadata": {},
   "outputs": [],
   "source": [
    "train_iter = DataLoader(train_dataset,\n",
    "                        batch_size=64, \n",
    "                        shuffle=True,\n",
    "                        collate_fn = padAnnotations(\n",
    "                            pad_idx = train_dataset.vocab.token_to_idx[\"<pad>\"], \n",
    "                        ))\n",
    "\n",
    "test_iter = DataLoader(test_dataset,\n",
    "                        batch_size=64, \n",
    "                        collate_fn = padAnnotations(\n",
    "                            pad_idx = train_dataset.vocab.token_to_idx[\"<pad>\"], \n",
    "                        ))"
   ]
  },
  {
   "cell_type": "markdown",
   "metadata": {},
   "source": [
    "### Model Architecture"
   ]
  },
  {
   "cell_type": "code",
   "execution_count": 7,
   "metadata": {},
   "outputs": [],
   "source": [
    "class WordAttention(torch.nn.Module):\n",
    "    def __init__(\n",
    "            self,\n",
    "            device: str,\n",
    "            vocab_size:int,\n",
    "            embed_size: int,\n",
    "            dropout: float,\n",
    "            recurrent_size: int,\n",
    "            attention_dim: int,\n",
    "            lstm:bool=True\n",
    "    ):\n",
    "        \"\"\"\n",
    "        Word Embedding and Attention Class (Returns the sentence embedding which is the concat of word embeddings)\n",
    "\n",
    "        Args:\n",
    "            device (str): torch devide to train, eithe cuda:0 or cpu\n",
    "            vocab_size (int): total len of vocab of dataset\n",
    "            embed_size (int): embedding dimension \n",
    "            dropout (float): dropout probability (less than 1)\n",
    "            recurrent_size (int): recurrent_size/2 will be lstm/gru output size \n",
    "            attention_dim (int): attention dimension\n",
    "            lstm (bool, optional): boolean to use LSTM as encoder, if False, GRU will be used instead. Defaults to True\n",
    "        \"\"\"\n",
    "        super().__init__()\n",
    "        self._device = device\n",
    "        self.embed_size = embed_size\n",
    "        self.recurrent_size = recurrent_size\n",
    "        self.dropout = dropout\n",
    "        self.attention_dim = attention_dim\n",
    "\n",
    "        assert self.recurrent_size % 2 == 0 #Bidirection\n",
    "\n",
    "        # embedding layer\n",
    "        self.embedding = torch.nn.Embedding(num_embeddings=vocab_size, embedding_dim=self.embed_size)\n",
    "\n",
    "        # Word Encoder, using LSTM or GRU according to lstm\n",
    "        self.encoder = torch.nn.LSTM(\n",
    "            input_size=self.embed_size,\n",
    "            hidden_size=self.recurrent_size // 2,\n",
    "            dropout=self.dropout,\n",
    "            bidirectional=True,\n",
    "            batch_first=True,\n",
    "        ) if lstm else torch.nn.GRU(\n",
    "            input_size=self.embed_size,\n",
    "            hidden_size=self.recurrent_size // 2,\n",
    "            dropout=self.dropout,\n",
    "            bidirectional=True,\n",
    "            batch_first=True, \n",
    "        )\n",
    "\n",
    "        self.dropout = torch.nn.Dropout(dropout)\n",
    "\n",
    "        # Maps Encoder output to `attention_dim` sized tensor\n",
    "        self.word_weight = torch.nn.Linear(self.recurrent_size, self.attention_dim)\n",
    "\n",
    "        # Word context vector (u_w) to take dot-product with\n",
    "        self.context_weight = torch.nn.Linear(self.attention_dim, 1)\n",
    "        \n",
    "\n",
    "    def forward(self, docs, doc_lengths, sent_lengths):\n",
    "        \"\"\"\n",
    "        Args:\n",
    "            docs: Encoded document data of size (batch_size, padded_doc_length, padded_sent_length)\n",
    "            doc_lengths: unpadded document lengths of size (num_docs)\n",
    "            sent_lengths: unpadded sentence lengths of size (num_docs, max_sent_len)\n",
    "        \n",
    "        Returns:\n",
    "            sentences embeddings, docs permutation indices, batch size, word attention weights\n",
    "        \"\"\"\n",
    "\n",
    "        # Preprocessing to optimise computation by removing the pads ------------------------------------------------------------------\n",
    "        # Sort documents by decreasing order in length\n",
    "        doc_lengths, doc_perm_idx = doc_lengths.sort(dim=0, descending=True)\n",
    "        docs = docs[doc_perm_idx]\n",
    "        sent_lengths = sent_lengths[doc_perm_idx]\n",
    "\n",
    "        # Make a long batch of sentences by removing pad-sentences\n",
    "        # i.e. `docs` was of size (num_docs, padded_doc_length, padded_sent_length)\n",
    "        # -> `packed_sents.data` is now of size (num_sents, padded_sent_length)\n",
    "        packed_sents = pack_padded_sequence(docs, lengths=doc_lengths.tolist(), batch_first=True)\n",
    "\n",
    "        # effective batch size at each timestep\n",
    "        docs_valid_bsz = packed_sents.batch_sizes\n",
    "\n",
    "        # Make a long batch of sentence lengths by removing pad-sentences\n",
    "        # i.e. `sent_lengths` was of size (num_docs, padded_doc_length)\n",
    "        # -> `packed_sent_lengths.data` is now of size (num_sents)\n",
    "        packed_sent_lengths = pack_padded_sequence(sent_lengths, lengths=doc_lengths.tolist(), batch_first=True)\n",
    "\n",
    "        # Retrieve sentence and its respective length\n",
    "        sents, sent_lengths = packed_sents.data, packed_sent_lengths.data\n",
    "\n",
    "        # Sort sents by decreasing order in sentence lengths\n",
    "        sent_lengths, sent_perm_idx = sent_lengths.sort(dim=0, descending=True)\n",
    "        sents = sents[sent_perm_idx]\n",
    "\n",
    "        # Model Input --------------------------------------------------------------------------------------------------------------\n",
    "        # Retrieve each word embedding\n",
    "        inp = self.dropout(self.embedding(sents))\n",
    "        \n",
    "        # Make a long batch of words by removing pad-words\n",
    "        # i.e. `inp` was of size (num_docs, padded_sent_length, embed_dim)\n",
    "        # -> `packed_words.data` is now of size (num_words, embed_dim)        \n",
    "        packed_words = pack_padded_sequence(inp, lengths=sent_lengths.tolist(), batch_first=True)\n",
    "\n",
    "        # Effective batch size at each timestep\n",
    "        sentences_valid_bsz = packed_words.batch_sizes\n",
    "\n",
    "        # Apply word-level LSTM/GRU over word embeddings\n",
    "        packed_words, _ = self.encoder(packed_words)\n",
    "\n",
    "        # Calculate word attention\n",
    "        u_i = torch.tanh(self.word_weight(packed_words.data))\n",
    "        u_w = self.context_weight(u_i).squeeze(1)\n",
    "        val = u_w.max()\n",
    "        att = torch.exp(u_w - val)\n",
    "\n",
    "        # Restore as sentences by repadding\n",
    "        att, _ = pad_packed_sequence(PackedSequence(att, sentences_valid_bsz), batch_first=True)\n",
    "\n",
    "        att_weights = att / torch.sum(att, dim=1, keepdim=True)\n",
    "\n",
    "        # Restore as sentences by repadding\n",
    "        sents, _ = pad_packed_sequence(packed_words, batch_first=True)\n",
    "\n",
    "        # Apply attention weights\n",
    "        sents = sents * att_weights.unsqueeze(2)\n",
    "        sents = sents.sum(dim=1)\n",
    "\n",
    "        # Restore the original order of sentences (undo the first sorting)\n",
    "        _, sent_unperm_idx = sent_perm_idx.sort(dim=0, descending=False)\n",
    "        sents = sents[sent_unperm_idx]\n",
    "\n",
    "        # Restore back the original order\n",
    "        att_weights = att_weights[sent_unperm_idx]\n",
    "\n",
    "        return sents, doc_perm_idx, docs_valid_bsz, att_weights"
   ]
  },
  {
   "cell_type": "code",
   "execution_count": 8,
   "metadata": {},
   "outputs": [],
   "source": [
    "class SentenceAttention(torch.nn.Module):\n",
    "    def __init__(\n",
    "            self,\n",
    "            device: str,\n",
    "            dropout: float,\n",
    "            word_recurrent_size: int,\n",
    "            recurrent_size: int,\n",
    "            attention_dim: int,\n",
    "            lstm:bool=True\n",
    "    ):\n",
    "        \"\"\"\n",
    "        Sentence Embedding and Attention Class (Returns the document embedding which is the concat of sentence embeddings)\n",
    "\n",
    "        Args:\n",
    "            device (str): torch devide to train, eithe cuda:0 or cpu\n",
    "            dropout (float): dropout probability (less than 1)\n",
    "            word_recurrent_size (int): recurrent size for WordAttention Class\n",
    "            recurrent_size (int): recurrent_size/2 will be lstm/gru output size \n",
    "            attention_dim (int): attention dimension\n",
    "            lstm (bool, optional): boolean to use LSTM as encoder, if False, GRU will be used instead. Defaults to True\n",
    "        \"\"\"\n",
    "        super().__init__()\n",
    "        self._device = device\n",
    "        self.word_recurrent_size = word_recurrent_size\n",
    "        self.recurrent_size = recurrent_size\n",
    "        self.dropout = dropout\n",
    "        self.attention_dim = attention_dim\n",
    "            \n",
    "        assert self.recurrent_size % 2 == 0 #Bidirection\n",
    "\n",
    "        # Sentence Encoder, using LSTM or GRU according to lstm\n",
    "        self.encoder = torch.nn.LSTM(\n",
    "            input_size=self.word_recurrent_size,\n",
    "            hidden_size=self.recurrent_size // 2,\n",
    "            dropout=self.dropout,\n",
    "            bidirectional=True,\n",
    "            batch_first=True,\n",
    "        ) if lstm else torch.nn.GRU(\n",
    "            input_size=self.word_recurrent_size,\n",
    "            hidden_size=self.recurrent_size // 2,\n",
    "            dropout=self.dropout,\n",
    "            bidirectional=True,\n",
    "            batch_first=True,\n",
    "        )\n",
    "\n",
    "        self.dropout = torch.nn.Dropout(dropout)\n",
    "\n",
    "        # Maps Encoder output to `attention_dim` sized tensor\n",
    "        self.sentence_weight = torch.nn.Linear(self.recurrent_size, self.attention_dim)\n",
    "\n",
    "        # Word context vector (u_w) to take dot-product with\n",
    "        self.sentence_context_weight = torch.nn.Linear(self.attention_dim, 1)\n",
    "\n",
    "\n",
    "    def forward(self, sent_embeddings, doc_perm_idx, doc_valid_bsz, word_att_weights):\n",
    "        \"\"\"\n",
    "        Args:\n",
    "            sent_embeddings: Sentence embeddings from WordAttention of size (batch_size * padded_doc_length, sentence recurrent dim)\n",
    "            doc_perm_idx: Document Permutation Index of each document, of size (batch_size)\n",
    "            doc_valid_bsz: Batch Size\n",
    "            word_att_weights: Word attention weights from WordAttention Class of size (batch_size * padded_doc_length, max_sent_len)\n",
    "        Returns:\n",
    "            docs embeddings, word attention weights, sentence attention weights\n",
    "        \"\"\"\n",
    "        # Apply dropout to sentence embedding from Word Attention class\n",
    "        sent_embeddings = self.dropout(sent_embeddings)\n",
    "\n",
    "        # Sentence-level LSTM/GRU over sentence embeddings\n",
    "        packed_sentences, _ = self.encoder(PackedSequence(sent_embeddings, doc_valid_bsz))\n",
    "\n",
    "        # Calculate sentence attention\n",
    "        u_i = torch.tanh(self.sentence_weight(packed_sentences.data))\n",
    "        u_w = self.sentence_context_weight(u_i).squeeze(1)\n",
    "        val = u_w.max()\n",
    "        att = torch.exp(u_w - val)\n",
    "\n",
    "        # Restore as sentences by repadding\n",
    "        att, _ = pad_packed_sequence(PackedSequence(att, doc_valid_bsz), batch_first=True)\n",
    "\n",
    "        sent_att_weights = att / torch.sum(att, dim=1, keepdim=True)\n",
    "\n",
    "        # Restore as documents by repadding\n",
    "        docs, _ = pad_packed_sequence(packed_sentences, batch_first=True)\n",
    "\n",
    "        # Compute document vectors\n",
    "        docs = docs * sent_att_weights.unsqueeze(2)\n",
    "        docs = docs.sum(dim=1)\n",
    "\n",
    "        # Restore as documents by repadding\n",
    "        word_att_weights, _ = pad_packed_sequence(PackedSequence(word_att_weights, doc_valid_bsz), batch_first=True)\n",
    "\n",
    "        # Restore the original order of documents (undo the first sorting)\n",
    "        _, doc_unperm_idx = doc_perm_idx.sort(dim=0, descending=False)\n",
    "        docs = docs[doc_unperm_idx]\n",
    "\n",
    "        # Restore back the original order\n",
    "        word_att_weights = word_att_weights[doc_unperm_idx]\n",
    "        sent_att_weights = sent_att_weights[doc_unperm_idx]\n",
    "\n",
    "        return docs, word_att_weights, sent_att_weights"
   ]
  },
  {
   "cell_type": "code",
   "execution_count": 9,
   "metadata": {},
   "outputs": [],
   "source": [
    "class HANModel(torch.nn.Module):\n",
    "    def __init__(self, \n",
    "                 device:str, \n",
    "                 vocab:d2l.Vocab,\n",
    "                 final_layer_dim:int, \n",
    "                 num_class:int,\n",
    "                 lstm:bool=True\n",
    "                 ):\n",
    "        \"\"\"\n",
    "        Hierarchical Attention Network Model\n",
    "        Runs WordAttentionModel, followed by SentenceAttentionModel and the final linear layer for classification of the document embeddings. \n",
    "\n",
    "        Args:\n",
    "            device (str): torch devide to train, eithe cuda:0 or cpu\n",
    "            vocab (d2l.Vocab): dataset Vocab class\n",
    "            final_layer_dim (int): classification linear layer dimension\n",
    "            num_class (int): total number of class for final output\n",
    "            lstm (bool, optional): boolean to use LSTM as encoder for WordAttention and SentenceAttention, if False, GRU will be used instead. Defaults to True\n",
    "        \"\"\"\n",
    "        super().__init__()\n",
    "\n",
    "        self.word_attention = WordAttention(\n",
    "            device=device,\n",
    "            dropout=0.2,\n",
    "            vocab_size=len(vocab),\n",
    "            embed_size=100,\n",
    "            recurrent_size=256,\n",
    "            attention_dim=256,\n",
    "            lstm=lstm\n",
    "            )\n",
    "\n",
    "        self.sentence_attention = SentenceAttention(\n",
    "            device=device,\n",
    "            dropout=0.2,\n",
    "            word_recurrent_size=256,\n",
    "            recurrent_size=256,\n",
    "            attention_dim=256,\n",
    "            lstm=lstm\n",
    "        )\n",
    "\n",
    "        self.linear = torch.nn.Linear(self.sentence_attention.recurrent_size, final_layer_dim)\n",
    "        self.fc = torch.nn.Linear(final_layer_dim, num_class)\n",
    "        self.relu = torch.nn.ReLU()\n",
    "\n",
    "\n",
    "    def forward(self, docs, doc_lengths, sent_lengths):\n",
    "        \"\"\"\n",
    "        Args:\n",
    "            docs: Encoded document data of size (batch_size, padded_doc_length, padded_sent_length)\n",
    "            doc_lengths: unpadded document lengths of size (num_docs)\n",
    "            sent_lengths: unpadded sentence lengths of size (num_docs, max_sent_len)\n",
    "        \n",
    "        Returns:\n",
    "            class scores, attention weights of words, attention weights of sentences, loss\n",
    "        \"\"\"\n",
    "\n",
    "        # Retrieve sentence embedding for each sentence by passing it in the word attention model\n",
    "        sent_embeddings, doc_perm_idx, docs_valid_bsz, word_att_weights = self.word_attention(\n",
    "            docs, doc_lengths, sent_lengths\n",
    "        )\n",
    "\n",
    "        # Retrieve document embedding for each document by passing the sentence embeddings in the sentence attention model\n",
    "        doc_embeds, word_att_weights, sentence_att_weights = self.sentence_attention(\n",
    "            sent_embeddings, doc_perm_idx, docs_valid_bsz, word_att_weights\n",
    "        )\n",
    "\n",
    "        # Classify and get class score\n",
    "        doc_scores = self.relu(self.linear(doc_embeds))\n",
    "        scores = self.fc(doc_scores)\n",
    "\n",
    "        outputs = (scores, word_att_weights, sentence_att_weights)\n",
    "\n",
    "        return outputs"
   ]
  },
  {
   "cell_type": "code",
   "execution_count": 10,
   "metadata": {},
   "outputs": [
    {
     "name": "stdout",
     "output_type": "stream",
     "text": [
      "HANModel(\n",
      "  (word_attention): WordAttention(\n",
      "    (embedding): Embedding(49347, 100)\n",
      "    (encoder): LSTM(100, 128, batch_first=True, dropout=0.2, bidirectional=True)\n",
      "    (dropout): Dropout(p=0.2, inplace=False)\n",
      "    (word_weight): Linear(in_features=256, out_features=256, bias=True)\n",
      "    (context_weight): Linear(in_features=256, out_features=1, bias=True)\n",
      "  )\n",
      "  (sentence_attention): SentenceAttention(\n",
      "    (encoder): LSTM(256, 128, batch_first=True, dropout=0.2, bidirectional=True)\n",
      "    (dropout): Dropout(p=0.2, inplace=False)\n",
      "    (sentence_weight): Linear(in_features=256, out_features=256, bias=True)\n",
      "    (sentence_context_weight): Linear(in_features=256, out_features=1, bias=True)\n",
      "  )\n",
      "  (linear): Linear(in_features=256, out_features=50, bias=True)\n",
      "  (fc): Linear(in_features=50, out_features=2, bias=True)\n",
      "  (relu): ReLU()\n",
      ")\n"
     ]
    },
    {
     "name": "stderr",
     "output_type": "stream",
     "text": [
      "c:\\Users\\cheng\\Desktop\\SUTD\\Term_7\\NLP\\Final Project\\myenv\\lib\\site-packages\\torch\\nn\\modules\\rnn.py:83: UserWarning: dropout option adds dropout after all but last recurrent layer, so non-zero dropout expects num_layers greater than 1, but got dropout=0.2 and num_layers=1\n",
      "  warnings.warn(\"dropout option adds dropout after all but last \"\n"
     ]
    }
   ],
   "source": [
    "device = torch.device(\"cuda\" if torch.cuda.is_available() else \"cpu\")\n",
    "lstm_model = HANModel(device=device,\n",
    "                 vocab=train_dataset.vocab,\n",
    "                 final_layer_dim=50,\n",
    "                 num_class=2,\n",
    "                 lstm=True)\n",
    "print(lstm_model)"
   ]
  },
  {
   "cell_type": "code",
   "execution_count": 11,
   "metadata": {},
   "outputs": [
    {
     "name": "stdout",
     "output_type": "stream",
     "text": [
      "HANModel(\n",
      "  (word_attention): WordAttention(\n",
      "    (embedding): Embedding(49347, 100)\n",
      "    (encoder): GRU(100, 128, batch_first=True, dropout=0.2, bidirectional=True)\n",
      "    (dropout): Dropout(p=0.2, inplace=False)\n",
      "    (word_weight): Linear(in_features=256, out_features=256, bias=True)\n",
      "    (context_weight): Linear(in_features=256, out_features=1, bias=True)\n",
      "  )\n",
      "  (sentence_attention): SentenceAttention(\n",
      "    (encoder): GRU(256, 128, batch_first=True, dropout=0.2, bidirectional=True)\n",
      "    (dropout): Dropout(p=0.2, inplace=False)\n",
      "    (sentence_weight): Linear(in_features=256, out_features=256, bias=True)\n",
      "    (sentence_context_weight): Linear(in_features=256, out_features=1, bias=True)\n",
      "  )\n",
      "  (linear): Linear(in_features=256, out_features=50, bias=True)\n",
      "  (fc): Linear(in_features=50, out_features=2, bias=True)\n",
      "  (relu): ReLU()\n",
      ")\n"
     ]
    }
   ],
   "source": [
    "device = torch.device(\"cuda\" if torch.cuda.is_available() else \"cpu\")\n",
    "gru_model = HANModel(device=device,\n",
    "                 vocab=train_dataset.vocab,\n",
    "                 final_layer_dim=50,\n",
    "                 num_class=2,\n",
    "                 lstm=False)\n",
    "print(gru_model)"
   ]
  },
  {
   "cell_type": "markdown",
   "metadata": {},
   "source": [
    "### Training and Evaluation"
   ]
  },
  {
   "cell_type": "code",
   "execution_count": 12,
   "metadata": {},
   "outputs": [],
   "source": [
    "# Replacing embedding with glove_embedding\n",
    "def use_glove_embedding(model:HANModel, vocab:d2l.Vocab):\n",
    "    \"\"\"\n",
    "    Function to embed glove6b.100d word embedding into embedding layer of HANModel (in word_attention)\n",
    "    Args:\n",
    "        model (HANModel): Instance of HANModel class\n",
    "        vocab (d2l.Vocab): Train dataset vocab class\n",
    "\n",
    "    Returns:\n",
    "        model with updated embedding layer\n",
    "    \"\"\"\n",
    "\n",
    "    # Retrieve embedding\n",
    "    glove_embedding = d2l.TokenEmbedding('glove.6b.100d')\n",
    "    embeds = glove_embedding[vocab.idx_to_token]\n",
    "    # Apply embedding and set grad to False to prevent training\n",
    "    model.word_attention.embedding.weight.data.copy_(embeds)\n",
    "    model.word_attention.embedding.weight.requires_grad = False\n",
    "\n",
    "    return model"
   ]
  },
  {
   "cell_type": "code",
   "execution_count": 13,
   "metadata": {},
   "outputs": [],
   "source": [
    "def eval_model(model:HANModel,\n",
    "               test_iter:DataLoader,\n",
    "               device:str,\n",
    "               vocab: d2l.Vocab,\n",
    "               calc_confusion_matrix:bool=False,\n",
    "               download_results:bool=False,\n",
    "               result_path:str=None,\n",
    "               ):\n",
    "    \n",
    "    \"\"\"\n",
    "    Function to evaluate model, returning the Accuracy, Precision, Recall and F1 score\n",
    "\n",
    "    Args:\n",
    "        model (HANModel): Instance of model\n",
    "        test_iter (DataLoader): test dataloader\n",
    "        device (str): cpu or cuda\n",
    "        vocab (d2l.Vocab): dataset vocab\n",
    "        calc_confusion_matrix (bool, Optional): Boolean if Precision, Recall and F1 score should also be calculated. Defaults to False.\n",
    "        download_results (bool, Optional): Boolean to save predictions into a csv file. Defaults to False.\n",
    "        result_path (str, Optional): CSV filepath for results\n",
    "    \n",
    "    Returns:\n",
    "        accuracy, recall (None if calc_confusion_matrix == False), precision (None if calc_confusion_matrix == False), f1 (None if calc_confusion_matrix == False)\n",
    "    \"\"\"\n",
    "    if download_results and result_path == None and '.csv' not in result_path:\n",
    "        raise Exception(\"Invalid result filepath\")\n",
    "\n",
    "    prediction_list = []\n",
    "    actual_list = []\n",
    "\n",
    "    # For donwload results\n",
    "    sentence_list = []\n",
    "    predicted_labels = []\n",
    "    actual_labels = []\n",
    "\n",
    "    recall, precision, f1 = None, None, None\n",
    "\n",
    "    # Setup model eval to prevent training\n",
    "    model.eval()\n",
    "    for idx, (doc, label, num_sents, num_words) in tqdm(enumerate(test_iter), total=len(test_iter)):\n",
    "        # Append actual scores\n",
    "        actual_list.append(label.numpy())\n",
    "        doc, label, num_sents, num_words = doc.to(device), label.to(device), num_sents.to(device), num_words.to(device)\n",
    "        scores, word_att_weights, sentence_att_weights = model(doc, num_sents, num_words)\n",
    "        # Append predicted scores\n",
    "        _, predicted = torch.max(scores, dim=1)\n",
    "        prediction_list.append(predicted.cpu().numpy())\n",
    "\n",
    "        # Append results\n",
    "        if download_results:\n",
    "            # Sentence\n",
    "            for sent in doc.cpu().numpy():\n",
    "                pad_index = vocab.token_to_idx[\"<pad>\"]\n",
    "                # Convert list of sentences into a single sentence\n",
    "                flattened_sent = sent.flatten().tolist()\n",
    "                # Extract pad tokens\n",
    "                cleaned_sents = [token for token in flattened_sent if token != pad_index]\n",
    "                word_tokens = vocab.to_tokens(cleaned_sents)\n",
    "                sentence_list.append(\" \".join(word_tokens))\n",
    "            # Labels\n",
    "            predicted_labels.extend([\"negative\" if pred == 0 else \"positive\" for pred in predicted.cpu().numpy()])\n",
    "            actual_labels.extend([\"negative\" if pred == 0 else \"positive\" for pred in label.cpu().numpy()])\n",
    "\n",
    "\n",
    "    # Flatten the lists into arrays\n",
    "    actual_list = np.concatenate(actual_list)\n",
    "    prediction_list = np.concatenate(prediction_list)\n",
    "\n",
    "    # Calculate accuracy\n",
    "    accuracy = accuracy_score(actual_list, prediction_list)\n",
    "\n",
    "    # Calculate other metrics\n",
    "    if calc_confusion_matrix:\n",
    "        recall = recall_score(actual_list, prediction_list)\n",
    "        precision = precision_score(actual_list, prediction_list)\n",
    "        f1 = f1_score(actual_list, prediction_list)\n",
    "\n",
    "    # Download results\n",
    "    if download_results:\n",
    "        data = pd.DataFrame({\n",
    "            'Sentence': sentence_list,\n",
    "            'Actual': actual_labels,\n",
    "            \"Predicted\": predicted_labels\n",
    "        })\n",
    "\n",
    "        data.to_csv(result_path, index=False)\n",
    "        \n",
    "    return accuracy, recall, precision, f1"
   ]
  },
  {
   "cell_type": "code",
   "execution_count": 14,
   "metadata": {},
   "outputs": [],
   "source": [
    "def train_model(model:HANModel, \n",
    "                train_iter:DataLoader, \n",
    "                test_iter:DataLoader, \n",
    "                vocab: d2l.Vocab,\n",
    "                num_epochs:int, \n",
    "                criterion, \n",
    "                optimiser, \n",
    "                lr_scheduler, \n",
    "                clip_grad:int, \n",
    "                device:str,\n",
    "                show_training_graph:bool,\n",
    "                best_model_path:str, \n",
    "                final_model_path:str):\n",
    "    \n",
    "    \"\"\"\n",
    "    Function to train and evaluate model\n",
    "    The model will train on the train_iter, be evaluated on test_iter\n",
    "    Best model with highest accuracy on test_iter will be saved in best_model_path\n",
    "    Final model after last epoch will be saved in final_model_path\n",
    "\n",
    "    Args:\n",
    "        model (HANModel): model to be trained\n",
    "        train_iter (DataLoader): train dataset\n",
    "        test_iter (DataLoader): test dataset\n",
    "        vocab (d2l.Vocab): dataset vocab\n",
    "        num_epochs (int): Number of epochs to train\n",
    "        criterion: criterion (loss) function\n",
    "        optimiser: optimiser\n",
    "        lr_scheduler: learning rate scheduler, else None\n",
    "        clip_grad (int): maximum gradient, to prevent exploding gradient problem\n",
    "        device (str): cpu or cuda\n",
    "        show_training_graph (bool): boolean to show the training loss, training acc and test acc graph across epochs\n",
    "        best_model_path (str): path to best model\n",
    "        final_model_path (str): path to model aft final epoch training\n",
    "    \"\"\"\n",
    "    train_loss_container = []\n",
    "    train_acc_container = []\n",
    "    test_acc_container = []\n",
    "\n",
    "    best_test_acc = 0\n",
    "\n",
    "    for epoch in range(num_epochs):\n",
    "        total_train_loss = 0\n",
    "        total_train_correct = 0\n",
    "        total_train_samples = 0\n",
    "\n",
    "        # Setup training \n",
    "        model.train()\n",
    "        model.to(device)\n",
    "\n",
    "        for idx, (doc, label, num_sents, num_words) in tqdm(enumerate(train_iter), total=len(train_iter)):\n",
    "            doc, label, num_sents, num_words = doc.to(device), label.to(device), num_sents.to(device), num_words.to(device)\n",
    "\n",
    "            # Get predictions and loss\n",
    "            scores, word_att_weights, sentence_att_weights = model(doc, num_sents, num_words)\n",
    "            loss = criterion(scores, label)\n",
    "            total_train_loss += loss.item()\n",
    "\n",
    "            # Train\n",
    "            optimiser.zero_grad()\n",
    "            loss.backward()\n",
    "            if clip_grad:\n",
    "                torch.nn.utils.clip_grad_norm_(model.parameters(), clip_grad) # Clip gradient to prevent exploding gradient\n",
    "            optimiser.step()\n",
    "            if lr_scheduler:\n",
    "                lr_scheduler.step()\n",
    "\n",
    "            # Count accuracy\n",
    "            _, predicted = torch.max(scores, dim=1)\n",
    "            total_train_correct += (predicted == label).sum().item()\n",
    "            total_train_samples += label.shape[0]\n",
    "\n",
    "        # Evaluation for test\n",
    "        test_acc, _, _, _ = eval_model(model, test_iter, device, vocab)\n",
    "\n",
    "        train_loss_container.append(total_train_loss/len(train_iter)) #total num of batches\n",
    "        train_acc_container.append(total_train_correct/total_train_samples)\n",
    "        test_acc_container.append(test_acc)\n",
    "\n",
    "        if test_acc > best_test_acc:\n",
    "            best_test_acc = test_acc\n",
    "            torch.save(model, best_model_path)\n",
    "            print(f\"Best Model Saved at epoch {epoch+1}\")\n",
    "\n",
    "        print(f\"Epoch {epoch+1} completed, train_loss: {total_train_loss/len(train_iter)}, train_acc: {total_train_correct/total_train_samples}, test_acc: {test_acc}\")\n",
    "\n",
    "    # Save Final model \n",
    "    torch.save(model, final_model_path)\n",
    "\n",
    "    if show_training_graph:\n",
    "        # Graph with matplotlib\n",
    "        # Plot each list\n",
    "        plt.plot(train_loss_container, label='Train Loss', color='blue')\n",
    "        plt.plot(train_acc_container, label='Train Acc', color='green')\n",
    "        plt.plot(test_acc_container, label='Test Acc', color='red')\n",
    "\n",
    "        # Add labels and legend\n",
    "        plt.xlabel(\"Epoch\")\n",
    "        plt.legend()\n",
    "        plt.show()\n"
   ]
  },
  {
   "cell_type": "code",
   "execution_count": 17,
   "metadata": {},
   "outputs": [
    {
     "name": "stderr",
     "output_type": "stream",
     "text": [
      "c:\\Users\\cheng\\Desktop\\SUTD\\Term_7\\NLP\\Final Project\\myenv\\lib\\site-packages\\torch\\nn\\modules\\rnn.py:83: UserWarning: dropout option adds dropout after all but last recurrent layer, so non-zero dropout expects num_layers greater than 1, but got dropout=0.2 and num_layers=1\n",
      "  warnings.warn(\"dropout option adds dropout after all but last \"\n"
     ]
    }
   ],
   "source": [
    "import gc\n",
    "gc.collect()\n",
    "device = torch.device(\"cuda\" if torch.cuda.is_available() else \"cpu\")\n",
    "\n",
    "lstm_model = HANModel(device=device,\n",
    "                 vocab=train_dataset.vocab,\n",
    "                 final_layer_dim=50,\n",
    "                 num_class=2,\n",
    "                 lstm=True)\n",
    "\n",
    "gru_model = HANModel(device=device,\n",
    "                 vocab=train_dataset.vocab,\n",
    "                 final_layer_dim=50,\n",
    "                 num_class=2,\n",
    "                 lstm=False)\n",
    "\n",
    "lstm_model = use_glove_embedding(lstm_model, train_dataset.vocab)\n",
    "gru_model = use_glove_embedding(gru_model, train_dataset.vocab)"
   ]
  },
  {
   "cell_type": "markdown",
   "metadata": {},
   "source": [
    "### LSTM"
   ]
  },
  {
   "cell_type": "code",
   "execution_count": null,
   "metadata": {},
   "outputs": [
    {
     "name": "stderr",
     "output_type": "stream",
     "text": [
      "100%|██████████| 782/782 [01:12<00:00, 10.85it/s]\n",
      "100%|██████████| 782/782 [00:38<00:00, 20.21it/s]\n"
     ]
    },
    {
     "name": "stdout",
     "output_type": "stream",
     "text": [
      "Best Model Saved at epoch 1\n",
      "Epoch 1 completed, train_loss: 0.42551544243874756, train_acc: 0.79976, test_acc: 0.82\n"
     ]
    },
    {
     "name": "stderr",
     "output_type": "stream",
     "text": [
      "100%|██████████| 782/782 [01:11<00:00, 10.93it/s]\n",
      "100%|██████████| 782/782 [00:38<00:00, 20.25it/s]\n"
     ]
    },
    {
     "name": "stdout",
     "output_type": "stream",
     "text": [
      "Best Model Saved at epoch 2\n",
      "Epoch 2 completed, train_loss: 0.34208784513461316, train_acc: 0.85264, test_acc: 0.86848\n"
     ]
    },
    {
     "name": "stderr",
     "output_type": "stream",
     "text": [
      "100%|██████████| 782/782 [01:11<00:00, 10.94it/s]\n",
      "100%|██████████| 782/782 [00:39<00:00, 19.82it/s]\n"
     ]
    },
    {
     "name": "stdout",
     "output_type": "stream",
     "text": [
      "Epoch 3 completed, train_loss: 0.31861173568288687, train_acc: 0.86448, test_acc: 0.86264\n"
     ]
    },
    {
     "name": "stderr",
     "output_type": "stream",
     "text": [
      "100%|██████████| 782/782 [01:11<00:00, 10.90it/s]\n",
      "100%|██████████| 782/782 [00:38<00:00, 20.18it/s]\n"
     ]
    },
    {
     "name": "stdout",
     "output_type": "stream",
     "text": [
      "Best Model Saved at epoch 4\n",
      "Epoch 4 completed, train_loss: 0.30190427455565205, train_acc: 0.87304, test_acc: 0.88324\n"
     ]
    },
    {
     "name": "stderr",
     "output_type": "stream",
     "text": [
      "100%|██████████| 782/782 [01:11<00:00, 10.99it/s]\n",
      "100%|██████████| 782/782 [00:38<00:00, 20.37it/s]\n"
     ]
    },
    {
     "name": "stdout",
     "output_type": "stream",
     "text": [
      "Best Model Saved at epoch 5\n",
      "Epoch 5 completed, train_loss: 0.2877035250749125, train_acc: 0.87872, test_acc: 0.88476\n"
     ]
    },
    {
     "name": "stderr",
     "output_type": "stream",
     "text": [
      "100%|██████████| 782/782 [01:11<00:00, 10.97it/s]\n",
      "100%|██████████| 782/782 [00:38<00:00, 20.15it/s]\n"
     ]
    },
    {
     "name": "stdout",
     "output_type": "stream",
     "text": [
      "Best Model Saved at epoch 6\n",
      "Epoch 6 completed, train_loss: 0.27170283163485626, train_acc: 0.88592, test_acc: 0.8912\n"
     ]
    },
    {
     "name": "stderr",
     "output_type": "stream",
     "text": [
      "100%|██████████| 782/782 [01:11<00:00, 10.93it/s]\n",
      "100%|██████████| 782/782 [00:39<00:00, 19.95it/s]\n"
     ]
    },
    {
     "name": "stdout",
     "output_type": "stream",
     "text": [
      "Best Model Saved at epoch 7\n",
      "Epoch 7 completed, train_loss: 0.25676111033772264, train_acc: 0.8954, test_acc: 0.89416\n"
     ]
    },
    {
     "name": "stderr",
     "output_type": "stream",
     "text": [
      "100%|██████████| 782/782 [01:12<00:00, 10.83it/s]\n",
      "100%|██████████| 782/782 [00:38<00:00, 20.08it/s]\n"
     ]
    },
    {
     "name": "stdout",
     "output_type": "stream",
     "text": [
      "Epoch 8 completed, train_loss: 0.25132979101041697, train_acc: 0.89624, test_acc: 0.89204\n"
     ]
    },
    {
     "name": "stderr",
     "output_type": "stream",
     "text": [
      "100%|██████████| 782/782 [01:12<00:00, 10.83it/s]\n",
      "100%|██████████| 782/782 [00:39<00:00, 19.91it/s]\n"
     ]
    },
    {
     "name": "stdout",
     "output_type": "stream",
     "text": [
      "Epoch 9 completed, train_loss: 0.24084112057438517, train_acc: 0.90336, test_acc: 0.89396\n"
     ]
    },
    {
     "name": "stderr",
     "output_type": "stream",
     "text": [
      "100%|██████████| 782/782 [01:11<00:00, 10.94it/s]\n",
      "100%|██████████| 782/782 [00:37<00:00, 20.67it/s]\n"
     ]
    },
    {
     "name": "stdout",
     "output_type": "stream",
     "text": [
      "Best Model Saved at epoch 10\n",
      "Epoch 10 completed, train_loss: 0.22834335460477626, train_acc: 0.90824, test_acc: 0.89676\n"
     ]
    },
    {
     "name": "stderr",
     "output_type": "stream",
     "text": [
      "100%|██████████| 782/782 [01:09<00:00, 11.22it/s]\n",
      "100%|██████████| 782/782 [00:37<00:00, 20.75it/s]\n"
     ]
    },
    {
     "name": "stdout",
     "output_type": "stream",
     "text": [
      "Best Model Saved at epoch 11\n",
      "Epoch 11 completed, train_loss: 0.2158221222336411, train_acc: 0.91288, test_acc: 0.89928\n"
     ]
    },
    {
     "name": "stderr",
     "output_type": "stream",
     "text": [
      "100%|██████████| 782/782 [01:10<00:00, 11.09it/s]\n",
      "100%|██████████| 782/782 [00:38<00:00, 20.39it/s]\n"
     ]
    },
    {
     "name": "stdout",
     "output_type": "stream",
     "text": [
      "Epoch 12 completed, train_loss: 0.20565969163261336, train_acc: 0.91816, test_acc: 0.89252\n"
     ]
    },
    {
     "name": "stderr",
     "output_type": "stream",
     "text": [
      "100%|██████████| 782/782 [01:11<00:00, 10.90it/s]\n",
      "100%|██████████| 782/782 [00:39<00:00, 19.97it/s]\n"
     ]
    },
    {
     "name": "stdout",
     "output_type": "stream",
     "text": [
      "Best Model Saved at epoch 13\n",
      "Epoch 13 completed, train_loss: 0.19518022806457508, train_acc: 0.9224, test_acc: 0.89992\n"
     ]
    },
    {
     "name": "stderr",
     "output_type": "stream",
     "text": [
      "100%|██████████| 782/782 [01:11<00:00, 10.88it/s]\n",
      "100%|██████████| 782/782 [00:39<00:00, 19.74it/s]\n"
     ]
    },
    {
     "name": "stdout",
     "output_type": "stream",
     "text": [
      "Epoch 14 completed, train_loss: 0.18426312249191962, train_acc: 0.92796, test_acc: 0.89772\n"
     ]
    },
    {
     "name": "stderr",
     "output_type": "stream",
     "text": [
      "100%|██████████| 782/782 [01:11<00:00, 10.89it/s]\n",
      "100%|██████████| 782/782 [00:38<00:00, 20.15it/s]\n"
     ]
    },
    {
     "name": "stdout",
     "output_type": "stream",
     "text": [
      "Best Model Saved at epoch 15\n",
      "Epoch 15 completed, train_loss: 0.17757519114228998, train_acc: 0.9282, test_acc: 0.90164\n"
     ]
    },
    {
     "name": "stderr",
     "output_type": "stream",
     "text": [
      "100%|██████████| 782/782 [01:10<00:00, 11.11it/s]\n",
      "100%|██████████| 782/782 [00:38<00:00, 20.52it/s]\n"
     ]
    },
    {
     "name": "stdout",
     "output_type": "stream",
     "text": [
      "Epoch 16 completed, train_loss: 0.16783757745157307, train_acc: 0.9338, test_acc: 0.89616\n"
     ]
    },
    {
     "name": "stderr",
     "output_type": "stream",
     "text": [
      "100%|██████████| 782/782 [01:09<00:00, 11.28it/s]\n",
      "100%|██████████| 782/782 [00:37<00:00, 20.59it/s]\n"
     ]
    },
    {
     "name": "stdout",
     "output_type": "stream",
     "text": [
      "Epoch 17 completed, train_loss: 0.16059617106052462, train_acc: 0.93744, test_acc: 0.893\n"
     ]
    },
    {
     "name": "stderr",
     "output_type": "stream",
     "text": [
      "100%|██████████| 782/782 [01:09<00:00, 11.24it/s]\n",
      "100%|██████████| 782/782 [00:38<00:00, 20.42it/s]\n"
     ]
    },
    {
     "name": "stdout",
     "output_type": "stream",
     "text": [
      "Epoch 18 completed, train_loss: 0.15152577449427085, train_acc: 0.94272, test_acc: 0.9012\n"
     ]
    },
    {
     "name": "stderr",
     "output_type": "stream",
     "text": [
      "100%|██████████| 782/782 [01:10<00:00, 11.17it/s]\n",
      "100%|██████████| 782/782 [00:37<00:00, 20.64it/s]\n"
     ]
    },
    {
     "name": "stdout",
     "output_type": "stream",
     "text": [
      "Best Model Saved at epoch 19\n",
      "Epoch 19 completed, train_loss: 0.14052652435310548, train_acc: 0.94588, test_acc: 0.90236\n"
     ]
    },
    {
     "name": "stderr",
     "output_type": "stream",
     "text": [
      "100%|██████████| 782/782 [01:09<00:00, 11.23it/s]\n",
      "100%|██████████| 782/782 [00:37<00:00, 20.75it/s]\n"
     ]
    },
    {
     "name": "stdout",
     "output_type": "stream",
     "text": [
      "Epoch 20 completed, train_loss: 0.13548602736162027, train_acc: 0.94916, test_acc: 0.90196\n"
     ]
    },
    {
     "name": "stderr",
     "output_type": "stream",
     "text": [
      "100%|██████████| 782/782 [01:09<00:00, 11.21it/s]\n",
      "100%|██████████| 782/782 [00:37<00:00, 20.70it/s]\n"
     ]
    },
    {
     "name": "stdout",
     "output_type": "stream",
     "text": [
      "Epoch 21 completed, train_loss: 0.12534497672146486, train_acc: 0.95268, test_acc: 0.8992\n"
     ]
    },
    {
     "name": "stderr",
     "output_type": "stream",
     "text": [
      "100%|██████████| 782/782 [01:09<00:00, 11.20it/s]\n",
      "100%|██████████| 782/782 [00:37<00:00, 20.63it/s]\n"
     ]
    },
    {
     "name": "stdout",
     "output_type": "stream",
     "text": [
      "Epoch 22 completed, train_loss: 0.12484171859505575, train_acc: 0.95312, test_acc: 0.90064\n"
     ]
    },
    {
     "name": "stderr",
     "output_type": "stream",
     "text": [
      "100%|██████████| 782/782 [01:09<00:00, 11.18it/s]\n",
      "100%|██████████| 782/782 [00:37<00:00, 20.66it/s]\n"
     ]
    },
    {
     "name": "stdout",
     "output_type": "stream",
     "text": [
      "Epoch 23 completed, train_loss: 0.11212892082217328, train_acc: 0.95788, test_acc: 0.90216\n"
     ]
    },
    {
     "name": "stderr",
     "output_type": "stream",
     "text": [
      "100%|██████████| 782/782 [01:11<00:00, 10.96it/s]\n",
      "100%|██████████| 782/782 [00:38<00:00, 20.10it/s]\n"
     ]
    },
    {
     "name": "stdout",
     "output_type": "stream",
     "text": [
      "Epoch 24 completed, train_loss: 0.1044302257322742, train_acc: 0.96116, test_acc: 0.90188\n"
     ]
    },
    {
     "name": "stderr",
     "output_type": "stream",
     "text": [
      "100%|██████████| 782/782 [01:11<00:00, 10.92it/s]\n",
      "100%|██████████| 782/782 [00:39<00:00, 19.87it/s]\n"
     ]
    },
    {
     "name": "stdout",
     "output_type": "stream",
     "text": [
      "Epoch 25 completed, train_loss: 0.10250159246844652, train_acc: 0.962, test_acc: 0.8952\n"
     ]
    },
    {
     "data": {
      "image/png": "[encoded data removed]",
      "text/plain": [
       "<Figure size 640x480 with 1 Axes>"
      ]
     },
     "metadata": {},
     "output_type": "display_data"
    }
   ],
   "source": [
    "#256, 24, 32\n",
    "lr, num_epochs = 0.005, 25\n",
    "\n",
    "criterion = torch.nn.CrossEntropyLoss().to(device)\n",
    "optimizer = torch.optim.Adam(lstm_model.parameters(), lr=lr)\n",
    "scheduler = torch.optim.lr_scheduler.LinearLR(optimizer, start_factor=1, end_factor=0.1, total_iters=25)\n",
    "\n",
    "train_model(lstm_model, train_iter, test_iter, train_dataset.vocab, num_epochs, criterion, optimizer, scheduler, 1, device, True, '../models/best_LSTM_256_32_HAN.pt', '../models/final_LSTM_256_32_HAN.pt')"
   ]
  },
  {
   "cell_type": "code",
   "execution_count": null,
   "metadata": {},
   "outputs": [
    {
     "name": "stderr",
     "output_type": "stream",
     "text": [
      "100%|██████████| 391/391 [01:05<00:00,  5.93it/s]\n",
      "100%|██████████| 391/391 [00:35<00:00, 11.05it/s]\n"
     ]
    },
    {
     "name": "stdout",
     "output_type": "stream",
     "text": [
      "Best Model Saved at epoch 1\n",
      "Epoch 1 completed, train_loss: 0.6638665969109596, train_acc: 0.55928, test_acc: 0.7176\n"
     ]
    },
    {
     "name": "stderr",
     "output_type": "stream",
     "text": [
      "100%|██████████| 391/391 [01:07<00:00,  5.82it/s]\n",
      "100%|██████████| 391/391 [00:35<00:00, 11.00it/s]\n"
     ]
    },
    {
     "name": "stdout",
     "output_type": "stream",
     "text": [
      "Best Model Saved at epoch 2\n",
      "Epoch 2 completed, train_loss: 0.4189311152757586, train_acc: 0.81208, test_acc: 0.85392\n"
     ]
    },
    {
     "name": "stderr",
     "output_type": "stream",
     "text": [
      "100%|██████████| 391/391 [01:06<00:00,  5.92it/s]\n",
      "100%|██████████| 391/391 [00:36<00:00, 10.77it/s]\n"
     ]
    },
    {
     "name": "stdout",
     "output_type": "stream",
     "text": [
      "Best Model Saved at epoch 3\n",
      "Epoch 3 completed, train_loss: 0.35229103694029174, train_acc: 0.84768, test_acc: 0.86584\n"
     ]
    },
    {
     "name": "stderr",
     "output_type": "stream",
     "text": [
      "100%|██████████| 391/391 [01:05<00:00,  5.94it/s]\n",
      "100%|██████████| 391/391 [00:35<00:00, 11.03it/s]\n"
     ]
    },
    {
     "name": "stdout",
     "output_type": "stream",
     "text": [
      "Best Model Saved at epoch 4\n",
      "Epoch 4 completed, train_loss: 0.31732241900833064, train_acc: 0.86548, test_acc: 0.87592\n"
     ]
    },
    {
     "name": "stderr",
     "output_type": "stream",
     "text": [
      "100%|██████████| 391/391 [01:05<00:00,  5.94it/s]\n",
      "100%|██████████| 391/391 [00:34<00:00, 11.22it/s]\n"
     ]
    },
    {
     "name": "stdout",
     "output_type": "stream",
     "text": [
      "Best Model Saved at epoch 5\n",
      "Epoch 5 completed, train_loss: 0.30228004385443297, train_acc: 0.8706, test_acc: 0.8824\n"
     ]
    },
    {
     "name": "stderr",
     "output_type": "stream",
     "text": [
      "100%|██████████| 391/391 [01:05<00:00,  5.95it/s]\n",
      "100%|██████████| 391/391 [00:34<00:00, 11.17it/s]\n"
     ]
    },
    {
     "name": "stdout",
     "output_type": "stream",
     "text": [
      "Epoch 6 completed, train_loss: 0.2916753530083105, train_acc: 0.87588, test_acc: 0.88224\n"
     ]
    },
    {
     "name": "stderr",
     "output_type": "stream",
     "text": [
      "100%|██████████| 391/391 [01:07<00:00,  5.81it/s]\n",
      "100%|██████████| 391/391 [00:37<00:00, 10.46it/s]\n"
     ]
    },
    {
     "name": "stdout",
     "output_type": "stream",
     "text": [
      "Best Model Saved at epoch 7\n",
      "Epoch 7 completed, train_loss: 0.2797872643260395, train_acc: 0.8814, test_acc: 0.88836\n"
     ]
    },
    {
     "name": "stderr",
     "output_type": "stream",
     "text": [
      "100%|██████████| 391/391 [01:04<00:00,  6.10it/s]\n",
      "100%|██████████| 391/391 [00:34<00:00, 11.33it/s]\n"
     ]
    },
    {
     "name": "stdout",
     "output_type": "stream",
     "text": [
      "Epoch 8 completed, train_loss: 0.26682791052876836, train_acc: 0.88872, test_acc: 0.87812\n"
     ]
    },
    {
     "name": "stderr",
     "output_type": "stream",
     "text": [
      "100%|██████████| 391/391 [01:05<00:00,  5.96it/s]\n",
      "100%|██████████| 391/391 [00:35<00:00, 10.99it/s]\n"
     ]
    },
    {
     "name": "stdout",
     "output_type": "stream",
     "text": [
      "Best Model Saved at epoch 9\n",
      "Epoch 9 completed, train_loss: 0.25628169734612144, train_acc: 0.89348, test_acc: 0.89296\n"
     ]
    },
    {
     "name": "stderr",
     "output_type": "stream",
     "text": [
      "100%|██████████| 391/391 [01:05<00:00,  6.01it/s]\n",
      "100%|██████████| 391/391 [00:34<00:00, 11.18it/s]\n"
     ]
    },
    {
     "name": "stdout",
     "output_type": "stream",
     "text": [
      "Epoch 10 completed, train_loss: 0.24803590162864428, train_acc: 0.89628, test_acc: 0.88924\n"
     ]
    },
    {
     "name": "stderr",
     "output_type": "stream",
     "text": [
      "100%|██████████| 391/391 [01:03<00:00,  6.20it/s]\n",
      "100%|██████████| 391/391 [00:33<00:00, 11.74it/s]\n"
     ]
    },
    {
     "name": "stdout",
     "output_type": "stream",
     "text": [
      "Best Model Saved at epoch 11\n",
      "Epoch 11 completed, train_loss: 0.24051126378500248, train_acc: 0.90072, test_acc: 0.89648\n"
     ]
    },
    {
     "name": "stderr",
     "output_type": "stream",
     "text": [
      "100%|██████████| 391/391 [01:03<00:00,  6.16it/s]\n",
      "100%|██████████| 391/391 [00:33<00:00, 11.52it/s]\n"
     ]
    },
    {
     "name": "stdout",
     "output_type": "stream",
     "text": [
      "Best Model Saved at epoch 12\n",
      "Epoch 12 completed, train_loss: 0.22935409626692457, train_acc: 0.90528, test_acc: 0.89692\n"
     ]
    },
    {
     "name": "stderr",
     "output_type": "stream",
     "text": [
      "100%|██████████| 391/391 [01:04<00:00,  6.09it/s]\n",
      "100%|██████████| 391/391 [00:34<00:00, 11.28it/s]\n"
     ]
    },
    {
     "name": "stdout",
     "output_type": "stream",
     "text": [
      "Epoch 13 completed, train_loss: 0.22382926216820623, train_acc: 0.90836, test_acc: 0.89616\n"
     ]
    },
    {
     "name": "stderr",
     "output_type": "stream",
     "text": [
      "100%|██████████| 391/391 [01:03<00:00,  6.12it/s]\n",
      "100%|██████████| 391/391 [00:33<00:00, 11.52it/s]\n"
     ]
    },
    {
     "name": "stdout",
     "output_type": "stream",
     "text": [
      "Epoch 14 completed, train_loss: 0.21162812394635452, train_acc: 0.91516, test_acc: 0.8806\n"
     ]
    },
    {
     "name": "stderr",
     "output_type": "stream",
     "text": [
      "100%|██████████| 391/391 [01:02<00:00,  6.21it/s]\n",
      "100%|██████████| 391/391 [00:33<00:00, 11.74it/s]\n"
     ]
    },
    {
     "name": "stdout",
     "output_type": "stream",
     "text": [
      "Best Model Saved at epoch 15\n",
      "Epoch 15 completed, train_loss: 0.2026471913318195, train_acc: 0.91868, test_acc: 0.89772\n"
     ]
    },
    {
     "name": "stderr",
     "output_type": "stream",
     "text": [
      "100%|██████████| 391/391 [01:04<00:00,  6.05it/s]\n",
      "100%|██████████| 391/391 [00:35<00:00, 11.06it/s]\n"
     ]
    },
    {
     "name": "stdout",
     "output_type": "stream",
     "text": [
      "Best Model Saved at epoch 16\n",
      "Epoch 16 completed, train_loss: 0.19353640979856176, train_acc: 0.92196, test_acc: 0.89848\n"
     ]
    },
    {
     "name": "stderr",
     "output_type": "stream",
     "text": [
      "100%|██████████| 391/391 [01:04<00:00,  6.06it/s]\n",
      "100%|██████████| 391/391 [00:33<00:00, 11.59it/s]\n"
     ]
    },
    {
     "name": "stdout",
     "output_type": "stream",
     "text": [
      "Best Model Saved at epoch 17\n",
      "Epoch 17 completed, train_loss: 0.18492775232247685, train_acc: 0.92516, test_acc: 0.90056\n"
     ]
    },
    {
     "name": "stderr",
     "output_type": "stream",
     "text": [
      "100%|██████████| 391/391 [01:04<00:00,  6.09it/s]\n",
      "100%|██████████| 391/391 [00:33<00:00, 11.68it/s]\n"
     ]
    },
    {
     "name": "stdout",
     "output_type": "stream",
     "text": [
      "Epoch 18 completed, train_loss: 0.1808618502429379, train_acc: 0.92788, test_acc: 0.88932\n"
     ]
    },
    {
     "name": "stderr",
     "output_type": "stream",
     "text": [
      "100%|██████████| 391/391 [01:03<00:00,  6.12it/s]\n",
      "100%|██████████| 391/391 [00:33<00:00, 11.85it/s]\n"
     ]
    },
    {
     "name": "stdout",
     "output_type": "stream",
     "text": [
      "Epoch 19 completed, train_loss: 0.17080995286136028, train_acc: 0.9332, test_acc: 0.8898\n"
     ]
    },
    {
     "name": "stderr",
     "output_type": "stream",
     "text": [
      "100%|██████████| 391/391 [01:04<00:00,  6.04it/s]\n",
      "100%|██████████| 391/391 [00:33<00:00, 11.69it/s]\n"
     ]
    },
    {
     "name": "stdout",
     "output_type": "stream",
     "text": [
      "Epoch 20 completed, train_loss: 0.16243025074567635, train_acc: 0.93516, test_acc: 0.89572\n"
     ]
    },
    {
     "name": "stderr",
     "output_type": "stream",
     "text": [
      "100%|██████████| 391/391 [01:03<00:00,  6.16it/s]\n",
      "100%|██████████| 391/391 [00:33<00:00, 11.76it/s]\n"
     ]
    },
    {
     "name": "stdout",
     "output_type": "stream",
     "text": [
      "Best Model Saved at epoch 21\n",
      "Epoch 21 completed, train_loss: 0.15592902131816921, train_acc: 0.93864, test_acc: 0.90276\n"
     ]
    },
    {
     "name": "stderr",
     "output_type": "stream",
     "text": [
      "100%|██████████| 391/391 [01:03<00:00,  6.17it/s]\n",
      "100%|██████████| 391/391 [00:32<00:00, 11.85it/s]\n"
     ]
    },
    {
     "name": "stdout",
     "output_type": "stream",
     "text": [
      "Epoch 22 completed, train_loss: 0.14852130734135427, train_acc: 0.94148, test_acc: 0.89844\n"
     ]
    },
    {
     "name": "stderr",
     "output_type": "stream",
     "text": [
      "100%|██████████| 391/391 [01:03<00:00,  6.19it/s]\n",
      "100%|██████████| 391/391 [00:33<00:00, 11.64it/s]\n"
     ]
    },
    {
     "name": "stdout",
     "output_type": "stream",
     "text": [
      "Epoch 23 completed, train_loss: 0.14247743967358414, train_acc: 0.94356, test_acc: 0.89756\n"
     ]
    },
    {
     "name": "stderr",
     "output_type": "stream",
     "text": [
      "100%|██████████| 391/391 [01:03<00:00,  6.15it/s]\n",
      "100%|██████████| 391/391 [00:33<00:00, 11.85it/s]\n"
     ]
    },
    {
     "name": "stdout",
     "output_type": "stream",
     "text": [
      "Epoch 24 completed, train_loss: 0.13725388416891818, train_acc: 0.94568, test_acc: 0.8988\n"
     ]
    },
    {
     "name": "stderr",
     "output_type": "stream",
     "text": [
      "100%|██████████| 391/391 [01:03<00:00,  6.18it/s]\n",
      "100%|██████████| 391/391 [00:33<00:00, 11.68it/s]\n"
     ]
    },
    {
     "name": "stdout",
     "output_type": "stream",
     "text": [
      "Epoch 25 completed, train_loss: 0.1275423544761546, train_acc: 0.94988, test_acc: 0.89928\n"
     ]
    },
    {
     "data": {
      "image/png": "[encoded data removed]",
      "text/plain": [
       "<Figure size 640x480 with 1 Axes>"
      ]
     },
     "metadata": {},
     "output_type": "display_data"
    }
   ],
   "source": [
    "#256, 24, 64\n",
    "lr, num_epochs = 0.005, 25\n",
    "\n",
    "criterion = torch.nn.CrossEntropyLoss().to(device)\n",
    "optimizer = torch.optim.Adam(lstm_model.parameters(), lr=lr)\n",
    "scheduler = torch.optim.lr_scheduler.LinearLR(optimizer, start_factor=1, end_factor=0.1, total_iters=25)\n",
    "\n",
    "train_model(lstm_model, train_iter, test_iter, train_dataset.vocab, num_epochs, criterion, optimizer, scheduler, 1, device, True, '../models/best_LSTM_256_64_HAN.pt', '../models/final_LSTM_256_64_HAN.pt')"
   ]
  },
  {
   "cell_type": "code",
   "execution_count": null,
   "metadata": {},
   "outputs": [
    {
     "name": "stderr",
     "output_type": "stream",
     "text": [
      "100%|██████████| 782/782 [01:13<00:00, 10.71it/s]\n",
      "100%|██████████| 782/782 [00:39<00:00, 19.63it/s]\n"
     ]
    },
    {
     "name": "stdout",
     "output_type": "stream",
     "text": [
      "Best Model Saved at epoch 1\n",
      "Epoch 1 completed, train_loss: 0.4398760174012855, train_acc: 0.79176, test_acc: 0.8514\n"
     ]
    },
    {
     "name": "stderr",
     "output_type": "stream",
     "text": [
      "100%|██████████| 782/782 [01:13<00:00, 10.58it/s]\n",
      "100%|██████████| 782/782 [00:38<00:00, 20.28it/s]\n"
     ]
    },
    {
     "name": "stdout",
     "output_type": "stream",
     "text": [
      "Epoch 2 completed, train_loss: 0.3465458523872716, train_acc: 0.85148, test_acc: 0.84952\n"
     ]
    },
    {
     "name": "stderr",
     "output_type": "stream",
     "text": [
      "100%|██████████| 782/782 [01:13<00:00, 10.71it/s]\n",
      "100%|██████████| 782/782 [00:39<00:00, 19.92it/s]\n"
     ]
    },
    {
     "name": "stdout",
     "output_type": "stream",
     "text": [
      "Best Model Saved at epoch 3\n",
      "Epoch 3 completed, train_loss: 0.31994550524617704, train_acc: 0.8632, test_acc: 0.87516\n"
     ]
    },
    {
     "name": "stderr",
     "output_type": "stream",
     "text": [
      "100%|██████████| 782/782 [01:12<00:00, 10.76it/s]\n",
      "100%|██████████| 782/782 [00:39<00:00, 19.79it/s]\n"
     ]
    },
    {
     "name": "stdout",
     "output_type": "stream",
     "text": [
      "Best Model Saved at epoch 4\n",
      "Epoch 4 completed, train_loss: 0.3025610531820818, train_acc: 0.87084, test_acc: 0.88444\n"
     ]
    },
    {
     "name": "stderr",
     "output_type": "stream",
     "text": [
      "100%|██████████| 782/782 [01:13<00:00, 10.70it/s]\n",
      "100%|██████████| 782/782 [00:39<00:00, 19.73it/s]\n"
     ]
    },
    {
     "name": "stdout",
     "output_type": "stream",
     "text": [
      "Epoch 5 completed, train_loss: 0.2835938271106509, train_acc: 0.87992, test_acc: 0.87224\n"
     ]
    },
    {
     "name": "stderr",
     "output_type": "stream",
     "text": [
      "100%|██████████| 782/782 [01:12<00:00, 10.76it/s]\n",
      "100%|██████████| 782/782 [00:39<00:00, 19.89it/s]\n"
     ]
    },
    {
     "name": "stdout",
     "output_type": "stream",
     "text": [
      "Best Model Saved at epoch 6\n",
      "Epoch 6 completed, train_loss: 0.27113983952595144, train_acc: 0.88612, test_acc: 0.88912\n"
     ]
    },
    {
     "name": "stderr",
     "output_type": "stream",
     "text": [
      "100%|██████████| 782/782 [01:14<00:00, 10.56it/s]\n",
      "100%|██████████| 782/782 [00:39<00:00, 19.82it/s]\n"
     ]
    },
    {
     "name": "stdout",
     "output_type": "stream",
     "text": [
      "Epoch 7 completed, train_loss: 0.25622288278682764, train_acc: 0.89408, test_acc: 0.88904\n"
     ]
    },
    {
     "name": "stderr",
     "output_type": "stream",
     "text": [
      "100%|██████████| 782/782 [01:10<00:00, 11.06it/s]\n",
      "100%|██████████| 782/782 [00:37<00:00, 20.68it/s]\n"
     ]
    },
    {
     "name": "stdout",
     "output_type": "stream",
     "text": [
      "Best Model Saved at epoch 8\n",
      "Epoch 8 completed, train_loss: 0.2453648623631662, train_acc: 0.90084, test_acc: 0.89352\n"
     ]
    },
    {
     "name": "stderr",
     "output_type": "stream",
     "text": [
      "100%|██████████| 782/782 [01:10<00:00, 11.08it/s]\n",
      "100%|██████████| 782/782 [00:37<00:00, 20.74it/s]\n"
     ]
    },
    {
     "name": "stdout",
     "output_type": "stream",
     "text": [
      "Best Model Saved at epoch 9\n",
      "Epoch 9 completed, train_loss: 0.2307693788643612, train_acc: 0.90592, test_acc: 0.8962\n"
     ]
    },
    {
     "name": "stderr",
     "output_type": "stream",
     "text": [
      "100%|██████████| 782/782 [01:10<00:00, 11.07it/s]\n",
      "100%|██████████| 782/782 [00:38<00:00, 20.49it/s]\n"
     ]
    },
    {
     "name": "stdout",
     "output_type": "stream",
     "text": [
      "Epoch 10 completed, train_loss: 0.22329062098622932, train_acc: 0.90876, test_acc: 0.89528\n"
     ]
    },
    {
     "name": "stderr",
     "output_type": "stream",
     "text": [
      "100%|██████████| 782/782 [01:10<00:00, 11.10it/s]\n",
      "100%|██████████| 782/782 [00:38<00:00, 20.44it/s]\n"
     ]
    },
    {
     "name": "stdout",
     "output_type": "stream",
     "text": [
      "Best Model Saved at epoch 11\n",
      "Epoch 11 completed, train_loss: 0.21232951318135346, train_acc: 0.91204, test_acc: 0.89764\n"
     ]
    },
    {
     "name": "stderr",
     "output_type": "stream",
     "text": [
      "100%|██████████| 782/782 [01:10<00:00, 11.12it/s]\n",
      "100%|██████████| 782/782 [00:37<00:00, 20.81it/s]\n"
     ]
    },
    {
     "name": "stdout",
     "output_type": "stream",
     "text": [
      "Epoch 12 completed, train_loss: 0.19587498538843964, train_acc: 0.92152, test_acc: 0.89316\n"
     ]
    },
    {
     "name": "stderr",
     "output_type": "stream",
     "text": [
      "100%|██████████| 782/782 [01:10<00:00, 11.05it/s]\n",
      "100%|██████████| 782/782 [00:37<00:00, 20.78it/s]\n"
     ]
    },
    {
     "name": "stdout",
     "output_type": "stream",
     "text": [
      "Epoch 13 completed, train_loss: 0.18794585779652268, train_acc: 0.92624, test_acc: 0.89732\n"
     ]
    },
    {
     "name": "stderr",
     "output_type": "stream",
     "text": [
      "100%|██████████| 782/782 [01:11<00:00, 10.88it/s]\n",
      "100%|██████████| 782/782 [00:37<00:00, 20.63it/s]\n"
     ]
    },
    {
     "name": "stdout",
     "output_type": "stream",
     "text": [
      "Epoch 14 completed, train_loss: 0.180572015915752, train_acc: 0.92784, test_acc: 0.89512\n"
     ]
    },
    {
     "name": "stderr",
     "output_type": "stream",
     "text": [
      "100%|██████████| 782/782 [01:10<00:00, 11.08it/s]\n",
      "100%|██████████| 782/782 [00:38<00:00, 20.54it/s]\n"
     ]
    },
    {
     "name": "stdout",
     "output_type": "stream",
     "text": [
      "Best Model Saved at epoch 15\n",
      "Epoch 15 completed, train_loss: 0.16765226904526734, train_acc: 0.93368, test_acc: 0.89932\n"
     ]
    },
    {
     "name": "stderr",
     "output_type": "stream",
     "text": [
      "100%|██████████| 782/782 [01:11<00:00, 10.96it/s]\n",
      "100%|██████████| 782/782 [00:38<00:00, 20.17it/s]\n"
     ]
    },
    {
     "name": "stdout",
     "output_type": "stream",
     "text": [
      "Epoch 16 completed, train_loss: 0.15779981388808098, train_acc: 0.9378, test_acc: 0.89916\n"
     ]
    },
    {
     "name": "stderr",
     "output_type": "stream",
     "text": [
      "100%|██████████| 782/782 [01:13<00:00, 10.70it/s]\n",
      "100%|██████████| 782/782 [00:38<00:00, 20.12it/s]\n"
     ]
    },
    {
     "name": "stdout",
     "output_type": "stream",
     "text": [
      "Epoch 17 completed, train_loss: 0.15208171600537837, train_acc: 0.94068, test_acc: 0.89184\n"
     ]
    },
    {
     "name": "stderr",
     "output_type": "stream",
     "text": [
      "100%|██████████| 782/782 [01:13<00:00, 10.66it/s]\n",
      "100%|██████████| 782/782 [00:38<00:00, 20.11it/s]\n"
     ]
    },
    {
     "name": "stdout",
     "output_type": "stream",
     "text": [
      "Epoch 18 completed, train_loss: 0.14087323912436053, train_acc: 0.94528, test_acc: 0.89272\n"
     ]
    },
    {
     "name": "stderr",
     "output_type": "stream",
     "text": [
      "100%|██████████| 782/782 [01:11<00:00, 10.98it/s]\n",
      "100%|██████████| 782/782 [00:37<00:00, 20.62it/s]\n"
     ]
    },
    {
     "name": "stdout",
     "output_type": "stream",
     "text": [
      "Best Model Saved at epoch 19\n",
      "Epoch 19 completed, train_loss: 0.13777600035614446, train_acc: 0.94516, test_acc: 0.9002\n"
     ]
    },
    {
     "name": "stderr",
     "output_type": "stream",
     "text": [
      "100%|██████████| 782/782 [01:10<00:00, 11.08it/s]\n",
      "100%|██████████| 782/782 [00:37<00:00, 20.61it/s]\n"
     ]
    },
    {
     "name": "stdout",
     "output_type": "stream",
     "text": [
      "Epoch 20 completed, train_loss: 0.12846205751006695, train_acc: 0.9512, test_acc: 0.89764\n"
     ]
    },
    {
     "name": "stderr",
     "output_type": "stream",
     "text": [
      "100%|██████████| 782/782 [01:10<00:00, 11.08it/s]\n",
      "100%|██████████| 782/782 [00:37<00:00, 20.72it/s]\n"
     ]
    },
    {
     "name": "stdout",
     "output_type": "stream",
     "text": [
      "Epoch 21 completed, train_loss: 0.11828167798459682, train_acc: 0.95484, test_acc: 0.89996\n"
     ]
    },
    {
     "name": "stderr",
     "output_type": "stream",
     "text": [
      "100%|██████████| 782/782 [01:10<00:00, 11.16it/s]\n",
      "100%|██████████| 782/782 [00:39<00:00, 19.63it/s]\n"
     ]
    },
    {
     "name": "stdout",
     "output_type": "stream",
     "text": [
      "Epoch 22 completed, train_loss: 0.11531670392929193, train_acc: 0.95556, test_acc: 0.89764\n"
     ]
    },
    {
     "name": "stderr",
     "output_type": "stream",
     "text": [
      "100%|██████████| 782/782 [01:10<00:00, 11.06it/s]\n",
      "100%|██████████| 782/782 [00:37<00:00, 20.78it/s]\n"
     ]
    },
    {
     "name": "stdout",
     "output_type": "stream",
     "text": [
      "Epoch 23 completed, train_loss: 0.10672413348279836, train_acc: 0.96044, test_acc: 0.89556\n"
     ]
    },
    {
     "name": "stderr",
     "output_type": "stream",
     "text": [
      "100%|██████████| 782/782 [01:10<00:00, 11.12it/s]\n",
      "100%|██████████| 782/782 [00:39<00:00, 19.77it/s]\n"
     ]
    },
    {
     "name": "stdout",
     "output_type": "stream",
     "text": [
      "Epoch 24 completed, train_loss: 0.10804898975014476, train_acc: 0.95948, test_acc: 0.89652\n"
     ]
    },
    {
     "name": "stderr",
     "output_type": "stream",
     "text": [
      "100%|██████████| 782/782 [01:13<00:00, 10.63it/s]\n",
      "100%|██████████| 782/782 [00:38<00:00, 20.08it/s]"
     ]
    },
    {
     "name": "stdout",
     "output_type": "stream",
     "text": [
      "Epoch 25 completed, train_loss: 0.0915496196788962, train_acc: 0.96716, test_acc: 0.89372\n"
     ]
    },
    {
     "name": "stderr",
     "output_type": "stream",
     "text": [
      "\n"
     ]
    },
    {
     "data": {
      "image/png": "[encoded data removed]",
      "text/plain": [
       "<Figure size 640x480 with 1 Axes>"
      ]
     },
     "metadata": {},
     "output_type": "display_data"
    }
   ],
   "source": [
    "#512, 24, 32\n",
    "lr, num_epochs = 0.005, 25\n",
    "\n",
    "criterion = torch.nn.CrossEntropyLoss().to(device)\n",
    "optimizer = torch.optim.Adam(lstm_model.parameters(), lr=lr)\n",
    "scheduler = torch.optim.lr_scheduler.LinearLR(optimizer, start_factor=1, end_factor=0.1, total_iters=25)\n",
    "\n",
    "train_model(lstm_model, train_iter, test_iter, train_dataset.vocab, num_epochs, criterion, optimizer, scheduler, 1, device, True, '../models/best_LSTM_512_32_HAN.pt', '../models/final_LSTM_512_32_HAN.pt')"
   ]
  },
  {
   "cell_type": "code",
   "execution_count": null,
   "metadata": {},
   "outputs": [
    {
     "name": "stderr",
     "output_type": "stream",
     "text": [
      "100%|██████████| 391/391 [01:06<00:00,  5.85it/s]\n",
      "100%|██████████| 391/391 [00:34<00:00, 11.46it/s]\n"
     ]
    },
    {
     "name": "stdout",
     "output_type": "stream",
     "text": [
      "Best Model Saved at epoch 1\n",
      "Epoch 1 completed, train_loss: 0.4714697624182762, train_acc: 0.77064, test_acc: 0.85308\n"
     ]
    },
    {
     "name": "stderr",
     "output_type": "stream",
     "text": [
      "100%|██████████| 391/391 [01:05<00:00,  5.95it/s]\n",
      "100%|██████████| 391/391 [00:32<00:00, 11.89it/s]\n"
     ]
    },
    {
     "name": "stdout",
     "output_type": "stream",
     "text": [
      "Best Model Saved at epoch 2\n",
      "Epoch 2 completed, train_loss: 0.35584160517853547, train_acc: 0.84556, test_acc: 0.86008\n"
     ]
    },
    {
     "name": "stderr",
     "output_type": "stream",
     "text": [
      "100%|██████████| 391/391 [01:05<00:00,  6.01it/s]\n",
      "100%|██████████| 391/391 [00:32<00:00, 11.85it/s]\n"
     ]
    },
    {
     "name": "stdout",
     "output_type": "stream",
     "text": [
      "Best Model Saved at epoch 3\n",
      "Epoch 3 completed, train_loss: 0.3276814226527958, train_acc: 0.85852, test_acc: 0.86016\n"
     ]
    },
    {
     "name": "stderr",
     "output_type": "stream",
     "text": [
      "100%|██████████| 391/391 [01:05<00:00,  5.98it/s]\n",
      "100%|██████████| 391/391 [00:33<00:00, 11.81it/s]\n"
     ]
    },
    {
     "name": "stdout",
     "output_type": "stream",
     "text": [
      "Best Model Saved at epoch 4\n",
      "Epoch 4 completed, train_loss: 0.31012785053619035, train_acc: 0.86828, test_acc: 0.8706\n"
     ]
    },
    {
     "name": "stderr",
     "output_type": "stream",
     "text": [
      "100%|██████████| 391/391 [01:05<00:00,  6.01it/s]\n",
      "100%|██████████| 391/391 [00:33<00:00, 11.82it/s]\n"
     ]
    },
    {
     "name": "stdout",
     "output_type": "stream",
     "text": [
      "Best Model Saved at epoch 5\n",
      "Epoch 5 completed, train_loss: 0.29991719107646164, train_acc: 0.87296, test_acc: 0.88004\n"
     ]
    },
    {
     "name": "stderr",
     "output_type": "stream",
     "text": [
      "100%|██████████| 391/391 [01:04<00:00,  6.02it/s]\n",
      "100%|██████████| 391/391 [00:32<00:00, 11.85it/s]\n"
     ]
    },
    {
     "name": "stdout",
     "output_type": "stream",
     "text": [
      "Best Model Saved at epoch 6\n",
      "Epoch 6 completed, train_loss: 0.2844273407593408, train_acc: 0.87912, test_acc: 0.88636\n"
     ]
    },
    {
     "name": "stderr",
     "output_type": "stream",
     "text": [
      "100%|██████████| 391/391 [01:05<00:00,  6.00it/s]\n",
      "100%|██████████| 391/391 [00:32<00:00, 11.92it/s]\n"
     ]
    },
    {
     "name": "stdout",
     "output_type": "stream",
     "text": [
      "Epoch 7 completed, train_loss: 0.27411724405977733, train_acc: 0.88536, test_acc: 0.87896\n"
     ]
    },
    {
     "name": "stderr",
     "output_type": "stream",
     "text": [
      "100%|██████████| 391/391 [01:05<00:00,  6.01it/s]\n",
      "100%|██████████| 391/391 [00:32<00:00, 11.89it/s]\n"
     ]
    },
    {
     "name": "stdout",
     "output_type": "stream",
     "text": [
      "Best Model Saved at epoch 8\n",
      "Epoch 8 completed, train_loss: 0.2612501497540023, train_acc: 0.89088, test_acc: 0.89156\n"
     ]
    },
    {
     "name": "stderr",
     "output_type": "stream",
     "text": [
      "100%|██████████| 391/391 [01:05<00:00,  6.00it/s]\n",
      "100%|██████████| 391/391 [00:32<00:00, 11.91it/s]\n"
     ]
    },
    {
     "name": "stdout",
     "output_type": "stream",
     "text": [
      "Epoch 9 completed, train_loss: 0.2512460408918083, train_acc: 0.89716, test_acc: 0.89112\n"
     ]
    },
    {
     "name": "stderr",
     "output_type": "stream",
     "text": [
      "100%|██████████| 391/391 [01:04<00:00,  6.02it/s]\n",
      "100%|██████████| 391/391 [00:32<00:00, 11.93it/s]\n"
     ]
    },
    {
     "name": "stdout",
     "output_type": "stream",
     "text": [
      "Epoch 10 completed, train_loss: 0.24499109475051656, train_acc: 0.89872, test_acc: 0.88476\n"
     ]
    },
    {
     "name": "stderr",
     "output_type": "stream",
     "text": [
      "100%|██████████| 391/391 [01:04<00:00,  6.03it/s]\n",
      "100%|██████████| 391/391 [00:33<00:00, 11.75it/s]\n"
     ]
    },
    {
     "name": "stdout",
     "output_type": "stream",
     "text": [
      "Epoch 11 completed, train_loss: 0.23309346673357517, train_acc: 0.90432, test_acc: 0.8746\n"
     ]
    },
    {
     "name": "stderr",
     "output_type": "stream",
     "text": [
      "100%|██████████| 391/391 [01:07<00:00,  5.76it/s]\n",
      "100%|██████████| 391/391 [00:34<00:00, 11.36it/s]\n"
     ]
    },
    {
     "name": "stdout",
     "output_type": "stream",
     "text": [
      "Best Model Saved at epoch 12\n",
      "Epoch 12 completed, train_loss: 0.22210269589024736, train_acc: 0.90856, test_acc: 0.8944\n"
     ]
    },
    {
     "name": "stderr",
     "output_type": "stream",
     "text": [
      "100%|██████████| 391/391 [01:07<00:00,  5.77it/s]\n",
      "100%|██████████| 391/391 [00:33<00:00, 11.73it/s]\n"
     ]
    },
    {
     "name": "stdout",
     "output_type": "stream",
     "text": [
      "Epoch 13 completed, train_loss: 0.21620263357449065, train_acc: 0.91112, test_acc: 0.89392\n"
     ]
    },
    {
     "name": "stderr",
     "output_type": "stream",
     "text": [
      "100%|██████████| 391/391 [01:06<00:00,  5.91it/s]\n",
      "100%|██████████| 391/391 [00:33<00:00, 11.58it/s]\n"
     ]
    },
    {
     "name": "stdout",
     "output_type": "stream",
     "text": [
      "Best Model Saved at epoch 14\n",
      "Epoch 14 completed, train_loss: 0.20572797957893527, train_acc: 0.91528, test_acc: 0.89816\n"
     ]
    },
    {
     "name": "stderr",
     "output_type": "stream",
     "text": [
      "100%|██████████| 391/391 [01:07<00:00,  5.76it/s]\n",
      "100%|██████████| 391/391 [00:34<00:00, 11.39it/s]\n"
     ]
    },
    {
     "name": "stdout",
     "output_type": "stream",
     "text": [
      "Best Model Saved at epoch 15\n",
      "Epoch 15 completed, train_loss: 0.19672557035141894, train_acc: 0.92008, test_acc: 0.89968\n"
     ]
    },
    {
     "name": "stderr",
     "output_type": "stream",
     "text": [
      "100%|██████████| 391/391 [01:07<00:00,  5.80it/s]\n",
      "100%|██████████| 391/391 [00:33<00:00, 11.74it/s]\n"
     ]
    },
    {
     "name": "stdout",
     "output_type": "stream",
     "text": [
      "Epoch 16 completed, train_loss: 0.18651129151968396, train_acc: 0.92564, test_acc: 0.89956\n"
     ]
    },
    {
     "name": "stderr",
     "output_type": "stream",
     "text": [
      "100%|██████████| 391/391 [01:07<00:00,  5.80it/s]\n",
      "100%|██████████| 391/391 [00:35<00:00, 11.13it/s]\n"
     ]
    },
    {
     "name": "stdout",
     "output_type": "stream",
     "text": [
      "Epoch 17 completed, train_loss: 0.18291191718614924, train_acc: 0.92624, test_acc: 0.89556\n"
     ]
    },
    {
     "name": "stderr",
     "output_type": "stream",
     "text": [
      "100%|██████████| 391/391 [01:08<00:00,  5.69it/s]\n",
      "100%|██████████| 391/391 [00:35<00:00, 11.01it/s]\n"
     ]
    },
    {
     "name": "stdout",
     "output_type": "stream",
     "text": [
      "Best Model Saved at epoch 18\n",
      "Epoch 18 completed, train_loss: 0.17422605892333687, train_acc: 0.93256, test_acc: 0.90308\n"
     ]
    },
    {
     "name": "stderr",
     "output_type": "stream",
     "text": [
      "100%|██████████| 391/391 [01:08<00:00,  5.71it/s]\n",
      "100%|██████████| 391/391 [00:35<00:00, 10.90it/s]\n"
     ]
    },
    {
     "name": "stdout",
     "output_type": "stream",
     "text": [
      "Epoch 19 completed, train_loss: 0.1651252620207989, train_acc: 0.9352, test_acc: 0.89112\n"
     ]
    },
    {
     "name": "stderr",
     "output_type": "stream",
     "text": [
      "100%|██████████| 391/391 [01:08<00:00,  5.70it/s]\n",
      "100%|██████████| 391/391 [00:34<00:00, 11.25it/s]\n"
     ]
    },
    {
     "name": "stdout",
     "output_type": "stream",
     "text": [
      "Epoch 20 completed, train_loss: 0.15873283228796461, train_acc: 0.93732, test_acc: 0.89368\n"
     ]
    },
    {
     "name": "stderr",
     "output_type": "stream",
     "text": [
      "100%|██████████| 391/391 [01:09<00:00,  5.65it/s]\n",
      "100%|██████████| 391/391 [00:34<00:00, 11.17it/s]\n"
     ]
    },
    {
     "name": "stdout",
     "output_type": "stream",
     "text": [
      "Epoch 21 completed, train_loss: 0.14705702494782255, train_acc: 0.9442, test_acc: 0.89844\n"
     ]
    },
    {
     "name": "stderr",
     "output_type": "stream",
     "text": [
      "100%|██████████| 391/391 [01:08<00:00,  5.72it/s]\n",
      "100%|██████████| 391/391 [00:35<00:00, 11.01it/s]\n"
     ]
    },
    {
     "name": "stdout",
     "output_type": "stream",
     "text": [
      "Epoch 22 completed, train_loss: 0.1439453412580978, train_acc: 0.94308, test_acc: 0.89608\n"
     ]
    },
    {
     "name": "stderr",
     "output_type": "stream",
     "text": [
      "100%|██████████| 391/391 [01:08<00:00,  5.70it/s]\n",
      "100%|██████████| 391/391 [00:35<00:00, 11.08it/s]\n"
     ]
    },
    {
     "name": "stdout",
     "output_type": "stream",
     "text": [
      "Epoch 23 completed, train_loss: 0.13525211554773323, train_acc: 0.94624, test_acc: 0.89328\n"
     ]
    },
    {
     "name": "stderr",
     "output_type": "stream",
     "text": [
      "100%|██████████| 391/391 [01:08<00:00,  5.70it/s]\n",
      "100%|██████████| 391/391 [00:36<00:00, 10.86it/s]\n"
     ]
    },
    {
     "name": "stdout",
     "output_type": "stream",
     "text": [
      "Epoch 24 completed, train_loss: 0.12896863101979197, train_acc: 0.94932, test_acc: 0.89532\n"
     ]
    },
    {
     "name": "stderr",
     "output_type": "stream",
     "text": [
      "100%|██████████| 391/391 [01:09<00:00,  5.64it/s]\n",
      "100%|██████████| 391/391 [00:36<00:00, 10.73it/s]"
     ]
    },
    {
     "name": "stdout",
     "output_type": "stream",
     "text": [
      "Epoch 25 completed, train_loss: 0.12210944011007123, train_acc: 0.95224, test_acc: 0.89808\n"
     ]
    },
    {
     "name": "stderr",
     "output_type": "stream",
     "text": [
      "\n"
     ]
    },
    {
     "data": {
      "image/png": "[encoded data removed]",
      "text/plain": [
       "<Figure size 640x480 with 1 Axes>"
      ]
     },
     "metadata": {},
     "output_type": "display_data"
    }
   ],
   "source": [
    "#512, 24, 64\n",
    "lr, num_epochs = 0.005, 25\n",
    "\n",
    "criterion = torch.nn.CrossEntropyLoss().to(device)\n",
    "optimizer = torch.optim.Adam(lstm_model.parameters(), lr=lr)\n",
    "scheduler = torch.optim.lr_scheduler.LinearLR(optimizer, start_factor=1, end_factor=0.1, total_iters=25)\n",
    "\n",
    "train_model(lstm_model, train_iter, test_iter, train_dataset.vocab, num_epochs, criterion, optimizer, scheduler, 1, device, True, '../models/best_LSTM_512_64_HAN.pt', '../models/final_LSTM_512_64_HAN.pt')"
   ]
  },
  {
   "cell_type": "code",
   "execution_count": 16,
   "metadata": {},
   "outputs": [
    {
     "name": "stderr",
     "output_type": "stream",
     "text": [
      "100%|██████████| 391/391 [01:04<00:00,  6.11it/s]\n",
      "100%|██████████| 391/391 [00:32<00:00, 12.02it/s]\n"
     ]
    },
    {
     "name": "stdout",
     "output_type": "stream",
     "text": [
      "Best Model Saved at epoch 1\n",
      "Epoch 1 completed, train_loss: 0.6115917792862944, train_acc: 0.6606, test_acc: 0.74908\n"
     ]
    },
    {
     "name": "stderr",
     "output_type": "stream",
     "text": [
      "100%|██████████| 391/391 [01:03<00:00,  6.17it/s]\n",
      "100%|██████████| 391/391 [00:32<00:00, 12.03it/s]\n"
     ]
    },
    {
     "name": "stdout",
     "output_type": "stream",
     "text": [
      "Best Model Saved at epoch 2\n",
      "Epoch 2 completed, train_loss: 0.4567228083872734, train_acc: 0.78872, test_acc: 0.81824\n"
     ]
    },
    {
     "name": "stderr",
     "output_type": "stream",
     "text": [
      "100%|██████████| 391/391 [01:02<00:00,  6.21it/s]\n",
      "100%|██████████| 391/391 [00:32<00:00, 12.17it/s]\n"
     ]
    },
    {
     "name": "stdout",
     "output_type": "stream",
     "text": [
      "Best Model Saved at epoch 3\n",
      "Epoch 3 completed, train_loss: 0.4061252652379253, train_acc: 0.81888, test_acc: 0.83504\n"
     ]
    },
    {
     "name": "stderr",
     "output_type": "stream",
     "text": [
      "100%|██████████| 391/391 [01:02<00:00,  6.27it/s]\n",
      "100%|██████████| 391/391 [00:31<00:00, 12.23it/s]\n"
     ]
    },
    {
     "name": "stdout",
     "output_type": "stream",
     "text": [
      "Epoch 4 completed, train_loss: 0.3788360190742156, train_acc: 0.8348, test_acc: 0.83056\n"
     ]
    },
    {
     "name": "stderr",
     "output_type": "stream",
     "text": [
      "100%|██████████| 391/391 [01:02<00:00,  6.24it/s]\n",
      "100%|██████████| 391/391 [00:31<00:00, 12.22it/s]\n"
     ]
    },
    {
     "name": "stdout",
     "output_type": "stream",
     "text": [
      "Best Model Saved at epoch 5\n",
      "Epoch 5 completed, train_loss: 0.36165354513298825, train_acc: 0.84188, test_acc: 0.85628\n"
     ]
    },
    {
     "name": "stderr",
     "output_type": "stream",
     "text": [
      "100%|██████████| 391/391 [01:02<00:00,  6.21it/s]\n",
      "100%|██████████| 391/391 [00:32<00:00, 12.16it/s]\n"
     ]
    },
    {
     "name": "stdout",
     "output_type": "stream",
     "text": [
      "Best Model Saved at epoch 6\n",
      "Epoch 6 completed, train_loss: 0.3482746594321087, train_acc: 0.84936, test_acc: 0.86064\n"
     ]
    },
    {
     "name": "stderr",
     "output_type": "stream",
     "text": [
      "100%|██████████| 391/391 [01:03<00:00,  6.20it/s]\n",
      "100%|██████████| 391/391 [00:32<00:00, 12.08it/s]\n"
     ]
    },
    {
     "name": "stdout",
     "output_type": "stream",
     "text": [
      "Best Model Saved at epoch 7\n",
      "Epoch 7 completed, train_loss: 0.34355371382535266, train_acc: 0.85008, test_acc: 0.8616\n"
     ]
    },
    {
     "name": "stderr",
     "output_type": "stream",
     "text": [
      "100%|██████████| 391/391 [01:02<00:00,  6.21it/s]\n",
      "100%|██████████| 391/391 [00:32<00:00, 12.20it/s]\n"
     ]
    },
    {
     "name": "stdout",
     "output_type": "stream",
     "text": [
      "Best Model Saved at epoch 8\n",
      "Epoch 8 completed, train_loss: 0.3368681902470796, train_acc: 0.85468, test_acc: 0.8674\n"
     ]
    },
    {
     "name": "stderr",
     "output_type": "stream",
     "text": [
      "100%|██████████| 391/391 [01:03<00:00,  6.20it/s]\n",
      "100%|██████████| 391/391 [00:32<00:00, 12.16it/s]\n"
     ]
    },
    {
     "name": "stdout",
     "output_type": "stream",
     "text": [
      "Best Model Saved at epoch 9\n",
      "Epoch 9 completed, train_loss: 0.32859277149752886, train_acc: 0.8586, test_acc: 0.86828\n"
     ]
    },
    {
     "name": "stderr",
     "output_type": "stream",
     "text": [
      "100%|██████████| 391/391 [01:03<00:00,  6.18it/s]\n",
      "100%|██████████| 391/391 [00:32<00:00, 12.12it/s]\n"
     ]
    },
    {
     "name": "stdout",
     "output_type": "stream",
     "text": [
      "Epoch 10 completed, train_loss: 0.32442047083011977, train_acc: 0.86132, test_acc: 0.86504\n"
     ]
    },
    {
     "name": "stderr",
     "output_type": "stream",
     "text": [
      "100%|██████████| 391/391 [01:02<00:00,  6.24it/s]\n",
      "100%|██████████| 391/391 [00:32<00:00, 12.08it/s]\n"
     ]
    },
    {
     "name": "stdout",
     "output_type": "stream",
     "text": [
      "Epoch 11 completed, train_loss: 0.3226648234116757, train_acc: 0.86288, test_acc: 0.8666\n"
     ]
    },
    {
     "name": "stderr",
     "output_type": "stream",
     "text": [
      "100%|██████████| 391/391 [01:02<00:00,  6.26it/s]\n",
      "100%|██████████| 391/391 [00:32<00:00, 12.17it/s]\n"
     ]
    },
    {
     "name": "stdout",
     "output_type": "stream",
     "text": [
      "Epoch 12 completed, train_loss: 0.3204133256774424, train_acc: 0.86256, test_acc: 0.86132\n"
     ]
    },
    {
     "name": "stderr",
     "output_type": "stream",
     "text": [
      "100%|██████████| 391/391 [01:02<00:00,  6.23it/s]\n",
      "100%|██████████| 391/391 [00:32<00:00, 12.09it/s]\n"
     ]
    },
    {
     "name": "stdout",
     "output_type": "stream",
     "text": [
      "Epoch 13 completed, train_loss: 0.309774921259002, train_acc: 0.86648, test_acc: 0.8672\n"
     ]
    },
    {
     "name": "stderr",
     "output_type": "stream",
     "text": [
      "100%|██████████| 391/391 [01:02<00:00,  6.21it/s]\n",
      "100%|██████████| 391/391 [00:31<00:00, 12.24it/s]\n"
     ]
    },
    {
     "name": "stdout",
     "output_type": "stream",
     "text": [
      "Best Model Saved at epoch 14\n",
      "Epoch 14 completed, train_loss: 0.31021344131978273, train_acc: 0.86684, test_acc: 0.87464\n"
     ]
    },
    {
     "name": "stderr",
     "output_type": "stream",
     "text": [
      "100%|██████████| 391/391 [01:02<00:00,  6.23it/s]\n",
      "100%|██████████| 391/391 [00:32<00:00, 12.07it/s]\n"
     ]
    },
    {
     "name": "stdout",
     "output_type": "stream",
     "text": [
      "Epoch 15 completed, train_loss: 0.3045211741534036, train_acc: 0.87132, test_acc: 0.87372\n"
     ]
    },
    {
     "name": "stderr",
     "output_type": "stream",
     "text": [
      "100%|██████████| 391/391 [01:02<00:00,  6.23it/s]\n",
      "100%|██████████| 391/391 [00:32<00:00, 12.19it/s]\n"
     ]
    },
    {
     "name": "stdout",
     "output_type": "stream",
     "text": [
      "Best Model Saved at epoch 16\n",
      "Epoch 16 completed, train_loss: 0.30002220729580314, train_acc: 0.87308, test_acc: 0.87844\n"
     ]
    },
    {
     "name": "stderr",
     "output_type": "stream",
     "text": [
      "100%|██████████| 391/391 [01:03<00:00,  6.19it/s]\n",
      "100%|██████████| 391/391 [00:32<00:00, 12.15it/s]\n"
     ]
    },
    {
     "name": "stdout",
     "output_type": "stream",
     "text": [
      "Best Model Saved at epoch 17\n",
      "Epoch 17 completed, train_loss: 0.2956665889800662, train_acc: 0.87572, test_acc: 0.88144\n"
     ]
    },
    {
     "name": "stderr",
     "output_type": "stream",
     "text": [
      "100%|██████████| 391/391 [01:03<00:00,  6.19it/s]\n",
      "100%|██████████| 391/391 [00:31<00:00, 12.29it/s]\n"
     ]
    },
    {
     "name": "stdout",
     "output_type": "stream",
     "text": [
      "Epoch 18 completed, train_loss: 0.2925694278057884, train_acc: 0.87564, test_acc: 0.86964\n"
     ]
    },
    {
     "name": "stderr",
     "output_type": "stream",
     "text": [
      "100%|██████████| 391/391 [01:03<00:00,  6.20it/s]\n",
      "100%|██████████| 391/391 [00:32<00:00, 12.09it/s]\n"
     ]
    },
    {
     "name": "stdout",
     "output_type": "stream",
     "text": [
      "Epoch 19 completed, train_loss: 0.28961085884467413, train_acc: 0.8764, test_acc: 0.87648\n"
     ]
    },
    {
     "name": "stderr",
     "output_type": "stream",
     "text": [
      "100%|██████████| 391/391 [01:02<00:00,  6.22it/s]\n",
      "100%|██████████| 391/391 [00:32<00:00, 12.20it/s]\n"
     ]
    },
    {
     "name": "stdout",
     "output_type": "stream",
     "text": [
      "Epoch 20 completed, train_loss: 0.28741343353715393, train_acc: 0.8768, test_acc: 0.87704\n"
     ]
    },
    {
     "name": "stderr",
     "output_type": "stream",
     "text": [
      "100%|██████████| 391/391 [01:02<00:00,  6.22it/s]\n",
      "100%|██████████| 391/391 [00:32<00:00, 12.06it/s]\n"
     ]
    },
    {
     "name": "stdout",
     "output_type": "stream",
     "text": [
      "Epoch 21 completed, train_loss: 0.28333967209548294, train_acc: 0.88112, test_acc: 0.8722\n"
     ]
    },
    {
     "name": "stderr",
     "output_type": "stream",
     "text": [
      "100%|██████████| 391/391 [01:03<00:00,  6.20it/s]\n",
      "100%|██████████| 391/391 [00:32<00:00, 12.13it/s]\n"
     ]
    },
    {
     "name": "stdout",
     "output_type": "stream",
     "text": [
      "Best Model Saved at epoch 22\n",
      "Epoch 22 completed, train_loss: 0.2813135391039312, train_acc: 0.88084, test_acc: 0.88484\n"
     ]
    },
    {
     "name": "stderr",
     "output_type": "stream",
     "text": [
      "100%|██████████| 391/391 [01:03<00:00,  6.20it/s]\n",
      "100%|██████████| 391/391 [00:32<00:00, 12.19it/s]\n"
     ]
    },
    {
     "name": "stdout",
     "output_type": "stream",
     "text": [
      "Epoch 23 completed, train_loss: 0.28338095185625584, train_acc: 0.8802, test_acc: 0.88044\n"
     ]
    },
    {
     "name": "stderr",
     "output_type": "stream",
     "text": [
      "100%|██████████| 391/391 [01:03<00:00,  6.20it/s]\n",
      "100%|██████████| 391/391 [00:32<00:00, 12.03it/s]\n"
     ]
    },
    {
     "name": "stdout",
     "output_type": "stream",
     "text": [
      "Epoch 24 completed, train_loss: 0.2745689145668083, train_acc: 0.88312, test_acc: 0.87072\n"
     ]
    },
    {
     "name": "stderr",
     "output_type": "stream",
     "text": [
      "100%|██████████| 391/391 [01:02<00:00,  6.23it/s]\n",
      "100%|██████████| 391/391 [00:32<00:00, 12.17it/s]"
     ]
    },
    {
     "name": "stdout",
     "output_type": "stream",
     "text": [
      "Best Model Saved at epoch 25\n",
      "Epoch 25 completed, train_loss: 0.2752696958649189, train_acc: 0.88328, test_acc: 0.88668\n"
     ]
    },
    {
     "name": "stderr",
     "output_type": "stream",
     "text": [
      "\n"
     ]
    },
    {
     "data": {
      "image/png": "[encoded data removed]",
      "text/plain": [
       "<Figure size 640x480 with 1 Axes>"
      ]
     },
     "metadata": {},
     "output_type": "display_data"
    }
   ],
   "source": [
    "#512, 24, 64\n",
    "lr, num_epochs = 0.001, 25\n",
    "\n",
    "criterion = torch.nn.CrossEntropyLoss().to(device)\n",
    "optimizer = torch.optim.Adam(lstm_model.parameters(), lr=lr)\n",
    "scheduler = torch.optim.lr_scheduler.LinearLR(optimizer, start_factor=1, end_factor=0.1, total_iters=25)\n",
    "\n",
    "train_model(lstm_model, train_iter, test_iter, train_dataset.vocab, num_epochs, criterion, optimizer, scheduler, 1, device, True, '../models/best_LSTM_512_64_1HAN.pt', '../models/final_LSTM_512_64_1HAN.pt')"
   ]
  },
  {
   "cell_type": "code",
   "execution_count": null,
   "metadata": {},
   "outputs": [
    {
     "name": "stderr",
     "output_type": "stream",
     "text": [
      "100%|██████████| 391/391 [01:09<00:00,  5.65it/s]\n",
      "100%|██████████| 391/391 [00:36<00:00, 10.79it/s]\n"
     ]
    },
    {
     "name": "stdout",
     "output_type": "stream",
     "text": [
      "Best Model Saved at epoch 1\n",
      "Epoch 1 completed, train_loss: 0.4389121789304192, train_acc: 0.78864, test_acc: 0.851\n"
     ]
    },
    {
     "name": "stderr",
     "output_type": "stream",
     "text": [
      "100%|██████████| 391/391 [01:12<00:00,  5.41it/s]\n",
      "100%|██████████| 391/391 [00:35<00:00, 10.98it/s]\n"
     ]
    },
    {
     "name": "stdout",
     "output_type": "stream",
     "text": [
      "Best Model Saved at epoch 2\n",
      "Epoch 2 completed, train_loss: 0.34088617439388924, train_acc: 0.85416, test_acc: 0.86516\n"
     ]
    },
    {
     "name": "stderr",
     "output_type": "stream",
     "text": [
      "100%|██████████| 391/391 [01:07<00:00,  5.76it/s]\n",
      "100%|██████████| 391/391 [00:34<00:00, 11.25it/s]\n"
     ]
    },
    {
     "name": "stdout",
     "output_type": "stream",
     "text": [
      "Best Model Saved at epoch 3\n",
      "Epoch 3 completed, train_loss: 0.3102992845084661, train_acc: 0.867, test_acc: 0.88124\n"
     ]
    },
    {
     "name": "stderr",
     "output_type": "stream",
     "text": [
      "100%|██████████| 391/391 [01:08<00:00,  5.68it/s]\n",
      "100%|██████████| 391/391 [00:34<00:00, 11.42it/s]\n"
     ]
    },
    {
     "name": "stdout",
     "output_type": "stream",
     "text": [
      "Best Model Saved at epoch 4\n",
      "Epoch 4 completed, train_loss: 0.2899438277687258, train_acc: 0.87776, test_acc: 0.88656\n"
     ]
    },
    {
     "name": "stderr",
     "output_type": "stream",
     "text": [
      "100%|██████████| 391/391 [01:06<00:00,  5.88it/s]\n",
      "100%|██████████| 391/391 [00:34<00:00, 11.22it/s]\n"
     ]
    },
    {
     "name": "stdout",
     "output_type": "stream",
     "text": [
      "Best Model Saved at epoch 5\n",
      "Epoch 5 completed, train_loss: 0.27425295446077574, train_acc: 0.88408, test_acc: 0.88772\n"
     ]
    },
    {
     "name": "stderr",
     "output_type": "stream",
     "text": [
      "100%|██████████| 391/391 [01:07<00:00,  5.80it/s]\n",
      "100%|██████████| 391/391 [00:34<00:00, 11.45it/s]\n"
     ]
    },
    {
     "name": "stdout",
     "output_type": "stream",
     "text": [
      "Best Model Saved at epoch 6\n",
      "Epoch 6 completed, train_loss: 0.26237064247469766, train_acc: 0.89152, test_acc: 0.89332\n"
     ]
    },
    {
     "name": "stderr",
     "output_type": "stream",
     "text": [
      "100%|██████████| 391/391 [01:06<00:00,  5.84it/s]\n",
      "100%|██████████| 391/391 [00:34<00:00, 11.26it/s]\n"
     ]
    },
    {
     "name": "stdout",
     "output_type": "stream",
     "text": [
      "Epoch 7 completed, train_loss: 0.24467888792686146, train_acc: 0.8992, test_acc: 0.885\n"
     ]
    },
    {
     "name": "stderr",
     "output_type": "stream",
     "text": [
      "100%|██████████| 391/391 [01:07<00:00,  5.77it/s]\n",
      "100%|██████████| 391/391 [00:35<00:00, 10.97it/s]\n"
     ]
    },
    {
     "name": "stdout",
     "output_type": "stream",
     "text": [
      "Best Model Saved at epoch 8\n",
      "Epoch 8 completed, train_loss: 0.22996648353383975, train_acc: 0.90428, test_acc: 0.89716\n"
     ]
    },
    {
     "name": "stderr",
     "output_type": "stream",
     "text": [
      "100%|██████████| 391/391 [01:08<00:00,  5.69it/s]\n",
      "100%|██████████| 391/391 [00:35<00:00, 10.99it/s]\n"
     ]
    },
    {
     "name": "stdout",
     "output_type": "stream",
     "text": [
      "Epoch 9 completed, train_loss: 0.2234337367403233, train_acc: 0.90796, test_acc: 0.89396\n"
     ]
    },
    {
     "name": "stderr",
     "output_type": "stream",
     "text": [
      "100%|██████████| 391/391 [01:08<00:00,  5.71it/s]\n",
      "100%|██████████| 391/391 [00:34<00:00, 11.46it/s]\n"
     ]
    },
    {
     "name": "stdout",
     "output_type": "stream",
     "text": [
      "Epoch 10 completed, train_loss: 0.20947239275478646, train_acc: 0.91588, test_acc: 0.89684\n"
     ]
    },
    {
     "name": "stderr",
     "output_type": "stream",
     "text": [
      "100%|██████████| 391/391 [01:07<00:00,  5.78it/s]\n",
      "100%|██████████| 391/391 [00:33<00:00, 11.52it/s]\n"
     ]
    },
    {
     "name": "stdout",
     "output_type": "stream",
     "text": [
      "Best Model Saved at epoch 11\n",
      "Epoch 11 completed, train_loss: 0.19668751309061294, train_acc: 0.92176, test_acc: 0.9004\n"
     ]
    },
    {
     "name": "stderr",
     "output_type": "stream",
     "text": [
      "100%|██████████| 391/391 [01:08<00:00,  5.74it/s]\n",
      "100%|██████████| 391/391 [00:34<00:00, 11.38it/s]\n"
     ]
    },
    {
     "name": "stdout",
     "output_type": "stream",
     "text": [
      "Epoch 12 completed, train_loss: 0.18490939139557616, train_acc: 0.92644, test_acc: 0.8998\n"
     ]
    },
    {
     "name": "stderr",
     "output_type": "stream",
     "text": [
      "100%|██████████| 391/391 [01:08<00:00,  5.70it/s]\n",
      "100%|██████████| 391/391 [00:34<00:00, 11.41it/s]\n"
     ]
    },
    {
     "name": "stdout",
     "output_type": "stream",
     "text": [
      "Best Model Saved at epoch 13\n",
      "Epoch 13 completed, train_loss: 0.1683642835072849, train_acc: 0.93332, test_acc: 0.901\n"
     ]
    },
    {
     "name": "stderr",
     "output_type": "stream",
     "text": [
      "100%|██████████| 391/391 [01:08<00:00,  5.74it/s]\n",
      "100%|██████████| 391/391 [00:34<00:00, 11.44it/s]\n"
     ]
    },
    {
     "name": "stdout",
     "output_type": "stream",
     "text": [
      "Epoch 14 completed, train_loss: 0.15994623235767455, train_acc: 0.93644, test_acc: 0.8978\n"
     ]
    },
    {
     "name": "stderr",
     "output_type": "stream",
     "text": [
      "100%|██████████| 391/391 [01:09<00:00,  5.65it/s]\n",
      "100%|██████████| 391/391 [00:34<00:00, 11.20it/s]\n"
     ]
    },
    {
     "name": "stdout",
     "output_type": "stream",
     "text": [
      "Epoch 15 completed, train_loss: 0.14723709042724745, train_acc: 0.94148, test_acc: 0.89344\n"
     ]
    },
    {
     "name": "stderr",
     "output_type": "stream",
     "text": [
      "100%|██████████| 391/391 [01:07<00:00,  5.81it/s]\n",
      "100%|██████████| 391/391 [00:34<00:00, 11.43it/s]\n"
     ]
    },
    {
     "name": "stdout",
     "output_type": "stream",
     "text": [
      "Epoch 16 completed, train_loss: 0.13928671211690244, train_acc: 0.94616, test_acc: 0.89872\n"
     ]
    },
    {
     "name": "stderr",
     "output_type": "stream",
     "text": [
      "100%|██████████| 391/391 [01:07<00:00,  5.84it/s]\n",
      "100%|██████████| 391/391 [00:34<00:00, 11.38it/s]\n"
     ]
    },
    {
     "name": "stdout",
     "output_type": "stream",
     "text": [
      "Best Model Saved at epoch 17\n",
      "Epoch 17 completed, train_loss: 0.1291587177301993, train_acc: 0.94944, test_acc: 0.902\n"
     ]
    },
    {
     "name": "stderr",
     "output_type": "stream",
     "text": [
      "100%|██████████| 391/391 [01:07<00:00,  5.79it/s]\n",
      "100%|██████████| 391/391 [00:35<00:00, 11.08it/s]\n"
     ]
    },
    {
     "name": "stdout",
     "output_type": "stream",
     "text": [
      "Epoch 18 completed, train_loss: 0.11765808488725854, train_acc: 0.95476, test_acc: 0.89964\n"
     ]
    },
    {
     "name": "stderr",
     "output_type": "stream",
     "text": [
      "100%|██████████| 391/391 [01:08<00:00,  5.70it/s]\n",
      "100%|██████████| 391/391 [00:35<00:00, 10.91it/s]\n"
     ]
    },
    {
     "name": "stdout",
     "output_type": "stream",
     "text": [
      "Epoch 19 completed, train_loss: 0.11273046275434058, train_acc: 0.95484, test_acc: 0.89728\n"
     ]
    },
    {
     "name": "stderr",
     "output_type": "stream",
     "text": [
      "100%|██████████| 391/391 [01:09<00:00,  5.65it/s]\n",
      "100%|██████████| 391/391 [00:36<00:00, 10.57it/s]\n"
     ]
    },
    {
     "name": "stdout",
     "output_type": "stream",
     "text": [
      "Epoch 20 completed, train_loss: 0.1030416439889985, train_acc: 0.95984, test_acc: 0.89988\n"
     ]
    },
    {
     "name": "stderr",
     "output_type": "stream",
     "text": [
      "100%|██████████| 391/391 [01:08<00:00,  5.69it/s]\n",
      "100%|██████████| 391/391 [00:36<00:00, 10.83it/s]\n"
     ]
    },
    {
     "name": "stdout",
     "output_type": "stream",
     "text": [
      "Epoch 21 completed, train_loss: 0.09593739688082044, train_acc: 0.96252, test_acc: 0.90016\n"
     ]
    },
    {
     "name": "stderr",
     "output_type": "stream",
     "text": [
      "100%|██████████| 391/391 [01:09<00:00,  5.65it/s]\n",
      "100%|██████████| 391/391 [00:36<00:00, 10.82it/s]\n"
     ]
    },
    {
     "name": "stdout",
     "output_type": "stream",
     "text": [
      "Epoch 22 completed, train_loss: 0.08453194578976163, train_acc: 0.96636, test_acc: 0.90048\n"
     ]
    },
    {
     "name": "stderr",
     "output_type": "stream",
     "text": [
      "100%|██████████| 391/391 [01:08<00:00,  5.71it/s]\n",
      "100%|██████████| 391/391 [00:33<00:00, 11.50it/s]\n"
     ]
    },
    {
     "name": "stdout",
     "output_type": "stream",
     "text": [
      "Epoch 23 completed, train_loss: 0.08587235939996246, train_acc: 0.96732, test_acc: 0.8906\n"
     ]
    },
    {
     "name": "stderr",
     "output_type": "stream",
     "text": [
      "100%|██████████| 391/391 [01:08<00:00,  5.70it/s]\n",
      "100%|██████████| 391/391 [00:36<00:00, 10.84it/s]\n"
     ]
    },
    {
     "name": "stdout",
     "output_type": "stream",
     "text": [
      "Epoch 24 completed, train_loss: 0.07588842206532159, train_acc: 0.97064, test_acc: 0.89752\n"
     ]
    },
    {
     "name": "stderr",
     "output_type": "stream",
     "text": [
      "100%|██████████| 391/391 [01:08<00:00,  5.71it/s]\n",
      "100%|██████████| 391/391 [00:34<00:00, 11.42it/s]"
     ]
    },
    {
     "name": "stdout",
     "output_type": "stream",
     "text": [
      "Epoch 25 completed, train_loss: 0.07664122226436043, train_acc: 0.9714, test_acc: 0.89892\n"
     ]
    },
    {
     "name": "stderr",
     "output_type": "stream",
     "text": [
      "\n"
     ]
    },
    {
     "data": {
      "image/png": "[encoded data removed]",
      "text/plain": [
       "<Figure size 640x480 with 1 Axes>"
      ]
     },
     "metadata": {},
     "output_type": "display_data"
    }
   ],
   "source": [
    "#512, 24, 64\n",
    "lr, num_epochs = 0.01, 25\n",
    "\n",
    "criterion = torch.nn.CrossEntropyLoss().to(device)\n",
    "optimizer = torch.optim.Adam(lstm_model.parameters(), lr=lr)\n",
    "scheduler = torch.optim.lr_scheduler.LinearLR(optimizer, start_factor=1, end_factor=0.1, total_iters=25)\n",
    "\n",
    "train_model(lstm_model, train_iter, test_iter, train_dataset.vocab, num_epochs, criterion, optimizer, scheduler, 1, device, True, '../models/best_LSTM_512_64_2HAN.pt', '../models/final_LSTM_512_64_2HAN.pt')"
   ]
  },
  {
   "cell_type": "code",
   "execution_count": 18,
   "metadata": {},
   "outputs": [
    {
     "name": "stderr",
     "output_type": "stream",
     "text": [
      "100%|██████████| 391/391 [01:02<00:00,  6.23it/s]\n",
      "100%|██████████| 391/391 [00:31<00:00, 12.24it/s]\n"
     ]
    },
    {
     "name": "stdout",
     "output_type": "stream",
     "text": [
      "Best Model Saved at epoch 1\n",
      "Epoch 1 completed, train_loss: 0.4154845805424254, train_acc: 0.8042, test_acc: 0.86528\n"
     ]
    },
    {
     "name": "stderr",
     "output_type": "stream",
     "text": [
      "100%|██████████| 391/391 [01:02<00:00,  6.22it/s]\n",
      "100%|██████████| 391/391 [00:32<00:00, 12.20it/s]\n"
     ]
    },
    {
     "name": "stdout",
     "output_type": "stream",
     "text": [
      "Best Model Saved at epoch 2\n",
      "Epoch 2 completed, train_loss: 0.3138207431568209, train_acc: 0.86892, test_acc: 0.88536\n"
     ]
    },
    {
     "name": "stderr",
     "output_type": "stream",
     "text": [
      "100%|██████████| 391/391 [01:02<00:00,  6.22it/s]\n",
      "100%|██████████| 391/391 [00:31<00:00, 12.22it/s]\n"
     ]
    },
    {
     "name": "stdout",
     "output_type": "stream",
     "text": [
      "Best Model Saved at epoch 3\n",
      "Epoch 3 completed, train_loss: 0.28119072859244576, train_acc: 0.8844, test_acc: 0.89116\n"
     ]
    },
    {
     "name": "stderr",
     "output_type": "stream",
     "text": [
      "100%|██████████| 391/391 [01:03<00:00,  6.20it/s]\n",
      "100%|██████████| 391/391 [00:31<00:00, 12.26it/s]\n"
     ]
    },
    {
     "name": "stdout",
     "output_type": "stream",
     "text": [
      "Best Model Saved at epoch 4\n",
      "Epoch 4 completed, train_loss: 0.2531803721547737, train_acc: 0.896, test_acc: 0.8962\n"
     ]
    },
    {
     "name": "stderr",
     "output_type": "stream",
     "text": [
      "100%|██████████| 391/391 [01:02<00:00,  6.25it/s]\n",
      "100%|██████████| 391/391 [00:31<00:00, 12.22it/s]\n"
     ]
    },
    {
     "name": "stdout",
     "output_type": "stream",
     "text": [
      "Best Model Saved at epoch 5\n",
      "Epoch 5 completed, train_loss: 0.24100962220250494, train_acc: 0.90216, test_acc: 0.89828\n"
     ]
    },
    {
     "name": "stderr",
     "output_type": "stream",
     "text": [
      "100%|██████████| 391/391 [01:02<00:00,  6.21it/s]\n",
      "100%|██████████| 391/391 [00:31<00:00, 12.30it/s]\n"
     ]
    },
    {
     "name": "stdout",
     "output_type": "stream",
     "text": [
      "Epoch 6 completed, train_loss: 0.21223790755928934, train_acc: 0.91576, test_acc: 0.89736\n"
     ]
    },
    {
     "name": "stderr",
     "output_type": "stream",
     "text": [
      "100%|██████████| 391/391 [01:02<00:00,  6.23it/s]\n",
      "100%|██████████| 391/391 [00:32<00:00, 12.12it/s]\n"
     ]
    },
    {
     "name": "stdout",
     "output_type": "stream",
     "text": [
      "Best Model Saved at epoch 7\n",
      "Epoch 7 completed, train_loss: 0.20107144171662647, train_acc: 0.91912, test_acc: 0.902\n"
     ]
    },
    {
     "name": "stderr",
     "output_type": "stream",
     "text": [
      "100%|██████████| 391/391 [01:02<00:00,  6.21it/s]\n",
      "100%|██████████| 391/391 [00:31<00:00, 12.30it/s]\n"
     ]
    },
    {
     "name": "stdout",
     "output_type": "stream",
     "text": [
      "Epoch 8 completed, train_loss: 0.19107065090666647, train_acc: 0.92428, test_acc: 0.9008\n"
     ]
    },
    {
     "name": "stderr",
     "output_type": "stream",
     "text": [
      "100%|██████████| 391/391 [01:02<00:00,  6.24it/s]\n",
      "100%|██████████| 391/391 [00:31<00:00, 12.23it/s]\n"
     ]
    },
    {
     "name": "stdout",
     "output_type": "stream",
     "text": [
      "Epoch 9 completed, train_loss: 0.17456510136156436, train_acc: 0.92972, test_acc: 0.90084\n"
     ]
    },
    {
     "name": "stderr",
     "output_type": "stream",
     "text": [
      "100%|██████████| 391/391 [01:02<00:00,  6.22it/s]\n",
      "100%|██████████| 391/391 [00:31<00:00, 12.35it/s]\n"
     ]
    },
    {
     "name": "stdout",
     "output_type": "stream",
     "text": [
      "Epoch 10 completed, train_loss: 0.16201218552029956, train_acc: 0.93504, test_acc: 0.89804\n"
     ]
    },
    {
     "name": "stderr",
     "output_type": "stream",
     "text": [
      "100%|██████████| 391/391 [01:02<00:00,  6.25it/s]\n",
      "100%|██████████| 391/391 [00:31<00:00, 12.25it/s]\n"
     ]
    },
    {
     "name": "stdout",
     "output_type": "stream",
     "text": [
      "Epoch 11 completed, train_loss: 0.1581855412629788, train_acc: 0.93848, test_acc: 0.8984\n"
     ]
    },
    {
     "name": "stderr",
     "output_type": "stream",
     "text": [
      "100%|██████████| 391/391 [01:02<00:00,  6.26it/s]\n",
      "100%|██████████| 391/391 [00:31<00:00, 12.33it/s]\n"
     ]
    },
    {
     "name": "stdout",
     "output_type": "stream",
     "text": [
      "Best Model Saved at epoch 12\n",
      "Epoch 12 completed, train_loss: 0.14506854657607768, train_acc: 0.94328, test_acc: 0.90404\n"
     ]
    },
    {
     "name": "stderr",
     "output_type": "stream",
     "text": [
      "100%|██████████| 391/391 [01:02<00:00,  6.22it/s]\n",
      "100%|██████████| 391/391 [00:31<00:00, 12.34it/s]\n"
     ]
    },
    {
     "name": "stdout",
     "output_type": "stream",
     "text": [
      "Epoch 13 completed, train_loss: 0.1317571920611898, train_acc: 0.94728, test_acc: 0.90016\n"
     ]
    },
    {
     "name": "stderr",
     "output_type": "stream",
     "text": [
      "100%|██████████| 391/391 [01:02<00:00,  6.22it/s]\n",
      "100%|██████████| 391/391 [00:31<00:00, 12.38it/s]\n"
     ]
    },
    {
     "name": "stdout",
     "output_type": "stream",
     "text": [
      "Epoch 14 completed, train_loss: 0.13558327047454427, train_acc: 0.9462, test_acc: 0.89904\n"
     ]
    },
    {
     "name": "stderr",
     "output_type": "stream",
     "text": [
      "100%|██████████| 391/391 [01:02<00:00,  6.22it/s]\n",
      "100%|██████████| 391/391 [00:31<00:00, 12.30it/s]\n"
     ]
    },
    {
     "name": "stdout",
     "output_type": "stream",
     "text": [
      "Epoch 15 completed, train_loss: 0.12599376463771933, train_acc: 0.952, test_acc: 0.89788\n"
     ]
    },
    {
     "name": "stderr",
     "output_type": "stream",
     "text": [
      "100%|██████████| 391/391 [01:02<00:00,  6.24it/s]\n",
      "100%|██████████| 391/391 [00:31<00:00, 12.44it/s]\n"
     ]
    },
    {
     "name": "stdout",
     "output_type": "stream",
     "text": [
      "Epoch 16 completed, train_loss: 0.11905242976687296, train_acc: 0.95376, test_acc: 0.89812\n"
     ]
    },
    {
     "name": "stderr",
     "output_type": "stream",
     "text": [
      "100%|██████████| 391/391 [01:02<00:00,  6.25it/s]\n",
      "100%|██████████| 391/391 [00:31<00:00, 12.28it/s]\n"
     ]
    },
    {
     "name": "stdout",
     "output_type": "stream",
     "text": [
      "Epoch 17 completed, train_loss: 0.11276182024965963, train_acc: 0.95484, test_acc: 0.89776\n"
     ]
    },
    {
     "name": "stderr",
     "output_type": "stream",
     "text": [
      "100%|██████████| 391/391 [01:02<00:00,  6.24it/s]\n",
      "100%|██████████| 391/391 [00:31<00:00, 12.31it/s]\n"
     ]
    },
    {
     "name": "stdout",
     "output_type": "stream",
     "text": [
      "Epoch 18 completed, train_loss: 0.11260172049693591, train_acc: 0.95684, test_acc: 0.89892\n"
     ]
    },
    {
     "name": "stderr",
     "output_type": "stream",
     "text": [
      "100%|██████████| 391/391 [01:02<00:00,  6.27it/s]\n",
      "100%|██████████| 391/391 [00:32<00:00, 12.20it/s]\n"
     ]
    },
    {
     "name": "stdout",
     "output_type": "stream",
     "text": [
      "Epoch 19 completed, train_loss: 0.10652564921418724, train_acc: 0.9586, test_acc: 0.90168\n"
     ]
    },
    {
     "name": "stderr",
     "output_type": "stream",
     "text": [
      "100%|██████████| 391/391 [01:02<00:00,  6.24it/s]\n",
      "100%|██████████| 391/391 [00:31<00:00, 12.35it/s]\n"
     ]
    },
    {
     "name": "stdout",
     "output_type": "stream",
     "text": [
      "Epoch 20 completed, train_loss: 0.10693133522844528, train_acc: 0.95996, test_acc: 0.901\n"
     ]
    },
    {
     "name": "stderr",
     "output_type": "stream",
     "text": [
      "100%|██████████| 391/391 [01:02<00:00,  6.24it/s]\n",
      "100%|██████████| 391/391 [00:31<00:00, 12.30it/s]\n"
     ]
    },
    {
     "name": "stdout",
     "output_type": "stream",
     "text": [
      "Epoch 21 completed, train_loss: 0.10374592737201839, train_acc: 0.959, test_acc: 0.90216\n"
     ]
    },
    {
     "name": "stderr",
     "output_type": "stream",
     "text": [
      "100%|██████████| 391/391 [01:02<00:00,  6.22it/s]\n",
      "100%|██████████| 391/391 [00:31<00:00, 12.29it/s]\n"
     ]
    },
    {
     "name": "stdout",
     "output_type": "stream",
     "text": [
      "Epoch 22 completed, train_loss: 0.09627774610753408, train_acc: 0.96344, test_acc: 0.89796\n"
     ]
    },
    {
     "name": "stderr",
     "output_type": "stream",
     "text": [
      "100%|██████████| 391/391 [01:02<00:00,  6.24it/s]\n",
      "100%|██████████| 391/391 [00:31<00:00, 12.32it/s]\n"
     ]
    },
    {
     "name": "stdout",
     "output_type": "stream",
     "text": [
      "Epoch 23 completed, train_loss: 0.09789175343940325, train_acc: 0.96244, test_acc: 0.9034\n"
     ]
    },
    {
     "name": "stderr",
     "output_type": "stream",
     "text": [
      "100%|██████████| 391/391 [01:02<00:00,  6.25it/s]\n",
      "100%|██████████| 391/391 [00:31<00:00, 12.28it/s]\n"
     ]
    },
    {
     "name": "stdout",
     "output_type": "stream",
     "text": [
      "Epoch 24 completed, train_loss: 0.09542641710118412, train_acc: 0.96356, test_acc: 0.89964\n"
     ]
    },
    {
     "name": "stderr",
     "output_type": "stream",
     "text": [
      "100%|██████████| 391/391 [01:02<00:00,  6.26it/s]\n",
      "100%|██████████| 391/391 [00:31<00:00, 12.34it/s]"
     ]
    },
    {
     "name": "stdout",
     "output_type": "stream",
     "text": [
      "Epoch 25 completed, train_loss: 0.09459388585013273, train_acc: 0.965, test_acc: 0.90032\n"
     ]
    },
    {
     "name": "stderr",
     "output_type": "stream",
     "text": [
      "\n"
     ]
    },
    {
     "data": {
      "image/png": "[encoded data removed]",
      "text/plain": [
       "<Figure size 640x480 with 1 Axes>"
      ]
     },
     "metadata": {},
     "output_type": "display_data"
    }
   ],
   "source": [
    "#512, 24, 64\n",
    "lr, num_epochs = 0.005, 25\n",
    "\n",
    "criterion = torch.nn.CrossEntropyLoss().to(device)\n",
    "optimizer = torch.optim.Adam(lstm_model.parameters(), lr=lr)\n",
    "\n",
    "train_model(lstm_model, train_iter, test_iter, train_dataset.vocab, num_epochs, criterion, optimizer, None, 1, device, True, '../models/best_LSTM_512_64_3HAN.pt', '../models/final_LSTM_512_64_3HAN.pt')"
   ]
  },
  {
   "cell_type": "code",
   "execution_count": null,
   "metadata": {},
   "outputs": [
    {
     "name": "stderr",
     "output_type": "stream",
     "text": [
      "100%|██████████| 196/196 [01:09<00:00,  2.80it/s]\n",
      "100%|██████████| 196/196 [00:33<00:00,  5.91it/s]\n"
     ]
    },
    {
     "name": "stdout",
     "output_type": "stream",
     "text": [
      "Best Model Saved at epoch 1\n",
      "Epoch 1 completed, train_loss: 0.469504821893512, train_acc: 0.77032, test_acc: 0.83708\n"
     ]
    },
    {
     "name": "stderr",
     "output_type": "stream",
     "text": [
      "100%|██████████| 196/196 [01:10<00:00,  2.77it/s]\n",
      "100%|██████████| 196/196 [00:33<00:00,  5.91it/s]\n"
     ]
    },
    {
     "name": "stdout",
     "output_type": "stream",
     "text": [
      "Best Model Saved at epoch 2\n",
      "Epoch 2 completed, train_loss: 0.3617664150589583, train_acc: 0.84192, test_acc: 0.85816\n"
     ]
    },
    {
     "name": "stderr",
     "output_type": "stream",
     "text": [
      "100%|██████████| 196/196 [01:11<00:00,  2.76it/s]\n",
      "100%|██████████| 196/196 [00:33<00:00,  5.89it/s]\n"
     ]
    },
    {
     "name": "stdout",
     "output_type": "stream",
     "text": [
      "Best Model Saved at epoch 3\n",
      "Epoch 3 completed, train_loss: 0.34106024309080474, train_acc: 0.84968, test_acc: 0.861\n"
     ]
    },
    {
     "name": "stderr",
     "output_type": "stream",
     "text": [
      "100%|██████████| 196/196 [01:10<00:00,  2.78it/s]\n",
      "100%|██████████| 196/196 [00:32<00:00,  6.00it/s]\n"
     ]
    },
    {
     "name": "stdout",
     "output_type": "stream",
     "text": [
      "Best Model Saved at epoch 4\n",
      "Epoch 4 completed, train_loss: 0.3207244334020177, train_acc: 0.86064, test_acc: 0.86776\n"
     ]
    },
    {
     "name": "stderr",
     "output_type": "stream",
     "text": [
      "100%|██████████| 196/196 [01:09<00:00,  2.81it/s]\n",
      "100%|██████████| 196/196 [00:32<00:00,  6.02it/s]\n"
     ]
    },
    {
     "name": "stdout",
     "output_type": "stream",
     "text": [
      "Epoch 5 completed, train_loss: 0.3175584091519823, train_acc: 0.86348, test_acc: 0.85664\n"
     ]
    },
    {
     "name": "stderr",
     "output_type": "stream",
     "text": [
      "100%|██████████| 196/196 [01:09<00:00,  2.80it/s]\n",
      "100%|██████████| 196/196 [00:32<00:00,  6.02it/s]\n"
     ]
    },
    {
     "name": "stdout",
     "output_type": "stream",
     "text": [
      "Best Model Saved at epoch 6\n",
      "Epoch 6 completed, train_loss: 0.29850809435759273, train_acc: 0.87496, test_acc: 0.87848\n"
     ]
    },
    {
     "name": "stderr",
     "output_type": "stream",
     "text": [
      "100%|██████████| 196/196 [01:09<00:00,  2.81it/s]\n",
      "100%|██████████| 196/196 [00:32<00:00,  5.98it/s]\n"
     ]
    },
    {
     "name": "stdout",
     "output_type": "stream",
     "text": [
      "Epoch 7 completed, train_loss: 0.2949936159563308, train_acc: 0.87364, test_acc: 0.87324\n"
     ]
    },
    {
     "name": "stderr",
     "output_type": "stream",
     "text": [
      "100%|██████████| 196/196 [01:09<00:00,  2.82it/s]\n",
      "100%|██████████| 196/196 [00:32<00:00,  5.98it/s]\n"
     ]
    },
    {
     "name": "stdout",
     "output_type": "stream",
     "text": [
      "Best Model Saved at epoch 8\n",
      "Epoch 8 completed, train_loss: 0.27618525184843007, train_acc: 0.88308, test_acc: 0.88412\n"
     ]
    },
    {
     "name": "stderr",
     "output_type": "stream",
     "text": [
      "100%|██████████| 196/196 [01:10<00:00,  2.79it/s]\n",
      "100%|██████████| 196/196 [00:32<00:00,  6.03it/s]\n"
     ]
    },
    {
     "name": "stdout",
     "output_type": "stream",
     "text": [
      "Best Model Saved at epoch 9\n",
      "Epoch 9 completed, train_loss: 0.2698323368570026, train_acc: 0.88684, test_acc: 0.88848\n"
     ]
    },
    {
     "name": "stderr",
     "output_type": "stream",
     "text": [
      "100%|██████████| 196/196 [01:09<00:00,  2.82it/s]\n",
      "100%|██████████| 196/196 [00:32<00:00,  6.02it/s]\n"
     ]
    },
    {
     "name": "stdout",
     "output_type": "stream",
     "text": [
      "Best Model Saved at epoch 10\n",
      "Epoch 10 completed, train_loss: 0.2615535979216196, train_acc: 0.8924, test_acc: 0.88988\n"
     ]
    },
    {
     "name": "stderr",
     "output_type": "stream",
     "text": [
      "100%|██████████| 196/196 [01:14<00:00,  2.62it/s]\n",
      "100%|██████████| 196/196 [00:31<00:00,  6.14it/s]\n"
     ]
    },
    {
     "name": "stdout",
     "output_type": "stream",
     "text": [
      "Best Model Saved at epoch 11\n",
      "Epoch 11 completed, train_loss: 0.2564538711187791, train_acc: 0.89484, test_acc: 0.89108\n"
     ]
    },
    {
     "name": "stderr",
     "output_type": "stream",
     "text": [
      "100%|██████████| 196/196 [01:36<00:00,  2.03it/s]\n",
      "100%|██████████| 196/196 [00:31<00:00,  6.28it/s]\n"
     ]
    },
    {
     "name": "stdout",
     "output_type": "stream",
     "text": [
      "Best Model Saved at epoch 12\n",
      "Epoch 12 completed, train_loss: 0.24831117081398868, train_acc: 0.89728, test_acc: 0.89204\n"
     ]
    },
    {
     "name": "stderr",
     "output_type": "stream",
     "text": [
      "100%|██████████| 196/196 [01:58<00:00,  1.65it/s]\n",
      "100%|██████████| 196/196 [00:32<00:00,  5.97it/s]\n"
     ]
    },
    {
     "name": "stdout",
     "output_type": "stream",
     "text": [
      "Epoch 13 completed, train_loss: 0.24368606393738668, train_acc: 0.89804, test_acc: 0.88488\n"
     ]
    },
    {
     "name": "stderr",
     "output_type": "stream",
     "text": [
      "100%|██████████| 196/196 [01:39<00:00,  1.97it/s]\n",
      "100%|██████████| 196/196 [00:32<00:00,  6.08it/s]\n"
     ]
    },
    {
     "name": "stdout",
     "output_type": "stream",
     "text": [
      "Best Model Saved at epoch 14\n",
      "Epoch 14 completed, train_loss: 0.23429771322680978, train_acc: 0.90448, test_acc: 0.89304\n"
     ]
    },
    {
     "name": "stderr",
     "output_type": "stream",
     "text": [
      "100%|██████████| 196/196 [01:46<00:00,  1.83it/s]\n",
      "100%|██████████| 196/196 [00:34<00:00,  5.62it/s]\n"
     ]
    },
    {
     "name": "stdout",
     "output_type": "stream",
     "text": [
      "Epoch 15 completed, train_loss: 0.22458931176486063, train_acc: 0.90932, test_acc: 0.89244\n"
     ]
    },
    {
     "name": "stderr",
     "output_type": "stream",
     "text": [
      "100%|██████████| 196/196 [01:44<00:00,  1.88it/s]\n",
      "100%|██████████| 196/196 [00:32<00:00,  5.97it/s]\n"
     ]
    },
    {
     "name": "stdout",
     "output_type": "stream",
     "text": [
      "Best Model Saved at epoch 16\n",
      "Epoch 16 completed, train_loss: 0.22852026215013194, train_acc: 0.90604, test_acc: 0.89492\n"
     ]
    },
    {
     "name": "stderr",
     "output_type": "stream",
     "text": [
      "100%|██████████| 196/196 [01:47<00:00,  1.82it/s]\n",
      "100%|██████████| 196/196 [00:32<00:00,  5.98it/s]\n"
     ]
    },
    {
     "name": "stdout",
     "output_type": "stream",
     "text": [
      "Epoch 17 completed, train_loss: 0.21236601297040375, train_acc: 0.91416, test_acc: 0.8926\n"
     ]
    },
    {
     "name": "stderr",
     "output_type": "stream",
     "text": [
      "100%|██████████| 196/196 [01:43<00:00,  1.90it/s]\n",
      "100%|██████████| 196/196 [00:32<00:00,  6.06it/s]\n"
     ]
    },
    {
     "name": "stdout",
     "output_type": "stream",
     "text": [
      "Best Model Saved at epoch 18\n",
      "Epoch 18 completed, train_loss: 0.20841631692435061, train_acc: 0.9142, test_acc: 0.89564\n"
     ]
    },
    {
     "name": "stderr",
     "output_type": "stream",
     "text": [
      "100%|██████████| 196/196 [01:57<00:00,  1.67it/s]\n",
      "100%|██████████| 196/196 [00:32<00:00,  6.02it/s]\n"
     ]
    },
    {
     "name": "stdout",
     "output_type": "stream",
     "text": [
      "Best Model Saved at epoch 19\n",
      "Epoch 19 completed, train_loss: 0.2031810921901951, train_acc: 0.91796, test_acc: 0.89972\n"
     ]
    },
    {
     "name": "stderr",
     "output_type": "stream",
     "text": [
      "100%|██████████| 196/196 [01:53<00:00,  1.72it/s]\n",
      "100%|██████████| 196/196 [00:32<00:00,  6.03it/s]\n"
     ]
    },
    {
     "name": "stdout",
     "output_type": "stream",
     "text": [
      "Epoch 20 completed, train_loss: 0.19356660544872284, train_acc: 0.92188, test_acc: 0.89812\n"
     ]
    },
    {
     "name": "stderr",
     "output_type": "stream",
     "text": [
      "100%|██████████| 196/196 [01:44<00:00,  1.88it/s]\n",
      "100%|██████████| 196/196 [00:33<00:00,  5.83it/s]\n"
     ]
    },
    {
     "name": "stdout",
     "output_type": "stream",
     "text": [
      "Epoch 21 completed, train_loss: 0.1919061690568924, train_acc: 0.923, test_acc: 0.89292\n"
     ]
    },
    {
     "name": "stderr",
     "output_type": "stream",
     "text": [
      "100%|██████████| 196/196 [01:40<00:00,  1.95it/s]\n",
      "100%|██████████| 196/196 [00:32<00:00,  6.06it/s]\n"
     ]
    },
    {
     "name": "stdout",
     "output_type": "stream",
     "text": [
      "Epoch 22 completed, train_loss: 0.18222715954619403, train_acc: 0.92836, test_acc: 0.8954\n"
     ]
    },
    {
     "name": "stderr",
     "output_type": "stream",
     "text": [
      "100%|██████████| 196/196 [01:37<00:00,  2.01it/s]\n",
      "100%|██████████| 196/196 [00:32<00:00,  6.09it/s]\n"
     ]
    },
    {
     "name": "stdout",
     "output_type": "stream",
     "text": [
      "Best Model Saved at epoch 23\n",
      "Epoch 23 completed, train_loss: 0.17530204232173915, train_acc: 0.93216, test_acc: 0.90052\n"
     ]
    },
    {
     "name": "stderr",
     "output_type": "stream",
     "text": [
      "100%|██████████| 196/196 [01:41<00:00,  1.93it/s]\n",
      "100%|██████████| 196/196 [00:32<00:00,  6.01it/s]\n"
     ]
    },
    {
     "name": "stdout",
     "output_type": "stream",
     "text": [
      "Epoch 24 completed, train_loss: 0.1691950715089939, train_acc: 0.93148, test_acc: 0.89868\n"
     ]
    },
    {
     "name": "stderr",
     "output_type": "stream",
     "text": [
      "100%|██████████| 196/196 [01:42<00:00,  1.92it/s]\n",
      "100%|██████████| 196/196 [00:32<00:00,  5.97it/s]\n"
     ]
    },
    {
     "name": "stdout",
     "output_type": "stream",
     "text": [
      "Epoch 25 completed, train_loss: 0.1632033651124458, train_acc: 0.9352, test_acc: 0.89668\n"
     ]
    },
    {
     "data": {
      "image/png": "[encoded data removed]",
      "text/plain": [
       "<Figure size 640x480 with 1 Axes>"
      ]
     },
     "metadata": {},
     "output_type": "display_data"
    }
   ],
   "source": [
    "#512, 24, 128\n",
    "lr, num_epochs = 0.005, 25\n",
    "\n",
    "criterion = torch.nn.CrossEntropyLoss().to(device)\n",
    "optimizer = torch.optim.Adam(lstm_model.parameters(), lr=lr)\n",
    "scheduler = torch.optim.lr_scheduler.LinearLR(optimizer, start_factor=1, end_factor=0.1, total_iters=25)\n",
    "\n",
    "train_model(lstm_model, train_iter, test_iter, train_dataset.vocab, num_epochs, criterion, optimizer, scheduler, 1, device, True, '../models/best_LSTM_512_128_HAN.pt', '../models/final_LSTM_512_128_HAN.pt')"
   ]
  },
  {
   "cell_type": "markdown",
   "metadata": {},
   "source": [
    "### GRU"
   ]
  },
  {
   "cell_type": "code",
   "execution_count": null,
   "metadata": {},
   "outputs": [
    {
     "name": "stderr",
     "output_type": "stream",
     "text": [
      "100%|██████████| 391/391 [01:06<00:00,  5.88it/s]\n",
      "100%|██████████| 391/391 [00:33<00:00, 11.54it/s]\n"
     ]
    },
    {
     "name": "stdout",
     "output_type": "stream",
     "text": [
      "Best Model Saved at epoch 1\n",
      "Epoch 1 completed, train_loss: 0.4501591087759608, train_acc: 0.78244, test_acc: 0.85284\n"
     ]
    },
    {
     "name": "stderr",
     "output_type": "stream",
     "text": [
      "100%|██████████| 391/391 [01:06<00:00,  5.89it/s]\n",
      "100%|██████████| 391/391 [00:33<00:00, 11.58it/s]\n"
     ]
    },
    {
     "name": "stdout",
     "output_type": "stream",
     "text": [
      "Best Model Saved at epoch 2\n",
      "Epoch 2 completed, train_loss: 0.3556979967810004, train_acc: 0.84564, test_acc: 0.8618\n"
     ]
    },
    {
     "name": "stderr",
     "output_type": "stream",
     "text": [
      "100%|██████████| 391/391 [01:06<00:00,  5.88it/s]\n",
      "100%|██████████| 391/391 [00:34<00:00, 11.49it/s]\n"
     ]
    },
    {
     "name": "stdout",
     "output_type": "stream",
     "text": [
      "Best Model Saved at epoch 3\n",
      "Epoch 3 completed, train_loss: 0.32643954265300573, train_acc: 0.8608, test_acc: 0.872\n"
     ]
    },
    {
     "name": "stderr",
     "output_type": "stream",
     "text": [
      "100%|██████████| 391/391 [01:06<00:00,  5.90it/s]\n",
      "100%|██████████| 391/391 [00:32<00:00, 11.86it/s]\n"
     ]
    },
    {
     "name": "stdout",
     "output_type": "stream",
     "text": [
      "Best Model Saved at epoch 4\n",
      "Epoch 4 completed, train_loss: 0.3121583674798536, train_acc: 0.86668, test_acc: 0.87568\n"
     ]
    },
    {
     "name": "stderr",
     "output_type": "stream",
     "text": [
      "100%|██████████| 391/391 [01:06<00:00,  5.92it/s]\n",
      "100%|██████████| 391/391 [00:33<00:00, 11.76it/s]\n"
     ]
    },
    {
     "name": "stdout",
     "output_type": "stream",
     "text": [
      "Best Model Saved at epoch 5\n",
      "Epoch 5 completed, train_loss: 0.29942624884493213, train_acc: 0.87416, test_acc: 0.88172\n"
     ]
    },
    {
     "name": "stderr",
     "output_type": "stream",
     "text": [
      "100%|██████████| 391/391 [01:06<00:00,  5.91it/s]\n",
      "100%|██████████| 391/391 [00:33<00:00, 11.55it/s]\n"
     ]
    },
    {
     "name": "stdout",
     "output_type": "stream",
     "text": [
      "Epoch 6 completed, train_loss: 0.2858578623141474, train_acc: 0.87784, test_acc: 0.88012\n"
     ]
    },
    {
     "name": "stderr",
     "output_type": "stream",
     "text": [
      "100%|██████████| 391/391 [01:06<00:00,  5.86it/s]\n",
      "100%|██████████| 391/391 [00:33<00:00, 11.77it/s]\n"
     ]
    },
    {
     "name": "stdout",
     "output_type": "stream",
     "text": [
      "Best Model Saved at epoch 7\n",
      "Epoch 7 completed, train_loss: 0.27542975148581483, train_acc: 0.88392, test_acc: 0.88388\n"
     ]
    },
    {
     "name": "stderr",
     "output_type": "stream",
     "text": [
      "100%|██████████| 391/391 [01:04<00:00,  6.04it/s]\n",
      "100%|██████████| 391/391 [00:32<00:00, 12.17it/s]\n"
     ]
    },
    {
     "name": "stdout",
     "output_type": "stream",
     "text": [
      "Epoch 8 completed, train_loss: 0.2664342849798825, train_acc: 0.88824, test_acc: 0.8568\n"
     ]
    },
    {
     "name": "stderr",
     "output_type": "stream",
     "text": [
      "100%|██████████| 391/391 [01:03<00:00,  6.12it/s]\n",
      "100%|██████████| 391/391 [00:31<00:00, 12.25it/s]\n"
     ]
    },
    {
     "name": "stdout",
     "output_type": "stream",
     "text": [
      "Best Model Saved at epoch 9\n",
      "Epoch 9 completed, train_loss: 0.25389961989791804, train_acc: 0.89688, test_acc: 0.89256\n"
     ]
    },
    {
     "name": "stderr",
     "output_type": "stream",
     "text": [
      "100%|██████████| 391/391 [01:03<00:00,  6.12it/s]\n",
      "100%|██████████| 391/391 [00:31<00:00, 12.27it/s]\n"
     ]
    },
    {
     "name": "stdout",
     "output_type": "stream",
     "text": [
      "Epoch 10 completed, train_loss: 0.2504814497345244, train_acc: 0.89788, test_acc: 0.88832\n"
     ]
    },
    {
     "name": "stderr",
     "output_type": "stream",
     "text": [
      "100%|██████████| 391/391 [01:04<00:00,  6.09it/s]\n",
      "100%|██████████| 391/391 [00:33<00:00, 11.73it/s]\n"
     ]
    },
    {
     "name": "stdout",
     "output_type": "stream",
     "text": [
      "Epoch 11 completed, train_loss: 0.24226800274208685, train_acc: 0.90096, test_acc: 0.89096\n"
     ]
    },
    {
     "name": "stderr",
     "output_type": "stream",
     "text": [
      "100%|██████████| 391/391 [01:05<00:00,  5.93it/s]\n",
      "100%|██████████| 391/391 [00:33<00:00, 11.83it/s]\n"
     ]
    },
    {
     "name": "stdout",
     "output_type": "stream",
     "text": [
      "Best Model Saved at epoch 12\n",
      "Epoch 12 completed, train_loss: 0.23801605186194105, train_acc: 0.9022, test_acc: 0.89568\n"
     ]
    },
    {
     "name": "stderr",
     "output_type": "stream",
     "text": [
      "100%|██████████| 391/391 [01:06<00:00,  5.89it/s]\n",
      "100%|██████████| 391/391 [00:32<00:00, 11.86it/s]\n"
     ]
    },
    {
     "name": "stdout",
     "output_type": "stream",
     "text": [
      "Epoch 13 completed, train_loss: 0.22489918253915694, train_acc: 0.9088, test_acc: 0.89348\n"
     ]
    },
    {
     "name": "stderr",
     "output_type": "stream",
     "text": [
      "100%|██████████| 391/391 [01:05<00:00,  6.01it/s]\n",
      "100%|██████████| 391/391 [00:31<00:00, 12.26it/s]\n"
     ]
    },
    {
     "name": "stdout",
     "output_type": "stream",
     "text": [
      "Best Model Saved at epoch 14\n",
      "Epoch 14 completed, train_loss: 0.21501344499533134, train_acc: 0.913, test_acc: 0.897\n"
     ]
    },
    {
     "name": "stderr",
     "output_type": "stream",
     "text": [
      "100%|██████████| 391/391 [01:03<00:00,  6.16it/s]\n",
      "100%|██████████| 391/391 [00:31<00:00, 12.30it/s]\n"
     ]
    },
    {
     "name": "stdout",
     "output_type": "stream",
     "text": [
      "Epoch 15 completed, train_loss: 0.2122229539867862, train_acc: 0.91416, test_acc: 0.89628\n"
     ]
    },
    {
     "name": "stderr",
     "output_type": "stream",
     "text": [
      "100%|██████████| 391/391 [01:03<00:00,  6.14it/s]\n",
      "100%|██████████| 391/391 [00:32<00:00, 12.18it/s]\n"
     ]
    },
    {
     "name": "stdout",
     "output_type": "stream",
     "text": [
      "Epoch 16 completed, train_loss: 0.20324753924175296, train_acc: 0.91804, test_acc: 0.89156\n"
     ]
    },
    {
     "name": "stderr",
     "output_type": "stream",
     "text": [
      "100%|██████████| 391/391 [01:03<00:00,  6.16it/s]\n",
      "100%|██████████| 391/391 [00:32<00:00, 12.11it/s]\n"
     ]
    },
    {
     "name": "stdout",
     "output_type": "stream",
     "text": [
      "Best Model Saved at epoch 17\n",
      "Epoch 17 completed, train_loss: 0.19096466108127627, train_acc: 0.9256, test_acc: 0.89836\n"
     ]
    },
    {
     "name": "stderr",
     "output_type": "stream",
     "text": [
      "100%|██████████| 391/391 [01:03<00:00,  6.13it/s]\n",
      "100%|██████████| 391/391 [00:32<00:00, 12.19it/s]\n"
     ]
    },
    {
     "name": "stdout",
     "output_type": "stream",
     "text": [
      "Epoch 18 completed, train_loss: 0.18524241715174197, train_acc: 0.92792, test_acc: 0.89676\n"
     ]
    },
    {
     "name": "stderr",
     "output_type": "stream",
     "text": [
      "100%|██████████| 391/391 [01:03<00:00,  6.12it/s]\n",
      "100%|██████████| 391/391 [00:32<00:00, 12.20it/s]\n"
     ]
    },
    {
     "name": "stdout",
     "output_type": "stream",
     "text": [
      "Epoch 19 completed, train_loss: 0.17300720594327926, train_acc: 0.932, test_acc: 0.89684\n"
     ]
    },
    {
     "name": "stderr",
     "output_type": "stream",
     "text": [
      "100%|██████████| 391/391 [01:03<00:00,  6.11it/s]\n",
      "100%|██████████| 391/391 [00:32<00:00, 12.07it/s]\n"
     ]
    },
    {
     "name": "stdout",
     "output_type": "stream",
     "text": [
      "Best Model Saved at epoch 20\n",
      "Epoch 20 completed, train_loss: 0.17004287161904832, train_acc: 0.9332, test_acc: 0.90016\n"
     ]
    },
    {
     "name": "stderr",
     "output_type": "stream",
     "text": [
      "100%|██████████| 391/391 [01:03<00:00,  6.12it/s]\n",
      "100%|██████████| 391/391 [00:32<00:00, 12.16it/s]\n"
     ]
    },
    {
     "name": "stdout",
     "output_type": "stream",
     "text": [
      "Epoch 21 completed, train_loss: 0.16137711161657062, train_acc: 0.9364, test_acc: 0.89968\n"
     ]
    },
    {
     "name": "stderr",
     "output_type": "stream",
     "text": [
      "100%|██████████| 391/391 [01:04<00:00,  6.11it/s]\n",
      "100%|██████████| 391/391 [00:32<00:00, 12.17it/s]\n"
     ]
    },
    {
     "name": "stdout",
     "output_type": "stream",
     "text": [
      "Epoch 22 completed, train_loss: 0.15392426884425875, train_acc: 0.94048, test_acc: 0.89764\n"
     ]
    },
    {
     "name": "stderr",
     "output_type": "stream",
     "text": [
      "100%|██████████| 391/391 [01:03<00:00,  6.13it/s]\n",
      "100%|██████████| 391/391 [00:32<00:00, 11.96it/s]\n"
     ]
    },
    {
     "name": "stdout",
     "output_type": "stream",
     "text": [
      "Epoch 23 completed, train_loss: 0.14652264695090558, train_acc: 0.9438, test_acc: 0.89776\n"
     ]
    },
    {
     "name": "stderr",
     "output_type": "stream",
     "text": [
      "100%|██████████| 391/391 [01:06<00:00,  5.89it/s]\n",
      "100%|██████████| 391/391 [00:33<00:00, 11.78it/s]\n"
     ]
    },
    {
     "name": "stdout",
     "output_type": "stream",
     "text": [
      "Epoch 24 completed, train_loss: 0.13884296118165068, train_acc: 0.94536, test_acc: 0.893\n"
     ]
    },
    {
     "name": "stderr",
     "output_type": "stream",
     "text": [
      "100%|██████████| 391/391 [01:05<00:00,  5.95it/s]\n",
      "100%|██████████| 391/391 [00:32<00:00, 11.90it/s]\n"
     ]
    },
    {
     "name": "stdout",
     "output_type": "stream",
     "text": [
      "Epoch 25 completed, train_loss: 0.13766490585168303, train_acc: 0.94652, test_acc: 0.89856\n"
     ]
    },
    {
     "data": {
      "image/png": "[encoded data removed]",
      "text/plain": [
       "<Figure size 640x480 with 1 Axes>"
      ]
     },
     "metadata": {},
     "output_type": "display_data"
    }
   ],
   "source": [
    "#256, 24, 64\n",
    "lr, num_epochs = 0.005, 25\n",
    "\n",
    "criterion = torch.nn.CrossEntropyLoss().to(device)\n",
    "optimizer = torch.optim.Adam(gru_model.parameters(), lr=lr)\n",
    "scheduler = torch.optim.lr_scheduler.LinearLR(optimizer, start_factor=1, end_factor=0.1, total_iters=25)\n",
    "\n",
    "train_model(gru_model, train_iter, test_iter, train_dataset.vocab, num_epochs, criterion, optimizer, scheduler, 0.5, device, True, '../models/best_GRU_256_64_HAN.pt', '../models/final_GRU_256_64_HAN.pt')"
   ]
  },
  {
   "cell_type": "code",
   "execution_count": null,
   "metadata": {},
   "outputs": [
    {
     "name": "stderr",
     "output_type": "stream",
     "text": [
      "100%|██████████| 391/391 [01:10<00:00,  5.54it/s]\n",
      "100%|██████████| 391/391 [00:34<00:00, 11.19it/s]\n"
     ]
    },
    {
     "name": "stdout",
     "output_type": "stream",
     "text": [
      "Best Model Saved at epoch 1\n",
      "Epoch 1 completed, train_loss: 0.4309590232494237, train_acc: 0.79952, test_acc: 0.85072\n"
     ]
    },
    {
     "name": "stderr",
     "output_type": "stream",
     "text": [
      "100%|██████████| 391/391 [01:10<00:00,  5.55it/s]\n",
      "100%|██████████| 391/391 [00:34<00:00, 11.25it/s]\n"
     ]
    },
    {
     "name": "stdout",
     "output_type": "stream",
     "text": [
      "Best Model Saved at epoch 2\n",
      "Epoch 2 completed, train_loss: 0.3522396059825902, train_acc: 0.8458, test_acc: 0.86472\n"
     ]
    },
    {
     "name": "stderr",
     "output_type": "stream",
     "text": [
      "100%|██████████| 391/391 [01:10<00:00,  5.57it/s]\n",
      "100%|██████████| 391/391 [00:35<00:00, 11.03it/s]\n"
     ]
    },
    {
     "name": "stdout",
     "output_type": "stream",
     "text": [
      "Best Model Saved at epoch 3\n",
      "Epoch 3 completed, train_loss: 0.3323538070139678, train_acc: 0.85732, test_acc: 0.87328\n"
     ]
    },
    {
     "name": "stderr",
     "output_type": "stream",
     "text": [
      "100%|██████████| 391/391 [01:10<00:00,  5.56it/s]\n",
      "100%|██████████| 391/391 [00:34<00:00, 11.33it/s]\n"
     ]
    },
    {
     "name": "stdout",
     "output_type": "stream",
     "text": [
      "Best Model Saved at epoch 4\n",
      "Epoch 4 completed, train_loss: 0.3131742028095533, train_acc: 0.86648, test_acc: 0.87688\n"
     ]
    },
    {
     "name": "stderr",
     "output_type": "stream",
     "text": [
      "100%|██████████| 391/391 [01:10<00:00,  5.55it/s]\n",
      "100%|██████████| 391/391 [00:34<00:00, 11.20it/s]\n"
     ]
    },
    {
     "name": "stdout",
     "output_type": "stream",
     "text": [
      "Epoch 5 completed, train_loss: 0.30481129983806854, train_acc: 0.87092, test_acc: 0.86724\n"
     ]
    },
    {
     "name": "stderr",
     "output_type": "stream",
     "text": [
      "100%|██████████| 391/391 [01:10<00:00,  5.57it/s]\n",
      "100%|██████████| 391/391 [00:35<00:00, 11.10it/s]\n"
     ]
    },
    {
     "name": "stdout",
     "output_type": "stream",
     "text": [
      "Best Model Saved at epoch 6\n",
      "Epoch 6 completed, train_loss: 0.2902869545590237, train_acc: 0.87732, test_acc: 0.88004\n"
     ]
    },
    {
     "name": "stderr",
     "output_type": "stream",
     "text": [
      "100%|██████████| 391/391 [01:09<00:00,  5.62it/s]\n",
      "100%|██████████| 391/391 [00:35<00:00, 11.11it/s]\n"
     ]
    },
    {
     "name": "stdout",
     "output_type": "stream",
     "text": [
      "Epoch 7 completed, train_loss: 0.2803678235510731, train_acc: 0.88192, test_acc: 0.87616\n"
     ]
    },
    {
     "name": "stderr",
     "output_type": "stream",
     "text": [
      "100%|██████████| 391/391 [01:10<00:00,  5.57it/s]\n",
      "100%|██████████| 391/391 [00:34<00:00, 11.37it/s]\n"
     ]
    },
    {
     "name": "stdout",
     "output_type": "stream",
     "text": [
      "Best Model Saved at epoch 8\n",
      "Epoch 8 completed, train_loss: 0.2680769882276845, train_acc: 0.88736, test_acc: 0.88592\n"
     ]
    },
    {
     "name": "stderr",
     "output_type": "stream",
     "text": [
      "100%|██████████| 391/391 [01:10<00:00,  5.56it/s]\n",
      "100%|██████████| 391/391 [00:34<00:00, 11.36it/s]\n"
     ]
    },
    {
     "name": "stdout",
     "output_type": "stream",
     "text": [
      "Best Model Saved at epoch 9\n",
      "Epoch 9 completed, train_loss: 0.261589895638511, train_acc: 0.89168, test_acc: 0.89092\n"
     ]
    },
    {
     "name": "stderr",
     "output_type": "stream",
     "text": [
      "100%|██████████| 391/391 [01:09<00:00,  5.59it/s]\n",
      "100%|██████████| 391/391 [00:34<00:00, 11.26it/s]\n"
     ]
    },
    {
     "name": "stdout",
     "output_type": "stream",
     "text": [
      "Epoch 10 completed, train_loss: 0.2551230643411427, train_acc: 0.895, test_acc: 0.88452\n"
     ]
    },
    {
     "name": "stderr",
     "output_type": "stream",
     "text": [
      "100%|██████████| 391/391 [01:10<00:00,  5.55it/s]\n",
      "100%|██████████| 391/391 [00:34<00:00, 11.20it/s]\n"
     ]
    },
    {
     "name": "stdout",
     "output_type": "stream",
     "text": [
      "Epoch 11 completed, train_loss: 0.2409500259610698, train_acc: 0.9034, test_acc: 0.89052\n"
     ]
    },
    {
     "name": "stderr",
     "output_type": "stream",
     "text": [
      "100%|██████████| 391/391 [01:09<00:00,  5.59it/s]\n",
      "100%|██████████| 391/391 [00:34<00:00, 11.23it/s]\n"
     ]
    },
    {
     "name": "stdout",
     "output_type": "stream",
     "text": [
      "Epoch 12 completed, train_loss: 0.23433193021341966, train_acc: 0.90432, test_acc: 0.88116\n"
     ]
    },
    {
     "name": "stderr",
     "output_type": "stream",
     "text": [
      "100%|██████████| 391/391 [01:10<00:00,  5.56it/s]\n",
      "100%|██████████| 391/391 [00:35<00:00, 11.15it/s]\n"
     ]
    },
    {
     "name": "stdout",
     "output_type": "stream",
     "text": [
      "Best Model Saved at epoch 13\n",
      "Epoch 13 completed, train_loss: 0.22868973675095822, train_acc: 0.90616, test_acc: 0.89792\n"
     ]
    },
    {
     "name": "stderr",
     "output_type": "stream",
     "text": [
      "100%|██████████| 391/391 [01:10<00:00,  5.57it/s]\n",
      "100%|██████████| 391/391 [00:34<00:00, 11.22it/s]\n"
     ]
    },
    {
     "name": "stdout",
     "output_type": "stream",
     "text": [
      "Epoch 14 completed, train_loss: 0.2178981101802548, train_acc: 0.91228, test_acc: 0.89552\n"
     ]
    },
    {
     "name": "stderr",
     "output_type": "stream",
     "text": [
      "100%|██████████| 391/391 [01:10<00:00,  5.56it/s]\n",
      "100%|██████████| 391/391 [00:34<00:00, 11.20it/s]\n"
     ]
    },
    {
     "name": "stdout",
     "output_type": "stream",
     "text": [
      "Epoch 15 completed, train_loss: 0.21167743968231903, train_acc: 0.91376, test_acc: 0.8954\n"
     ]
    },
    {
     "name": "stderr",
     "output_type": "stream",
     "text": [
      "100%|██████████| 391/391 [01:10<00:00,  5.55it/s]\n",
      "100%|██████████| 391/391 [00:35<00:00, 10.99it/s]\n"
     ]
    },
    {
     "name": "stdout",
     "output_type": "stream",
     "text": [
      "Epoch 16 completed, train_loss: 0.20295676425137482, train_acc: 0.91756, test_acc: 0.8972\n"
     ]
    },
    {
     "name": "stderr",
     "output_type": "stream",
     "text": [
      "100%|██████████| 391/391 [01:10<00:00,  5.53it/s]\n",
      "100%|██████████| 391/391 [00:34<00:00, 11.18it/s]\n"
     ]
    },
    {
     "name": "stdout",
     "output_type": "stream",
     "text": [
      "Epoch 17 completed, train_loss: 0.19292221340300786, train_acc: 0.92416, test_acc: 0.89744\n"
     ]
    },
    {
     "name": "stderr",
     "output_type": "stream",
     "text": [
      "100%|██████████| 391/391 [01:10<00:00,  5.56it/s]\n",
      "100%|██████████| 391/391 [00:35<00:00, 11.12it/s]\n"
     ]
    },
    {
     "name": "stdout",
     "output_type": "stream",
     "text": [
      "Epoch 18 completed, train_loss: 0.1841781587075547, train_acc: 0.92716, test_acc: 0.89512\n"
     ]
    },
    {
     "name": "stderr",
     "output_type": "stream",
     "text": [
      "100%|██████████| 391/391 [01:10<00:00,  5.55it/s]\n",
      "100%|██████████| 391/391 [00:35<00:00, 11.00it/s]\n"
     ]
    },
    {
     "name": "stdout",
     "output_type": "stream",
     "text": [
      "Epoch 19 completed, train_loss: 0.17532707459252814, train_acc: 0.93152, test_acc: 0.89496\n"
     ]
    },
    {
     "name": "stderr",
     "output_type": "stream",
     "text": [
      "100%|██████████| 391/391 [01:10<00:00,  5.51it/s]\n",
      "100%|██████████| 391/391 [00:35<00:00, 10.97it/s]\n"
     ]
    },
    {
     "name": "stdout",
     "output_type": "stream",
     "text": [
      "Epoch 20 completed, train_loss: 0.16861430669913208, train_acc: 0.93432, test_acc: 0.88956\n"
     ]
    },
    {
     "name": "stderr",
     "output_type": "stream",
     "text": [
      "100%|██████████| 391/391 [01:11<00:00,  5.48it/s]\n",
      "100%|██████████| 391/391 [00:34<00:00, 11.21it/s]\n"
     ]
    },
    {
     "name": "stdout",
     "output_type": "stream",
     "text": [
      "Best Model Saved at epoch 21\n",
      "Epoch 21 completed, train_loss: 0.15421455158182726, train_acc: 0.93952, test_acc: 0.89804\n"
     ]
    },
    {
     "name": "stderr",
     "output_type": "stream",
     "text": [
      "100%|██████████| 391/391 [01:11<00:00,  5.50it/s]\n",
      "100%|██████████| 391/391 [00:35<00:00, 11.01it/s]\n"
     ]
    },
    {
     "name": "stdout",
     "output_type": "stream",
     "text": [
      "Epoch 22 completed, train_loss: 0.15126592907911676, train_acc: 0.94012, test_acc: 0.8978\n"
     ]
    },
    {
     "name": "stderr",
     "output_type": "stream",
     "text": [
      "100%|██████████| 391/391 [01:09<00:00,  5.59it/s]\n",
      "100%|██████████| 391/391 [00:33<00:00, 11.53it/s]\n"
     ]
    },
    {
     "name": "stdout",
     "output_type": "stream",
     "text": [
      "Epoch 23 completed, train_loss: 0.14327390800180184, train_acc: 0.9432, test_acc: 0.89456\n"
     ]
    },
    {
     "name": "stderr",
     "output_type": "stream",
     "text": [
      "100%|██████████| 391/391 [01:07<00:00,  5.78it/s]\n",
      "100%|██████████| 391/391 [00:34<00:00, 11.38it/s]\n"
     ]
    },
    {
     "name": "stdout",
     "output_type": "stream",
     "text": [
      "Epoch 24 completed, train_loss: 0.13696594028007192, train_acc: 0.94624, test_acc: 0.89468\n"
     ]
    },
    {
     "name": "stderr",
     "output_type": "stream",
     "text": [
      "100%|██████████| 391/391 [01:10<00:00,  5.56it/s]\n",
      "100%|██████████| 391/391 [00:35<00:00, 11.12it/s]\n"
     ]
    },
    {
     "name": "stdout",
     "output_type": "stream",
     "text": [
      "Epoch 25 completed, train_loss: 0.13463882239454467, train_acc: 0.94764, test_acc: 0.89788\n"
     ]
    },
    {
     "data": {
      "image/png": "[encoded data removed]",
      "text/plain": [
       "<Figure size 640x480 with 1 Axes>"
      ]
     },
     "metadata": {},
     "output_type": "display_data"
    }
   ],
   "source": [
    "#512, 24, 64\n",
    "lr, num_epochs = 0.005, 25\n",
    "\n",
    "criterion = torch.nn.CrossEntropyLoss().to(device)\n",
    "optimizer = torch.optim.Adam(gru_model.parameters(), lr=lr)\n",
    "scheduler = torch.optim.lr_scheduler.LinearLR(optimizer, start_factor=1, end_factor=0.1, total_iters=25)\n",
    "\n",
    "train_model(gru_model, train_iter, test_iter, train_dataset.vocab, num_epochs, criterion, optimizer, scheduler, 0.5, device, True, '../models/best_GRU_512_64_HAN.pt', '../models/final_GRU_512_64_HAN.pt')"
   ]
  },
  {
   "cell_type": "markdown",
   "metadata": {},
   "source": [
    "### Evaluation on IMDB test dataset"
   ]
  },
  {
   "cell_type": "code",
   "execution_count": null,
   "metadata": {},
   "outputs": [
    {
     "name": "stderr",
     "output_type": "stream",
     "text": [
      "100%|██████████| 782/782 [00:48<00:00, 16.11it/s]\n"
     ]
    },
    {
     "data": {
      "text/plain": [
       "(0.90236, 0.91032, 0.8960548074651548, 0.903131076630025)"
      ]
     },
     "execution_count": 34,
     "metadata": {},
     "output_type": "execute_result"
    }
   ],
   "source": [
    "device = torch.device(\"cuda\" if torch.cuda.is_available() else \"cpu\")\n",
    "lstm_model = torch.load('../models/best_LSTM_256_32_HAN.pt')\n",
    "eval_model(lstm_model, test_iter, device, train_dataset.vocab, True, True, '../results/HAN.csv')"
   ]
  },
  {
   "cell_type": "code",
   "execution_count": null,
   "metadata": {},
   "outputs": [
    {
     "name": "stderr",
     "output_type": "stream",
     "text": [
      "100%|██████████| 391/391 [00:35<00:00, 10.95it/s]\n"
     ]
    },
    {
     "data": {
      "text/plain": [
       "(0.90276, 0.90808, 0.8985197498614739, 0.9032745792384514)"
      ]
     },
     "execution_count": 34,
     "metadata": {},
     "output_type": "execute_result"
    }
   ],
   "source": [
    "device = torch.device(\"cuda\" if torch.cuda.is_available() else \"cpu\")\n",
    "lstm_model = torch.load('../models/best_LSTM_256_64_HAN.pt')\n",
    "eval_model(lstm_model, test_iter, device, train_dataset.vocab, True)"
   ]
  },
  {
   "cell_type": "code",
   "execution_count": null,
   "metadata": {},
   "outputs": [
    {
     "name": "stderr",
     "output_type": "stream",
     "text": [
      "100%|██████████| 391/391 [00:36<00:00, 10.86it/s]\n"
     ]
    },
    {
     "data": {
      "text/plain": [
       "(0.9002, 0.90368, 0.8974338603320887, 0.9005460995734843)"
      ]
     },
     "execution_count": 33,
     "metadata": {},
     "output_type": "execute_result"
    }
   ],
   "source": [
    "device = torch.device(\"cuda\" if torch.cuda.is_available() else \"cpu\")\n",
    "lstm_model = torch.load('../models/best_LSTM_512_32_HAN.pt')\n",
    "eval_model(lstm_model, test_iter, device, train_dataset.vocab, True)"
   ]
  },
  {
   "cell_type": "code",
   "execution_count": null,
   "metadata": {},
   "outputs": [
    {
     "name": "stderr",
     "output_type": "stream",
     "text": [
      "100%|██████████| 391/391 [00:35<00:00, 11.00it/s]\n"
     ]
    },
    {
     "data": {
      "text/plain": [
       "(0.90308, 0.91032, 0.8973267092500592, 0.9037766570032961)"
      ]
     },
     "execution_count": 39,
     "metadata": {},
     "output_type": "execute_result"
    }
   ],
   "source": [
    "device = torch.device(\"cuda\" if torch.cuda.is_available() else \"cpu\")\n",
    "lstm_model = torch.load('../models/best_LSTM_512_64_HAN.pt')\n",
    "eval_model(lstm_model, test_iter, device, train_dataset.vocab, True)"
   ]
  },
  {
   "cell_type": "code",
   "execution_count": null,
   "metadata": {},
   "outputs": [
    {
     "name": "stderr",
     "output_type": "stream",
     "text": [
      "100%|██████████| 391/391 [00:35<00:00, 11.14it/s]\n"
     ]
    },
    {
     "data": {
      "text/plain": [
       "(0.88788, 0.88512, 0.8900329820609766, 0.8875696923508885)"
      ]
     },
     "execution_count": 16,
     "metadata": {},
     "output_type": "execute_result"
    }
   ],
   "source": [
    "device = torch.device(\"cuda\" if torch.cuda.is_available() else \"cpu\")\n",
    "lstm_model = torch.load('../models/best_LSTM_512_64_1HAN.pt')\n",
    "eval_model(lstm_model, test_iter, device, train_dataset.vocab, True)"
   ]
  },
  {
   "cell_type": "code",
   "execution_count": null,
   "metadata": {},
   "outputs": [
    {
     "name": "stderr",
     "output_type": "stream",
     "text": [
      "100%|██████████| 391/391 [00:36<00:00, 10.78it/s]\n"
     ]
    },
    {
     "data": {
      "text/plain": [
       "(0.902, 0.91816, 0.8894141351518909, 0.9035584947252401)"
      ]
     },
     "execution_count": 14,
     "metadata": {},
     "output_type": "execute_result"
    }
   ],
   "source": [
    "device = torch.device(\"cuda\" if torch.cuda.is_available() else \"cpu\")\n",
    "lstm_model = torch.load('../models/best_LSTM_512_64_2HAN.pt')\n",
    "eval_model(lstm_model, test_iter, device, train_dataset.vocab, True)"
   ]
  },
  {
   "cell_type": "code",
   "execution_count": null,
   "metadata": {},
   "outputs": [
    {
     "name": "stderr",
     "output_type": "stream",
     "text": [
      "100%|██████████| 391/391 [00:36<00:00, 10.70it/s]\n"
     ]
    },
    {
     "data": {
      "text/plain": [
       "(0.9022, 0.90128, 0.9029414121984451, 0.9021099411458542)"
      ]
     },
     "execution_count": 15,
     "metadata": {},
     "output_type": "execute_result"
    }
   ],
   "source": [
    "device = torch.device(\"cuda\" if torch.cuda.is_available() else \"cpu\")\n",
    "lstm_model = torch.load('../models/best_LSTM_512_64_3HAN.pt')\n",
    "eval_model(lstm_model, test_iter, device, train_dataset.vocab, True)"
   ]
  },
  {
   "cell_type": "code",
   "execution_count": null,
   "metadata": {},
   "outputs": [
    {
     "name": "stderr",
     "output_type": "stream",
     "text": [
      "100%|██████████| 391/391 [00:36<00:00, 10.79it/s]\n"
     ]
    },
    {
     "data": {
      "text/plain": [
       "(0.90052, 0.91544, 0.8889147828788938, 0.9019824222598826)"
      ]
     },
     "execution_count": 18,
     "metadata": {},
     "output_type": "execute_result"
    }
   ],
   "source": [
    "device = torch.device(\"cuda\" if torch.cuda.is_available() else \"cpu\")\n",
    "lstm_model = torch.load('../models/best_LSTM_512_128_HAN.pt')\n",
    "eval_model(lstm_model, test_iter, device, train_dataset.vocab, True)"
   ]
  },
  {
   "cell_type": "code",
   "execution_count": null,
   "metadata": {},
   "outputs": [
    {
     "name": "stderr",
     "output_type": "stream",
     "text": [
      "100%|██████████| 391/391 [00:36<00:00, 10.76it/s]\n"
     ]
    },
    {
     "data": {
      "text/plain": [
       "(0.90024, 0.90488, 0.8965599239061509, 0.9007007485268355)"
      ]
     },
     "execution_count": 19,
     "metadata": {},
     "output_type": "execute_result"
    }
   ],
   "source": [
    "device = torch.device(\"cuda\" if torch.cuda.is_available() else \"cpu\")\n",
    "gru_model = torch.load('../models/best_GRU_256_64_HAN.pt')\n",
    "eval_model(gru_model, test_iter, device, train_dataset.vocab, True)"
   ]
  },
  {
   "cell_type": "code",
   "execution_count": null,
   "metadata": {},
   "outputs": [
    {
     "name": "stderr",
     "output_type": "stream",
     "text": [
      "100%|██████████| 391/391 [00:35<00:00, 11.03it/s]\n"
     ]
    },
    {
     "data": {
      "text/plain": [
       "(0.89804, 0.9064, 0.891494216696829, 0.8988853187353723)"
      ]
     },
     "execution_count": 20,
     "metadata": {},
     "output_type": "execute_result"
    }
   ],
   "source": [
    "device = torch.device(\"cuda\" if torch.cuda.is_available() else \"cpu\")\n",
    "gru_model = torch.load('../models/best_GRU_512_64_HAN.pt')\n",
    "eval_model(gru_model, test_iter, device, train_dataset.vocab, True)"
   ]
  },
  {
   "cell_type": "markdown",
   "metadata": {},
   "source": [
    "### Evaluation with the new test data\n",
    "\n",
    "Since the test data is a csv, we will have to modify the _read_data function in the dataset"
   ]
  },
  {
   "cell_type": "code",
   "execution_count": 19,
   "metadata": {},
   "outputs": [],
   "source": [
    "class TestIMDBDataset(Dataset):\n",
    "    def __init__(self, \n",
    "                 csv_path:str,\n",
    "                 max_sent_len:int,\n",
    "                 max_doc_len:int, \n",
    "                 vocab:d2l.Vocab):\n",
    "        \"\"\"\n",
    "        Test Dataset Class\n",
    "        The dataset will be created by reading all documents inside the file, to which they will be preprocessed into lists of individual sentence and words for each review\n",
    "        \n",
    "        Args:\n",
    "            csv_path (str): path to csv file\n",
    "            max_sent_len (int): maximum number of words per sentence in review\n",
    "            max_doc_len (int): maximum number of sentences per review\n",
    "            vocab (d2l.Vocab): d2l Vocab of train dat\n",
    "        \"\"\"\n",
    "        self.data_list, self.label_list = self._read_data(csv_path)\n",
    "        self.max_sent_len = max_sent_len\n",
    "        self.max_doc_len = max_doc_len\n",
    "        self.vocab = d2l.Vocab(d2l.tokenize(self.data_list, token='word'), min_freq=5, reserved_tokens=['<pad>']) if vocab == None else vocab\n",
    "    \n",
    "\n",
    "    def _read_data(self, csv_path):\n",
    "        dataset = pd.read_csv(csv_path)\n",
    "        data = dataset['text'].tolist()\n",
    "        labels = dataset['label'].tolist()\n",
    "        return data, labels\n",
    "\n",
    "\n",
    "    def _transform_text(self, document:str):\n",
    "        \"\"\"\n",
    "        Function to transform the dataset into the required format for HAN\n",
    "\n",
    "        Args:\n",
    "            document (str): the review\n",
    "\n",
    "        Returns:\n",
    "            doc: nested array of the review, in the format of [[word idx for each word in sentence], [next sentence], ...]\n",
    "            num_sents: retrieve the number of sentences in document\n",
    "            num_word: max number of words across all sentence in document\n",
    "        \"\"\"\n",
    "        # Encoding document with max sentence length and maximum document length (num sentence)\n",
    "        # Split into individual sentences in document\n",
    "        sentences = sent_tokenize(document)\n",
    "        doc = [self.vocab[word_tokenize(sentence)] for sentence in sentences]\n",
    "        doc = [sent[:self.max_sent_len] for sent in doc][:self.max_doc_len]\n",
    "        num_sents = min(len(doc), self.max_doc_len) # There is a limit of max_doc_len\n",
    "\n",
    "        # skip erroneous ones\n",
    "        if not num_sents:\n",
    "            return None, -1, None\n",
    "\n",
    "        num_words = [min(len(sent), self.max_sent_len) for sent in doc][:self.max_doc_len]\n",
    "        return doc, num_sents, num_words\n",
    "\n",
    "    \n",
    "    def __len__(self):\n",
    "        return len(self.data_list)\n",
    "\n",
    "\n",
    "    def __getitem__(self, idx):\n",
    "        doc_data = self.data_list[idx]\n",
    "        doc, num_sents, num_words = self._transform_text(doc_data)\n",
    "        if num_sents == -1:\n",
    "            return None\n",
    "        \n",
    "        return doc, self.label_list[idx], num_sents, num_words"
   ]
  },
  {
   "cell_type": "code",
   "execution_count": 20,
   "metadata": {},
   "outputs": [],
   "source": [
    "train_dataset = IMDBDataset(data_dir=\"../data/aclImdb\",\n",
    "                            max_sent_len=512,\n",
    "                            max_doc_len=24)\n",
    "\n",
    "test_dataset = TestIMDBDataset(csv_path=\"../data/test_data_movie.csv\",\n",
    "                                max_sent_len=512,\n",
    "                                max_doc_len=24,\n",
    "                                vocab=train_dataset.vocab)"
   ]
  },
  {
   "cell_type": "code",
   "execution_count": 21,
   "metadata": {},
   "outputs": [],
   "source": [
    "train_iter = DataLoader(train_dataset,\n",
    "                        batch_size=64, \n",
    "                        shuffle=True,\n",
    "                        collate_fn = padAnnotations(\n",
    "                            pad_idx = train_dataset.vocab.token_to_idx[\"<pad>\"], \n",
    "                        ))\n",
    "\n",
    "test_iter = DataLoader(test_dataset,\n",
    "                        batch_size=64, \n",
    "                        collate_fn = padAnnotations(\n",
    "                            pad_idx = train_dataset.vocab.token_to_idx[\"<pad>\"], \n",
    "                        ))"
   ]
  },
  {
   "cell_type": "code",
   "execution_count": null,
   "metadata": {},
   "outputs": [
    {
     "name": "stderr",
     "output_type": "stream",
     "text": [
      "100%|██████████| 1250/1250 [01:11<00:00, 17.52it/s]\n"
     ]
    },
    {
     "data": {
      "text/plain": [
       "(0.9395, 0.9443471297732846, 0.9351737126431084, 0.9397380347626874)"
      ]
     },
     "execution_count": 18,
     "metadata": {},
     "output_type": "execute_result"
    }
   ],
   "source": [
    "device = torch.device(\"cuda\" if torch.cuda.is_available() else \"cpu\")\n",
    "lstm_model = torch.load('../models/best_LSTM_256_32_HAN.pt')\n",
    "eval_model(lstm_model, test_iter, device, train_dataset.vocab, True)"
   ]
  },
  {
   "cell_type": "code",
   "execution_count": 22,
   "metadata": {},
   "outputs": [
    {
     "name": "stderr",
     "output_type": "stream",
     "text": [
      "100%|██████████| 625/625 [00:54<00:00, 11.38it/s]\n"
     ]
    },
    {
     "data": {
      "text/plain": [
       "(0.936025, 0.9389419948951504, 0.9333830845771144, 0.9361542875676755)"
      ]
     },
     "execution_count": 22,
     "metadata": {},
     "output_type": "execute_result"
    }
   ],
   "source": [
    "device = torch.device(\"cuda\" if torch.cuda.is_available() else \"cpu\")\n",
    "lstm_model = torch.load('../models/best_LSTM_256_64_HAN.pt')\n",
    "eval_model(lstm_model, test_iter, device, train_dataset.vocab, True)"
   ]
  },
  {
   "cell_type": "code",
   "execution_count": 27,
   "metadata": {},
   "outputs": [
    {
     "name": "stderr",
     "output_type": "stream",
     "text": [
      "100%|██████████| 1250/1250 [01:06<00:00, 18.89it/s]\n"
     ]
    },
    {
     "data": {
      "text/plain": [
       "(0.93895, 0.9409939442470346, 0.9370545726389234, 0.9390201268541177)"
      ]
     },
     "execution_count": 27,
     "metadata": {},
     "output_type": "execute_result"
    }
   ],
   "source": [
    "device = torch.device(\"cuda\" if torch.cuda.is_available() else \"cpu\")\n",
    "lstm_model = torch.load('../models/best_LSTM_512_32_HAN.pt')\n",
    "eval_model(lstm_model, test_iter, device, train_dataset.vocab, True)"
   ]
  },
  {
   "cell_type": "code",
   "execution_count": 30,
   "metadata": {},
   "outputs": [
    {
     "name": "stderr",
     "output_type": "stream",
     "text": [
      "100%|██████████| 625/625 [00:55<00:00, 11.26it/s]\n"
     ]
    },
    {
     "data": {
      "text/plain": [
       "(0.93275, 0.9385416145338071, 0.9276774672273065, 0.933077918200816)"
      ]
     },
     "execution_count": 30,
     "metadata": {},
     "output_type": "execute_result"
    }
   ],
   "source": [
    "device = torch.device(\"cuda\" if torch.cuda.is_available() else \"cpu\")\n",
    "lstm_model = torch.load('../models/best_LSTM_512_64_HAN.pt')\n",
    "eval_model(lstm_model, test_iter, device, train_dataset.vocab, True)"
   ]
  },
  {
   "cell_type": "code",
   "execution_count": 22,
   "metadata": {},
   "outputs": [
    {
     "name": "stderr",
     "output_type": "stream",
     "text": [
      "100%|██████████| 625/625 [00:53<00:00, 11.58it/s]\n"
     ]
    },
    {
     "data": {
      "text/plain": [
       "(0.896425, 0.8869425954656924, 0.9039069672549219, 0.8953444312526839)"
      ]
     },
     "execution_count": 22,
     "metadata": {},
     "output_type": "execute_result"
    }
   ],
   "source": [
    "device = torch.device(\"cuda\" if torch.cuda.is_available() else \"cpu\")\n",
    "lstm_model = torch.load('../models/best_LSTM_512_64_1HAN.pt')\n",
    "eval_model(lstm_model, test_iter, device, train_dataset.vocab, True)"
   ]
  },
  {
   "cell_type": "code",
   "execution_count": 32,
   "metadata": {},
   "outputs": [
    {
     "name": "stderr",
     "output_type": "stream",
     "text": [
      "100%|██████████| 625/625 [00:55<00:00, 11.30it/s]\n"
     ]
    },
    {
     "data": {
      "text/plain": [
       "(0.94025, 0.9514038336419599, 0.9305399187429634, 0.9408562237070032)"
      ]
     },
     "execution_count": 32,
     "metadata": {},
     "output_type": "execute_result"
    }
   ],
   "source": [
    "device = torch.device(\"cuda\" if torch.cuda.is_available() else \"cpu\")\n",
    "lstm_model = torch.load('../models/best_LSTM_512_64_2HAN.pt')\n",
    "eval_model(lstm_model, test_iter, device, train_dataset.vocab, True)"
   ]
  },
  {
   "cell_type": "code",
   "execution_count": 24,
   "metadata": {},
   "outputs": [
    {
     "name": "stderr",
     "output_type": "stream",
     "text": [
      "100%|██████████| 625/625 [01:02<00:00, 10.03it/s]\n"
     ]
    },
    {
     "data": {
      "text/plain": [
       "(0.940525, 0.943596416595766, 0.9377300308365663, 0.9406540773816948)"
      ]
     },
     "execution_count": 24,
     "metadata": {},
     "output_type": "execute_result"
    }
   ],
   "source": [
    "# Best Result\n",
    "device = torch.device(\"cuda\" if torch.cuda.is_available() else \"cpu\")\n",
    "lstm_model = torch.load('../models/best_LSTM_512_64_3HAN.pt')\n",
    "eval_model(lstm_model, test_iter, device, train_dataset.vocab, True, True, '../results/HAN.csv')"
   ]
  },
  {
   "cell_type": "code",
   "execution_count": 37,
   "metadata": {},
   "outputs": [
    {
     "name": "stderr",
     "output_type": "stream",
     "text": [
      "100%|██████████| 311/311 [00:52<00:00,  5.97it/s]\n"
     ]
    },
    {
     "data": {
      "text/plain": [
       "(0.928975, 0.9404934687953556, 0.9191938955194678, 0.929721706864564)"
      ]
     },
     "execution_count": 37,
     "metadata": {},
     "output_type": "execute_result"
    }
   ],
   "source": [
    "device = torch.device(\"cuda\" if torch.cuda.is_available() else \"cpu\")\n",
    "lstm_model = torch.load('../models/best_LSTM_512_128_HAN.pt')\n",
    "eval_model(lstm_model, test_iter, device, train_dataset.vocab, True)"
   ]
  },
  {
   "cell_type": "code",
   "execution_count": 23,
   "metadata": {},
   "outputs": [
    {
     "name": "stderr",
     "output_type": "stream",
     "text": [
      "100%|██████████| 625/625 [00:57<00:00, 10.89it/s]\n"
     ]
    },
    {
     "data": {
      "text/plain": [
       "(0.93205, 0.9347880486462139, 0.9295774647887324, 0.9321754753705644)"
      ]
     },
     "execution_count": 23,
     "metadata": {},
     "output_type": "execute_result"
    }
   ],
   "source": [
    "device = torch.device(\"cuda\" if torch.cuda.is_available() else \"cpu\")\n",
    "gru_model = torch.load('../models/best_GRU_256_64_HAN.pt')\n",
    "eval_model(gru_model, test_iter, device, train_dataset.vocab, True)"
   ]
  },
  {
   "cell_type": "code",
   "execution_count": 34,
   "metadata": {},
   "outputs": [
    {
     "name": "stderr",
     "output_type": "stream",
     "text": [
      "100%|██████████| 625/625 [00:55<00:00, 11.19it/s]\n"
     ]
    },
    {
     "data": {
      "text/plain": [
       "(0.93285, 0.9383414243531355, 0.9280304905212097, 0.933157475612184)"
      ]
     },
     "execution_count": 34,
     "metadata": {},
     "output_type": "execute_result"
    }
   ],
   "source": [
    "device = torch.device(\"cuda\" if torch.cuda.is_available() else \"cpu\")\n",
    "gru_model = torch.load('../models/best_GRU_512_64_HAN.pt')\n",
    "eval_model(gru_model, test_iter, device, train_dataset.vocab, True)"
   ]
  }
 ],
 "metadata": {
  "kernelspec": {
   "display_name": "myenv",
   "language": "python",
   "name": "python3"
  },
  "language_info": {
   "codemirror_mode": {
    "name": "ipython",
    "version": 3
   },
   "file_extension": ".py",
   "mimetype": "text/x-python",
   "name": "python",
   "nbconvert_exporter": "python",
   "pygments_lexer": "ipython3",
   "version": "3.9.13"
  }
 },
 "nbformat": 4,
 "nbformat_minor": 2
}
