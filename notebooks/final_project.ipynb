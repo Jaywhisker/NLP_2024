{
 "cells": [
  {
   "cell_type": "markdown",
   "metadata": {
    "id": "eIRhc7drd8AY"
   },
   "source": [
    "# 50.040 Natural Language Processing (Fall 2024) Final Project (100 Points)\n",
    "\n",
    "**DUE DATE: 13 December 2024**\n",
    "\n",
    "Final project will be graded by Chen Huang"
   ]
  },
  {
   "cell_type": "markdown",
   "metadata": {
    "id": "FsCU5Q_6d8Ac"
   },
   "source": [
    "\n",
    "# Group Information (Fill before you start)\n",
    "\n",
    "**Group Name: Introverts**\n",
    "\n",
    "**Name(STUDNET ID) (2-3 person): Cheng Wei Xuan (1006040), Onn Hui Ning (1006132), Koh Jin Rui Vinny (1006036)**\n",
    "\n",
    "**Please also rename the final submitted pdf as ``finalproject_[GROUP_NAME].pdf``**\n",
    "\n",
    "**-1 points if info not filled or file name not adjusted before submission, -100 points if you copy other's answer. We encourage discussion, but please do not copy without thinking.**"
   ]
  },
  {
   "cell_type": "markdown",
   "metadata": {
    "colab_type": "text",
    "id": "bDOUuC7-CdX-"
   },
   "source": [
    "## [!] Please read this if your computer does not have GPUs.\n",
    "### Free GPU Resources\n",
    "We suggest that you run neural language models on machines with GPU(s). Google provides the free online platform [Colaboratory](https://colab.research.google.com/notebooks/welcome.ipynb), a research tool for machine learning education and research. It’s a Jupyter notebook environment that requires no setup to use as common packages have been  pre-installed. Google users can have access to a Tesla T4 GPU (approximately 15G memory). Note that when you connect to a GPU-based VM runtime, you are given a maximum of 12 hours at a time on the VM.\n",
    "\n",
    "Colab is web-based, fast and convinient. You can simply upload this notebook and run it online. For the database needed in this task, you can download it and upload to colab OR you can save it in your google drive and link it with the colab.\n",
    "\n",
    "It is convenient to upload local Jupyter Notebook files and data to Colab, please refer to the [tutorial](https://colab.research.google.com/notebooks/io.ipynb). \n",
    "\n",
    "In addition, Microsoft also provides the online platform [Azure Notebooks](https://notebooks.azure.com/help/introduction) for research of data science and machine learning, there are free trials for new users with credits."
   ]
  },
  {
   "cell_type": "markdown",
   "metadata": {
    "colab_type": "text",
    "id": "V0iF5uWcCdXV"
   },
   "source": [
    "# Instructions\n",
    "Please read the following instructions carefully before you begin this project:\n",
    "\n",
    "- This is a group project. You are allowed to form groups in any way you like, but each group must consist of either 2 or 3 people. Please submit your group information to eDimension as soon as possible if you have not yet done so (the deadline was 11th October 2024).\n",
    "\n",
    "- Each group should submit code along with a report summarizing your work, and provide clear instructions on how to run your code. Additionally, please submit your system's outputs. The output should be in the same column format as the training set.\n",
    "\n",
    "- You are given **8** weeks to work on the project. We understand this is a busy time during your final term, so Week **13** will be reserved as the \"Final Project Week\" for you to focus on the project (i.e., there will be no classes that week). Please plan and manage your time well.\n",
    "\n",
    "- Please use Python to complete this project."
   ]
  },
  {
   "cell_type": "markdown",
   "metadata": {},
   "source": [
    "# Project Summary\n",
    "Welcome to the design project for our natural language processing (NLP) course offered at SUTD!\n",
    "\n",
    "In this project, you will undertake an NLP task in _sentiment analysis_. We will begin by guiding you through data understanding, pre-processing, and instructing you to construct RNN and CNN models for the task. Afterward, you are encouraged to develop your own model to improve the results. The final test set will be released on **11 December 2024 at 5pm** (48 hours before the final project deadline). You will use your own system to generate the outputs. The system with the highest F1 score will be announced as the winner for each challenge. If no clear winner emerges from the test set results, further analysis or evaluations may be conducted."
   ]
  },
  {
   "cell_type": "markdown",
   "metadata": {
    "colab_type": "text",
    "id": "F5wC4lqKCdXW"
   },
   "source": [
    "# Task Introduction and Data pre-processing (20 points)\n",
    "## Sentiment Analysis\n",
    "With the proliferation of online social media and review platforms, vast amounts of opinionated data have been generated, offering immense potential to support decision-making processes. Sentiment analysis examines people's sentiments expressed in text, such as product reviews, blog comments, and forum discussions. It finds wide applications in diverse fields, including politics (e.g., analyzing public sentiment towards policies), finance (e.g., evaluating market sentiments), and marketing (e.g., product research and brand management).\n",
    "\n",
    "Since sentiments can often be categorized into discrete polarities or scales (e.g., positive or negative), sentiment analysis can be framed as a text classification task. This task involves transforming text sequences of varying lengths into fixed-length categorical labels. \n",
    "\n",
    "## Data pre-processing\n",
    "In this project, we will utilize [Stanford's large movie review dataset](https://ai.stanford.edu/%7Eamaas/data/sentiment/) for sentiment analysis. The dataset consists of a training set and a testing set, each containing 25,000 movie reviews sourced from IMDb. Both datasets have an equal number of \"positive\" and \"negative\" labels, representing different sentiment polarities. Please download and extract this IMDb review dataset in the path `../data/aclImdb`.\n",
    "\n",
    "*Hints*: While the following instructions are based on a split of 25,000 for training and 25,000 for testing, you are free to choose your own dataset split, as we will provide a separate test set for the final evaluation. However, any changes you make to the default split must be clearly indicated in your report. Failure to explicitly mention such modifications may result in a penalty.\n",
    "\n"
   ]
  },
  {
   "cell_type": "code",
   "execution_count": 13,
   "metadata": {},
   "outputs": [],
   "source": [
    "import os\n",
    "import torch\n",
    "from torch import nn\n",
    "from d2l import torch as d2l # You can skip this if you have trouble with this package, all d2l-related codes can be replaced by torch functions."
   ]
  },
  {
   "cell_type": "code",
   "execution_count": null,
   "metadata": {},
   "outputs": [],
   "source": [
    "# Skip this if you have already downloaded the dataset\n",
    "d2l.DATA_HUB['aclImdb'] = (d2l.DATA_URL + 'aclImdb_v1.tar.gz',\n",
    "                          '01ada507287d82875905620988597833ad4e0903')\n",
    "\n",
    "data_dir = d2l.download_extract('aclImdb', 'aclImdb')"
   ]
  },
  {
   "cell_type": "markdown",
   "metadata": {},
   "source": [
    "# Questions"
   ]
  },
  {
   "cell_type": "markdown",
   "metadata": {
    "colab_type": "text",
    "id": "G0vxL-WpCdXX"
   },
   "source": [
    "### Question 1 [code] **(5 points)** \n",
    "Complete the function ``read_imdb``, which reads the IMDb review dataset text sequences and labels. Then, run the sanity check cell to check your implementation."
   ]
  },
  {
   "cell_type": "code",
   "execution_count": 30,
   "metadata": {
    "colab": {},
    "colab_type": "code",
    "id": "TOyoT-QiCdXY"
   },
   "outputs": [],
   "source": [
    "#@save\n",
    "def read_imdb(data_dir, is_train):\n",
    "    \"\"\"Read the IMDb review dataset text sequences and labels.\"\"\"\n",
    "    ### YOUR CODE HERE\n",
    "\n",
    "    data = []\n",
    "    labels = []\n",
    "    data_folder = 'train' if is_train else 'test'\n",
    "    \n",
    "    for label, label_folder in enumerate(['neg', 'pos']):\n",
    "        # Retrieve full path\n",
    "        full_path = os.path.join(data_dir, data_folder, label_folder)\n",
    "        for text_file in os.listdir(full_path):\n",
    "            # Read text\n",
    "            with open(os.path.join(full_path, text_file), 'r', encoding='utf-8') as f:\n",
    "                # Add text and label\n",
    "                data.append(f.read())\n",
    "                labels.append(label)\n",
    "    \n",
    "    ### END OF YOUR CODE\n",
    "    return data, labels\n"
   ]
  },
  {
   "cell_type": "code",
   "execution_count": 98,
   "metadata": {},
   "outputs": [],
   "source": [
    "data_dir = \"../data/aclImdb\"\n",
    "train_data, label = read_imdb(data_dir, is_train=True)"
   ]
  },
  {
   "cell_type": "code",
   "execution_count": 101,
   "metadata": {},
   "outputs": [
    {
     "name": "stdout",
     "output_type": "stream",
     "text": [
      "['Story of a man who has unnatural feelings for a pig.', 'Starts out with a opening scene that is a terrific example of absurd comedy.', \"A formal orchestra audience is turned into an insane, violent mob by the crazy chantings of it's singers.\", 'Unfortunately it stays absurd the WHOLE time with no general narrative eventually making it just too off putting.', 'Even those from the era should be turned off.', 'The cryptic dialogue would make Shakespeare seem easy to a third grader.', \"On a technical level it's better than you might think with some good cinematography by future great Vilmos Zsigmond.\", 'Future stars Sally Kirkland and Frederic Forrest can be seen briefly.']\n"
     ]
    }
   ],
   "source": [
    "sentences = sent_tokenize(train_data[0])\n",
    "print(sentences)"
   ]
  },
  {
   "cell_type": "code",
   "execution_count": 99,
   "metadata": {},
   "outputs": [
    {
     "data": {
      "text/plain": [
       "\"Story of a man who has unnatural feelings for a pig. Starts out with a opening scene that is a terrific example of absurd comedy. A formal orchestra audience is turned into an insane, violent mob by the crazy chantings of it's singers. Unfortunately it stays absurd the WHOLE time with no general narrative eventually making it just too off putting. Even those from the era should be turned off. The cryptic dialogue would make Shakespeare seem easy to a third grader. On a technical level it's better than you might think with some good cinematography by future great Vilmos Zsigmond. Future stars Sally Kirkland and Frederic Forrest can be seen briefly.\""
      ]
     },
     "execution_count": 99,
     "metadata": {},
     "output_type": "execute_result"
    }
   ],
   "source": [
    "train_data[0]"
   ]
  },
  {
   "cell_type": "code",
   "execution_count": 31,
   "metadata": {},
   "outputs": [
    {
     "name": "stdout",
     "output_type": "stream",
     "text": [
      "# trainings: 25000\n",
      "label: 0 review: Story of a man who has unnatural feelings for a pig. Starts \n",
      "label: 0 review: Airport '77 starts as a brand new luxury 747 plane is loaded\n",
      "label: 0 review: This film lacked something I couldn't put my finger on at fi\n"
     ]
    }
   ],
   "source": [
    "# Sanity check\n",
    "data_dir = \"../data/aclImdb\"\n",
    "train_data = read_imdb(data_dir, is_train=True)\n",
    "print('# trainings:', len(train_data[0]))\n",
    "for x, y in zip(train_data[0][:3], train_data[1][:3]):\n",
    "    print('label:', y, 'review:', x[:60])"
   ]
  },
  {
   "cell_type": "markdown",
   "metadata": {},
   "source": [
    "### Question 2 [code] **(5 points)** \n",
    "Treating each word as a token and filtering out words that appear less than 5 times, we create a vocabulary out of the training dataset. After tokenization, please plot the histogram of review lengths in tokens. (Hint: you can use ``matplotlib`` package to draw the histogram.) Then, run the sanity check cell to check your implementation."
   ]
  },
  {
   "cell_type": "code",
   "execution_count": 4,
   "metadata": {},
   "outputs": [],
   "source": [
    "train_tokens = d2l.tokenize(train_data[0], token='word')\n",
    "vocab = d2l.Vocab(train_tokens, min_freq=5, reserved_tokens=['<pad>'])"
   ]
  },
  {
   "cell_type": "code",
   "execution_count": 5,
   "metadata": {},
   "outputs": [
    {
     "data": {
      "image/png": "[encoded data removed]",
      "text/plain": [
       "<Figure size 640x480 with 1 Axes>"
      ]
     },
     "metadata": {},
     "output_type": "display_data"
    }
   ],
   "source": [
    "# xlabel: # tokens per review\n",
    "# ylabel: count\n",
    "### YOUR CODE HERE\n",
    "import matplotlib.pyplot as plt\n",
    "import numpy as np\n",
    "\n",
    "# Convert the train_tokens to a numpy array of num of tokens per review\n",
    "train_token_per_review = [len(tokens) for tokens in train_tokens]\n",
    "np_train_token_per_review = np.array(train_token_per_review)\n",
    "\n",
    "plt.hist(np_train_token_per_review, bins=50)\n",
    "plt.xlabel('Tokens per Review')\n",
    "plt.ylabel('Count')\n",
    "plt.show()\n",
    "### END OF YOUR CODE"
   ]
  },
  {
   "cell_type": "code",
   "execution_count": 6,
   "metadata": {},
   "outputs": [
    {
     "name": "stdout",
     "output_type": "stream",
     "text": [
      "torch.Size([25000, 500])\n"
     ]
    }
   ],
   "source": [
    "num_steps = 500  # sequence length\n",
    "train_features = torch.tensor([d2l.truncate_pad(\n",
    "    vocab[line], num_steps, vocab['<pad>']) for line in train_tokens])\n",
    "print(train_features.shape)"
   ]
  },
  {
   "cell_type": "markdown",
   "metadata": {},
   "source": [
    "### Question 3 [code] **(5 points)**\n",
    "Create data iterator ``train_iter``, at each iteration, a minibatch of examples are returned. Let's set the mini-batch size to 64.\n",
    "\n"
   ]
  },
  {
   "cell_type": "code",
   "execution_count": 7,
   "metadata": {},
   "outputs": [
    {
     "name": "stdout",
     "output_type": "stream",
     "text": [
      "X: torch.Size([64, 500]) , y: torch.Size([64])\n",
      "# batches: 391\n"
     ]
    }
   ],
   "source": [
    "### YOUR CODE HERE\n",
    "from torch.utils.data import Dataset, DataLoader\n",
    "\n",
    "class imdbDataset(Dataset):\n",
    "    def __init__(self, text_list, label_list):\n",
    "        self.text_list = text_list\n",
    "        self.label_list = label_list\n",
    "\n",
    "    def __len__(self):\n",
    "        return len(self.text_list)\n",
    "    \n",
    "    def __getitem__(self, index):\n",
    "        return self.text_list[index], self.label_list[index]\n",
    "    \n",
    "train_iter = DataLoader(imdbDataset(train_features, torch.tensor(train_data[1])),\n",
    "                        batch_size=64)\n",
    "\n",
    "### END OF YOUR CODE\n",
    "\n",
    "for X, y in train_iter:\n",
    "    print('X:', X.shape, ', y:', y.shape)\n",
    "    break\n",
    "print('# batches:', len(train_iter))"
   ]
  },
  {
   "cell_type": "markdown",
   "metadata": {
    "colab_type": "text",
    "id": "PVpoDgU7CdXb"
   },
   "source": [
    "### Question 4 [code] **(5 points)**\n",
    "Finally, wrap up the above steps into the ``load_data_imdb`` function. It returns training and test data iterators and the vocabulary of the IMDb review dataset.\n"
   ]
  },
  {
   "cell_type": "code",
   "execution_count": 8,
   "metadata": {},
   "outputs": [],
   "source": [
    "#@save\n",
    "def load_data_imdb(batch_size, num_steps=500):\n",
    "    \"\"\"Return data iterators and the vocabulary of the IMDb review dataset.\"\"\"\n",
    "    ### YOUR CODE HERE\n",
    "\n",
    "    # Retrieve train and test data\n",
    "    data_dir = \"../data/aclImdb\"\n",
    "    train_data, train_labels = read_imdb(data_dir, True)\n",
    "    test_data, test_labels = read_imdb(data_dir, False)\n",
    "\n",
    "    # Tokenise data\n",
    "    train_tokens = d2l.tokenize(train_data, token='word')\n",
    "    test_tokens = d2l.tokenize(test_data, token='word')\n",
    "\n",
    "    # Retrieve vocab (only use train data)\n",
    "    vocab = d2l.Vocab(train_tokens, min_freq=5, reserved_tokens=['<pad>'])\n",
    "    \n",
    "    # Retrieve and pad features from vocab\n",
    "    train_features = torch.tensor([d2l.truncate_pad(vocab[line], num_steps, vocab['<pad>']) for line in train_tokens])\n",
    "    test_features = torch.tensor([d2l.truncate_pad(vocab[line], num_steps, vocab['<pad>']) for line in test_tokens])\n",
    "\n",
    "    # Shuffle for train\n",
    "    train_iter = DataLoader(imdbDataset(train_features, torch.tensor(train_labels)),\n",
    "                            batch_size=batch_size, shuffle=True)\n",
    "    \n",
    "    test_iter = DataLoader(imdbDataset(test_features, torch.tensor(test_labels)),\n",
    "                           batch_size=batch_size)\n",
    "    ### END OF YOUR CODE\n",
    "    return train_iter, test_iter, vocab"
   ]
  },
  {
   "cell_type": "markdown",
   "metadata": {
    "colab_type": "text",
    "id": "2kAezpJ9CdXd"
   },
   "source": [
    "# Using RNN for sentiment analysis (30 points)\n",
    "Similar to word similarity and analogy tasks, pre-trained word vectors can also be applied to sentiment analysis. Given that the IMDb review dataset is relatively small, using text representations pre-trained on large-scale corpora can help mitigate model overfitting. Each token can be represented using the pre-trained GloVe model, and these token embeddings can be fed into a multilayer bidirectional RNN to generate a sequence representation of the text, which will then be transformed into sentiment analysis outputs. Later, we will explore an alternative architectural approach for the same downstream task."
   ]
  },
  {
   "cell_type": "markdown",
   "metadata": {},
   "source": [
    "### Question 5 [code] **(10 points)**\n",
    "In text classification tasks, such as sentiment analysis, a varying-length text sequence is transformed into fixed-length categorical labels. Following the instructions, please complete ``BiRNN`` class, each token in a text sequence receives its individual pre-trained GloVe representation through the embedding layer (``self.embedding``). The entire sequence is then encoded by a bidirectional RNN (``self.encoder``). Specifically, the hidden states from the last layer of the bidirectional LSTM, at both the initial and final time steps, are concatenated to form the representation of the text sequence. This representation is subsequently passed through a fully connected layer (``self.decoder``) to produce the final output categories, which in this case are \"positive\" and \"negative\"."
   ]
  },
  {
   "cell_type": "code",
   "execution_count": 9,
   "metadata": {},
   "outputs": [],
   "source": [
    "batch_size = 64\n",
    "train_iter, test_iter, vocab = load_data_imdb(batch_size)"
   ]
  },
  {
   "cell_type": "code",
   "execution_count": 10,
   "metadata": {},
   "outputs": [],
   "source": [
    "class BiRNN(nn.Module):\n",
    "    def __init__(self, vocab_size, embed_size, num_hiddens,\n",
    "                 num_layers, **kwargs):\n",
    "        super(BiRNN, self).__init__(**kwargs)\n",
    "        self.embedding = nn.Embedding(vocab_size, embed_size)\n",
    "        # Set `bidirectional` to True to get a bidirectional RNN\n",
    "        self.encoder = nn.LSTM(embed_size, num_hiddens, num_layers=num_layers,\n",
    "                                bidirectional=True)\n",
    "        self.decoder = nn.Linear(4 * num_hiddens, 2)\n",
    "\n",
    "    def forward(self, inputs):\n",
    "        # The shape of `inputs` is (batch size, no. of time steps). Because\n",
    "        # LSTM requires its input's first dimension to be the temporal\n",
    "        # dimension, the input is transposed before obtaining token\n",
    "        # representations. The output shape is (no. of time steps, batch size,\n",
    "        # word vector dimension)\n",
    "        \n",
    "        # Returns hidden states of the last hidden layer at different time\n",
    "        # steps. The shape of `outputs` is (no. of time steps, batch size,\n",
    "        # 2 * no. of hidden units)\n",
    "        \n",
    "        # Concatenate the hidden states at the initial and final time steps as\n",
    "        # the input of the fully connected layer. Its shape is (batch size,\n",
    "        # 4 * no. of hidden units)\n",
    "        \n",
    "        ### YOUR CODE HERE\n",
    "        token_representation = self.embedding(inputs.T)\n",
    "        h, c = self.encoder(token_representation)\n",
    "        x = torch.cat((h[0], h[-1]), dim=1) #append it on the hidden units instead of batch size\n",
    "        outs = self.decoder(x)\n",
    "\n",
    "        ### END OF YOUR CODE\n",
    "\n",
    "        return outs"
   ]
  },
  {
   "cell_type": "markdown",
   "metadata": {},
   "source": [
    "Let’s construct a bidirectional RNN with two hidden layers to represent single text for sentiment analysis."
   ]
  },
  {
   "cell_type": "code",
   "execution_count": 11,
   "metadata": {},
   "outputs": [
    {
     "data": {
      "text/plain": [
       "BiRNN(\n",
       "  (embedding): Embedding(49347, 100)\n",
       "  (encoder): LSTM(100, 100, num_layers=2, bidirectional=True)\n",
       "  (decoder): Linear(in_features=400, out_features=2, bias=True)\n",
       ")"
      ]
     },
     "execution_count": 11,
     "metadata": {},
     "output_type": "execute_result"
    }
   ],
   "source": [
    "embed_size, num_hiddens, num_layers, devices = 100, 100, 2, d2l.try_all_gpus()\n",
    "net = BiRNN(len(vocab), embed_size, num_hiddens, num_layers)\n",
    "\n",
    "def init_weights(module):\n",
    "    if type(module) == nn.Linear:\n",
    "        nn.init.xavier_uniform_(module.weight)\n",
    "    if type(module) == nn.LSTM:\n",
    "        for param in module._flat_weights_names:\n",
    "            if \"weight\" in param:\n",
    "                nn.init.xavier_uniform_(module._parameters[param])\n",
    "net.apply(init_weights)"
   ]
  },
  {
   "cell_type": "markdown",
   "metadata": {},
   "source": [
    "### Loading Pretrained Word Vectors"
   ]
  },
  {
   "cell_type": "code",
   "execution_count": 12,
   "metadata": {},
   "outputs": [
    {
     "data": {
      "text/plain": [
       "torch.Size([49347, 100])"
      ]
     },
     "execution_count": 12,
     "metadata": {},
     "output_type": "execute_result"
    }
   ],
   "source": [
    "glove_embedding = d2l.TokenEmbedding('glove.6b.100d')\n",
    "embeds = glove_embedding[vocab.idx_to_token]\n",
    "embeds.shape # Print the shape of the vectors for all the tokens in the vocabulary."
   ]
  },
  {
   "cell_type": "markdown",
   "metadata": {},
   "source": [
    "We use these pretrained word vectors to represent tokens in the reviews and will not update these vectors during training"
   ]
  },
  {
   "cell_type": "code",
   "execution_count": 13,
   "metadata": {},
   "outputs": [],
   "source": [
    "net.embedding.weight.data.copy_(embeds)\n",
    "net.embedding.weight.requires_grad = False"
   ]
  },
  {
   "cell_type": "markdown",
   "metadata": {},
   "source": [
    "### Question 6 [code] **(10 points)**\n",
    "After loading the pretrained word vectors, we can now start to train the model. Please use ``Adam`` optimizer and ``CrossEntropyLoss`` for training and draw a graph about your training loss, training acc and testing acc."
   ]
  },
  {
   "cell_type": "code",
   "execution_count": 14,
   "metadata": {
    "scrolled": true
   },
   "outputs": [
    {
     "name": "stdout",
     "output_type": "stream",
     "text": [
      "Training with cuda\n",
      "Epoch 1 completed, train_loss: 0.6142118272878935, train_acc: 0.63948, test_acc: 0.81324\n",
      "Epoch 2 completed, train_loss: 0.3942918231343979, train_acc: 0.82476, test_acc: 0.83736\n",
      "Epoch 3 completed, train_loss: 0.34023482266746824, train_acc: 0.85144, test_acc: 0.84476\n",
      "Epoch 4 completed, train_loss: 0.307679918720899, train_acc: 0.86972, test_acc: 0.85064\n",
      "Epoch 5 completed, train_loss: 0.2801457133782489, train_acc: 0.87984, test_acc: 0.85076\n"
     ]
    },
    {
     "data": {
      "image/png": "[encoded data removed]",
      "text/plain": [
       "<Figure size 640x480 with 1 Axes>"
      ]
     },
     "metadata": {},
     "output_type": "display_data"
    }
   ],
   "source": [
    "lr, num_epochs = 0.01, 5\n",
    "### YOUR CODE HERE\n",
    "\n",
    "device = torch.device(\"cuda\" if torch.cuda.is_available() else \"cpu\")\n",
    "print(f\"Training with {device}\")\n",
    "\n",
    "criterion = torch.nn.CrossEntropyLoss(ignore_index=vocab[\"<pad>\"])\n",
    "optimizer = torch.optim.Adam(net.parameters(), lr=lr)\n",
    "\n",
    "train_loss_container = []\n",
    "train_acc_container = []\n",
    "test_acc_container = []\n",
    "\n",
    "for epoch in range(num_epochs):\n",
    "    total_train_loss = 0\n",
    "    total_train_correct = 0\n",
    "    total_train_samples = 0\n",
    "    total_test_correct = 0\n",
    "    total_test_samples = 0\n",
    "\n",
    "    # Setup training \n",
    "    net.train()\n",
    "    net.to(device)\n",
    "\n",
    "    for idx, (sentence, label) in enumerate(train_iter):\n",
    "        sentence, label = sentence.to(device), label.to(device)\n",
    "        # Get predictions and loss\n",
    "        outputs = net(sentence)\n",
    "        loss = criterion(outputs, label)\n",
    "        total_train_loss += loss.item()\n",
    "\n",
    "        # Train\n",
    "        optimizer.zero_grad()\n",
    "        loss.backward()\n",
    "        optimizer.step()\n",
    "\n",
    "\n",
    "        # Count accuracy\n",
    "        _, predicted = torch.max(outputs, dim=1)\n",
    "        total_train_correct += (predicted == label).sum().item()\n",
    "        total_train_samples += label.shape[0]\n",
    "\n",
    "    # Evaluation for test\n",
    "    net.eval()\n",
    "    for idx, (sentence, label) in enumerate(test_iter):\n",
    "        sentence, label = sentence.to(device), label.to(device)\n",
    "        outputs = net(sentence)\n",
    "        # Count accuracy\n",
    "        _, predicted = torch.max(outputs, dim=1)\n",
    "        total_test_correct += (predicted == label).sum().item()\n",
    "        total_test_samples += label.shape[0]\n",
    "\n",
    "    train_loss_container.append(total_train_loss/len(train_iter)) #total num of batches\n",
    "    train_acc_container.append(total_train_correct/total_train_samples)\n",
    "    test_acc_container.append(total_test_correct/total_test_samples)\n",
    "\n",
    "    print(f\"Epoch {epoch+1} completed, train_loss: {total_train_loss/len(train_iter)}, train_acc: {total_train_correct/total_train_samples}, test_acc: {total_test_correct/total_test_samples}\")\n",
    "\n",
    "\n",
    "# Graph with matplotlib\n",
    "# Plot each list\n",
    "plt.plot(train_loss_container, label='Train Loss', color='blue')\n",
    "plt.plot(train_acc_container, label='Train Acc', color='green')\n",
    "plt.plot(test_acc_container, label='Test Acc', color='red')\n",
    "\n",
    "# Add labels and legend\n",
    "plt.xlabel(\"Epoch\")\n",
    "plt.legend()\n",
    "plt.show()\n",
    "\n",
    "### END OF YOUR CODE"
   ]
  },
  {
   "cell_type": "markdown",
   "metadata": {},
   "source": [
    "### Question 7 [code] **(10 points)**\n",
    "Once you have completed the training, it's time to evaluate your model's performance. Implement the function ``predict_sentiment`` to predict the sentiment of a text sequence using the trained model ``net``. Next, define the function ``cal_metrics`` to assess your model on the test set by calculating both accuracy and the F1-score, including precision and recall. Finally, print out the evaluation results. Save the prediction results for each test sample and submit it in the zip file."
   ]
  },
  {
   "cell_type": "code",
   "execution_count": 15,
   "metadata": {},
   "outputs": [],
   "source": [
    "#@save\n",
    "def predict_sentiment(net, vocab, sequence):\n",
    "    \"\"\"Predict the sentiment of a text sequence.\"\"\"\n",
    "    ### YOUR CODE HERE\n",
    "    sequence_index = torch.tensor(vocab[sequence.split()])\n",
    "\n",
    "    # Unsqueeze for a batch size of 1\n",
    "    sequence_index, net = sequence_index.reshape(1,-1).to(device), net.to(device)\n",
    "\n",
    "    outputs = net(sequence_index)\n",
    "    __, label = torch.max(outputs, dim=1)\n",
    "\n",
    "\n",
    "    ### END OF YOUR CODE\n",
    "    return 'positive' if label == 1 else 'negative'"
   ]
  },
  {
   "cell_type": "code",
   "execution_count": 16,
   "metadata": {},
   "outputs": [
    {
     "data": {
      "text/plain": [
       "'positive'"
      ]
     },
     "execution_count": 16,
     "metadata": {},
     "output_type": "execute_result"
    }
   ],
   "source": [
    "predict_sentiment(net, vocab, 'this movie is so great')"
   ]
  },
  {
   "cell_type": "code",
   "execution_count": 17,
   "metadata": {},
   "outputs": [
    {
     "data": {
      "text/plain": [
       "'negative'"
      ]
     },
     "execution_count": 17,
     "metadata": {},
     "output_type": "execute_result"
    }
   ],
   "source": [
    "predict_sentiment(net, vocab, 'this movie is so bad')"
   ]
  },
  {
   "cell_type": "code",
   "execution_count": 27,
   "metadata": {},
   "outputs": [],
   "source": [
    "import pandas as pd\n",
    "from sklearn.metrics import f1_score, precision_score, recall_score, accuracy_score\n",
    "\n",
    "def cal_metrics(net, test_iter, vocab, csv_filepath): # you can define what input you need in this function\n",
    "    # Rember to output your prediction results and submit together in the zip file\n",
    "    # You can do it within this function, or you create a new function to save the output, both methods are fine\n",
    "    ### YOUR CODE HERE\n",
    "    \n",
    "    sentence_list = []\n",
    "    actual_list = []\n",
    "    prediction_list = []\n",
    "\n",
    "    scores = {'TP': 0, 'FP': 0, 'TN': 0, 'FN': 0}\n",
    "\n",
    "    net.to(device)\n",
    "    net.eval()\n",
    "\n",
    "    for idx, (sentence, label) in enumerate(test_iter):\n",
    "        \n",
    "        # Append dataset\n",
    "        for sent in sentence.numpy():\n",
    "            word_tokens = vocab.to_tokens(sent)\n",
    "            try:\n",
    "                pad_index = word_tokens.index('<pad>')\n",
    "                sentence_list.append(\" \".join(word_tokens[:pad_index]))\n",
    "            # no pad\n",
    "            except:\n",
    "                sentence_list.append(\" \".join(word_tokens))\n",
    "\n",
    "\n",
    "        actual_labels = [\"negative\" if pred == 0 else \"positive\" for pred in label.numpy()]\n",
    "        actual_list.extend(actual_labels)\n",
    "\n",
    "        sentence, label = sentence.to(device), label.to(device)\n",
    "        outputs = net(sentence)\n",
    "\n",
    "        # Get prediction\n",
    "        _, predicted = torch.max(outputs, dim=1)\n",
    "        \n",
    "        # Append prediction but must convert to cpu\n",
    "        predicted_labels = [\"negative\" if pred == 0 else \"positive\" for pred in predicted.cpu().numpy()]\n",
    "        prediction_list.extend(predicted_labels)\n",
    "\n",
    "        # Calculate TP, FP, TN, FN\n",
    "        for actual, predicted in zip(label.cpu().numpy(), predicted.cpu().numpy()):\n",
    "            if actual == 1 and predicted == 1:\n",
    "                scores['TP'] += 1  # True Positive\n",
    "            elif actual == 0 and predicted == 1:\n",
    "                scores['FP'] += 1  # False Positive\n",
    "            elif actual == 0 and predicted == 0:\n",
    "                scores['TN'] += 1  # True Negative\n",
    "            elif actual == 1 and predicted == 0:\n",
    "                scores['FN'] += 1  # False Negative\n",
    "\n",
    "\n",
    "    precision = scores['TP'] / (scores['TP'] + scores['FP'])\n",
    "    recall = scores['TP'] / (scores['TP'] + scores['FN'])\n",
    "    accuracy = (scores['TP'] + scores['TN']) / sum(scores.values())\n",
    "    F1_Score = (2*precision*recall) / (precision + recall)\n",
    "\n",
    "    data = pd.DataFrame({\n",
    "        'Sentence': sentence_list,\n",
    "        'Actual': actual_list,\n",
    "        \"Predicted\": prediction_list\n",
    "    })\n",
    "\n",
    "    data.to_csv(csv_filepath, index=False)\n",
    "\n",
    "    print(\"F1_score:\", F1_Score)\n",
    "    print(\"Precision:\", precision)\n",
    "    print(\"Recall:\", recall)\n",
    "    print(\"Accuracy:\", accuracy)\n",
    "\n",
    "\n",
    "    ### END OF YOUR CODE\n",
    "\n",
    "    return F1_Score, precision, recall, accuracy"
   ]
  },
  {
   "cell_type": "code",
   "execution_count": 28,
   "metadata": {},
   "outputs": [
    {
     "name": "stdout",
     "output_type": "stream",
     "text": [
      "F1_score: 0.8410514207813231\n",
      "Precision: 0.8995716759318326\n",
      "Recall: 0.78968\n",
      "Accuracy: 0.85076\n"
     ]
    },
    {
     "data": {
      "text/plain": [
       "(0.8410514207813231, 0.8995716759318326, 0.78968, 0.85076)"
      ]
     },
     "execution_count": 28,
     "metadata": {},
     "output_type": "execute_result"
    }
   ],
   "source": [
    "cal_metrics(net, test_iter, vocab, '../src/outputs/RNN.csv')"
   ]
  },
  {
   "cell_type": "markdown",
   "metadata": {},
   "source": [
    "# Using CNN for sentiment analysis (20 points)\n",
    "Although CNNs were originally designed for computer vision, they have been widely adopted in natural language processing as well. Conceptually, a text sequence can be viewed as a one-dimensional image, allowing one-dimensional CNNs to capture local features, such as n-grams, within the text. We will use the textCNN model to demonstrate how to design a CNN architecture for representing a single text.\n",
    "\n",
    "Using one-dimensional convolution and max-over-time pooling, the textCNN model takes individual pre-trained token representations as input, then extracts and transforms these sequence representations for downstream tasks.\n",
    "\n",
    "For a single text sequence with $n$ tokens represented by $d$-dimensional vectors, the width, height, and number of channels of the input tensor are $n$, $1$, and $d$, respectively. The textCNN model processes the input as follows:\n",
    "\n",
    "1. Define multiple one-dimensional convolutional kernels and apply convolution operations on the inputs. Convolution kernels with varying widths capture local features across different numbers of adjacent tokens.\n",
    "2. Apply max-over-time pooling to all output channels, then concatenate the resulting scalar outputs into a vector.\n",
    "3. Pass the concatenated vector through a fully connected layer to generate the output categories. Dropout can be applied to reduce overfitting."
   ]
  },
  {
   "cell_type": "markdown",
   "metadata": {},
   "source": [
    "### Question 8 [code] **(10 points)**\n",
    "Implement the ``textCNN`` model class. Compared with the bidirectional RNN model in Section 2, besides replacing recurrent layers with convolutional layers, we also use two embedding layers: one with trainable weights and the other with fixed weights."
   ]
  },
  {
   "cell_type": "code",
   "execution_count": 29,
   "metadata": {},
   "outputs": [],
   "source": [
    "batch_size = 64\n",
    "# train_iter, test_iter, vocab = d2l.load_data_imdb(batch_size)\n",
    "train_iter, test_iter, vocab = load_data_imdb(batch_size)"
   ]
  },
  {
   "cell_type": "code",
   "execution_count": 30,
   "metadata": {},
   "outputs": [],
   "source": [
    "class TextCNN(nn.Module):\n",
    "    def __init__(self, vocab_size, embed_size, kernel_sizes, num_channels,\n",
    "                 **kwargs):\n",
    "        super(TextCNN, self).__init__(**kwargs)\n",
    "        self.embedding = nn.Embedding(vocab_size, embed_size)\n",
    "        # The embedding layer not to be trained\n",
    "        self.constant_embedding = nn.Embedding(vocab_size, embed_size)\n",
    "        self.dropout = nn.Dropout(0.5)\n",
    "        self.decoder = nn.Linear(sum(num_channels), 2)\n",
    "        # The max-over-time pooling layer has no parameters, so this instance\n",
    "        # can be shared\n",
    "        self.pool = nn.AdaptiveAvgPool1d(1)\n",
    "        self.relu = nn.ReLU()\n",
    "        # Create multiple one-dimensional convolutional layers\n",
    "        self.convs = nn.ModuleList()\n",
    "        for c, k in zip(num_channels, kernel_sizes):\n",
    "            self.convs.append(nn.Conv1d(2 * embed_size, c, k))\n",
    "\n",
    "    def forward(self, inputs):\n",
    "        # Concatenate two embedding layer outputs with shape (batch size, no.\n",
    "        # of tokens, token vector dimension) along vectors\n",
    "        \n",
    "        # Per the input format of one-dimensional convolutional layers,\n",
    "        # rearrange the tensor so that the second dimension stores channels\n",
    "        \n",
    "        # For each one-dimensional convolutional layer, after max-over-time\n",
    "        # pooling, a tensor of shape (batch size, no. of channels, 1) is\n",
    "        # obtained. Remove the last dimension and concatenate along channels\n",
    "        \n",
    "        ### YOUR CODE HERE\n",
    "        embed_1 = self.embedding(inputs)\n",
    "        embed_2 = self.constant_embedding(inputs)\n",
    "\n",
    "        x = torch.concat((embed_1, embed_2), dim=2) # along token vector dimension\n",
    "        # Resize (batchsize, no of tokens, tokenvector dim) to (batchsize, token vector dim, no of tokens)\n",
    "        x = x.permute(0, 2, 1)\n",
    "\n",
    "        out = []\n",
    "\n",
    "        for conv_layer in self.convs:\n",
    "            y = conv_layer(x)\n",
    "            y1 = self.pool(y).squeeze(-1) # pooling and removing last dimension\n",
    "            y2 = self.relu(y1) # relu\n",
    "            out.append(y2)\n",
    "\n",
    "        out = torch.concat(out, dim=1)\n",
    "\n",
    "        outputs = self.dropout(out)\n",
    "        outputs = self.decoder(outputs)\n",
    "\n",
    "        ### END OF YOUR CODE\n",
    "\n",
    "        return outputs"
   ]
  },
  {
   "cell_type": "code",
   "execution_count": 31,
   "metadata": {},
   "outputs": [
    {
     "data": {
      "text/plain": [
       "TextCNN(\n",
       "  (embedding): Embedding(49347, 100)\n",
       "  (constant_embedding): Embedding(49347, 100)\n",
       "  (dropout): Dropout(p=0.5, inplace=False)\n",
       "  (decoder): Linear(in_features=300, out_features=2, bias=True)\n",
       "  (pool): AdaptiveAvgPool1d(output_size=1)\n",
       "  (relu): ReLU()\n",
       "  (convs): ModuleList(\n",
       "    (0): Conv1d(200, 100, kernel_size=(3,), stride=(1,))\n",
       "    (1): Conv1d(200, 100, kernel_size=(4,), stride=(1,))\n",
       "    (2): Conv1d(200, 100, kernel_size=(5,), stride=(1,))\n",
       "  )\n",
       ")"
      ]
     },
     "execution_count": 31,
     "metadata": {},
     "output_type": "execute_result"
    }
   ],
   "source": [
    "embed_size, kernel_sizes, nums_channels = 100, [3, 4, 5], [100, 100, 100]\n",
    "devices = d2l.try_all_gpus()\n",
    "net = TextCNN(len(vocab), embed_size, kernel_sizes, nums_channels)\n",
    "\n",
    "def init_weights(module):\n",
    "    if type(module) in (nn.Linear, nn.Conv1d):\n",
    "        nn.init.xavier_uniform_(module.weight)\n",
    "\n",
    "net.apply(init_weights)"
   ]
  },
  {
   "cell_type": "code",
   "execution_count": 32,
   "metadata": {},
   "outputs": [],
   "source": [
    "glove_embedding = d2l.TokenEmbedding('glove.6b.100d')\n",
    "embeds = glove_embedding[vocab.idx_to_token]\n",
    "net.embedding.weight.data.copy_(embeds)\n",
    "net.constant_embedding.weight.data.copy_(embeds)\n",
    "net.constant_embedding.weight.requires_grad = False"
   ]
  },
  {
   "cell_type": "markdown",
   "metadata": {},
   "source": [
    "### Question 9 [code] **(10 points)**\n",
    "Similar to what we have done in Section 2 with RNN, train the CNN model with the same optimizer and loss function. Draw a graph about your training loss, training acc and testing acc. Use the prediction function you defined in Question 7 to evaluate your model performance."
   ]
  },
  {
   "cell_type": "code",
   "execution_count": 33,
   "metadata": {},
   "outputs": [
    {
     "name": "stdout",
     "output_type": "stream",
     "text": [
      "Training with cuda\n",
      "Epoch 1 completed, train_loss: 0.5279701089919986, train_acc: 0.74108, test_acc: 0.83548\n",
      "Epoch 2 completed, train_loss: 0.2959471586377115, train_acc: 0.88152, test_acc: 0.86352\n",
      "Epoch 3 completed, train_loss: 0.18477541969522185, train_acc: 0.92892, test_acc: 0.87352\n",
      "Epoch 4 completed, train_loss: 0.11622735162449005, train_acc: 0.95848, test_acc: 0.86996\n",
      "Epoch 5 completed, train_loss: 0.0698420956059147, train_acc: 0.97784, test_acc: 0.87616\n"
     ]
    },
    {
     "data": {
      "image/png": "[encoded data removed]",
      "text/plain": [
       "<Figure size 640x480 with 1 Axes>"
      ]
     },
     "metadata": {},
     "output_type": "display_data"
    }
   ],
   "source": [
    "lr, num_epochs = 0.001, 5\n",
    "### YOUR CODE HERE\n",
    "\n",
    "device = torch.device(\"cuda\" if torch.cuda.is_available() else \"cpu\")\n",
    "print(f\"Training with {device}\")\n",
    "\n",
    "criterion = torch.nn.CrossEntropyLoss(ignore_index=vocab[\"<pad>\"])\n",
    "optimizer = torch.optim.Adam(net.parameters(), lr=lr)\n",
    "\n",
    "train_loss_container = []\n",
    "train_acc_container = []\n",
    "test_acc_container = []\n",
    "\n",
    "for epoch in range(num_epochs):\n",
    "    total_train_loss = 0\n",
    "    total_train_correct = 0\n",
    "    total_train_samples = 0\n",
    "    total_test_correct = 0\n",
    "    total_test_samples = 0\n",
    "\n",
    "    # Setup training \n",
    "    net.train()\n",
    "    net.to(device)\n",
    "\n",
    "    for idx, (sentence, label) in enumerate(train_iter):\n",
    "        sentence, label = sentence.to(device), label.to(device)\n",
    "        # Get predictions and loss\n",
    "        outputs = net(sentence)\n",
    "        loss = criterion(outputs, label)\n",
    "        total_train_loss += loss.item()\n",
    "\n",
    "        # Train\n",
    "        optimizer.zero_grad()\n",
    "        loss.backward()\n",
    "        optimizer.step()\n",
    "\n",
    "\n",
    "        # Count accuracy\n",
    "        _, predicted = torch.max(outputs, dim=1)\n",
    "        total_train_correct += (predicted == label).sum().item()\n",
    "        total_train_samples += label.shape[0]\n",
    "\n",
    "    # Evaluation for test\n",
    "    net.eval()\n",
    "    for idx, (sentence, label) in enumerate(test_iter):\n",
    "        sentence, label = sentence.to(device), label.to(device)\n",
    "        outputs = net(sentence)\n",
    "        # Count accuracy\n",
    "        _, predicted = torch.max(outputs, dim=1)\n",
    "        total_test_correct += (predicted == label).sum().item()\n",
    "        total_test_samples += label.shape[0]\n",
    "\n",
    "    train_loss_container.append(total_train_loss/len(train_iter)) #total num of batches\n",
    "    train_acc_container.append(total_train_correct/total_train_samples)\n",
    "    test_acc_container.append(total_test_correct/total_test_samples)\n",
    "\n",
    "    print(f\"Epoch {epoch+1} completed, train_loss: {total_train_loss/len(train_iter)}, train_acc: {total_train_correct/total_train_samples}, test_acc: {total_test_correct/total_test_samples}\")\n",
    "\n",
    "\n",
    "# Graph with matplotlib\n",
    "# Plot each list\n",
    "plt.plot(train_loss_container, label='Train Loss', color='blue')\n",
    "plt.plot(train_acc_container, label='Train Acc', color='green')\n",
    "plt.plot(test_acc_container, label='Test Acc', color='red')\n",
    "\n",
    "# Add labels and legend\n",
    "plt.xlabel(\"Epoch\")\n",
    "plt.legend()\n",
    "plt.show()\n",
    "\n",
    "### END OF YOUR CODE\n",
    "\n",
    "### END OF YOUR CODE"
   ]
  },
  {
   "cell_type": "code",
   "execution_count": 34,
   "metadata": {},
   "outputs": [
    {
     "data": {
      "text/plain": [
       "'positive'"
      ]
     },
     "execution_count": 34,
     "metadata": {},
     "output_type": "execute_result"
    }
   ],
   "source": [
    "predict_sentiment(net, vocab, 'this movie is so great')"
   ]
  },
  {
   "cell_type": "code",
   "execution_count": 35,
   "metadata": {},
   "outputs": [
    {
     "data": {
      "text/plain": [
       "'negative'"
      ]
     },
     "execution_count": 35,
     "metadata": {},
     "output_type": "execute_result"
    }
   ],
   "source": [
    "predict_sentiment(net, vocab, 'this movie is so bad')"
   ]
  },
  {
   "cell_type": "code",
   "execution_count": 36,
   "metadata": {},
   "outputs": [
    {
     "name": "stdout",
     "output_type": "stream",
     "text": [
      "F1_score: 0.877570389117368\n",
      "Precision: 0.8676884579293087\n",
      "Recall: 0.88768\n",
      "Accuracy: 0.87616\n"
     ]
    },
    {
     "data": {
      "text/plain": [
       "(0.877570389117368, 0.8676884579293087, 0.88768, 0.87616)"
      ]
     },
     "execution_count": 36,
     "metadata": {},
     "output_type": "execute_result"
    }
   ],
   "source": [
    "cal_metrics(net, test_iter, vocab, '../src/outputs/CNN.csv')"
   ]
  },
  {
   "cell_type": "markdown",
   "metadata": {},
   "source": [
    "# Design Challenge (30 points)\n",
    "Now it's time to come up with your own model! You are free to decide what model you want to choose or what architecture you think is better for this task. You are also free to set all the hyperparameter for training (do consider the overfitting issue and the computing cost). From here we will see how important choosing/designing a better model architecture could be when building an NLP application in practice (however, there is no requirement for you to include such comparisons in your report).\n",
    "\n",
    "You are allowed to use external packages for this challenge, but we require that you fully understand the methods/techniques that you used, and you need to clearly explain such details in the submitted report. We will evaluate your system's performance on the held-out test set, which will only be released 48 hours before the deadline. Use your new system to generate the outputs. The system that achieves the highest F1 score will be announced as the winner for the challenge. We may perform further analysis/evaluations in case there is no clear winner based on the released test set.\n",
    "\n",
    "Let's summarize this challenge:"
   ]
  },
  {
   "cell_type": "markdown",
   "metadata": {},
   "source": [
    "(i) **[Model]** You are required to develop your own model for sentiment analysis, with no restrictions on the model architecture. You may choose to follow RNN/CNN structures or experiment with Transformer-based models. In your submitted report, you must provide a detailed explanation of your model along with the accompanying code. Additionally, you are required to submit your model so that we can reproduce your results.\n",
    "\n",
    "*_(10 points)_*\n",
    "\n",
    "(ii) **[Evaluation]** For a fair comparison, you must train your new model on the same dataset provided to you. After training, evaluate your model on the test set. You are required to report the **precision**, **recall**, **F1 scores**, and **accuracy** of your new model. Save the predicted outcome for the test set and include it in the submission.\n",
    "\n",
    "_Hint:_ You will be competing with other groups on the same test set. Groups with higher performance will receive more points. For instance, if your group ranks 1st among all groups, you will receive 15 points for this section.\n",
    "\n",
    "*_(15 points)_*\n",
    "\n",
    "(iii) **[Report]** You are required to submit a report for your model. The report must include, at a minimum, the following sections: Model Description, Training Settings (e.g., dataset, hyperparameters), Performance, Code to run the model, and a breakdown of how the work was divided among team members. You are encouraged to include any additional details you deem important. Instructions on how to run the code can either be included in a separate README file or integrated into the report, as long as they are clearly presented.\n",
    "\n",
    "Please provide a thorough explanation of the model or method you used for designing the new system, along with clear documentation on how to execute the code. We will review your code, and may request an interview if we have any questions about it.\n",
    "\n",
    "_Note:_ Reports, code, and README files that are of low quality or poorly written will be penalized, so please ensure they are well-organized and clearly formatted. If we are unable to reproduce your model or run your code, you will not receive any points for this challenge.\n",
    "\n",
    "*_(5 points)_*"
   ]
  },
  {
   "cell_type": "markdown",
   "metadata": {},
   "source": [
    "# Start your model in a different .py file with a README explaination."
   ]
  },
  {
   "cell_type": "markdown",
   "metadata": {},
   "source": [
    "### Exploring the scores of existing pretrained models\n",
    "Sets the preceding benchmark\n",
    "1. Textblob\n",
    "2. Vader\n",
    "3. Flair\n",
    "4. Hugging Face models"
   ]
  },
  {
   "cell_type": "code",
   "execution_count": 23,
   "metadata": {},
   "outputs": [],
   "source": [
    "from tqdm import tqdm\n",
    "from sklearn.metrics import precision_score, recall_score, accuracy_score, f1_score"
   ]
  },
  {
   "cell_type": "code",
   "execution_count": 24,
   "metadata": {},
   "outputs": [
    {
     "name": "stdout",
     "output_type": "stream",
     "text": [
      "# test: 25000\n",
      "label: 0 review: Once again Mr. Costner has dragged out a movie for far longe\n",
      "label: 0 review: This is an example of why the majority of action films are t\n",
      "label: 0 review: First of all I hate those moronic rappers, who could'nt act \n"
     ]
    }
   ],
   "source": [
    "data_dir = \"../data/aclImdb\"\n",
    "test_data = read_imdb(data_dir, is_train=False)\n",
    "print('# test:', len(test_data[0]))\n",
    "for x, y in zip(test_data[0][:3], test_data[1][:3]):\n",
    "    print('label:', y, 'review:', x[:60])"
   ]
  },
  {
   "cell_type": "code",
   "execution_count": 25,
   "metadata": {},
   "outputs": [],
   "source": [
    "from textblob import TextBlob\n",
    "from textblob.sentiments import NaiveBayesAnalyzer,PatternAnalyzer"
   ]
  },
  {
   "cell_type": "code",
   "execution_count": 26,
   "metadata": {},
   "outputs": [
    {
     "name": "stderr",
     "output_type": "stream",
     "text": [
      "100%|██████████| 25000/25000 [00:15<00:00, 1646.71it/s]"
     ]
    },
    {
     "name": "stdout",
     "output_type": "stream",
     "text": [
      "Precision Score: 0.626313288633124\n",
      "Recall Score: 0.94904\n",
      "Accuracy Score: 0.6914\n",
      "F1 Score: 0.7546197640024173\n"
     ]
    },
    {
     "name": "stderr",
     "output_type": "stream",
     "text": [
      "\n"
     ]
    }
   ],
   "source": [
    "# Textblob Pattern Analyzer, returns (polarity=[-1,1], subjectivity=[0,1])\n",
    "prediction_list = []\n",
    "\n",
    "for sentence, y in tqdm(zip(test_data[0], test_data[1]), total=len(test_data[0])):\n",
    "    result = TextBlob(sentence, analyzer=PatternAnalyzer()).sentiment\n",
    "    prediction = result[0]\n",
    "    if prediction >= 0:\n",
    "        prediction_list.append(1) #positive\n",
    "    else:\n",
    "        prediction_list.append(0) #negative\n",
    "\n",
    "print(\"Precision Score:\", precision_score(test_data[1], prediction_list))\n",
    "print(\"Recall Score:\", recall_score(test_data[1], prediction_list))\n",
    "print(\"Accuracy Score:\", accuracy_score(test_data[1], prediction_list))\n",
    "print(\"F1 Score:\", f1_score(test_data[1], prediction_list))"
   ]
  },
  {
   "cell_type": "code",
   "execution_count": null,
   "metadata": {},
   "outputs": [],
   "source": [
    "# Textblob NaiveBayesAnalyzer Analyzer, returns (classification='pos/neg', p_pos=0.6188007636620464, p_neg=0.38119923633795355)\n",
    "# Takes around 15 hours to run, thus ignored for now\n",
    "prediction_list = []\n",
    "\n",
    "for sentence, y in tqdm(zip(test_data[0], test_data[1]), total=len(test_data[0])):\n",
    "    result = TextBlob(sentence, analyzer=NaiveBayesAnalyzer()).sentiment\n",
    "    prediction = result[0]\n",
    "    if prediction == 'pos':\n",
    "        prediction_list.append(1) #positive\n",
    "    else:\n",
    "        prediction_list.append(0) #negative\n",
    "\n",
    "print(\"Precision Score:\", precision_score(test_data[1], prediction_list))\n",
    "print(\"Recall Score:\", recall_score(test_data[1], prediction_list))\n",
    "print(\"Accuracy Score:\", accuracy_score(test_data[1], prediction_list))\n",
    "print(\"F1 Score:\", f1_score(test_data[1], prediction_list))"
   ]
  },
  {
   "cell_type": "code",
   "execution_count": 28,
   "metadata": {},
   "outputs": [
    {
     "name": "stderr",
     "output_type": "stream",
     "text": [
      "100%|██████████| 25000/25000 [01:00<00:00, 410.60it/s]"
     ]
    },
    {
     "name": "stdout",
     "output_type": "stream",
     "text": [
      "Precision Score: 0.6479836773883821\n",
      "Recall Score: 0.86384\n",
      "Accuracy Score: 0.69728\n",
      "F1 Score: 0.7405019887532575\n"
     ]
    },
    {
     "name": "stderr",
     "output_type": "stream",
     "text": [
      "\n"
     ]
    }
   ],
   "source": [
    "from vaderSentiment.vaderSentiment import SentimentIntensityAnalyzer\n",
    "\n",
    "sentiment = SentimentIntensityAnalyzer()\n",
    "prediction_list = []\n",
    "# vaderSentiment Analyzer, returns ('neg'=score, 'neu':score, 'pos'=score, 'compound':score)\n",
    "# compound is the valence score of neg, neu and pos and normalised to be within [-1,1] with -1 for negative, 1 for positive\n",
    "\n",
    "for sentence, y in tqdm(zip(test_data[0], test_data[1]), total=len(test_data[0])):\n",
    "    result = sentiment.polarity_scores(sentence)\n",
    "    prediction = result['compound']\n",
    "    if prediction >= 0:\n",
    "        prediction_list.append(1) #positive\n",
    "    else:\n",
    "        prediction_list.append(0) #negative\n",
    "\n",
    "print(\"Precision Score:\", precision_score(test_data[1], prediction_list))\n",
    "print(\"Recall Score:\", recall_score(test_data[1], prediction_list))\n",
    "print(\"Accuracy Score:\", accuracy_score(test_data[1], prediction_list))\n",
    "print(\"F1 Score:\", f1_score(test_data[1], prediction_list))"
   ]
  },
  {
   "cell_type": "code",
   "execution_count": 42,
   "metadata": {},
   "outputs": [
    {
     "name": "stderr",
     "output_type": "stream",
     "text": [
      "100%|██████████| 25000/25000 [03:17<00:00, 126.58it/s]"
     ]
    },
    {
     "name": "stdout",
     "output_type": "stream",
     "text": [
      "Precision Score: 0.9527124773960217\n",
      "Recall Score: 0.84296\n",
      "Accuracy Score: 0.90056\n",
      "F1 Score: 0.8944821731748727\n"
     ]
    },
    {
     "name": "stderr",
     "output_type": "stream",
     "text": [
      "\n"
     ]
    }
   ],
   "source": [
    "from flair.data import Sentence\n",
    "from flair.nn import Classifier\n",
    "\n",
    "sentiment = Classifier.load('sentiment')\n",
    "prediction_list = []\n",
    "# Flair Analyzer, returns (Sentence[4]: \"sentence\" → POSITIVE (score))\n",
    "\n",
    "for sentence, y in tqdm(zip(test_data[0], test_data[1]), total=len(test_data[0])):\n",
    "    emb_sentence = Sentence(sentence) #embed sentence\n",
    "    sentiment.predict(emb_sentence)\n",
    "    prediction = emb_sentence.labels[0].value\n",
    "    if prediction == 'POSITIVE':\n",
    "        prediction_list.append(1) #positive\n",
    "    else:\n",
    "        prediction_list.append(0) #negative\n",
    "\n",
    "print(\"Precision Score:\", precision_score(test_data[1], prediction_list))\n",
    "print(\"Recall Score:\", recall_score(test_data[1], prediction_list))\n",
    "print(\"Accuracy Score:\", accuracy_score(test_data[1], prediction_list))\n",
    "print(\"F1 Score:\", f1_score(test_data[1], prediction_list))"
   ]
  },
  {
   "cell_type": "code",
   "execution_count": 66,
   "metadata": {},
   "outputs": [
    {
     "name": "stderr",
     "output_type": "stream",
     "text": [
      "100%|██████████| 25000/25000 [1:55:10<00:00,  3.62it/s]  "
     ]
    },
    {
     "name": "stdout",
     "output_type": "stream",
     "text": [
      "Precision Score: 0.9146010186757215\n",
      "Recall Score: 0.86192\n",
      "Accuracy Score: 0.89072\n",
      "F1 Score: 0.8874794069192751\n"
     ]
    },
    {
     "name": "stderr",
     "output_type": "stream",
     "text": [
      "\n"
     ]
    }
   ],
   "source": [
    "import torch\n",
    "from transformers import DistilBertTokenizer, DistilBertForSequenceClassification\n",
    "\n",
    "tokenizer = DistilBertTokenizer.from_pretrained(\"distilbert-base-uncased-finetuned-sst-2-english\")\n",
    "model = DistilBertForSequenceClassification.from_pretrained(\"distilbert-base-uncased-finetuned-sst-2-english\")\n",
    "\n",
    "prediction_list = []\n",
    "# DistilBert, returns class where 0 is negative, 1 is positive\n",
    "\n",
    "for sentence, y in tqdm(zip(test_data[0], test_data[1]), total=len(test_data[0])):\n",
    "    emb_sentence = tokenizer(sentence,  padding=\"max_length\", truncation=True, max_length=512, return_tensors=\"pt\") #embed sentence, sentence length doesnt exceed 512 \n",
    "    # Disable training\n",
    "    with torch.no_grad():\n",
    "        logits = model(**emb_sentence).logits\n",
    "    # retrieve prediction\n",
    "    predicted_class = logits.argmax().item()\n",
    "    prediction_list.append(predicted_class)\n",
    "\n",
    "print(\"Precision Score:\", precision_score(test_data[1], prediction_list))\n",
    "print(\"Recall Score:\", recall_score(test_data[1], prediction_list))\n",
    "print(\"Accuracy Score:\", accuracy_score(test_data[1], prediction_list))\n",
    "print(\"F1 Score:\", f1_score(test_data[1], prediction_list))"
   ]
  },
  {
   "cell_type": "markdown",
   "metadata": {},
   "source": [
    "## Design Challenge"
   ]
  },
  {
   "cell_type": "code",
   "execution_count": null,
   "metadata": {},
   "outputs": [
    {
     "name": "stderr",
     "output_type": "stream",
     "text": [
      "[nltk_data] Downloading package punkt to\n",
      "[nltk_data]     C:\\Users\\cheng\\AppData\\Roaming\\nltk_data...\n",
      "[nltk_data]   Package punkt is already up-to-date!\n"
     ]
    },
    {
     "data": {
      "text/plain": [
       "True"
      ]
     },
     "execution_count": 270,
     "metadata": {},
     "output_type": "execute_result"
    }
   ],
   "source": [
    "import os\n",
    "import torch\n",
    "from torch.utils.data import Dataset, DataLoader\n",
    "from torch import nn\n",
    "from d2l import torch as d2l # You can skip this if you have trouble with this package, all d2l-related codes can be replaced by torch functions.\n",
    "import nltk\n",
    "from nltk.tokenize import sent_tokenize, word_tokenize\n",
    "import matplotlib.pyplot as plt\n",
    "nltk.download('punkt')\n"
   ]
  },
  {
   "cell_type": "code",
   "execution_count": 271,
   "metadata": {},
   "outputs": [],
   "source": [
    "class IMDBDataset(Dataset):\n",
    "    def __init__(self, \n",
    "                 data_dir:str,\n",
    "                 max_sent_len:int,\n",
    "                 max_doc_len:int, \n",
    "                 is_train:bool=True,\n",
    "                 vocab:d2l.Vocab=None):\n",
    "\n",
    "        self.data_list, self.label_list = self._read_imdb(data_dir, is_train)\n",
    "        self.max_sent_len = max_sent_len\n",
    "        self.max_doc_len = max_doc_len\n",
    "        self.vocab = d2l.Vocab(d2l.tokenize(self.data_list, token='word'), min_freq=5, reserved_tokens=['<pad>']) if vocab == None else vocab\n",
    "    \n",
    "\n",
    "    def _read_imdb(self, data_dir, is_train):\n",
    "        data = []\n",
    "        labels = []\n",
    "        data_folder = 'train' if is_train else 'test'\n",
    "        \n",
    "        for label, label_folder in enumerate(['neg', 'pos']):\n",
    "            # Retrieve full path\n",
    "            full_path = os.path.join(data_dir, data_folder, label_folder)\n",
    "            for text_file in os.listdir(full_path):\n",
    "                # Read text\n",
    "                with open(os.path.join(full_path, text_file), 'r', encoding='utf-8') as f:\n",
    "                    # Add text and label\n",
    "                    data.append(f.read())\n",
    "                    labels.append(label)\n",
    "        return data, labels\n",
    "\n",
    "\n",
    "    def _transform_text(self, document:str):\n",
    "        # Encoding document with max sentence length and maximum document length (num sentence)\n",
    "        # Split into individual sentences in document\n",
    "        sentences = sent_tokenize(document)\n",
    "        doc = [self.vocab[word_tokenize(sentence)] for sentence in sentences]\n",
    "        doc = [sent[:self.max_sent_len] for sent in doc][:self.max_doc_len]\n",
    "        num_sents = min(len(doc), self.max_doc_len)\n",
    "\n",
    "        # skip erroneous ones\n",
    "        if not num_sents:\n",
    "            return None, -1, None\n",
    "\n",
    "        num_words = [min(len(sent), self.max_sent_len) for sent in doc][:self.max_doc_len]\n",
    "\n",
    "        return doc, num_sents, num_words\n",
    "\n",
    "    \n",
    "    def __len__(self):\n",
    "        return len(self.data_list)\n",
    "\n",
    "\n",
    "    def __getitem__(self, idx):\n",
    "        doc_data = self.data_list[idx]\n",
    "        doc, num_sents, num_words = self._transform_text(doc_data)\n",
    "        if num_sents == -1:\n",
    "            return None\n",
    "        \n",
    "        return doc, self.label_list[idx], num_sents, num_words"
   ]
  },
  {
   "cell_type": "code",
   "execution_count": 272,
   "metadata": {},
   "outputs": [],
   "source": [
    "class padAnnotations():\n",
    "  \"\"\"\n",
    "  Collate function to pad all caption to the same length as max(len(caption)) in a batch\n",
    "\n",
    "  Args:\n",
    "    pad_idx (int): Index Label for the <PAD> token\n",
    "  \"\"\"\n",
    "  def __init__(self, pad_idx):\n",
    "    self.pad_idx = pad_idx\n",
    "\n",
    "  def __call__(self, batch):\n",
    "    batch = filter(lambda x: x is not None, batch)\n",
    "    docs, labels, doc_lengths, sent_lengths = list(zip(*batch))\n",
    "\n",
    "    bsz = len(labels)\n",
    "    batch_max_doc_length = max(doc_lengths)\n",
    "    batch_max_sent_length = max([max(sl) if sl else 0 for sl in sent_lengths])\n",
    "    # Pad with correct value\n",
    "    docs_tensor = torch.full((bsz, batch_max_doc_length, batch_max_sent_length), self.pad_idx).long()\n",
    "    sent_lengths_tensor = torch.full((bsz, batch_max_doc_length), self.pad_idx).long()\n",
    "\n",
    "    for doc_idx, doc in enumerate(docs):\n",
    "        doc_length = doc_lengths[doc_idx]\n",
    "        sent_lengths_tensor[doc_idx, :doc_length] = torch.tensor(sent_lengths[doc_idx], dtype=torch.long)\n",
    "        for sent_idx, sent in enumerate(doc):\n",
    "            sent_length = sent_lengths[doc_idx][sent_idx]\n",
    "            docs_tensor[doc_idx, sent_idx, :sent_length] = torch.tensor(sent, dtype=torch.long)\n",
    "\n",
    "    return (\n",
    "        docs_tensor,\n",
    "        torch.tensor(labels, dtype=torch.long),\n",
    "        torch.tensor(doc_lengths, dtype=torch.long),\n",
    "        sent_lengths_tensor,\n",
    "    )"
   ]
  },
  {
   "cell_type": "code",
   "execution_count": 273,
   "metadata": {},
   "outputs": [],
   "source": [
    "train_dataset = IMDBDataset(data_dir=\"../data/aclImdb\",\n",
    "                            max_sent_len=500,\n",
    "                            max_doc_len=24)\n",
    "\n",
    "test_dataset = IMDBDataset(data_dir=\"../data/aclImdb\",\n",
    "                            max_sent_len=500,\n",
    "                            max_doc_len=24,\n",
    "                            is_train=False,\n",
    "                            vocab=train_dataset.vocab)"
   ]
  },
  {
   "cell_type": "code",
   "execution_count": 274,
   "metadata": {},
   "outputs": [],
   "source": [
    "train_iter = DataLoader(train_dataset,\n",
    "                        batch_size=64, \n",
    "                        shuffle=True,\n",
    "                        collate_fn = padAnnotations(\n",
    "                            pad_idx = train_dataset.vocab.token_to_idx[\"<pad>\"], \n",
    "                        ))\n",
    "\n",
    "test_iter = DataLoader(test_dataset,\n",
    "                        batch_size=64, \n",
    "                        collate_fn = padAnnotations(\n",
    "                            pad_idx = train_dataset.vocab.token_to_idx[\"<pad>\"], \n",
    "                        ))"
   ]
  },
  {
   "cell_type": "code",
   "execution_count": 275,
   "metadata": {},
   "outputs": [],
   "source": [
    "from torch.nn.utils.rnn import pack_padded_sequence, pad_packed_sequence, PackedSequence\n",
    "\n",
    "class WordAttention(torch.nn.Module):\n",
    "    def __init__(\n",
    "            self,\n",
    "            device: str,\n",
    "            vocab_size:int,\n",
    "            embed_size: int,\n",
    "            dropout: float,\n",
    "            recurrent_size: int,\n",
    "            attention_dim: int,\n",
    "    ):\n",
    "        super().__init__()\n",
    "        self._device = device\n",
    "        self.embed_size = embed_size\n",
    "        self.recurrent_size = recurrent_size\n",
    "        self.dropout = dropout\n",
    "        self.attention_dim = attention_dim\n",
    "\n",
    "        assert self.recurrent_size % 2 == 0\n",
    "\n",
    "        # embedding layer\n",
    "        self.embedding = torch.nn.Embedding(num_embeddings=vocab_size, embedding_dim=self.embed_size)\n",
    "        # Encoding data\n",
    "        self.encoder = nn.LSTM(\n",
    "            input_size=self.embed_size,\n",
    "            hidden_size=self.recurrent_size // 2,\n",
    "            dropout=self.dropout,\n",
    "            bidirectional=True,\n",
    "            batch_first=True,\n",
    "        )\n",
    "        self.dropout = nn.Dropout(dropout)\n",
    "\n",
    "        # Maps LSTM output to `attention_dim` sized tensor\n",
    "        self.word_weight = nn.Linear(self.recurrent_size, self.attention_dim)\n",
    "\n",
    "        # Word context vector (u_w) to take dot-product with\n",
    "        self.context_weight = nn.Linear(self.attention_dim, 1)\n",
    "        \n",
    "\n",
    "    def forward(self, docs, doc_lengths, sent_lengths):\n",
    "        \"\"\"\n",
    "        :param docs: encoded document-level data; LongTensor (num_docs, padded_doc_length, padded_sent_length)\n",
    "        :param doc_lengths: unpadded document lengths; LongTensor (num_docs)\n",
    "        :param sent_lengths: unpadded sentence lengths; LongTensor (num_docs, max_sent_len)\n",
    "        :return: sentences embeddings, docs permutation indices, docs batch sizes, word attention weights\n",
    "        \"\"\"\n",
    "\n",
    "        # Sort documents by decreasing order in length\n",
    "        doc_lengths, doc_perm_idx = doc_lengths.sort(dim=0, descending=True)\n",
    "        docs = docs[doc_perm_idx]\n",
    "        sent_lengths = sent_lengths[doc_perm_idx]\n",
    "\n",
    "        # Make a long batch of sentences by removing pad-sentences\n",
    "        # i.e. `docs` was of size (num_docs, padded_doc_length, padded_sent_length)\n",
    "        # -> `packed_sents.data` is now of size (num_sents, padded_sent_length)\n",
    "        packed_sents = pack_padded_sequence(docs, lengths=doc_lengths.tolist(), batch_first=True)\n",
    "\n",
    "        # effective batch size at each timestep\n",
    "        docs_valid_bsz = packed_sents.batch_sizes\n",
    "\n",
    "        # Make a long batch of sentence lengths by removing pad-sentences\n",
    "        # i.e. `sent_lengths` was of size (num_docs, padded_doc_length)\n",
    "        # -> `packed_sent_lengths.data` is now of size (num_sents)\n",
    "        packed_sent_lengths = pack_padded_sequence(sent_lengths, lengths=doc_lengths.tolist(), batch_first=True)\n",
    "\n",
    "        sents, sent_lengths = packed_sents.data, packed_sent_lengths.data\n",
    "\n",
    "        # Sort sents by decreasing order in sentence lengths\n",
    "        sent_lengths, sent_perm_idx = sent_lengths.sort(dim=0, descending=True)\n",
    "        sents = sents[sent_perm_idx]\n",
    "\n",
    "        inp = self.dropout(self.embedding(sents))\n",
    "\n",
    "        packed_words = pack_padded_sequence(inp, lengths=sent_lengths.tolist(), batch_first=True)\n",
    "\n",
    "        # effective batch size at each timestep\n",
    "        sentences_valid_bsz = packed_words.batch_sizes\n",
    "\n",
    "        # Apply word-level LSTM over word embeddings\n",
    "        packed_words, _ = self.encoder(packed_words)\n",
    "\n",
    "        u_i = torch.tanh(self.word_weight(packed_words.data))\n",
    "        u_w = self.context_weight(u_i).squeeze(1)\n",
    "        val = u_w.max()\n",
    "        att = torch.exp(u_w - val)\n",
    "\n",
    "        # Restore as sentences by repadding\n",
    "        att, _ = pad_packed_sequence(PackedSequence(att, sentences_valid_bsz), batch_first=True)\n",
    "\n",
    "        att_weights = att / torch.sum(att, dim=1, keepdim=True)\n",
    "\n",
    "        # Restore as sentences by repadding\n",
    "        sents, _ = pad_packed_sequence(packed_words, batch_first=True)\n",
    "\n",
    "        sents = sents * att_weights.unsqueeze(2)\n",
    "        sents = sents.sum(dim=1)\n",
    "\n",
    "        # Restore the original order of sentences (undo the first sorting)\n",
    "        _, sent_unperm_idx = sent_perm_idx.sort(dim=0, descending=False)\n",
    "        sents = sents[sent_unperm_idx]\n",
    "\n",
    "        att_weights = att_weights[sent_unperm_idx]\n",
    "\n",
    "        return sents, doc_perm_idx, docs_valid_bsz, att_weights"
   ]
  },
  {
   "cell_type": "code",
   "execution_count": 282,
   "metadata": {},
   "outputs": [],
   "source": [
    "class SentenceAttention(torch.nn.Module):\n",
    "    def __init__(\n",
    "            self,\n",
    "            device: str,\n",
    "            dropout: float,\n",
    "            word_recurrent_size: int,\n",
    "            recurrent_size: int,\n",
    "            attention_dim: int,\n",
    "    ):\n",
    "        super().__init__()\n",
    "        self._device = device\n",
    "        self.word_recurrent_size = word_recurrent_size\n",
    "        self.recurrent_size = recurrent_size\n",
    "        self.dropout = dropout\n",
    "        self.attention_dim = attention_dim\n",
    "\n",
    "        assert self.recurrent_size % 2 == 0\n",
    "\n",
    "        self.encoder = nn.LSTM(\n",
    "            input_size=self.word_recurrent_size,\n",
    "            hidden_size=self.recurrent_size // 2,\n",
    "            dropout=self.dropout,\n",
    "            bidirectional=True,\n",
    "            batch_first=True,\n",
    "        )\n",
    "        self.dropout = nn.Dropout(dropout)\n",
    "\n",
    "        # Maps LSTM output to `attention_dim` sized tensor\n",
    "        self.sentence_weight = nn.Linear(self.recurrent_size, self.attention_dim)\n",
    "\n",
    "        # Word context vector (u_w) to take dot-product with\n",
    "        self.sentence_context_weight = nn.Linear(self.attention_dim, 1)\n",
    "\n",
    "\n",
    "    def forward(self, sent_embeddings, doc_perm_idx, doc_valid_bsz, word_att_weights):\n",
    "        \"\"\"\n",
    "        :param sent_embeddings: LongTensor (batch_size * padded_doc_length, sentence recurrent dim)\n",
    "        :param doc_perm_idx: LongTensor (batch_size)\n",
    "        :param doc_valid_bsz: LongTensor (max_doc_len)\n",
    "        :param word_att_weights: LongTensor (batch_size * padded_doc_length, max_sent_len)\n",
    "        :return: docs embeddings, word attention weights, sentence attention weights\n",
    "        \"\"\"\n",
    "\n",
    "        sent_embeddings = self.dropout(sent_embeddings)\n",
    "\n",
    "        # Sentence-level LSTM over sentence embeddings\n",
    "        packed_sentences, _ = self.encoder(PackedSequence(sent_embeddings, doc_valid_bsz))\n",
    "\n",
    "        u_i = torch.tanh(self.sentence_weight(packed_sentences.data))\n",
    "        u_w = self.sentence_context_weight(u_i).squeeze(1)\n",
    "        val = u_w.max()\n",
    "        att = torch.exp(u_w - val)\n",
    "\n",
    "        # Restore as sentences by repadding\n",
    "        att, _ = pad_packed_sequence(PackedSequence(att, doc_valid_bsz), batch_first=True)\n",
    "\n",
    "        sent_att_weights = att / torch.sum(att, dim=1, keepdim=True)\n",
    "\n",
    "        # Restore as documents by repadding\n",
    "        docs, _ = pad_packed_sequence(packed_sentences, batch_first=True)\n",
    "\n",
    "        # Compute document vectors\n",
    "        docs = docs * sent_att_weights.unsqueeze(2)\n",
    "        docs = docs.sum(dim=1)\n",
    "\n",
    "        # Restore as documents by repadding\n",
    "        word_att_weights, _ = pad_packed_sequence(PackedSequence(word_att_weights, doc_valid_bsz), batch_first=True)\n",
    "\n",
    "        # Restore the original order of documents (undo the first sorting)\n",
    "        _, doc_unperm_idx = doc_perm_idx.sort(dim=0, descending=False)\n",
    "        docs = docs[doc_unperm_idx]\n",
    "\n",
    "        word_att_weights = word_att_weights[doc_unperm_idx]\n",
    "        sent_att_weights = sent_att_weights[doc_unperm_idx]\n",
    "\n",
    "        return docs, word_att_weights, sent_att_weights"
   ]
  },
  {
   "cell_type": "code",
   "execution_count": 294,
   "metadata": {},
   "outputs": [],
   "source": [
    "class HANModel(torch.nn.Module):\n",
    "    def __init__(self, \n",
    "                 device, \n",
    "                 vocab,\n",
    "                 final_layer_dim, \n",
    "                 final_class,\n",
    "                 final_layer_dropout):\n",
    "        super().__init__()\n",
    "\n",
    "        self.word_attention = WordAttention(\n",
    "            device=device,\n",
    "            dropout=0.2,\n",
    "            vocab_size=len(vocab),\n",
    "            embed_size=100,\n",
    "            recurrent_size=256,\n",
    "            attention_dim=256\n",
    "            )\n",
    "\n",
    "        self.sentence_attention = SentenceAttention(\n",
    "            device=device,\n",
    "            dropout=0.2,\n",
    "            word_recurrent_size=256,\n",
    "            recurrent_size=256,\n",
    "            attention_dim=256\n",
    "        )\n",
    "\n",
    "        self.mlp = nn.Sequential(\n",
    "            torch.nn.Linear(\n",
    "                self.sentence_attention.recurrent_size, final_layer_dim\n",
    "            ), nn.ReLU(), nn.Dropout(final_layer_dropout),\n",
    "            torch.nn.Linear(final_layer_dim, final_class)\n",
    "        )\n",
    "\n",
    "    def forward(self, docs, doc_lengths, sent_lengths, attention_masks=None, token_type_ids=None):\n",
    "        \"\"\"\n",
    "        :param docs: encoded document-level data; LongTensor (num_docs, padded_doc_length, padded_sent_length)\n",
    "        :param doc_lengths: unpadded document lengths; LongTensor (num_docs)\n",
    "        :param sent_lengths: unpadded sentence lengths; LongTensor (num_docs, max_sent_len)\n",
    "        :param attention_masks: BERT attention masks; LongTensor (num_docs, padded_doc_length, padded_sent_length)\n",
    "        :param token_type_ids: BERT token type IDs; LongTensor (num_docs, padded_doc_length, padded_sent_length)\n",
    "        :return: class scores, attention weights of words, attention weights of sentences, loss\n",
    "        \"\"\"\n",
    "\n",
    "        # get sentence embedding for each sentence by passing it in the word attention model\n",
    "        if attention_masks is not None and token_type_ids is not None:\n",
    "            sent_embeddings, doc_perm_idx, docs_valid_bsz, word_att_weights = self.word_attention(\n",
    "                docs, doc_lengths, sent_lengths, attention_masks, token_type_ids\n",
    "            )\n",
    "        else:\n",
    "            sent_embeddings, doc_perm_idx, docs_valid_bsz, word_att_weights = self.word_attention(\n",
    "                docs, doc_lengths, sent_lengths\n",
    "            )\n",
    "\n",
    "        # get document embedding for each document by passing the sentence embeddings in the sentence attention model\n",
    "        doc_embeds, word_att_weights, sentence_att_weights = self.sentence_attention(\n",
    "            sent_embeddings, doc_perm_idx, docs_valid_bsz, word_att_weights\n",
    "        )\n",
    "\n",
    "        scores = self.mlp(doc_embeds)\n",
    "\n",
    "        outputs = (scores, word_att_weights, sentence_att_weights)\n",
    "\n",
    "        return outputs"
   ]
  },
  {
   "cell_type": "code",
   "execution_count": 295,
   "metadata": {},
   "outputs": [
    {
     "name": "stdout",
     "output_type": "stream",
     "text": [
      "HANModel(\n",
      "  (word_attention): WordAttention(\n",
      "    (embedding): Embedding(49347, 100)\n",
      "    (encoder): LSTM(100, 128, batch_first=True, dropout=0.2, bidirectional=True)\n",
      "    (dropout): Dropout(p=0.2, inplace=False)\n",
      "    (word_weight): Linear(in_features=256, out_features=256, bias=True)\n",
      "    (context_weight): Linear(in_features=256, out_features=1, bias=True)\n",
      "  )\n",
      "  (sentence_attention): SentenceAttention(\n",
      "    (encoder): LSTM(256, 128, batch_first=True, dropout=0.2, bidirectional=True)\n",
      "    (dropout): Dropout(p=0.2, inplace=False)\n",
      "    (sentence_weight): Linear(in_features=256, out_features=256, bias=True)\n",
      "    (sentence_context_weight): Linear(in_features=256, out_features=1, bias=True)\n",
      "  )\n",
      "  (mlp): Sequential(\n",
      "    (0): Linear(in_features=256, out_features=50, bias=True)\n",
      "    (1): ReLU()\n",
      "    (2): Dropout(p=0.3, inplace=False)\n",
      "    (3): Linear(in_features=50, out_features=2, bias=True)\n",
      "  )\n",
      ")\n"
     ]
    },
    {
     "name": "stderr",
     "output_type": "stream",
     "text": [
      "c:\\Users\\cheng\\Desktop\\SUTD\\Term_7\\NLP\\Final Project\\myenv\\lib\\site-packages\\torch\\nn\\modules\\rnn.py:83: UserWarning: dropout option adds dropout after all but last recurrent layer, so non-zero dropout expects num_layers greater than 1, but got dropout=0.2 and num_layers=1\n",
      "  warnings.warn(\"dropout option adds dropout after all but last \"\n"
     ]
    }
   ],
   "source": [
    "device = torch.device(\"cuda\" if torch.cuda.is_available() else \"cpu\")\n",
    "model = HANModel(device=device,\n",
    "                 vocab=train_dataset.vocab,\n",
    "                 final_layer_dim=50,\n",
    "                 final_class=2,\n",
    "                 final_layer_dropout=0.3)\n",
    "print(model)"
   ]
  },
  {
   "cell_type": "code",
   "execution_count": 296,
   "metadata": {},
   "outputs": [],
   "source": [
    "glove_embedding = d2l.TokenEmbedding('glove.6b.100d')\n",
    "embeds = glove_embedding[vocab.idx_to_token]\n",
    "embeds.shape # Print the shape of the vectors for all the tokens in the vocabulary.\n",
    "model.word_attention.embedding.weight.data.copy_(embeds)\n",
    "model.word_attention.embedding.weight.requires_grad = False"
   ]
  },
  {
   "cell_type": "code",
   "execution_count": null,
   "metadata": {},
   "outputs": [
    {
     "name": "stdout",
     "output_type": "stream",
     "text": [
      "Training with cuda\n"
     ]
    },
    {
     "name": "stderr",
     "output_type": "stream",
     "text": [
      "100%|██████████| 391/391 [01:06<00:00,  5.92it/s]\n",
      "100%|██████████| 391/391 [00:35<00:00, 10.88it/s]\n"
     ]
    },
    {
     "name": "stdout",
     "output_type": "stream",
     "text": [
      "Best Model Saved at epoch 1\n",
      "Epoch 1 completed, train_loss: 0.4955079597814004, train_acc: 0.76452, test_acc: 0.83816\n"
     ]
    },
    {
     "name": "stderr",
     "output_type": "stream",
     "text": [
      "100%|██████████| 391/391 [01:07<00:00,  5.80it/s]\n",
      "100%|██████████| 391/391 [00:36<00:00, 10.71it/s]\n"
     ]
    },
    {
     "name": "stdout",
     "output_type": "stream",
     "text": [
      "Best Model Saved at epoch 2\n",
      "Epoch 2 completed, train_loss: 0.3889996438761196, train_acc: 0.83196, test_acc: 0.85876\n"
     ]
    },
    {
     "name": "stderr",
     "output_type": "stream",
     "text": [
      "100%|██████████| 391/391 [01:07<00:00,  5.79it/s]\n",
      "100%|██████████| 391/391 [00:38<00:00, 10.25it/s]\n"
     ]
    },
    {
     "name": "stdout",
     "output_type": "stream",
     "text": [
      "Best Model Saved at epoch 3\n",
      "Epoch 3 completed, train_loss: 0.3469863165446255, train_acc: 0.85404, test_acc: 0.86812\n"
     ]
    },
    {
     "name": "stderr",
     "output_type": "stream",
     "text": [
      "100%|██████████| 391/391 [01:06<00:00,  5.84it/s]\n",
      "100%|██████████| 391/391 [00:36<00:00, 10.81it/s]\n"
     ]
    },
    {
     "name": "stdout",
     "output_type": "stream",
     "text": [
      "Best Model Saved at epoch 4\n",
      "Epoch 4 completed, train_loss: 0.31682584455708407, train_acc: 0.86896, test_acc: 0.875\n"
     ]
    },
    {
     "name": "stderr",
     "output_type": "stream",
     "text": [
      "100%|██████████| 391/391 [01:07<00:00,  5.76it/s]\n",
      "100%|██████████| 391/391 [00:37<00:00, 10.46it/s]\n"
     ]
    },
    {
     "name": "stdout",
     "output_type": "stream",
     "text": [
      "Best Model Saved at epoch 5\n",
      "Epoch 5 completed, train_loss: 0.29966352697071214, train_acc: 0.87604, test_acc: 0.87828\n"
     ]
    },
    {
     "name": "stderr",
     "output_type": "stream",
     "text": [
      "100%|██████████| 391/391 [01:06<00:00,  5.91it/s]\n",
      "100%|██████████| 391/391 [00:38<00:00, 10.14it/s]\n"
     ]
    },
    {
     "name": "stdout",
     "output_type": "stream",
     "text": [
      "Epoch 6 completed, train_loss: 0.2876104714582338, train_acc: 0.88224, test_acc: 0.87748\n"
     ]
    },
    {
     "name": "stderr",
     "output_type": "stream",
     "text": [
      "100%|██████████| 391/391 [01:06<00:00,  5.90it/s]\n",
      "100%|██████████| 391/391 [00:39<00:00,  9.83it/s]\n"
     ]
    },
    {
     "name": "stdout",
     "output_type": "stream",
     "text": [
      "Epoch 7 completed, train_loss: 0.27918987845063514, train_acc: 0.88536, test_acc: 0.87612\n"
     ]
    },
    {
     "name": "stderr",
     "output_type": "stream",
     "text": [
      "100%|██████████| 391/391 [01:07<00:00,  5.83it/s]\n",
      "100%|██████████| 391/391 [00:39<00:00,  9.90it/s]\n"
     ]
    },
    {
     "name": "stdout",
     "output_type": "stream",
     "text": [
      "Best Model Saved at epoch 8\n",
      "Epoch 8 completed, train_loss: 0.264153969257384, train_acc: 0.89372, test_acc: 0.88616\n"
     ]
    },
    {
     "name": "stderr",
     "output_type": "stream",
     "text": [
      "100%|██████████| 391/391 [01:06<00:00,  5.91it/s]\n",
      "100%|██████████| 391/391 [00:39<00:00,  9.87it/s]\n"
     ]
    },
    {
     "name": "stdout",
     "output_type": "stream",
     "text": [
      "Epoch 9 completed, train_loss: 0.26254946679410424, train_acc: 0.8952, test_acc: 0.87988\n"
     ]
    },
    {
     "name": "stderr",
     "output_type": "stream",
     "text": [
      "100%|██████████| 391/391 [01:06<00:00,  5.89it/s]\n",
      "100%|██████████| 391/391 [00:39<00:00,  9.92it/s]\n"
     ]
    },
    {
     "name": "stdout",
     "output_type": "stream",
     "text": [
      "Best Model Saved at epoch 10\n",
      "Epoch 10 completed, train_loss: 0.2554514809795048, train_acc: 0.89704, test_acc: 0.88948\n"
     ]
    },
    {
     "name": "stderr",
     "output_type": "stream",
     "text": [
      "100%|██████████| 391/391 [01:06<00:00,  5.89it/s]\n",
      "100%|██████████| 391/391 [00:39<00:00,  9.81it/s]\n"
     ]
    },
    {
     "name": "stdout",
     "output_type": "stream",
     "text": [
      "Epoch 11 completed, train_loss: 0.2515473401607455, train_acc: 0.89856, test_acc: 0.88908\n"
     ]
    },
    {
     "name": "stderr",
     "output_type": "stream",
     "text": [
      "100%|██████████| 391/391 [01:06<00:00,  5.91it/s]\n",
      "100%|██████████| 391/391 [00:39<00:00, 10.01it/s]\n"
     ]
    },
    {
     "name": "stdout",
     "output_type": "stream",
     "text": [
      "Best Model Saved at epoch 12\n",
      "Epoch 12 completed, train_loss: 0.24527391894241732, train_acc: 0.9018, test_acc: 0.89168\n"
     ]
    },
    {
     "name": "stderr",
     "output_type": "stream",
     "text": [
      "100%|██████████| 391/391 [01:06<00:00,  5.87it/s]\n",
      "100%|██████████| 391/391 [00:39<00:00,  9.89it/s]\n"
     ]
    },
    {
     "name": "stdout",
     "output_type": "stream",
     "text": [
      "Epoch 13 completed, train_loss: 0.24301352385250505, train_acc: 0.90292, test_acc: 0.89128\n"
     ]
    },
    {
     "name": "stderr",
     "output_type": "stream",
     "text": [
      "100%|██████████| 391/391 [01:08<00:00,  5.71it/s]\n",
      "100%|██████████| 391/391 [00:40<00:00,  9.62it/s]\n"
     ]
    },
    {
     "name": "stdout",
     "output_type": "stream",
     "text": [
      "Epoch 14 completed, train_loss: 0.25555001029654234, train_acc: 0.89588, test_acc: 0.88276\n"
     ]
    },
    {
     "name": "stderr",
     "output_type": "stream",
     "text": [
      "100%|██████████| 391/391 [01:08<00:00,  5.75it/s]\n",
      "100%|██████████| 391/391 [00:39<00:00, 10.00it/s]\n"
     ]
    },
    {
     "name": "stdout",
     "output_type": "stream",
     "text": [
      "Epoch 15 completed, train_loss: 0.2862408925657687, train_acc: 0.88244, test_acc: 0.87668\n"
     ]
    },
    {
     "name": "stderr",
     "output_type": "stream",
     "text": [
      "100%|██████████| 391/391 [01:06<00:00,  5.91it/s]\n",
      "100%|██████████| 391/391 [00:39<00:00,  9.99it/s]\n"
     ]
    },
    {
     "name": "stdout",
     "output_type": "stream",
     "text": [
      "Epoch 16 completed, train_loss: 0.282672893303587, train_acc: 0.88388, test_acc: 0.87716\n"
     ]
    },
    {
     "name": "stderr",
     "output_type": "stream",
     "text": [
      "100%|██████████| 391/391 [01:05<00:00,  5.96it/s]\n",
      "100%|██████████| 391/391 [00:38<00:00, 10.19it/s]\n"
     ]
    },
    {
     "name": "stdout",
     "output_type": "stream",
     "text": [
      "Epoch 17 completed, train_loss: 0.2771532288216569, train_acc: 0.88848, test_acc: 0.87564\n"
     ]
    },
    {
     "name": "stderr",
     "output_type": "stream",
     "text": [
      "100%|██████████| 391/391 [01:06<00:00,  5.84it/s]\n",
      "100%|██████████| 391/391 [00:40<00:00,  9.73it/s]\n"
     ]
    },
    {
     "name": "stdout",
     "output_type": "stream",
     "text": [
      "Epoch 18 completed, train_loss: 0.26904171575670655, train_acc: 0.8886, test_acc: 0.87668\n"
     ]
    },
    {
     "name": "stderr",
     "output_type": "stream",
     "text": [
      "100%|██████████| 391/391 [01:06<00:00,  5.89it/s]\n",
      "100%|██████████| 391/391 [00:39<00:00,  9.80it/s]\n"
     ]
    },
    {
     "name": "stdout",
     "output_type": "stream",
     "text": [
      "Epoch 19 completed, train_loss: 0.26278693200377246, train_acc: 0.89172, test_acc: 0.88528\n"
     ]
    },
    {
     "name": "stderr",
     "output_type": "stream",
     "text": [
      "100%|██████████| 391/391 [01:06<00:00,  5.86it/s]\n",
      "100%|██████████| 391/391 [00:38<00:00, 10.08it/s]\n"
     ]
    },
    {
     "name": "stdout",
     "output_type": "stream",
     "text": [
      "Epoch 20 completed, train_loss: 0.2627766813959002, train_acc: 0.89304, test_acc: 0.88392\n"
     ]
    },
    {
     "name": "stderr",
     "output_type": "stream",
     "text": [
      "100%|██████████| 391/391 [01:06<00:00,  5.90it/s]\n",
      "100%|██████████| 391/391 [00:39<00:00,  9.96it/s]\n"
     ]
    },
    {
     "name": "stdout",
     "output_type": "stream",
     "text": [
      "Epoch 21 completed, train_loss: 0.25651641695014654, train_acc: 0.8966, test_acc: 0.88676\n"
     ]
    },
    {
     "name": "stderr",
     "output_type": "stream",
     "text": [
      "100%|██████████| 391/391 [01:05<00:00,  5.95it/s]\n",
      "100%|██████████| 391/391 [00:39<00:00, 10.02it/s]\n"
     ]
    },
    {
     "name": "stdout",
     "output_type": "stream",
     "text": [
      "Epoch 22 completed, train_loss: 0.2522091264157649, train_acc: 0.89664, test_acc: 0.88664\n"
     ]
    },
    {
     "name": "stderr",
     "output_type": "stream",
     "text": [
      "100%|██████████| 391/391 [01:05<00:00,  5.94it/s]\n",
      "100%|██████████| 391/391 [00:38<00:00, 10.07it/s]\n"
     ]
    },
    {
     "name": "stdout",
     "output_type": "stream",
     "text": [
      "Epoch 23 completed, train_loss: 0.24505988935299236, train_acc: 0.89924, test_acc: 0.8876\n"
     ]
    },
    {
     "name": "stderr",
     "output_type": "stream",
     "text": [
      "100%|██████████| 391/391 [01:06<00:00,  5.91it/s]\n",
      "100%|██████████| 391/391 [00:37<00:00, 10.42it/s]\n"
     ]
    },
    {
     "name": "stdout",
     "output_type": "stream",
     "text": [
      "Epoch 24 completed, train_loss: 0.250065807662809, train_acc: 0.89768, test_acc: 0.88224\n"
     ]
    },
    {
     "name": "stderr",
     "output_type": "stream",
     "text": [
      "100%|██████████| 391/391 [01:05<00:00,  5.94it/s]\n",
      "100%|██████████| 391/391 [00:35<00:00, 10.91it/s]\n"
     ]
    },
    {
     "name": "stdout",
     "output_type": "stream",
     "text": [
      "Epoch 25 completed, train_loss: 0.2650385774919749, train_acc: 0.8922, test_acc: 0.88176\n"
     ]
    },
    {
     "data": {
      "image/png": "[encoded data removed]",
      "text/plain": [
       "<Figure size 640x480 with 1 Axes>"
      ]
     },
     "metadata": {},
     "output_type": "display_data"
    }
   ],
   "source": [
    "from tqdm import tqdm\n",
    "\n",
    "lr, num_epochs = 0.01, 25\n",
    "### YOUR CODE HERE\n",
    "\n",
    "device = torch.device(\"cuda\" if torch.cuda.is_available() else \"cpu\")\n",
    "print(f\"Training with {device}\")\n",
    "\n",
    "criterion = torch.nn.CrossEntropyLoss().to(device)\n",
    "optimizer = torch.optim.Adam(model.parameters(), lr=lr)\n",
    "\n",
    "train_loss_container = []\n",
    "train_acc_container = []\n",
    "test_acc_container = []\n",
    "\n",
    "best_test_acc = 0\n",
    "\n",
    "for epoch in range(num_epochs):\n",
    "    total_train_loss = 0\n",
    "    total_train_correct = 0\n",
    "    total_train_samples = 0\n",
    "    total_test_correct = 0\n",
    "    total_test_samples = 0\n",
    "\n",
    "    # Setup training \n",
    "    model.train()\n",
    "    model.to(device)\n",
    "\n",
    "    for idx, (doc, label, num_sents, num_words) in tqdm(enumerate(train_iter), total=len(train_iter)):\n",
    "        doc, label, num_sents, num_words = doc.to(device), label.to(device), num_sents.to(device), num_words.to(device)\n",
    "\n",
    "        # Get predictions and loss\n",
    "        scores, word_att_weights, sentence_att_weights = model(doc, num_sents, num_words)\n",
    "        loss = criterion(scores, label)\n",
    "        total_train_loss += loss.item()\n",
    "\n",
    "        # Train\n",
    "        optimizer.zero_grad()\n",
    "        loss.backward()\n",
    "        torch.nn.utils.clip_grad_norm_(model.parameters(), 1) # Clip gradient to prevent exploding gradient\n",
    "        optimizer.step()\n",
    "\n",
    "        # Count accuracy\n",
    "        _, predicted = torch.max(scores, dim=1)\n",
    "        total_train_correct += (predicted == label).sum().item()\n",
    "        total_train_samples += label.shape[0]\n",
    "\n",
    "    # Evaluation for test\n",
    "    model.eval()\n",
    "    for idx, (doc, label, num_sents, num_words) in tqdm(enumerate(test_iter), total=len(test_iter)):\n",
    "        doc, label, num_sents, num_words = doc.to(device), label.to(device), num_sents.to(device), num_words.to(device)\n",
    "\n",
    "        scores, word_att_weights, sentence_att_weights = model(doc, num_sents, num_words)\n",
    "        # Count accuracy\n",
    "        _, predicted = torch.max(scores, dim=1)\n",
    "        total_test_correct += (predicted == label).sum().item()\n",
    "        total_test_samples += label.shape[0]\n",
    "\n",
    "    train_loss_container.append(total_train_loss/len(train_iter)) #total num of batches\n",
    "    train_acc_container.append(total_train_correct/total_train_samples)\n",
    "    test_acc_container.append(total_test_correct/total_test_samples)\n",
    "\n",
    "    if total_test_correct/total_test_samples > best_test_acc:\n",
    "        best_test_acc = total_test_correct/total_test_samples \n",
    "        torch.save(model, '../models/best_HAN2.pt')\n",
    "        print(f\"Best Model Saved at epoch {epoch+1}\")\n",
    "\n",
    "    print(f\"Epoch {epoch+1} completed, train_loss: {total_train_loss/len(train_iter)}, train_acc: {total_train_correct/total_train_samples}, test_acc: {total_test_correct/total_test_samples}\")\n",
    "\n",
    "\n",
    "# Graph with matplotlib\n",
    "# Plot each list\n",
    "plt.plot(train_loss_container, label='Train Loss', color='blue')\n",
    "plt.plot(train_acc_container, label='Train Acc', color='green')\n",
    "plt.plot(test_acc_container, label='Test Acc', color='red')\n",
    "\n",
    "# Add labels and legend\n",
    "plt.xlabel(\"Epoch\")\n",
    "plt.legend()\n",
    "plt.show()\n",
    "\n",
    "### END OF YOUR CODE"
   ]
  },
  {
   "cell_type": "code",
   "execution_count": null,
   "metadata": {},
   "outputs": [],
   "source": [
    "import torch.optim.lr_scheduler as lr_scheduler\n",
    "\n",
    "scheduler = lr_scheduler.LinearLR(optimizer, start_factor=1e-4, end_factor=0, total_iters=25)\n",
    "scheduler.step()"
   ]
  },
  {
   "cell_type": "code",
   "execution_count": 268,
   "metadata": {},
   "outputs": [
    {
     "name": "stdout",
     "output_type": "stream",
     "text": [
      "F1_score: 0.8890578663219527\n",
      "Precision: 0.8471236052745978\n",
      "Recall: 0.93536\n",
      "Accuracy: 0.88328\n"
     ]
    }
   ],
   "source": [
    "import pandas as pd\n",
    "from sklearn.metrics import f1_score, precision_score, recall_score, accuracy_score\n",
    "\n",
    "sentence_list = []\n",
    "actual_list = []\n",
    "prediction_list = []\n",
    "\n",
    "scores = {'TP': 0, 'FP': 0, 'TN': 0, 'FN': 0}\n",
    "\n",
    "model.to(device)\n",
    "model.eval()\n",
    "for idx, (doc, label, num_sents, num_words) in enumerate(test_iter):\n",
    "    doc, label, num_sents, num_words = doc.to(device), label.to(device), num_sents.to(device), num_words.to(device)\n",
    "\n",
    "    output, word_att_weights, sentence_att_weights = model(doc, num_sents, num_words)\n",
    "    # Count accuracy\n",
    "    _, predicted = torch.max(output, dim=1)\n",
    "    total_test_correct += (predicted == label).sum().item()\n",
    "    total_test_samples += label.shape[0]\n",
    "\n",
    "    # Calculate TP, FP, TN, FN\n",
    "    for actual, predicted in zip(label.cpu().numpy(), predicted.cpu().numpy()):\n",
    "        if actual == 1 and predicted == 1:\n",
    "            scores['TP'] += 1  # True Positive\n",
    "        elif actual == 0 and predicted == 1:\n",
    "            scores['FP'] += 1  # False Positive\n",
    "        elif actual == 0 and predicted == 0:\n",
    "            scores['TN'] += 1  # True Negative\n",
    "        elif actual == 1 and predicted == 0:\n",
    "            scores['FN'] += 1  # False Negative\n",
    "\n",
    "precision = scores['TP'] / (scores['TP'] + scores['FP'])\n",
    "recall = scores['TP'] / (scores['TP'] + scores['FN'])\n",
    "accuracy = (scores['TP'] + scores['TN']) / sum(scores.values())\n",
    "F1_Score = (2*precision*recall) / (precision + recall)\n",
    "\n",
    "\n",
    "print(\"F1_score:\", F1_Score)\n",
    "print(\"Precision:\", precision)\n",
    "print(\"Recall:\", recall)\n",
    "print(\"Accuracy:\", accuracy)\n"
   ]
  },
  {
   "cell_type": "code",
   "execution_count": 269,
   "metadata": {},
   "outputs": [],
   "source": [
    "torch.save(model, '../models/HAN.pt')\n"
   ]
  },
  {
   "cell_type": "code",
   "execution_count": null,
   "metadata": {},
   "outputs": [],
   "source": []
  }
 ],
 "metadata": {
  "colab": {
   "name": "mini project.ipynb",
   "provenance": []
  },
  "kernelspec": {
   "display_name": "myenv",
   "language": "python",
   "name": "python3"
  },
  "language_info": {
   "codemirror_mode": {
    "name": "ipython",
    "version": 3
   },
   "file_extension": ".py",
   "mimetype": "text/x-python",
   "name": "python",
   "nbconvert_exporter": "python",
   "pygments_lexer": "ipython3",
   "version": "3.9.13"
  }
 },
 "nbformat": 4,
 "nbformat_minor": 4
}
